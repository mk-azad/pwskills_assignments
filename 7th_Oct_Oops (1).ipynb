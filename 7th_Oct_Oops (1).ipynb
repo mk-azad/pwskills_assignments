{
 "cells": [
  {
   "cell_type": "markdown",
   "id": "c0e192d2-e5a7-494b-b39c-5400b07bc5ca",
   "metadata": {},
   "source": [
    "## Problem 1: Bank Account \n",
    "- Create a class representing a bank account with attributes like account number, account holder name, and balance. Implement methods to deposit and withdraw money from the account."
   ]
  },
  {
   "cell_type": "code",
   "execution_count": 10,
   "id": "7495a398-4983-4bb5-b79a-e291617a96da",
   "metadata": {},
   "outputs": [],
   "source": [
    "class bankaccount:\n",
    "    \n",
    "    def __init__(self, name, acc_numb):\n",
    "        self.balance = 0\n",
    "        self.name = name\n",
    "        self.acc_numb = acc_numb\n",
    "        print(f\"Welcome Mr.{name}. You have created your account successfully.\\nYour acount number is {acc_numb}.\\nCurrently you have {self.balance} balance.\")\n",
    "        \n",
    "        \n",
    "        \n",
    "    def deposit(self):\n",
    "        print(f\"The account balance is {self.balance}\\n\")\n",
    "        amount = float(input(\"Enter an amount to be deposited: \"))\n",
    "        self.balance += amount\n",
    "        print(\"\\n Amount Deposited: \", amount)\n",
    "        choice = 'Y'\n",
    "        while choice in ('Y', 'y'):\n",
    "            choice = str(input(\"Do you want to deposit more? Press \\'Y\\' for YES and \\'N\\' for NO\"))\n",
    "            if choice in ('Y', 'y'):\n",
    "                amount = float(input(\"Enter an amount to be deposited: \"))\n",
    "                if amount > 0:\n",
    "                    self.balance += amount\n",
    "                    print(\"\\n Amount Deposited: \", amount)\n",
    "                    print(f\"Your available balance is {self.balance}\")\n",
    "                else:\n",
    "                    print(\"Please enter a valid input\")\n",
    "            elif choice in ('N', 'n'):\n",
    "                print(f\"Your available balance is {self.balance}\")\n",
    "                break\n",
    "            else:\n",
    "                print(\"Invalid input\")\n",
    "            \n",
    "        \n",
    "    def withdraw(self):\n",
    "        print(f\"The account balance is {self.balance}\\n\")\n",
    "        amount = float(input(\"Enter an amount to be withdrawn: \"))\n",
    "        choice = 'Y'\n",
    "        if self.balance >= amount:\n",
    "            self.balance -= amount\n",
    "            print(f\"Your available balance is {self.balance}\")\n",
    "            while choice in ('Y', 'y'):\n",
    "                choice = str(input(\"Do you want to withdraw more? Press \\'Y\\' for YES and \\'N\\' for NO\"))\n",
    "                if choice in ('Y', 'y'):\n",
    "                    amount = float(input(\"Enter an amount to be withdrawn: \"))\n",
    "                    if self.balance >= amount:\n",
    "                        self.balance -= amount\n",
    "                        print(\"\\n You have withdrawn: \", amount)\n",
    "                        print(f\"Your available balance is {self.balance}\")\n",
    "                    else:\n",
    "                        print(\"\\n Insufficient balance\")\n",
    "                elif choice in ('N', 'n'):\n",
    "                    print(f\"Your available balance is {self.balance}\")\n",
    "                    break\n",
    "                    \n",
    "                else:\n",
    "                    print(\"Invalid input\")\n",
    "        else:\n",
    "            print(\"\\n Insufficient balance \")\n",
    "            \n",
    "    def display(self):\n",
    "        print(\"\\n Available Balance = \", self.balance)\n",
    "        \n",
    "    def account_details(self):\n",
    "        print(f\"The account holder name is {self.name}.\\nThe account number is {self.acc_numb}.\\nThe available balance is {self.balance}. \")\n",
    "        \n",
    "        "
   ]
  },
  {
   "cell_type": "code",
   "execution_count": 11,
   "id": "d932ff3a-3e5b-4728-a342-e3793eefb314",
   "metadata": {},
   "outputs": [
    {
     "name": "stdout",
     "output_type": "stream",
     "text": [
      "Welcome Mr.Mohammad Kaiser Azad. You have created your account successfully.\n",
      "Your acount number is 21213.\n",
      "Currently you have 0 balance.\n"
     ]
    }
   ],
   "source": [
    "azad = bankaccount(\"Mohammad Kaiser Azad\", 21213)"
   ]
  },
  {
   "cell_type": "code",
   "execution_count": 12,
   "id": "b888be9e-ebe7-440a-a265-e2b20cbdecfe",
   "metadata": {},
   "outputs": [
    {
     "name": "stdout",
     "output_type": "stream",
     "text": [
      "The account holder name is Mohammad Kaiser Azad.\n",
      "The account number is 21213.\n",
      "The available balance is 0. \n"
     ]
    }
   ],
   "source": [
    "azad.account_details()"
   ]
  },
  {
   "cell_type": "code",
   "execution_count": 13,
   "id": "94600b83-f459-4d67-83b9-5daa7de512e9",
   "metadata": {},
   "outputs": [
    {
     "name": "stdout",
     "output_type": "stream",
     "text": [
      "The account balance is 0\n",
      "\n"
     ]
    },
    {
     "name": "stdin",
     "output_type": "stream",
     "text": [
      "Enter an amount to be deposited:  10000\n"
     ]
    },
    {
     "name": "stdout",
     "output_type": "stream",
     "text": [
      "\n",
      " Amount Deposited:  10000.0\n"
     ]
    },
    {
     "name": "stdin",
     "output_type": "stream",
     "text": [
      "Do you want to deposit more? Press 'Y' for YES and 'N' for NO q\n"
     ]
    },
    {
     "name": "stdout",
     "output_type": "stream",
     "text": [
      "Invalid input\n"
     ]
    }
   ],
   "source": [
    "azad.deposit()"
   ]
  },
  {
   "cell_type": "code",
   "execution_count": 14,
   "id": "c7e6a782-7fba-4036-85af-db80f53f2213",
   "metadata": {},
   "outputs": [
    {
     "name": "stdout",
     "output_type": "stream",
     "text": [
      "\n",
      " Available Balance =  10000.0\n"
     ]
    }
   ],
   "source": [
    "azad.display()"
   ]
  },
  {
   "cell_type": "code",
   "execution_count": 8,
   "id": "7035bc20-6f6c-4140-9b10-cc02de064a05",
   "metadata": {},
   "outputs": [
    {
     "name": "stdout",
     "output_type": "stream",
     "text": [
      "The account balance is 20000.0\n",
      "\n"
     ]
    },
    {
     "name": "stdin",
     "output_type": "stream",
     "text": [
      "Enter an amount to be withdrawn:  500\n"
     ]
    },
    {
     "name": "stdout",
     "output_type": "stream",
     "text": [
      "Your available balance is 19500.0\n"
     ]
    },
    {
     "name": "stdin",
     "output_type": "stream",
     "text": [
      "Do you want to withdraw more? Press 'Y' for YES and 'N' for NO y\n",
      "Enter an amount to be withdrawn:  500\n"
     ]
    },
    {
     "name": "stdout",
     "output_type": "stream",
     "text": [
      "\n",
      " You have withdrawn:  500.0\n",
      "Your available balance is 19000.0\n"
     ]
    },
    {
     "name": "stdin",
     "output_type": "stream",
     "text": [
      "Do you want to withdraw more? Press 'Y' for YES and 'N' for NO n\n"
     ]
    },
    {
     "name": "stdout",
     "output_type": "stream",
     "text": [
      "Your available balance is 19000.0\n"
     ]
    }
   ],
   "source": [
    "azad.withdraw()"
   ]
  },
  {
   "cell_type": "code",
   "execution_count": 9,
   "id": "619c8b1f-377e-45c1-b225-d8486818ff1f",
   "metadata": {},
   "outputs": [
    {
     "name": "stdout",
     "output_type": "stream",
     "text": [
      "\n",
      " Available Balance =  19000.0\n"
     ]
    }
   ],
   "source": [
    "azad.display()"
   ]
  },
  {
   "cell_type": "markdown",
   "id": "bf7ccb36-3555-40b3-8165-fd29b5b4b581",
   "metadata": {},
   "source": [
    "## Problem 2: Employee Management"
   ]
  },
  {
   "cell_type": "markdown",
   "id": "ae949d3b-a0b5-4596-a273-e11816ed24ab",
   "metadata": {},
   "source": [
    "- Create a class representing an employee with attributes like employee ID, name, and salary. Implement methods to calculate the yearly bonus and display employee details."
   ]
  },
  {
   "cell_type": "code",
   "execution_count": 1,
   "id": "37946df1-ae96-466e-ba9c-67d579d51c57",
   "metadata": {},
   "outputs": [],
   "source": [
    "import logging as log\n",
    "log.basicConfig(filename = 'employee.log', level = log.DEBUG, format = '%(asctime)s - %(levelname)s - %(message)s')\n",
    "\n",
    "class Employee:\n",
    "    def __init__(self, name, employee_id, salary):\n",
    "        self.name = name\n",
    "        self.employee_id = employee_id\n",
    "        self.salary = salary\n",
    "        \n",
    "    def calculate_yearly_bonus(self, bonus_percentage):\n",
    "        try:\n",
    "            if bonus_percentage < 0 or bonus_percentage >100:\n",
    "                raise ValueError(\"Bonus percentage must be between 0-100\")\n",
    "            bonus = (bonus_percentage / 100) * self.salary\n",
    "            log.info(f\"Yearly bonus calculated for employee {self.name}: {bonus}\")\n",
    "            return bonus\n",
    "        except ValueError as e:\n",
    "            log.error(e)\n",
    "            return str(e)\n",
    "        \n",
    "    def display_employee_details(self):\n",
    "        log.info(f\"\\nName: {self.name}\\nEmployee ID: {self.employee_id}\\nSalary: {self.salary}\")"
   ]
  },
  {
   "cell_type": "code",
   "execution_count": 2,
   "id": "1a0f8091-e918-4985-bda6-889ba534b015",
   "metadata": {},
   "outputs": [],
   "source": [
    "# Initializing with employee details\n",
    "\n",
    "e1 = Employee(\"Kaiser Azad\", 465323, 17000)\n",
    "e2 = Employee(\"Ali Razad\", 463241, 16000)"
   ]
  },
  {
   "cell_type": "code",
   "execution_count": 3,
   "id": "cb595b3e-b494-4a80-bbbe-0a6f86b95e3a",
   "metadata": {},
   "outputs": [
    {
     "data": {
      "text/plain": [
       "3400.0"
      ]
     },
     "execution_count": 3,
     "metadata": {},
     "output_type": "execute_result"
    }
   ],
   "source": [
    "# calculating bonus for e1\n",
    "e1.calculate_yearly_bonus(20)"
   ]
  },
  {
   "cell_type": "code",
   "execution_count": 4,
   "id": "35d41493-cb88-4516-b054-b3b2753b0825",
   "metadata": {},
   "outputs": [
    {
     "data": {
      "text/plain": [
       "1600.0"
      ]
     },
     "execution_count": 4,
     "metadata": {},
     "output_type": "execute_result"
    }
   ],
   "source": [
    "# calculating bonus for e2\n",
    "e2.calculate_yearly_bonus(10)"
   ]
  },
  {
   "cell_type": "code",
   "execution_count": 5,
   "id": "8ebfffa5-507b-492d-85fa-95383e2ede1a",
   "metadata": {},
   "outputs": [],
   "source": [
    "# displaying employee details\n",
    "e1.display_employee_details()"
   ]
  },
  {
   "cell_type": "code",
   "execution_count": 6,
   "id": "83f39347-c992-4c54-8b87-b207a80d5cb6",
   "metadata": {},
   "outputs": [],
   "source": [
    "# displaying employee details\n",
    "e2.display_employee_details()"
   ]
  },
  {
   "cell_type": "markdown",
   "id": "4ff5a4b0-d595-46e1-bbe9-44195017d7f2",
   "metadata": {},
   "source": [
    "## Problem 3: Vehicle Rental \n",
    "- Create a class representing a vehicle rental system. Implement methods to rent a vehicle, return a vehicle, and display available vehicles."
   ]
  },
  {
   "cell_type": "code",
   "execution_count": 1,
   "id": "bd595c76-b0b0-4596-8760-9af48cbafd58",
   "metadata": {},
   "outputs": [],
   "source": [
    "import logging as log\n",
    "log.basicConfig(filename = 'RentaCar.log', level = log.DEBUG, format = '%(asctime)s- %(levelname)s- %(message)s')\n",
    "\n",
    "class vehicle_rental:\n",
    "    log.info(\"The vehicle name and type is initialized\")\n",
    "    def __init__(self, name, vehicle_type):\n",
    "        self.name = name\n",
    "        self.vehicle_type = vehicle_type\n",
    "        self.is_available = True\n",
    "        \n",
    "    def rent(self):\n",
    "        log.info(\"Customer is attempting to rent a vehicle\")\n",
    "        try:\n",
    "            if self.is_available:\n",
    "                self.is_available = False\n",
    "                return f\"You have rented '{self.name}' vehicle which is a {self.vehicle_type}\"\n",
    "            else:\n",
    "                raise Exception(f\"'{self.name}' is currently not available for rent\")\n",
    "        \n",
    "        except Exception as e:\n",
    "            log.error(e)\n",
    "            return str(e)\n",
    "            \n",
    "        \n",
    "        \n",
    "    def return_vehicle(self):\n",
    "        log.info(\"Customer is attempting to return a vehicle\")\n",
    "        try:\n",
    "            if self.is_available:\n",
    "                self.is_available = True\n",
    "                return f\"You have returned a '{self.name}' which is a {self.vehicle_type}\"\n",
    "            else:\n",
    "                raise Exception(f\"'{self.name}' was not rented\")\n",
    "                \n",
    "        except Exception as e:\n",
    "            log.error(e)\n",
    "            return str(e)\n",
    "        \n",
    "        \n",
    "        \n",
    "    def __str__(self):\n",
    "        availability = \"Available\" if self.is_available else \"Not available\"\n",
    "        return f\"'{self.name}' by {self.vehicle_type} ({availability})\"\n",
    "    \n",
    "    \n",
    "\n",
    "class rent_shop:\n",
    "    def __init__(self):\n",
    "        self.vehicles = []\n",
    "        \n",
    "    def add_vehicle(self, vehicles):\n",
    "        self.vehicles.append(vehicles)\n",
    "        \n",
    "    \n",
    "    def display_available_vehicles(self):\n",
    "        available_vehicles = [vehicles for vehicles in self.vehicles if vehicles.is_available]\n",
    "        try:\n",
    "            if available_vehicles:\n",
    "                return \"Available vehicle's \\n\" + \"\\n\".join(str(vehicles) for vehicles in available_vehicles)\n",
    "            else:\n",
    "                raise Exception(\"No vehicle's are currently available in the shop to rent\")\n",
    "                \n",
    "        except Exception as e:\n",
    "            log.error(e)\n",
    "            return str(e)"
   ]
  },
  {
   "cell_type": "code",
   "execution_count": 2,
   "id": "d8515e4a-a734-4871-ad67-5f99f43d28a8",
   "metadata": {},
   "outputs": [],
   "source": [
    "# Create some Book instances\n",
    "v1 = vehicle_rental(\"BMW\", \"Car\")\n",
    "v2 = vehicle_rental(\"Corola\", \"Car\")\n",
    "v3 = vehicle_rental(\"Scania\", \"Bus\")\n",
    "\n",
    "# Create a shop instance\n",
    "ctg_rent = rent_shop()"
   ]
  },
  {
   "cell_type": "code",
   "execution_count": 3,
   "id": "5887e628-43a7-425c-be3e-2ea52f6ad774",
   "metadata": {},
   "outputs": [],
   "source": [
    "# Adding vehicles to the shop for sell\n",
    "ctg_rent.add_vehicle(v1)\n",
    "ctg_rent.add_vehicle(v2)\n",
    "ctg_rent.add_vehicle(v3)"
   ]
  },
  {
   "cell_type": "code",
   "execution_count": 4,
   "id": "3a67877e-00e6-4229-ba04-c480ef1206e8",
   "metadata": {},
   "outputs": [
    {
     "name": "stdout",
     "output_type": "stream",
     "text": [
      "Available vehicle's \n",
      "'BMW' by Car (Available)\n",
      "'Corola' by Car (Available)\n",
      "'Scania' by Bus (Available)\n"
     ]
    }
   ],
   "source": [
    "# Display available vehicle's to rent\n",
    "log.info(\"Displaying available vehicle's\")\n",
    "print(ctg_rent.display_available_vehicles())"
   ]
  },
  {
   "cell_type": "code",
   "execution_count": 5,
   "id": "4ca1c42f-223f-4477-96a1-811e33542b34",
   "metadata": {},
   "outputs": [],
   "source": [
    "# Rent a vehicle\n",
    "log.info(v1.rent())"
   ]
  },
  {
   "cell_type": "code",
   "execution_count": 6,
   "id": "5e3eeb42-684e-46ab-a053-5a0364855413",
   "metadata": {},
   "outputs": [
    {
     "name": "stdout",
     "output_type": "stream",
     "text": [
      "Available vehicle's \n",
      "'Corola' by Car (Available)\n",
      "'Scania' by Bus (Available)\n"
     ]
    }
   ],
   "source": [
    "# Display available vehicle's to rent\n",
    "log.info(\"Displaying available vehicle's\")\n",
    "print(ctg_rent.display_available_vehicles())"
   ]
  },
  {
   "cell_type": "code",
   "execution_count": 7,
   "id": "c8078d9f-3621-4436-9f42-d8b08da71708",
   "metadata": {},
   "outputs": [],
   "source": [
    "# Rent a vehicle\n",
    "log.info(v2.rent())\n",
    "log.info(v3.rent())"
   ]
  },
  {
   "cell_type": "code",
   "execution_count": 8,
   "id": "bdf1db93-819d-4aeb-9a00-b805b9be4fb9",
   "metadata": {},
   "outputs": [
    {
     "name": "stdout",
     "output_type": "stream",
     "text": [
      "No vehicle's are currently available in the shop to rent\n"
     ]
    }
   ],
   "source": [
    "# Display available vehicle's to rent\n",
    "log.info(\"Displaying available vehicle's\")\n",
    "print(ctg_rent.display_available_vehicles())"
   ]
  },
  {
   "cell_type": "code",
   "execution_count": 9,
   "id": "71875df1-4526-4997-b183-a11a29b7b6f3",
   "metadata": {},
   "outputs": [],
   "source": [
    "# Return a vehicle\n",
    "log.info(v1.return_vehicle())"
   ]
  },
  {
   "cell_type": "code",
   "execution_count": 10,
   "id": "f1be3cf7-fe93-4f3b-9d2a-dfad4ff77def",
   "metadata": {},
   "outputs": [
    {
     "name": "stdout",
     "output_type": "stream",
     "text": [
      "No vehicle's are currently available in the shop to rent\n"
     ]
    }
   ],
   "source": [
    "# Display available vehicle's to rent\n",
    "log.info(\"Displaying available vehicle's\")\n",
    "print(ctg_rent.display_available_vehicles())"
   ]
  },
  {
   "cell_type": "markdown",
   "id": "d87b4a1b-b667-436e-a5df-f464d39acf6a",
   "metadata": {},
   "source": [
    "## Problem 4: Library Catalog \n",
    "- Create classes representing a library and a book. Implement methods to add books to the library, borrow books, and display available books."
   ]
  },
  {
   "cell_type": "code",
   "execution_count": 1,
   "id": "afdf9e39-2a85-482f-8317-76d5a6a233d1",
   "metadata": {},
   "outputs": [],
   "source": [
    "import logging as log\n",
    "log.basicConfig(filename = 'Library.log', level = log.DEBUG, format = '%(asctime)s- %(levelname)s- %(message)s')\n",
    "\n",
    "class Book:\n",
    "    log.info(\"This is a start of my program\")\n",
    "    log.info(\"The author name, title and availability is initialized\")\n",
    "        \n",
    "    def __init__(self, title, author):\n",
    "        self.title = title\n",
    "        self.author = author\n",
    "        self.is_available = True\n",
    "\n",
    "    def borrow(self):\n",
    "        log.info(\"The user is attempting to borrow book\")\n",
    "        try:   \n",
    "            if self.is_available:\n",
    "                self.is_available = False\n",
    "                return f\"You have borrowed '{self.title}' by {self.author}\"\n",
    "            else:\n",
    "                raise Exception(f\"'{self.title}' is currently not available for borrowing.\")\n",
    "    \n",
    "        except Exception as e:\n",
    "            log.error(e)\n",
    "            return str(e)\n",
    "\n",
    "        \n",
    "        \n",
    "    def return_book(self):\n",
    "        log.info(\"The user is attempting to return book\")\n",
    "        try:\n",
    "            if not self.is_available:\n",
    "                self.is_available = True\n",
    "                return f\"You have returned '{self.title}' by {self.author}\"\n",
    "            else:\n",
    "                raise Exception(f\"'{self.title}' was not borrowed.\")\n",
    "                \n",
    "        except Exception as e:\n",
    "            log.error(e)\n",
    "            return str(e)\n",
    "\n",
    "\n",
    "    def __str__(self):\n",
    "        availability = \"Available\" if self.is_available else \"Not Available\"\n",
    "        return f\"'{self.title}' by {self.author} ({availability})\"\n",
    "    \n",
    "\n",
    "\n",
    "class Library:\n",
    "    def __init__(self):\n",
    "        self.books = []\n",
    "        \n",
    "    def add_book(self, book):\n",
    "        self.books.append(book)\n",
    "        \n",
    "    def display_available_books(self):\n",
    "        available_books = [book for book in self.books if book.is_available]\n",
    "        if available_books:\n",
    "            return \"Available Books: \\n\" + \"\\n\".join(str(book) for book in available_books)\n",
    "        else:\n",
    "            return \"No books are currently available in the library.\""
   ]
  },
  {
   "cell_type": "code",
   "execution_count": 2,
   "id": "468e20dc-32f7-467b-aec8-0452e561da97",
   "metadata": {},
   "outputs": [],
   "source": [
    "# Create some Book instances\n",
    "book1 = Book(\"The Catcher in the Rye\", \"J.D. Salinger\")\n",
    "book2 = Book(\"To kill a Mockingbird\", \"Harper Lee\")\n",
    "book3 = Book(\"Mujeeb, the father of a nation\", \"Azad\")\n",
    "\n",
    "# Create a library instance\n",
    "SU_Library = Library()"
   ]
  },
  {
   "cell_type": "code",
   "execution_count": 3,
   "id": "3e6bc3c9-0251-468f-bcf2-c7b5646e75eb",
   "metadata": {},
   "outputs": [],
   "source": [
    "# Add books to the library\n",
    "SU_Library.add_book(book1)\n",
    "SU_Library.add_book(book2)\n",
    "SU_Library.add_book(book3)"
   ]
  },
  {
   "cell_type": "code",
   "execution_count": 4,
   "id": "b6af9b41-4316-418c-a224-21188478d31f",
   "metadata": {},
   "outputs": [
    {
     "name": "stdout",
     "output_type": "stream",
     "text": [
      "Available Books: \n",
      "'The Catcher in the Rye' by J.D. Salinger (Available)\n",
      "'To kill a Mockingbird' by Harper Lee (Available)\n",
      "'Mujeeb, the father of a nation' by Azad (Available)\n"
     ]
    }
   ],
   "source": [
    "# Display available books\n",
    "log.info(\"Displaying available books\")\n",
    "print(SU_Library.display_available_books())"
   ]
  },
  {
   "cell_type": "code",
   "execution_count": 5,
   "id": "b63959c2-e5ab-47ce-bb94-56b7bdc063a4",
   "metadata": {},
   "outputs": [],
   "source": [
    "# Borrow a book\n",
    "log.info(book1.borrow())"
   ]
  },
  {
   "cell_type": "code",
   "execution_count": 7,
   "id": "d49f1243-a832-48f2-b72f-47e39220fb0f",
   "metadata": {},
   "outputs": [],
   "source": [
    "# Return the borrowed book\n",
    "log.info(book1.return_book())"
   ]
  },
  {
   "cell_type": "code",
   "execution_count": 8,
   "id": "01f8bfa3-4283-42e0-aaca-34fd1406c261",
   "metadata": {},
   "outputs": [
    {
     "name": "stdout",
     "output_type": "stream",
     "text": [
      "Available Books: \n",
      "'The Catcher in the Rye' by J.D. Salinger (Available)\n",
      "'To kill a Mockingbird' by Harper Lee (Available)\n",
      "'Mujeeb, the father of a nation' by Azad (Available)\n"
     ]
    }
   ],
   "source": [
    "# Display available books after returning\n",
    "log.info(\"Displaying available books after returning\")\n",
    "print(SU_Library.display_available_books())"
   ]
  },
  {
   "cell_type": "code",
   "execution_count": 9,
   "id": "001090d0-af64-4033-a20f-714deefc18b4",
   "metadata": {},
   "outputs": [],
   "source": [
    "# Borrow a book\n",
    "log.info(book1.borrow())\n",
    "# Borrow a book\n",
    "log.info(book2.borrow())\n",
    "# Borrow a book\n",
    "log.info(book3.borrow())"
   ]
  },
  {
   "cell_type": "code",
   "execution_count": 10,
   "id": "d21ba0fa-c00f-4ebd-8e07-ec18cfa9d55c",
   "metadata": {},
   "outputs": [
    {
     "name": "stdout",
     "output_type": "stream",
     "text": [
      "No books are currently available in the library.\n"
     ]
    }
   ],
   "source": [
    "# Display available books after returning\n",
    "log.info(\"Displaying available books after returning\")\n",
    "print(SU_Library.display_available_books())"
   ]
  },
  {
   "cell_type": "code",
   "execution_count": 11,
   "id": "d2c8b43d-78ee-4eba-ad06-5e38e2afc349",
   "metadata": {},
   "outputs": [],
   "source": [
    "# Return the borrowed book\n",
    "log.info(book1.return_book())"
   ]
  },
  {
   "cell_type": "code",
   "execution_count": 12,
   "id": "4cf9e7b3-7219-41df-b513-eb7fbd358ea8",
   "metadata": {},
   "outputs": [
    {
     "name": "stdout",
     "output_type": "stream",
     "text": [
      "Available Books: \n",
      "'The Catcher in the Rye' by J.D. Salinger (Available)\n"
     ]
    }
   ],
   "source": [
    "# Display available books after returning\n",
    "log.info(\"Displaying available books after returning\")\n",
    "print(SU_Library.display_available_books())"
   ]
  },
  {
   "cell_type": "markdown",
   "id": "4aecdbeb-74f5-4da0-8ac4-aeff8fb52c1a",
   "metadata": {},
   "source": [
    "## Problem 5: Product Inventory \n",
    "- Create classes representing a product and an inventory system. Implement methods to add products to the inventory, update product quantity, and display available products."
   ]
  },
  {
   "cell_type": "code",
   "execution_count": 1,
   "id": "cb0eb62c-5cf2-4f94-935d-f74075a6a704",
   "metadata": {},
   "outputs": [],
   "source": [
    "import logging as log\n",
    "\n",
    "log.basicConfig(filename='inventory.log', level=log.DEBUG, format='%(asctime)s - %(levelname)s - %(message)s')\n",
    "\n",
    "class Product:\n",
    "    def __init__(self, product_id, name, price, quantity):\n",
    "        self.product_id = product_id\n",
    "        self.name = name\n",
    "        self.price = price\n",
    "        self.quantity = quantity\n",
    "\n",
    "    def __str__(self):\n",
    "        return f\"Product ID: {self.product_id}, Name: {self.name}, Price: ${self.price}, Quantity: {self.quantity}\"\n",
    "\n",
    "class Inventory:\n",
    "    def __init__(self):\n",
    "        self.products = []\n",
    "\n",
    "    def add_product(self, product):\n",
    "        self.products.append(product)\n",
    "        log.info(\"Added product: %s\", product)\n",
    "\n",
    "    def update_quantity(self, product_id, new_quantity):\n",
    "        log.info(\"Updating product with ID %s to quantity %s\", product_id, new_quantity)\n",
    "        for product in self.products:\n",
    "            if product.product_id == product_id:\n",
    "                product.quantity = new_quantity\n",
    "                log.info(\"Product updated: %s\", product)\n",
    "                break\n",
    "\n",
    "    def display_available_products(self):\n",
    "        log.info(\"Displaying available products\")\n",
    "        available_products = [product for product in self.products if product.quantity > 0]\n",
    "        #log.info(\"Available Products: %s\", available_products)\n",
    "        if available_products:\n",
    "            log.info( \"\\n\".join(str(product) for product in available_products))\n",
    "        else:\n",
    "            log.info(\"No products are currently available in the inventory\")\n"
   ]
  },
  {
   "cell_type": "code",
   "execution_count": 2,
   "id": "87af9276-7553-4de1-953e-2bfd1d801d79",
   "metadata": {},
   "outputs": [],
   "source": [
    "# Creating Product Instances\n",
    "p1 = Product(23, \"Milk\", 21.99, 35)\n",
    "p2 = Product(24, \"Egg\", 69, 50)\n",
    "p3 = Product(25, \"Banana\", 17.99, 60)\n",
    "\n",
    "# Creating an inventory instance\n",
    "inventory = Inventory()"
   ]
  },
  {
   "cell_type": "code",
   "execution_count": 3,
   "id": "edc46284-3dac-4ed9-98dd-0404848b8e9e",
   "metadata": {},
   "outputs": [],
   "source": [
    "# Displayin available products\n",
    "inventory.display_available_products()"
   ]
  },
  {
   "cell_type": "code",
   "execution_count": 4,
   "id": "df1d1b67-a26f-4d8a-a3d7-de19d1a0a6b6",
   "metadata": {},
   "outputs": [],
   "source": [
    "# Adding products\n",
    "inventory.add_product(p1)\n",
    "inventory.add_product(p2)\n",
    "inventory.add_product(p3)"
   ]
  },
  {
   "cell_type": "code",
   "execution_count": 5,
   "id": "6b5066af-2f55-4ac7-8ee9-1c0c6de9633c",
   "metadata": {},
   "outputs": [],
   "source": [
    "# Displaying available products\n",
    "inventory.display_available_products()"
   ]
  },
  {
   "cell_type": "code",
   "execution_count": 7,
   "id": "d23558f6-ac9f-4702-b219-811d382ea7c0",
   "metadata": {},
   "outputs": [],
   "source": [
    "# Updating the product\n",
    "inventory.update_quantity(23, 40)"
   ]
  },
  {
   "cell_type": "code",
   "execution_count": 8,
   "id": "97d01d4e-424a-4304-a3ed-cddf22e55fad",
   "metadata": {},
   "outputs": [],
   "source": [
    "# Displaying available products\n",
    "inventory.display_available_products()"
   ]
  },
  {
   "cell_type": "markdown",
   "id": "96742f9e-08f1-4cd6-add5-16366e509f3f",
   "metadata": {},
   "source": [
    "## Problem 6: Shape Calculation \n",
    "- Create a class representing a shape with attributes like length, width, and height. Implement methods to calculate the area and perimeter of the shape."
   ]
  },
  {
   "cell_type": "code",
   "execution_count": 8,
   "id": "8738c459-f916-4dec-8fed-5eac26064951",
   "metadata": {},
   "outputs": [],
   "source": [
    "import logging as log\n",
    "import math\n",
    "log.basicConfig(filename = 'shape.log', level = log.DEBUG, format = '%(asctime)s - %(levelname)s - %(message)s')\n",
    "\n",
    "class Shape:\n",
    "    def __init__(self, length, width = None, height = None):\n",
    "        self.length = length\n",
    "        self.width = width\n",
    "        self.height = height\n",
    "        \n",
    "    def calculate_area(self):\n",
    "        try:\n",
    "            '''\n",
    "            If self.width is None, it indicates a circle. The method calculates the \n",
    "            area of a circle using the formula for the area of a circle: πr² \n",
    "            (where r is the radius, equal to self.length).\n",
    "            \n",
    "            If self.height is None (which means that self.width is not None), it indicates a rectangle. \n",
    "            The method calculates the area of a rectangle using the formula for \n",
    "            the area of a rectangle: length × width.\n",
    "            '''\n",
    "            if self.width is None:\n",
    "                return math.pi * self.length ** 2 # calculating the area of a circle\n",
    "            elif self.height is None:\n",
    "                return self.length * self.width # calculating the area of a rectangle\n",
    "            else:\n",
    "                raise ValueError(\"Unsupported shape with height provided\")\n",
    "        except Exception as e:\n",
    "            log.error(e)\n",
    "            return str(e)\n",
    "        \n",
    "    def calculate_perimeter(self):\n",
    "        try:\n",
    "            if self.width is None:\n",
    "                return 2 * math.pi * self.length # calculating the circumference of a circle\n",
    "            elif self.height is None:\n",
    "                return 2 * (self.length + self.width) # calculating the perimeter of a rectangle\n",
    "            else:\n",
    "                raise ValueError(\"Unsupported shape with height provided\")\n",
    "        except Exception as e:\n",
    "            log.error(e)\n",
    "            return str(e)"
   ]
  },
  {
   "cell_type": "code",
   "execution_count": 11,
   "id": "840f35c7-0ac2-4be8-9130-af8c7f2d8312",
   "metadata": {},
   "outputs": [],
   "source": [
    "ob1 = Shape(12, 32)"
   ]
  },
  {
   "cell_type": "code",
   "execution_count": 12,
   "id": "6104e824-052a-4e28-8b60-8f740d3ae17c",
   "metadata": {},
   "outputs": [
    {
     "data": {
      "text/plain": [
       "384"
      ]
     },
     "execution_count": 12,
     "metadata": {},
     "output_type": "execute_result"
    }
   ],
   "source": [
    "ob1.calculate_area()"
   ]
  },
  {
   "cell_type": "markdown",
   "id": "9e8adb0a-1f61-4a4b-a6da-a2c488bd0113",
   "metadata": {},
   "source": []
  },
  {
   "cell_type": "code",
   "execution_count": null,
   "id": "c6733829-8f96-494d-8f6d-e1a485566b26",
   "metadata": {},
   "outputs": [],
   "source": []
  },
  {
   "cell_type": "code",
   "execution_count": null,
   "id": "6a06754e-44e6-4e99-9892-874993f84891",
   "metadata": {},
   "outputs": [],
   "source": []
  },
  {
   "cell_type": "code",
   "execution_count": null,
   "id": "425c18ba-e4ee-41f8-b493-ea20db19e386",
   "metadata": {},
   "outputs": [],
   "source": []
  },
  {
   "cell_type": "markdown",
   "id": "906e02bc-677e-45a7-b5b5-b3f3aace45ed",
   "metadata": {},
   "source": [
    "## Problem 7: Student Management \n",
    "- Create a class representing a student with attributes like student ID, name, and grades. Implement methods to calculate the average grade and display student details."
   ]
  },
  {
   "cell_type": "code",
   "execution_count": 1,
   "id": "186e8860-45e8-45b6-9079-93712109ec51",
   "metadata": {},
   "outputs": [],
   "source": [
    "import logging as log\n",
    "log.basicConfig(filename = 'student.log', level = log.DEBUG, format = '%(asctime)s - %(levelname)s - %(message)s')\n",
    "\n",
    "\n",
    "class Student:\n",
    "    def __init__(self, name, student_id):\n",
    "        self.name = name\n",
    "        self.student_id = student_id\n",
    "        self.grade = []\n",
    "        \n",
    "    def add_grade(self, grade):\n",
    "        try:\n",
    "            if 0<= grade <= 100:\n",
    "                self.grade.append(grade)\n",
    "                log.info(\"Added grade %d for student %s\", grade, self.name)\n",
    "            else:\n",
    "                log.warning(\"Invalid grade %d for student %s\", grade)\n",
    "                \n",
    "        except Exception as e:\n",
    "            log.error(e)\n",
    "    \n",
    "    def calculate_average_grade(self):\n",
    "        try:\n",
    "            if not self.grade:\n",
    "                return 0\n",
    "            total = sum(self.grade)\n",
    "            average = total / len(self.grade)\n",
    "            return average\n",
    "        except ZeroDivisionError:\n",
    "            log.warning(\"ZeroDivisionError: No grades available for student %s\", self.name)\n",
    "            return 0\n",
    "        \n",
    "        \n",
    "    def display_student_details(self):\n",
    "        try:\n",
    "            log.info(\"Displaying details for student %s\", self.name)\n",
    "            log.info(f\"Student_ID: {self.student_id}\")\n",
    "            log.info(f\"Name: {self.name}\")\n",
    "            log.info(\"Grades:\")\n",
    "            for grade in self.grade:\n",
    "                log.info(f\"- {grade}\")\n",
    "            average = self.calculate_average_grade()\n",
    "            log.info(f\"Average Grade: {average: .2f}\")\n",
    "            \n",
    "        except Exception as e:\n",
    "            log.error(e)\n"
   ]
  },
  {
   "cell_type": "code",
   "execution_count": 2,
   "id": "1b7d1cff-d256-45c3-809b-bc2e6251fd69",
   "metadata": {},
   "outputs": [],
   "source": [
    "s1 = Student(\"Azad\", 8)"
   ]
  },
  {
   "cell_type": "code",
   "execution_count": 3,
   "id": "8770421a-0930-4d67-90c0-fb3643692ad0",
   "metadata": {},
   "outputs": [],
   "source": [
    "s1.add_grade(95)\n",
    "s1.add_grade(91)\n",
    "s1.add_grade(93)"
   ]
  },
  {
   "cell_type": "code",
   "execution_count": 4,
   "id": "d391d38d-775f-4872-bd7f-1a0f179d0744",
   "metadata": {},
   "outputs": [],
   "source": [
    "s1.display_student_details()"
   ]
  },
  {
   "cell_type": "markdown",
   "id": "6fdf1c6b-f6f0-4c28-9f71-c9ce2bc98446",
   "metadata": {},
   "source": [
    "## Problem 8: Email Management \n",
    "- Create a class representing an email with attributes like sender, recipient, and subject. Implement methods to send an email and display email details."
   ]
  },
  {
   "cell_type": "code",
   "execution_count": 1,
   "id": "b7042779-ba99-4de5-94b8-07ea7cfdec95",
   "metadata": {},
   "outputs": [],
   "source": [
    "import logging as log\n",
    "\n",
    "log.basicConfig(filename='email_log', level=log.DEBUG, format = '%(asctime)s - %(levelname)s - %(message)s')\n",
    "\n",
    "class Email:\n",
    "    def __init__(self, sender, recipient, subject):\n",
    "        self.sender = sender\n",
    "        self.recipient = recipient\n",
    "        self.subject = subject\n",
    "        self.sent = False\n",
    "        \n",
    "    def send_email(self):\n",
    "        try:\n",
    "            if not self.sent:\n",
    "                log.info(\"Sending email from %s to %s\", self.sender, self.recipient)\n",
    "                self.sent = True\n",
    "                print(\"Email sent successfully!\")\n",
    "                log.info(\"Email sent successfully\")\n",
    "            else:\n",
    "                print(\"Email has already been sent.\")\n",
    "                log.warning(\"Email has already been sent\")\n",
    "                \n",
    "        except Exception as e:\n",
    "            log.error(\"Error sending email: %s\", e)\n",
    "            print(\"Failed to send email. Please check the logs for details.\")\n",
    "    \n",
    "    def display_email_details(self):\n",
    "        try:\n",
    "            log.info(\"Display email details for email from %s to %s\", self.sender, self.recipient)\n",
    "            print(\"Email Details:\")\n",
    "            print(f\"Sender: {self.sender}\")\n",
    "            print(f\"Recipient: {self.recipient}\")\n",
    "            print(f\"Subject: {self.subject}\")\n",
    "            if self.sent:\n",
    "                print(\"Status: Sent\")\n",
    "                log.info(\"Email status: Sent\")\n",
    "            else:\n",
    "                print(\"Status: Draft\")\n",
    "                log.info(\"Email status: Draft\")\n",
    "        except Exception as e:\n",
    "            log.error(\"Error displaying email details: %s\", e)\n",
    "            print(\"Failed to display email details. Please check the log for details.\")\n",
    "            "
   ]
  },
  {
   "cell_type": "code",
   "execution_count": 2,
   "id": "672cffe8-bed1-4d62-81b3-763f7cc822c6",
   "metadata": {},
   "outputs": [
    {
     "name": "stdout",
     "output_type": "stream",
     "text": [
      "Email Details:\n",
      "Sender: mk.azad0090@gmail.com\n",
      "Recipient: mk.sanjida0094@gmail.com\n",
      "Subject: I am testing this email\n",
      "Status: Draft\n",
      "Email sent successfully!\n",
      "Email Details:\n",
      "Sender: mk.azad0090@gmail.com\n",
      "Recipient: mk.sanjida0094@gmail.com\n",
      "Subject: I am testing this email\n",
      "Status: Sent\n"
     ]
    }
   ],
   "source": [
    "# Creating an email instance\n",
    "email = Email(sender=\"mk.azad0090@gmail.com\", recipient=\"mk.sanjida0094@gmail.com\", subject=\"I am testing this email\")\n",
    "\n",
    "# Displaying email details:\n",
    "email.display_email_details()\n",
    "\n",
    "# Sending the email\n",
    "email.send_email()\n",
    "\n",
    "# Displaying email details after sending\n",
    "email.display_email_details()"
   ]
  },
  {
   "cell_type": "markdown",
   "id": "f5490c1b-2bf2-4c43-accf-a09f16f874d7",
   "metadata": {},
   "source": [
    "## Problem 9: Social Media Profile \n",
    "- Create a class representing a social media profile with attributes like username and posts. Implement methods to add posts, display posts, and search for posts by keyword."
   ]
  },
  {
   "cell_type": "code",
   "execution_count": 1,
   "id": "1a25ea32-6561-4d1c-9af4-81f63abb8e88",
   "metadata": {},
   "outputs": [],
   "source": [
    "import logging as log\n",
    "log.basicConfig(filename='social_media.log', level=log.DEBUG, format='%(asctime)s - %(levelname)s - %(message)s')\n",
    "\n",
    "class SocialMediaPofile:\n",
    "    def __init__(self, username):\n",
    "        self.username = username\n",
    "        self.posts = []\n",
    "        \n",
    "    def add_post(self, content):\n",
    "        try:\n",
    "            if not content:\n",
    "                raise ValueError(\"Post content cannot be empty\")\n",
    "                \n",
    "            post = {\n",
    "                'content': content,\n",
    "                'author': self.username\n",
    "            }\n",
    "            self.posts.append(post)\n",
    "            log.info(\"Added a new post for user %s\", self.username)\n",
    "        except ValueError as e:\n",
    "            log.error(\"Error adding post: %s\", e)\n",
    "            print(\"Failed to add post:\", e)\n",
    "            \n",
    "            \n",
    "    def display_posts(self):\n",
    "        try:\n",
    "            log.info(\"Displaying posts for user %s\", self.username)\n",
    "            if not self.posts:\n",
    "                print(f\"{self.username} has no posts\")\n",
    "            else:\n",
    "                '''\n",
    "                i, post: This is tuple unpacking. It unpacks the elements yielded by the enumerate function into two variables: i and post.\n",
    "\n",
    "                * i represents the index of the post in the sequence.\n",
    "                * post represents the actual post data.\n",
    "                \n",
    "                enumerate(self.posts, start=1):\n",
    "\n",
    "                * enumerate is a built-in Python function that returns an iterable of pairs, where the first element in each pair is the index of the item, and the second element is the item itself.\n",
    "                *self.posts is the sequence of posts, usually a list.\n",
    "                *start=1 is an optional parameter for enumerate. It specifies the value from which the index starts. In this case, it starts from 1, making the indices 1-based instead of 0-based.\n",
    "                \n",
    "                For example, if self.posts contains three posts, enumerate will yield the following pairs: (1, post1), (2, post2), and (3, post3).\n",
    "                So, in the context of displaying posts for a social media profile:\n",
    "\n",
    "               *i is the post number, starting from 1.\n",
    "               *post is the content and author data of the post.\n",
    "                This allows you to display posts with a numerical order and print both the content and the author of each post in a user-friendly format.\n",
    "                '''\n",
    "                for i, post in enumerate(self.posts, start = 1):\n",
    "                    print(f\"Post {i}: {post['content']} (by {post['author']})\")\n",
    "        except Exception as e:\n",
    "            log.error(\"Error displaying posts: %s\", e)\n",
    "            print(\"Failed to display posts. Please check the logs for details\")\n",
    "            \n",
    "    \n",
    "    def search_posts(self, keyword):\n",
    "        try:\n",
    "            log.info(\"Searching for posts with keyword %s for user %s\", keyword, self.username)\n",
    "            matching_posts = [post for post in self.posts if keyword.lower() in post['content'].lower()]\n",
    "            if not matching_posts:\n",
    "                print(f\"No posts found with the keyword '{keyword}'.\")\n",
    "            else:\n",
    "                print(f\"Posts with the keyword '{keyword}'.\")\n",
    "                for i, post in enumerate(matching_posts, start = 1):\n",
    "                    print(f\"Post {i}: {post['content']} (by {post['author']})\")\n",
    "            \n",
    "        except Exception as e:\n",
    "            log.error(\"Error searching for posts: %s\", e)\n",
    "            print(\"Failed to search fpr posts. Please check the logs for details\")"
   ]
  },
  {
   "cell_type": "code",
   "execution_count": 2,
   "id": "de00ec17-210e-4d66-8867-2397138f9ded",
   "metadata": {},
   "outputs": [],
   "source": [
    "# Creating a social media profile\n",
    "p1 = SocialMediaPofile(\"userAzad\")\n",
    "\n",
    "# Adding posts\n",
    "p1.add_post(\"Hi, this is my first post.\")\n",
    "p1.add_post(\"I am going to join this network\")\n",
    "p1.add_post(\"This is for fun purpose\")\n",
    "p1.add_post(\"Looking for coding buddies\")"
   ]
  },
  {
   "cell_type": "code",
   "execution_count": 3,
   "id": "d8b0188b-7585-4b79-ae08-0330898fe760",
   "metadata": {},
   "outputs": [
    {
     "name": "stdout",
     "output_type": "stream",
     "text": [
      "Post 1: Hi, this is my first post. (by userAzad)\n",
      "Post 2: I am going to join this network (by userAzad)\n",
      "Post 3: This is for fun purpose (by userAzad)\n",
      "Post 4: Looking for coding buddies (by userAzad)\n"
     ]
    }
   ],
   "source": [
    "# Displaying all posts\n",
    "p1.display_posts()"
   ]
  },
  {
   "cell_type": "code",
   "execution_count": 4,
   "id": "9fd23e92-26a7-46c9-a2ba-f1f217f842a1",
   "metadata": {},
   "outputs": [
    {
     "name": "stdout",
     "output_type": "stream",
     "text": [
      "Posts with the keyword 'looking'.\n",
      "Post 1: Looking for coding buddies (by userAzad)\n"
     ]
    }
   ],
   "source": [
    "# Searching for posts with a keyword\n",
    "p1.search_posts(\"looking\")"
   ]
  },
  {
   "cell_type": "markdown",
   "id": "64001d4a-2174-4417-bc05-5a8c8d2d439e",
   "metadata": {},
   "source": [
    "## Problem 10: ToDo List \n",
    "- Create a class representing a ToDo list with attributes like tasks and due dates. Implement methods to add tasks, mark tasks as completed, and display pending tasks."
   ]
  },
  {
   "cell_type": "code",
   "execution_count": 13,
   "id": "e7aabfd0-f249-4fd6-927f-6ab3f463dbbd",
   "metadata": {},
   "outputs": [
    {
     "name": "stdout",
     "output_type": "stream",
     "text": [
      "Pending tasks:\n",
      "1. Buy groceries (Due on 2023-10-12)\n",
      "2. Call dentist (Due on 2023-10-20)\n"
     ]
    }
   ],
   "source": [
    "import logging as log\n",
    "\n",
    "log.basicConfig(filename='todo.log', level=log.DEBUG, format='%(asctime)s - %(levelname)s - %(message)s')\n",
    "\n",
    "class ToDoList:\n",
    "    def __init__(self):\n",
    "        self.tasks = []\n",
    "\n",
    "    def add_task(self, task, due_date):\n",
    "        try:\n",
    "            if not task:\n",
    "                raise ValueError(\"Task description cannot be empty.\")\n",
    "            \n",
    "            if not due_date:\n",
    "                raise ValueError(\"Due date cannot be empty.\")\n",
    "            \n",
    "            new_task = {\n",
    "                'task': task,\n",
    "                'due_date': due_date,\n",
    "                'completed': False\n",
    "            }\n",
    "            self.tasks.append(new_task)\n",
    "            log.info(\"Added a new task: '%s' (Due on %s)\", task, due_date)\n",
    "        except ValueError as e:\n",
    "            log.error(\"Error adding task: %s\", e)\n",
    "            print(\"Failed to add task:\", e)\n",
    "\n",
    "    def mark_completed(self, task_index):\n",
    "        try:\n",
    "            if 0 <= task_index < len(self.tasks):\n",
    "                self.tasks[task_index]['completed'] = True\n",
    "                log.info(\"Marked task '%s' as completed\", self.tasks[task_index]['task'])\n",
    "            else:\n",
    "                raise IndexError(\"Invalid task index.\")\n",
    "        except IndexError as e:\n",
    "            log.error(\"Error marking task as completed: %s\", e)\n",
    "            print(\"Failed to mark task as completed:\", e)\n",
    "\n",
    "    def display_pending_tasks(self):\n",
    "        try:\n",
    "            log.info(\"Displaying pending tasks\")\n",
    "            pending_tasks = [task for task in self.tasks if not task['completed']]\n",
    "            if not pending_tasks:\n",
    "                print(\"No pending tasks.\")\n",
    "            else:\n",
    "                print(\"Pending tasks:\")\n",
    "                for i, task in enumerate(pending_tasks, start=1):\n",
    "                    print(f\"{i}. {task['task']} (Due on {task['due_date']})\")\n",
    "        except Exception as e:\n",
    "            log.error(\"Error displaying pending tasks: %s\", e)\n",
    "            print(\"Failed to display pending tasks. Please check the logs for details.\")\n",
    "\n",
    "\n",
    "# Create a ToDo list\n",
    "my_todo = ToDoList()\n",
    "\n",
    "# Add tasks\n",
    "my_todo.add_task(\"Finish project\", \"2023-10-15\")\n",
    "my_todo.add_task(\"Buy groceries\", \"2023-10-12\")\n",
    "my_todo.add_task(\"Call dentist\", \"2023-10-20\")\n",
    "\n",
    "# Mark a task as completed\n",
    "my_todo.mark_completed(0)\n",
    "\n",
    "# Display pending tasks\n",
    "my_todo.display_pending_tasks()\n"
   ]
  },
  {
   "cell_type": "code",
   "execution_count": null,
   "id": "40b7b618-2328-4883-968e-dadad0e269c5",
   "metadata": {},
   "outputs": [],
   "source": []
  }
 ],
 "metadata": {
  "kernelspec": {
   "display_name": "Python 3 (ipykernel)",
   "language": "python",
   "name": "python3"
  },
  "language_info": {
   "codemirror_mode": {
    "name": "ipython",
    "version": 3
   },
   "file_extension": ".py",
   "mimetype": "text/x-python",
   "name": "python",
   "nbconvert_exporter": "python",
   "pygments_lexer": "ipython3",
   "version": "3.10.8"
  }
 },
 "nbformat": 4,
 "nbformat_minor": 5
}
