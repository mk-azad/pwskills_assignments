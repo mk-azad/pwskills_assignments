{
 "cells": [
  {
   "cell_type": "markdown",
   "id": "61352d3e-d0ff-4a23-936c-88782abccc8b",
   "metadata": {},
   "source": [
    "# Constructor"
   ]
  },
  {
   "cell_type": "markdown",
   "id": "c1dc39ea-5035-4ea0-be3f-427616cf48aa",
   "metadata": {},
   "source": [
    "#### 1. What is a constructor in Python? Explain its purpose and usage.\n",
    "\n",
    "Ans. In Python, a constructor is a special method that is automatically called when an object of a class is created. The purpose of a constructor is to initialize the attributes or properties of an object, which are defined within the class. Constructors are defined using the __init__ method, and they are essential for setting up the initial state of an object."
   ]
  },
  {
   "cell_type": "markdown",
   "id": "2d97fb4c-c00f-407e-8892-101c4c7e6ec8",
   "metadata": {},
   "source": [
    "#### 2. Differentiate between a parameterless constructor and a parameterized constructor in Python.\n",
    "\n",
    "Ans. \n",
    "\n",
    "Parameterless Constructor (Default Constructor):\n",
    "\n",
    "A parameterless constructor is a constructor that doesn't take any parameters (except for the self parameter, which refers to the instance of the class). It is also known as a default constructor because it doesn't require any arguments during object creation.\n",
    "Its main purpose is to provide a default state for the object's attributes or perform any setup that doesn't depend on external data.\n",
    "If you don't define a constructor in your class, Python will provide a default parameterless constructor with no explicit code.\n",
    "\n",
    "Parameterized Constructor:\n",
    "\n",
    "A parameterized constructor is a constructor that takes one or more parameters in addition to the self parameter. These parameters allow you to pass values to the constructor when creating an object.\n",
    "The main purpose of a parameterized constructor is to initialize object attributes with values provided during object creation. It allows for customization of the object's initial state."
   ]
  },
  {
   "cell_type": "markdown",
   "id": "c7d6c9aa-0649-43cf-ad33-94a6bc3857fe",
   "metadata": {},
   "source": [
    "#### 3. How do you define a constructor in a Python class? Provide an example.\n",
    "\n",
    "Ans. In Python, a constructor is defined using a special method called __init__. This method is automatically called when an object of the class is created. Here's how to define a constructor in a Python class with an example:\n",
    "\n",
    "Inside the class, we define the constructor __init__ with two parameters: self, which is a reference to the instance being created, and param1 and param2, which are used to initialize the object's attributes. \n",
    "\n",
    "When we create an object obj of the class MyClass using obj = MyClass(\"Value1\", \"Value2\"), the constructor __init__ is automatically called with self representing the newly created object, and param1 and param2 taking the values \"Value1\" and \"Value2,\" respectively.\n",
    "\n",
    "The constructor assigns these values to the object's attributes attribute1 and attribute2.\n",
    "\n",
    "The constructor can take any number of parameters as needed for initializing the object. It is a fundamental part of class definition and is used to set up the initial state of objects when they are created."
   ]
  },
  {
   "cell_type": "code",
   "execution_count": null,
   "id": "104c44f5-19ca-4073-82cd-be318607ef22",
   "metadata": {},
   "outputs": [],
   "source": [
    "class MyClass:\n",
    "    def __init__(self, param1, param2):\n",
    "        # This is the constructor\n",
    "        self.attribute1 = param1\n",
    "        self.attribute2 = param2\n",
    "\n",
    "# Creating an object of MyClass and passing values to the constructor\n",
    "obj = MyClass(\"Value1\", \"Value2\")\n",
    "\n",
    "# Accessing object attributes\n",
    "print(obj.attribute1)  # Output: Value1\n",
    "print(obj.attribute2)  # Output: Value2\n"
   ]
  },
  {
   "cell_type": "markdown",
   "id": "ec14dac1-2260-4586-9e1d-4e1ca9c4f8cb",
   "metadata": {},
   "source": [
    "#### 4. Explain the `__init__` method in Python and its role in constructors.\n",
    "\n",
    "Ans. The __init__ method in Python is a special method that plays a crucial role in defining constructors for classes. It is also known as the initializer method. The __init__ method is automatically called when an object of a class is created. Its primary purpose is to initialize the attributes or properties of the object.\n",
    "\n",
    "Here are the key points to understand about the __init__ method and its role in constructors:\n",
    "\n",
    "Initialization: The __init__ method is used to set up the initial state of an object. It is called with the self parameter, which is a reference to the instance of the class being created, and any additional parameters that you want to pass when creating the object.\n",
    "\n",
    "Constructor: The __init__ method serves as the constructor of a class. It defines how an object should be created and what data or parameters should be provided during object instantiation.\n",
    "\n",
    "Attributes Initialization: Inside the __init__ method, you can define the object's attributes and initialize them using the provided parameters. These attributes can represent the object's characteristics or properties.\n",
    "\n",
    "Customization: The __init__ method allows you to customize the initialization of objects based on the values you pass as arguments. This customization ensures that each object can have a different initial state.\n",
    "\n",
    "Automatic Invocation: You don't need to call the __init__ method explicitly when creating an object; Python handles it automatically. When you create an object of a class, the __init__ method is called with the object instance (i.e., self) and any additional arguments you provide.\n",
    "\n",
    "Here's an example illustrating the __init__ method and its role in a constructor:"
   ]
  },
  {
   "cell_type": "code",
   "execution_count": null,
   "id": "49fd2086-2425-4881-9902-3515e34b5296",
   "metadata": {},
   "outputs": [],
   "source": [
    "class Person:\n",
    "    def __init__(self, name, age):\n",
    "        self.name = name\n",
    "        self.age = age\n",
    "\n",
    "# Creating objects of the Person class and initializing attributes\n",
    "person1 = Person(\"Alice\", 30)\n",
    "person2 = Person(\"Bob\", 25)\n",
    "\n",
    "print(person1.name, person1.age)  # Output: Alice 30\n",
    "print(person2.name, person2.age)  # Output: Bob 25\n"
   ]
  },
  {
   "cell_type": "markdown",
   "id": "ccb654b7-8eab-4de8-b7fd-f56de07d2c3a",
   "metadata": {},
   "source": [
    "In this example, the __init__ method is defined to accept name and age parameters, and it initializes the name and age attributes of each Person object. When objects person1 and person2 are created, the __init__ method is automatically called to set the initial state of the objects."
   ]
  },
  {
   "cell_type": "markdown",
   "id": "e5b10969-6cce-42d9-9923-58e774c5ef55",
   "metadata": {},
   "source": [
    "#### 5. In a class named `Person`, create a constructor that initializes the `name` and `age` attributes. Provide an example of creating an object of this class."
   ]
  },
  {
   "cell_type": "code",
   "execution_count": 1,
   "id": "4fa8c0ab-6f92-4df5-a881-10056eb57327",
   "metadata": {},
   "outputs": [
    {
     "name": "stdout",
     "output_type": "stream",
     "text": [
      "Name Azad\n",
      "Age 30\n"
     ]
    }
   ],
   "source": [
    "class Person:\n",
    "    def __init__(self, name, age):\n",
    "        self.name = name\n",
    "        self.age = age\n",
    "        \n",
    "# Creating an object of the Person class and initializing attributes\n",
    "person1 = Person(\"Azad\", 30)\n",
    "\n",
    "# Accessing the attributes of the created object\n",
    "print(\"Name\", person1.name)\n",
    "print(\"Age\", person1.age)"
   ]
  },
  {
   "cell_type": "markdown",
   "id": "0196bb2d-0440-463e-806f-b043203b3171",
   "metadata": {},
   "source": [
    "#### 6. How can you call a constructor explicitly in Python? Give an example.\n",
    "\n",
    "Ans. In Python, you generally do not call constructors explicitly. Constructors are automatically invoked when you create an object of a class. However, if you want to call a constructor explicitly for a specific use case, you can do so using the class name, but this is not a common practice and should be used with caution."
   ]
  },
  {
   "cell_type": "markdown",
   "id": "fa090308-d11e-486a-b440-345af9e5775c",
   "metadata": {},
   "source": [
    "#### 7. What is the significance of the `self` parameter in Python constructors? Explain with an example.\n",
    "\n",
    "Ans. The self parameter in Python constructors (and methods) is a convention that represents the instance of the class. It allows you to refer to and manipulate the attributes and methods of the object being created. In other words, self refers to the current instance, which is automatically passed as the first parameter to methods and constructors, and it is a way to access and modify the attributes and behaviors of that instance.\n",
    "\n",
    "Here's an example to illustrate the significance of the self parameter in Python constructors:"
   ]
  },
  {
   "cell_type": "code",
   "execution_count": 3,
   "id": "be95ca92-58e8-4f13-898d-9bb6181d2eff",
   "metadata": {},
   "outputs": [
    {
     "name": "stdout",
     "output_type": "stream",
     "text": [
      "Hello, my name is Alice, and I am 30 years old.\n",
      "Hello, my name is Bob, and I am 25 years old.\n"
     ]
    }
   ],
   "source": [
    "class Person:\n",
    "    def __init__(self, name, age):\n",
    "        # Using self to initialize object attributes\n",
    "        self.name = name\n",
    "        self.age = age\n",
    "\n",
    "    def introduce(self):\n",
    "        # Using self to access object attributes and methods\n",
    "        print(f\"Hello, my name is {self.name}, and I am {self.age} years old.\")\n",
    "\n",
    "# Creating two objects of the Person class\n",
    "person1 = Person(\"Alice\", 30)\n",
    "person2 = Person(\"Bob\", 25)\n",
    "\n",
    "# Calling the introduce method for each person\n",
    "person1.introduce()  # Output: Hello, my name is Alice, and I am 30 years old.\n",
    "person2.introduce()  # Output: Hello, my name is Bob, and I am 25 years old."
   ]
  },
  {
   "cell_type": "markdown",
   "id": "cc3765cb-893f-4bcc-9ac4-46b1c40cffd4",
   "metadata": {},
   "source": [
    "#### 8. Discuss the concept of default constructors in Python. When are they used?\n",
    "\n",
    "Ans. In Python, default constructors, also known as parameterless constructors, are automatically created by Python when you don't define a constructor (the __init__ method) in your class. These default constructors do not accept any parameters other than the self parameter, and they don't perform any additional initialization. The main purpose of default constructors is to provide a basic constructor for classes when you haven't defined a custom constructor."
   ]
  },
  {
   "cell_type": "markdown",
   "id": "456b62f7-d2c2-45e3-a0c1-135957401f03",
   "metadata": {},
   "source": [
    "#### 9. Create a Python class called `Rectangle` with a constructor that initializes the `width` and `height`attributes. Provide a method to calculate the area of the rectangle."
   ]
  },
  {
   "cell_type": "code",
   "execution_count": 4,
   "id": "d0795172-7b2a-4021-abb6-b9d2ebefd7ac",
   "metadata": {},
   "outputs": [
    {
     "data": {
      "text/plain": [
       "'The area of the rectangle is 4'"
      ]
     },
     "execution_count": 4,
     "metadata": {},
     "output_type": "execute_result"
    }
   ],
   "source": [
    "class Rectangle:\n",
    "    def __init__(self, width, height):\n",
    "        self.width = width\n",
    "        self.height = height\n",
    "        \n",
    "    def area_of_rectangle(self):\n",
    "        area = (self.width * self.height)\n",
    "        return f\"The area of the rectangle is {area}\"\n",
    "    \n",
    "r1 = Rectangle(2,2)\n",
    "r1.area_of_rectangle()"
   ]
  },
  {
   "cell_type": "markdown",
   "id": "57427ddf-fa2a-4311-816f-0a3f9c45603e",
   "metadata": {},
   "source": [
    "#### 10. How can you have multiple constructors in a Python class? Explain with an example.\n",
    "\n",
    "Ans. In Python, you cannot have multiple constructors with different parameter lists like you can in some other programming languages. Python allows only one constructor, which is typically defined using the __init__ method. However, you can simulate multiple constructors by providing default values for some of the parameters in the constructor or by using optional arguments. This way, you can create objects with different sets of arguments while still using a single constructor.\n",
    "Here's an example demonstrating how you can achieve the effect of multiple constructors in a Python class:"
   ]
  },
  {
   "cell_type": "code",
   "execution_count": 5,
   "id": "8a4a01fd-d850-4b79-b0d3-8a79c3afed48",
   "metadata": {},
   "outputs": [
    {
     "name": "stdout",
     "output_type": "stream",
     "text": [
      "Rectangle 1 area: 1\n",
      "Rectangle 2 area: 50\n",
      "Rectangle 3 area: 6\n"
     ]
    }
   ],
   "source": [
    "class Rectangle:\n",
    "    def __init__(self, width=1, height=1):\n",
    "        self.width = width\n",
    "        self.height = height\n",
    "\n",
    "    def calculate_area(self):\n",
    "        area = self.width * self.height\n",
    "        return area\n",
    "\n",
    "# Creating objects with different sets of arguments\n",
    "rect1 = Rectangle()             # Default width and height (1x1)\n",
    "rect2 = Rectangle(5, 10)        # Custom width and height (5x10)\n",
    "rect3 = Rectangle(6)            # Custom width, default height (6x1)\n",
    "\n",
    "# Calculating and printing the areas\n",
    "area1 = rect1.calculate_area()\n",
    "area2 = rect2.calculate_area()\n",
    "area3 = rect3.calculate_area()\n",
    "\n",
    "print(f\"Rectangle 1 area: {area1}\")\n",
    "print(f\"Rectangle 2 area: {area2}\")\n",
    "print(f\"Rectangle 3 area: {area3}\")"
   ]
  },
  {
   "cell_type": "markdown",
   "id": "e5e40f4e-3a70-4741-b008-a7d5d6660fb4",
   "metadata": {},
   "source": [
    "In this example:\n",
    "\n",
    "The Rectangle class defines a single constructor __init__. It takes two parameters, width and height, with default values of 1. If no arguments are provided during object creation, the default values are used.\n",
    "\n",
    "We create three different Rectangle objects:\n",
    "\n",
    "rect1 with default width and height.\n",
    "rect2 with custom width (5) and height (10).\n",
    "rect3 with a custom width (6) and the default height (1).\n",
    "The calculate_area method is used to calculate the area for each rectangle.\n",
    "\n",
    "By providing default values and allowing some parameters to be optional, you can effectively achieve the concept of multiple constructors in Python. This approach makes the class more flexible and user-friendly by allowing objects to be created with different sets of arguments."
   ]
  },
  {
   "cell_type": "markdown",
   "id": "969edbe4-399b-4c73-9cf5-ac7c4150103f",
   "metadata": {},
   "source": [
    "#### 11. What is method overloading, and how is it related to constructors in Python?\n",
    "\n",
    "Ans. Method overloading is a concept in object-oriented programming where a class can have multiple methods with the same name but different parameter lists. The behavior of the method is determined by the number or type of parameters passed to it. In Python, method overloading is not directly supported as it is in some other languages like Java or C++. However, Python provides a flexible way to achieve similar functionality by using default arguments and variable-length argument lists.\n",
    "\n",
    "In Python, method overloading is typically related to constructors in classes. Constructors are special methods that initialize the attributes of an object when it is created. While you cannot have multiple constructors with different parameter lists like you can in some other languages, you can use method overloading techniques to create objects with different sets of attributes or to handle different initialization scenarios."
   ]
  },
  {
   "cell_type": "markdown",
   "id": "681d573f-248a-4d48-8d0e-618eb6c784b7",
   "metadata": {},
   "source": [
    "#### 12. Explain the use of the `super()` function in Python constructors. Provide an example.\n",
    "\n",
    "Ans. The super() function in Python is used to call a method from a parent or superclass within a subclass. In the context of constructors, it is commonly used to call the constructor of the parent class, allowing you to initialize the attributes and behavior defined in the parent class before adding any additional functionality in the subclass. This is especially useful in situations where you want to extend the behavior of a class while preserving the initialization logic of the superclass.\n",
    "\n",
    "Here's how super() can be used in Python constructors, along with an example:"
   ]
  },
  {
   "cell_type": "code",
   "execution_count": 11,
   "id": "79c207b7-affb-49d6-9e92-b75a9551c960",
   "metadata": {},
   "outputs": [
    {
     "name": "stdout",
     "output_type": "stream",
     "text": [
      "Name: Tafsir\n",
      "Age: 5\n"
     ]
    }
   ],
   "source": [
    "class Parent:\n",
    "    def __init__(self, name):\n",
    "        self.name = name\n",
    "\n",
    "    def display_name(self):\n",
    "        print(f\"Name: {self.name}\")\n",
    "\n",
    "class Child(Parent):\n",
    "    def __init__(self, name, age):\n",
    "        self.name = name  # Call the constructor of the Parent class\n",
    "        self.age = age\n",
    "\n",
    "    def display_age(self):\n",
    "        print(f\"Age: {self.age}\")\n",
    "\n",
    "# Creating an object of the Child class\n",
    "child = Child(\"Tafsir\", 5)\n",
    "\n",
    "# Accessing and displaying attributes and methods\n",
    "child.display_name()  # Output: Name: Alice\n",
    "child.display_age()   # Output: Age: 30\n"
   ]
  },
  {
   "cell_type": "markdown",
   "id": "db5c807a-65ec-4e03-a43e-d832de0f21e4",
   "metadata": {},
   "source": [
    "#### 13. Create a class called `Book` with a constructor that initializes the `title`, `author`, and `published_year` attributes. Provide a method to display book details."
   ]
  },
  {
   "cell_type": "code",
   "execution_count": 23,
   "id": "1c8c3d6a-15ba-45be-8cd4-e48c6db9c499",
   "metadata": {},
   "outputs": [
    {
     "name": "stdout",
     "output_type": "stream",
     "text": [
      "Title: Mujeeb, the father of a nation\n",
      "Author Name: Sheikh Hasina\n",
      "Published Year: 2022\n"
     ]
    }
   ],
   "source": [
    "class Book:\n",
    "    def __init__(self, title, author, published_year):\n",
    "        self.title = title\n",
    "        self.author = author\n",
    "        self.published_year = published_year\n",
    "        \n",
    "    def display_book_details(self):\n",
    "        print(f\"Title: {self.title}\")\n",
    "        print(f\"Author Name: {self.author}\")\n",
    "        print(f\"Published Year: {self.published_year}\")\n",
    "\n",
    "    \n",
    "book1 = Book(\"Mujeeb, the father of a nation\", \"Sheikh Hasina\", 2022)\n",
    "book1.display_book_details()"
   ]
  },
  {
   "cell_type": "markdown",
   "id": "005038d0-fd4f-42a6-b9ad-0b7a7f49d236",
   "metadata": {},
   "source": [
    "#### 14. Discuss the differences between constructors and regular methods in Python classes\n",
    "\n",
    "Ans. Constructors and regular methods in Python classes serve different purposes and have several key differences:\n",
    "\n",
    "Initialization:\n",
    "\n",
    "Constructors (e.g., __init__): Constructors are special methods used for initializing the attributes of an object when it is created. They are automatically called when an object is instantiated. Constructors set up the initial state of the object.\n",
    "\n",
    "Regular Methods: Regular methods perform various tasks and operations on objects, but they are not responsible for object initialization. They are called explicitly by the user and can be called multiple times after object creation.\n",
    "\n",
    "Naming:\n",
    "\n",
    "Constructors: Constructors are typically named __init__. While you can technically use any method name as a constructor, it's a convention to use __init__.\n",
    "\n",
    "Regular Methods: Regular methods can have any valid method name that adheres to Python's naming rules.\n",
    "\n",
    "Parameters:\n",
    "\n",
    "Constructors: Constructors often take parameters to initialize object attributes, but they always have at least one parameter, which is self (a reference to the instance).\n",
    "\n",
    "Regular Methods: Regular methods can take parameters, but they don't require the self parameter (although it's common) and may or may not take any other parameters as needed for their functionality.\n",
    "\n",
    "Callability:\n",
    "\n",
    "Constructors: Constructors are called automatically when an object is created. You don't need to call them explicitly.\n",
    "\n",
    "Regular Methods: Regular methods must be called explicitly using the object they belong to. They are not called automatically upon object creation.\n",
    "\n",
    "Return Values:\n",
    "\n",
    "Constructors: Constructors don't typically return values explicitly, but they initialize the object's attributes. They return None by default.\n",
    "\n",
    "Regular Methods: Regular methods can return values as needed. The return value can be specified using the return statement.\n",
    "\n",
    "Use Case:\n",
    "\n",
    "Constructors: Constructors are primarily used for setting up the initial state of an object. They are essential for object creation and initialization.\n",
    "\n",
    "Regular Methods: Regular methods are used to perform various tasks and operations on objects, such as manipulating attributes, performing calculations, and providing object-specific behaviors.\n",
    "\n",
    "In summary, constructors are special methods for object initialization and are automatically called when an object is created, whereas regular methods are used for other tasks and are called explicitly by the user. Both have their specific roles within classes and serve different purposes."
   ]
  },
  {
   "cell_type": "markdown",
   "id": "2b0467e6-0e4a-4793-a318-27d6f418e874",
   "metadata": {},
   "source": [
    "#### 15. Explain the role of the `self` parameter in instance variable initialization within a constructor.\n",
    "\n",
    "Ans. The self parameter in Python plays a crucial role in instance variable initialization within a constructor. It is a convention in Python to use self as the first parameter in instance methods, including constructors (the __init__ method). Here's the role of the self parameter in instance variable initialization:\n",
    "\n",
    "Instance Reference:\n",
    "\n",
    "The self parameter is a reference to the instance of the class that is being created. It allows you to access and manipulate the attributes and methods specific to that instance.\n",
    "Attribute Initialization:\n",
    "\n",
    "Inside the constructor (__init__), you can use self to initialize the object's attributes. By using self, you indicate that you want to set attributes for the current instance.\n",
    "Instance Specificity:\n",
    "\n",
    "Without self, you would not know which instance you are initializing. The self parameter distinguishes the current instance from other instances of the same class."
   ]
  },
  {
   "cell_type": "markdown",
   "id": "b6dfd947-7bfd-4ea6-9fdb-185cf6feeef2",
   "metadata": {},
   "source": [
    "#### 16. How do you prevent a class from having multiple instances by using constructors in Python? Provide an example.\n",
    "\n",
    "Ans. In Python, it is not common to prevent a class from having multiple instances using constructors, as classes are designed to be used to create multiple objects. However, if you want to enforce a limitation on the number of instances a class can have, you can use the Singleton design pattern. The Singleton pattern ensures that a class has only one instance, regardless of how many times it is instantiated.\n",
    "\n",
    "Here's an example of implementing the Singleton pattern in Python to prevent a class from having multiple instances:"
   ]
  },
  {
   "cell_type": "code",
   "execution_count": 24,
   "id": "da898c0c-8bca-4bdc-9fd8-2fc28a783780",
   "metadata": {},
   "outputs": [
    {
     "name": "stdout",
     "output_type": "stream",
     "text": [
      "True\n"
     ]
    }
   ],
   "source": [
    "class SingletonClass:\n",
    "    _instance = None  # Private class attribute to store the instance\n",
    "\n",
    "    def __new__(cls):\n",
    "        if cls._instance is None:\n",
    "            cls._instance = super(SingletonClass, cls).__new__(cls)\n",
    "        return cls._instance\n",
    "\n",
    "# Creating instances of the SingletonClass\n",
    "instance1 = SingletonClass()\n",
    "instance2 = SingletonClass()\n",
    "\n",
    "print(instance1 is instance2)  # Output: True, both variables refer to the same instance\n"
   ]
  },
  {
   "cell_type": "markdown",
   "id": "f5dbc40b-23ce-4ee1-9994-ba786676f92c",
   "metadata": {},
   "source": [
    "In this example:\n",
    "\n",
    "The SingletonClass uses the __new__ method to control the creation of instances. It checks if _instance is None, and if so, it creates a new instance of the class. If an instance already exists, it returns the existing instance.\n",
    "\n",
    "When we create instance1 and instance2, they both refer to the same instance of SingletonClass, as indicated by the print statement.\n",
    "\n",
    "Using the Singleton pattern in this way ensures that the class has only one instance, preventing multiple instances from being created. However, it's important to note that Singleton is not commonly used in Python, and you should consider its implications and whether it's the best solution for your specific use case. Most classes in Python are designed to be instantiated multiple times to create different objects."
   ]
  },
  {
   "cell_type": "markdown",
   "id": "aceff432-a157-4f2d-962d-c94c9acfa5a6",
   "metadata": {},
   "source": [
    "#### 17. Create a Python class called `Student` with a constructor that takes a list of subjects as a parameter and initializes the `subjects` attribute."
   ]
  },
  {
   "cell_type": "code",
   "execution_count": 25,
   "id": "995014d6-7373-4769-a197-8cac4fe6c02a",
   "metadata": {},
   "outputs": [
    {
     "name": "stdout",
     "output_type": "stream",
     "text": [
      "Student's Subjects: ['Math', 'Science', 'History', 'English']\n"
     ]
    }
   ],
   "source": [
    "class Student:\n",
    "    def __init__(self, subjects):\n",
    "        self.subjects = subjects\n",
    "\n",
    "# Creating an object of the Student class and initializing the subjects attribute\n",
    "student1 = Student([\"Math\", \"Science\", \"History\", \"English\"])\n",
    "\n",
    "# Accessing and printing the subjects attribute\n",
    "print(\"Student's Subjects:\", student1.subjects)"
   ]
  },
  {
   "cell_type": "markdown",
   "id": "e2c49436-2c1b-453d-a7b5-3ef935d2d460",
   "metadata": {},
   "source": [
    "#### 18. What is the purpose of the `__del__` method in Python classes, and how does it relate to constructors?\n",
    "\n",
    "Ans. The __del__ method in Python is a special method used for object destruction and cleanup. It is the counterpart to the constructor (__init__) and is called when an object is about to be destroyed or deallocated. The primary purpose of the __del__ method is to perform any cleanup or resource release tasks before an object is removed from memory.\n",
    "\n",
    "Here's a brief overview of the purpose and relationship of the __del__ method to constructors:\n",
    "\n",
    "Purpose of __del__:\n",
    "\n",
    "The __del__ method is used for performing cleanup actions such as releasing resources like file handles, network connections, or other external resources held by the object.\n",
    "It can be used to ensure that the object is properly closed or cleaned up before it is deleted from memory.\n",
    "The __del__ method is useful when you want to manage resources that are not automatically handled by Python's garbage collection mechanism, like closing files, sockets, or database connections.\n",
    "Relationship to Constructors (__init__):\n",
    "\n",
    "While the constructor (__init__) is responsible for initializing the object's attributes and preparing it for use, the __del__ method is responsible for cleaning up and releasing resources when the object is no longer needed.\n",
    "Constructors set up the initial state of the object, and the __del__ method helps ensure that the object's final state is correctly managed before it is removed from memory.\n",
    "Here's an example illustrating the use of the __del__ method for resource cleanup:"
   ]
  },
  {
   "cell_type": "code",
   "execution_count": 26,
   "id": "2ee06b21-b7e5-4a3a-8e3f-aba11c006b6e",
   "metadata": {},
   "outputs": [],
   "source": [
    "class FileHandler:\n",
    "    def __init__(self, filename):\n",
    "        self.filename = filename\n",
    "        self.file = open(filename, \"w\")\n",
    "\n",
    "    def write_to_file(self, data):\n",
    "        self.file.write(data)\n",
    "\n",
    "    def __del__(self):\n",
    "        # Clean up and close the file when the object is about to be destroyed\n",
    "        self.file.close()\n",
    "        print(f\"File '{self.filename}' has been closed.\")\n",
    "\n",
    "# Creating a FileHandler object and using it\n",
    "file_handler = FileHandler(\"example.txt\")\n",
    "file_handler.write_to_file(\"Hello, World!\")\n",
    "\n",
    "# The object is about to be destroyed, and the __del__ method is called for cleanup"
   ]
  },
  {
   "cell_type": "markdown",
   "id": "45fe8c62-1496-471f-93a7-ca4fcd5aff60",
   "metadata": {},
   "source": [
    "In this example, the FileHandler class opens a file in the constructor (__init__) and writes to it. The __del__ method is used to close the file and print a message when the object is about to be destroyed.\n",
    "\n",
    "It's important to note that relying solely on the __del__ method for resource cleanup is not recommended, as it depends on the timing of the object's destruction, which may not always be predictable. For better resource management, it's often more reliable to use context managers (the with statement) for resources like files or network connections."
   ]
  },
  {
   "cell_type": "markdown",
   "id": "64d8b54e-05a3-43f7-84e8-234fad3c078c",
   "metadata": {},
   "source": [
    "#### 19. Explain the use of constructor chaining in Python. Provide a practical example.\n",
    "\n",
    "Ans. Constructor chaining in Python, also known as constructor delegation or calling one constructor from another, is the process of calling one constructor from another within the same class hierarchy. This allows you to reuse the initialization logic of one constructor in another constructor of the same class or in a subclass. Constructor chaining is often used to avoid code duplication and ensure that common initialization logic is executed consistently.\n",
    "\n",
    "Here's an example to illustrate the use of constructor chaining:"
   ]
  },
  {
   "cell_type": "markdown",
   "id": "770875ba-c58c-4aec-afd2-2fadd4a59e10",
   "metadata": {},
   "source": [
    "#### 20. Create a Python class called `Car` with a default constructor that initializes the `make` and `model`attributes. Provide a method to display car information."
   ]
  },
  {
   "cell_type": "code",
   "execution_count": 27,
   "id": "388e093f-25f4-4ac6-9a54-578760cd768b",
   "metadata": {},
   "outputs": [
    {
     "name": "stdout",
     "output_type": "stream",
     "text": [
      "The car maker: The bajaj group\n",
      "The car model: BMW\n",
      "The car maker: Elon Musk\n",
      "The car model: Tesla\n"
     ]
    }
   ],
   "source": [
    "class Car:\n",
    "    def __init__(self, make, model):\n",
    "        self.make = make\n",
    "        self.model = model\n",
    "        \n",
    "    def display_car_information(self):\n",
    "        print(f\"The car maker: {self.make}\")\n",
    "        print(f\"The car model: {self.model}\")\n",
    "        \n",
    "c1 = Car(\"The bajaj group\", \"BMW\")\n",
    "c2 = Car(\"Elon Musk\", \"Tesla\")\n",
    "\n",
    "\n",
    "c1.display_car_information()\n",
    "c2.display_car_information()"
   ]
  },
  {
   "cell_type": "markdown",
   "id": "419a0161-9578-4b72-a6ad-3bd006a23b05",
   "metadata": {},
   "source": [
    "## Inheritance"
   ]
  },
  {
   "cell_type": "markdown",
   "id": "59a71cbf-1f6c-4d83-a516-0b72249ae069",
   "metadata": {},
   "source": [
    "#### 1. What is inheritance in Python? Explain its significance in object-oriented programming.\n",
    "\n",
    "Ans. \n",
    "\n",
    "Inheritance is a fundamental concept in object-oriented programming (OOP) that allows one class to inherit the properties and behaviors (attributes and methods) of another class. In Python, and many other object-oriented languages, inheritance is used to create new classes based on existing classes, forming a hierarchy of classes. The class that is being inherited from is called the \"base class\" or \"parent class,\" and the class that inherits from it is called the \"derived class\" or \"child class.\"\n",
    "\n",
    "Here are the key points that explain the significance of inheritance in object-oriented programming:\n",
    "\n",
    "Code Reusability: Inheritance promotes code reuse by allowing you to create new classes that inherit the attributes and methods of existing classes. This means you don't have to write the same code repeatedly, and you can build on existing functionality.\n",
    "\n",
    "Hierarchical Structure: Inheritance creates a hierarchical structure of classes. Derived classes inherit the attributes and methods of their parent classes. This hierarchical structure is useful for modeling real-world relationships and organizing code.\n",
    "\n",
    "Extensibility: Derived classes can extend or modify the behavior of the parent class. This is done by adding new attributes or methods, or by overriding (redefining) methods inherited from the parent class. This allows for specialization and customization.\n",
    "\n",
    "Polymorphism: Inheritance is closely related to polymorphism, another core OOP concept. Polymorphism allows objects of the derived class to be treated as objects of the base class, which facilitates the use of common interfaces and allows for flexibility in method invocation.\n",
    "\n",
    "Structuring Code: Inheritance helps in structuring code. You can create a base class with common attributes and methods, and then create derived classes for specific types or variations. This promotes a modular and organized approach to software design.\n",
    "\n",
    "Multiple Inheritance: Python supports multiple inheritance, allowing a class to inherit from multiple parent classes. This feature can be powerful, but it should be used carefully to avoid complications and ambiguities.\n",
    "\n",
    "Here's a simple example to illustrate inheritance in Python:"
   ]
  },
  {
   "cell_type": "code",
   "execution_count": 31,
   "id": "f9a55877-aceb-49d6-914b-843bdfdd087d",
   "metadata": {},
   "outputs": [
    {
     "name": "stdout",
     "output_type": "stream",
     "text": [
      "Buddy barks\n",
      "Whiskers meows\n"
     ]
    }
   ],
   "source": [
    "class Animal:\n",
    "    def __init__(self, name):\n",
    "        self.name = name\n",
    "\n",
    "    def speak(self):\n",
    "        pass  # The base class doesn't define a specific speak method\n",
    "\n",
    "class Dog(Animal):\n",
    "    def speak(self):\n",
    "        return f\"{self.name} barks\"\n",
    "\n",
    "class Cat(Animal):\n",
    "    def speak(self):\n",
    "        return f\"{self.name} meows\"\n",
    "\n",
    "# Creating objects of derived classes\n",
    "dog = Dog(\"Buddy\")\n",
    "cat = Cat(\"Whiskers\")\n",
    "\n",
    "# Using inherited methods\n",
    "print(dog.speak())  # Output: Buddy barks\n",
    "print(cat.speak())  # Output: Whiskers meows\n"
   ]
  },
  {
   "cell_type": "markdown",
   "id": "909e7e3f-0369-4b60-b94f-bc57c289c41e",
   "metadata": {},
   "source": [
    "#### 2. Differentiate between single inheritance and multiple inheritance in Python. Provide examples for each.\n",
    "\n",
    "Ans. In Python, inheritance can take two main forms: single inheritance and multiple inheritance. Let's differentiate between them and provide examples for each:\n",
    "\n",
    "Single Inheritance:\n",
    "\n",
    "Definition: Single inheritance is a form of inheritance in which a class inherits from only one base or parent class.\n",
    "\n",
    "Example:"
   ]
  },
  {
   "cell_type": "code",
   "execution_count": 32,
   "id": "b06aaf8f-83b7-441f-ad6c-09ae5bcbfa67",
   "metadata": {},
   "outputs": [],
   "source": [
    "class Animal:\n",
    "    def speak(self):\n",
    "        pass\n",
    "\n",
    "class Dog(Animal):\n",
    "    def speak(self):\n",
    "        return \"Woof!\"\n",
    "\n",
    "class Cat(Animal):\n",
    "    def speak(self):\n",
    "        return \"Meow!\""
   ]
  },
  {
   "cell_type": "markdown",
   "id": "256056f1-1a49-47bf-a11c-a22b5b10059f",
   "metadata": {},
   "source": [
    "In this example, the Dog and Cat classes inherit from a single base class, Animal."
   ]
  },
  {
   "cell_type": "markdown",
   "id": "b0f74e67-2d38-4b14-881d-dd30cd6fd8b2",
   "metadata": {},
   "source": [
    "Multiple Inheritance:\n",
    "\n",
    "Definition: Multiple inheritance is a form of inheritance in which a class inherits from more than one base or parent class. It allows a class to inherit attributes and methods from multiple parent classes. \n",
    "\n",
    "Example:"
   ]
  },
  {
   "cell_type": "code",
   "execution_count": 33,
   "id": "b3394409-20e4-4077-9a7a-72d1acd16abb",
   "metadata": {},
   "outputs": [],
   "source": [
    "class A:\n",
    "    def method_a(self):\n",
    "        return \"Method A\"\n",
    "\n",
    "class B:\n",
    "    def method_b(self):\n",
    "        return \"Method B\"\n",
    "\n",
    "class C(A, B):\n",
    "    def method_c(self):\n",
    "        return \"Method C\""
   ]
  },
  {
   "cell_type": "markdown",
   "id": "3a6a1e02-4ad4-421d-a7a3-54a685560301",
   "metadata": {},
   "source": [
    "In this example, the C class inherits from both classes A and B.\n",
    "\n",
    "Key Differences:\n",
    "\n",
    "Single Inheritance:\n",
    "\n",
    "A class can inherit from only one parent class.\n",
    "Simpler and more straightforward than multiple inheritance.\n",
    "Easier to understand and manage in most cases.\n",
    "Multiple Inheritance:\n",
    "\n",
    "A class can inherit from more than one parent class.\n",
    "Can lead to complex class hierarchies and potential naming conflicts.\n",
    "Provides greater flexibility for reusing and combining code but requires careful design.\n",
    "When using multiple inheritance, it's important to be cautious and plan the class hierarchy carefully to avoid ambiguities and naming conflicts. Python provides a method resolution order (MRO) mechanism to determine the order in which parent classes are searched for attributes and methods. This order is determined by the C3 Linearization algorithm.\n",
    "\n",
    "In Python, both single and multiple inheritance can be powerful tools for code organization and reuse, but they should be used judiciously to maintain code readability and clarity."
   ]
  },
  {
   "cell_type": "markdown",
   "id": "b84832a5-344e-48f9-b35f-249b7408a42b",
   "metadata": {},
   "source": [
    "#### 3. Create a Python class called `Vehicle` with attributes `color` and `speed`. Then, create a child class called `Car` that inherits from `Vehicle` and adds a `brand` attribute. Provide an example of creating a `Car` object."
   ]
  },
  {
   "cell_type": "code",
   "execution_count": 41,
   "id": "aa6f4945-82d6-409b-aa35-21c4ae862bd8",
   "metadata": {},
   "outputs": [
    {
     "name": "stdout",
     "output_type": "stream",
     "text": [
      "Color: Red\n",
      "Speed: 120\n",
      "Brand: Toyota\n"
     ]
    }
   ],
   "source": [
    "class Vehicle:\n",
    "    def __init__(self, color, speed):\n",
    "        self.color = color\n",
    "        self.speed = speed\n",
    "\n",
    "class Car(Vehicle):\n",
    "    def __init__(self, color, speed, brand):\n",
    "        super().__init__(color, speed)\n",
    "        self.brand = brand\n",
    "\n",
    "# Creating a Car object\n",
    "my_car = Car(\"Red\", 120, \"Toyota\")\n",
    "\n",
    "# Accessing attributes of the Car object\n",
    "print(\"Color:\", my_car.color)\n",
    "print(\"Speed:\", my_car.speed)\n",
    "print(\"Brand:\", my_car.brand)"
   ]
  },
  {
   "cell_type": "markdown",
   "id": "bb86e1ce-8be3-4001-a0cb-c6bb052f8972",
   "metadata": {},
   "source": [
    "#### 4. Explain the concept of method overriding in inheritance. Provide a practical example.\n",
    "\n",
    "Ans. Method overriding is a fundamental concept in object-oriented programming (OOP) that allows a subclass to provide a specific implementation for a method that is already defined in its parent class. When a subclass overrides a method, it replaces the parent class's implementation with its own implementation, which is tailored to the specific needs of the subclass. This enables polymorphism, where objects of different classes can be treated uniformly, and the appropriate method implementation is called based on the object's actual class.\n",
    "\n",
    "Here's a practical example of method overriding in Python:"
   ]
  },
  {
   "cell_type": "code",
   "execution_count": 43,
   "id": "4d07c08f-a3ab-49b8-bb4a-4d8a78248180",
   "metadata": {},
   "outputs": [
    {
     "name": "stdout",
     "output_type": "stream",
     "text": [
      "Dog barks\n",
      "Cat meows\n"
     ]
    }
   ],
   "source": [
    "class Animal:\n",
    "    def speak(self):\n",
    "        return \"Animal makes a sound\"\n",
    "\n",
    "class Dog(Animal):\n",
    "    def speak(self):\n",
    "        return \"Dog barks\"\n",
    "\n",
    "class Cat(Animal):\n",
    "    def speak(self):\n",
    "        return \"Cat meows\"\n",
    "\n",
    "# Create instances of the derived classes\n",
    "dog = Dog()\n",
    "cat = Cat()\n",
    "\n",
    "# Call the speak method on instances\n",
    "print(dog.speak())  # Output: \"Dog barks\"\n",
    "print(cat.speak())  # Output: \"Cat meows\""
   ]
  },
  {
   "cell_type": "markdown",
   "id": "a68e7b79-6b16-412f-b4e8-bb6cbfdc5ac7",
   "metadata": {},
   "source": [
    "#### 5. How can you access the methods and attributes of a parent class from a child class in Python? Give an example.\n",
    "\n",
    "Ans. In Python, we can access the methods and attributes of a parent class from a child class by using the super() function or by directly referencing the parent class. The super() function is a more flexible and recommended way to access the parent class's methods and attributes. Here's an example demonstrating both methods:"
   ]
  },
  {
   "cell_type": "code",
   "execution_count": 5,
   "id": "bd2985c5-4531-4008-a310-c04521e70f89",
   "metadata": {},
   "outputs": [
    {
     "name": "stdout",
     "output_type": "stream",
     "text": [
      "Child attributes: Child Attribute\n",
      "Parent attribute Parent Attribute\n",
      "Child method result: Child method called. Child attribute: Child Attribute\n",
      "Parent method result Parent method called. Parent attribute: Parent Attribute\n",
      "Combined method result: Combined method. Parent method called. Parent attribute: Parent Attribute, Child method called. Child attribute: Child Attribute\n"
     ]
    }
   ],
   "source": [
    "class Parent:\n",
    "    def __init__(self, parent_attr):\n",
    "        self.parent_attr = parent_attr\n",
    "        \n",
    "    def parent_method(self):\n",
    "        return f\"Parent method called. Parent attribute: {self.parent_attr}\"\n",
    "    \n",
    "class Child(Parent):\n",
    "    def __init__(self, parent_attr, child_attr):\n",
    "        super().__init__(parent_attr)  # Access parent class constructor using super()\n",
    "        self.child_attr = child_attr\n",
    "        \n",
    "    def child_method(self):\n",
    "        return f\"Child method called. Child attribute: {self.child_attr}\"\n",
    "    \n",
    "    def combined_method(self):\n",
    "        parent_result = super().parent_method()  ## Accessing parent method using super()\n",
    "        return f\"Combined method. {parent_result}, {self.child_method()}\"\n",
    "    \n",
    "# Creating an instance of the Child class\n",
    "child_instance = Child(\"Parent Attribute\", \"Child Attribute\")\n",
    "\n",
    "# Accessing and printing parent and child attributes and methods\n",
    "print(\"Child attributes:\", child_instance.child_attr)\n",
    "print(\"Parent attribute\", child_instance.parent_attr)\n",
    "\n",
    "print(\"Child method result:\", child_instance.child_method())\n",
    "print(\"Parent method result\", child_instance.parent_method())\n",
    "\n",
    "\n",
    "print(\"Combined method result:\", child_instance.combined_method())"
   ]
  },
  {
   "cell_type": "markdown",
   "id": "90ef2ded-df89-4d3b-b92a-1d287ea8424d",
   "metadata": {},
   "source": [
    "In this example:\n",
    "\n",
    "The Parent class defines a constructor that initializes a parent_attr attribute and a parent_method. The parent_method returns a string that includes the parent_attr value.\n",
    "\n",
    "The Child class is a subclass of Parent. In its constructor, it accesses the parent class constructor using super() to initialize the parent_attr attribute.\n",
    "\n",
    "The Child class introduces its own attribute, child_attr, and a child_method.\n",
    "\n",
    "The combined_method in the Child class uses super() to access the parent_method and then combines the results of the parent and child methods.\n",
    "\n",
    "We create an instance of the Child class, and we access and print both parent and child attributes and methods, including the combined method.\n",
    "\n",
    "By using super() and direct referencing, you can effectively access the methods and attributes of the parent class from the child class, which is especially useful for extending or customizing the behavior of the parent class in a child class."
   ]
  },
  {
   "cell_type": "markdown",
   "id": "d03dfa88-6759-4d43-84a4-6cf1f25513ac",
   "metadata": {},
   "source": [
    "#### 6. Discuss the use of the `super()` function in Python inheritance. When and why is it used? Provide an example.\n",
    "\n",
    "Ans."
   ]
  },
  {
   "cell_type": "markdown",
   "id": "58e8887b-adc6-44b1-9e04-c7f8ef7189cf",
   "metadata": {},
   "source": [
    "The super() function in Python is used in the context of inheritance to access and call methods or attributes from a parent class in a subclass. It is particularly useful when a subclass wants to extend or customize the behavior of a method defined in the parent class, rather than completely overriding it. The super() function helps maintain the integrity of the class hierarchy and supports method overriding while allowing the parent class's method to be called as well.\n",
    "\n",
    "The primary use cases for the super() function are:\n",
    "\n",
    "Initializing Parent Class: It is commonly used in the constructor (__init__) of a subclass to ensure that the initialization logic of the parent class is executed before custom initialization logic for the subclass.\n",
    "\n",
    "Method Overriding: When a method in the parent class is overridden in the subclass, super() is used to call the parent class's method within the overridden method, allowing you to extend or modify the behavior rather than replacing it entirely.\n",
    "\n",
    "Here's an example that demonstrates the use of super() for both constructor and method overriding:"
   ]
  },
  {
   "cell_type": "code",
   "execution_count": 4,
   "id": "5dde9652-2b7d-423c-b021-c1e55a42a1ff",
   "metadata": {},
   "outputs": [
    {
     "name": "stdout",
     "output_type": "stream",
     "text": [
      "Name: Alice\n",
      "Age: 10\n",
      "Child's Greeting: Hello, I'm Alice (from Parent) and I'm 10 years old (from Child)\n"
     ]
    }
   ],
   "source": [
    "class Parent:\n",
    "    def __init__(self, name):\n",
    "        self.name = name\n",
    "        \n",
    "    def say_hello(self):\n",
    "        return f\"Hello, I'm {self.name} (from Parent)\"\n",
    "    \n",
    "class Child(Parent):\n",
    "    def __init__(self, name, age):\n",
    "        super().__init__(name)   # Initializing the parent class in the constructor\n",
    "        self.age = age\n",
    "        \n",
    "    def say_hello(self):\n",
    "        parent_message = super().say_hello()  # Calling the parent class method\n",
    "        return f\"{parent_message} and I'm {self.age} years old (from Child)\"\n",
    "    \n",
    "# Create an instance of the Child class\n",
    "child_instance = Child(\"Alice\", 10)\n",
    "\n",
    "# Access and print attributes and methods\n",
    "print(\"Name:\", child_instance.name)\n",
    "print(\"Age:\", child_instance.age)\n",
    "print(\"Child's Greeting:\", child_instance.say_hello())"
   ]
  },
  {
   "cell_type": "markdown",
   "id": "04f92a4a-97ce-45dc-9de8-4a4e5487c05c",
   "metadata": {},
   "source": [
    "In this example:\n",
    "\n",
    "The Parent class has a constructor that takes a name attribute and a say_hello method.\n",
    "\n",
    "The Child class is a subclass of Parent. In its constructor, super() is used to initialize the name attribute from the parent class. It also introduces its own attribute, age.\n",
    "\n",
    "The Child class overrides the say_hello method but uses super() to call the say_hello method of the parent class. This allows it to extend the greeting message.\n",
    "\n",
    "We create an instance of the Child class and demonstrate how the constructor and method overriding work.\n",
    "\n",
    "The super() function helps maintain code consistency and ensures that the parent class's logic is executed when extending or customizing behavior in a subclass. It is a crucial tool for managing class hierarchies and promoting code reusability in object-oriented programming."
   ]
  },
  {
   "cell_type": "markdown",
   "id": "e924ab2b-7938-49ae-bdfb-d0345a02260f",
   "metadata": {},
   "source": [
    "#### 7. Create a Python class called `Animal` with a method `speak()`. Then, create child classes `Dog` and `Cat` that inherit from `Animal` and override the `speak()` method. Provide an example of using these classes."
   ]
  },
  {
   "cell_type": "code",
   "execution_count": 7,
   "id": "189e0ff1-8597-474b-b83d-be19c19e41fb",
   "metadata": {},
   "outputs": [
    {
     "name": "stdout",
     "output_type": "stream",
     "text": [
      "Dog barks\n",
      "Cat meows\n"
     ]
    }
   ],
   "source": [
    "class Animal:\n",
    "    def speak(self):\n",
    "        return \"Animal makes a sound\"\n",
    "    \n",
    "class Dog(Animal):\n",
    "    def speak(self):\n",
    "        return f\"Dog barks\"\n",
    "    \n",
    "    \n",
    "class Cat(Animal):\n",
    "    def speak(sef):\n",
    "        return f\"Cat meows\"\n",
    "\n",
    "\n",
    "dog = Dog()\n",
    "cat = Cat()\n",
    "\n",
    "print(dog.speak())\n",
    "print(cat.speak())"
   ]
  },
  {
   "cell_type": "markdown",
   "id": "b1601b82-8010-4855-bb4a-e8ed2fa55c1c",
   "metadata": {},
   "source": [
    "#### 8. Explain the role of the `isinstance()` function in Python and how it relates to inheritance.\n",
    "\n",
    "Ans. The isinstance() function in Python is used to check whether an object belongs to a specific class or a class derived from it (i.e., whether an object is an instance of a given class or a subclass). It is a built-in function that plays a significant role in inheritance and polymorphism. The isinstance() function is primarily used to test the type or class of an object, making it useful for branching logic based on object types in a more dynamic and flexible way.\n",
    "\n",
    "The primary roles and applications of the isinstance() function in relation to inheritance are as follows:\n",
    "\n",
    "Checking Object Type:\n",
    "\n",
    "The isinstance() function allows you to determine the class or type of an object, making it a valuable tool for type checking in dynamic languages like Python. This can be helpful in cases where you need to handle objects of different types differently.\n",
    "Polymorphism:\n",
    "\n",
    "It is a fundamental component of polymorphism, where objects of different classes can be treated uniformly. By using isinstance(), you can decide how to handle objects based on their specific types and class hierarchies.\n",
    "Inheritance and Subclass Detection:\n",
    "\n",
    "isinstance() is particularly useful for detecting if an object is an instance of a specific class or one of its subclasses. This is essential for designing class hierarchies and allowing for flexibility and extension in object-oriented programming.\n",
    "Here's a practical example illustrating the use of isinstance() in the context of inheritance:"
   ]
  },
  {
   "cell_type": "code",
   "execution_count": 9,
   "id": "de5c223d-08b9-4e43-9ae6-1f90dc712495",
   "metadata": {},
   "outputs": [
    {
     "name": "stdout",
     "output_type": "stream",
     "text": [
      "True\n",
      "True\n"
     ]
    }
   ],
   "source": [
    "class Shape:\n",
    "    def area(self):\n",
    "        pass\n",
    "    \n",
    "class Circle(Shape):\n",
    "    def area(self, radius):\n",
    "        return 3.1416 * radius * radius\n",
    "    \n",
    "class Rectangle(Shape):\n",
    "    def area(self, length, width):\n",
    "        return length * width\n",
    "    \n",
    "# Creating instances of the derived classes\n",
    "circle = Circle()\n",
    "rectangle = Rectangle()\n",
    "\n",
    "# Checking if instances belong to specific classes\n",
    "print(isinstance(circle, Shape))  # Output: True (Circle is an instance of Shape)\n",
    "print(isinstance(rectangle, Shape))  # Output: True (Rectangle is an instance of Shape)"
   ]
  },
  {
   "cell_type": "markdown",
   "id": "40d61a91-6c99-43de-afb3-6ec3548f1ea7",
   "metadata": {},
   "source": [
    "In this example:\n",
    "\n",
    "We have a base class Shape and two subclasses, Circle and Rectangle.\n",
    "\n",
    "We create instances of Circle and Rectangle and use isinstance() to check if they are instances of the Shape class or one of its subclasses.\n",
    "\n",
    "Both circle and rectangle are instances of the Shape class, and isinstance() returns True for both checks.\n",
    "\n",
    "The isinstance() function helps you work with object types in a flexible and polymorphic way, making it a valuable tool for managing inheritance and designing class hierarchies."
   ]
  },
  {
   "cell_type": "markdown",
   "id": "cd1523d5-dcb4-45ea-a75d-6fbf94b36cc6",
   "metadata": {},
   "source": [
    "#### 9. What is the purpose of the `issubclass()` function in Python? Provide an example."
   ]
  },
  {
   "cell_type": "markdown",
   "id": "79d14b13-ddcd-429d-99ae-dcfe18b57519",
   "metadata": {},
   "source": [
    "Ans. The issubclass() function in Python is used to check whether a given class is a subclass of a specified class or a subclass of any of the specified classes. It helps determine the inheritance relationship between classes. The primary purpose of issubclass() is to check class hierarchy and confirm whether a class is derived from another class.\n",
    "\n",
    "The function issubclass(class, classinfo) takes two arguments:\n",
    "\n",
    "class: The class to be checked.\n",
    "classinfo: A class, a tuple of classes, or a class (or tuple of classes) that the first argument is checked against.\n",
    "The function returns True if the first argument is a subclass of the class or classes specified in the second argument. Otherwise, it returns False.\n",
    "\n",
    "Here's an example demonstrating the use of issubclass():"
   ]
  },
  {
   "cell_type": "code",
   "execution_count": 10,
   "id": "8665e623-5997-4513-a20f-f7923ccb327c",
   "metadata": {},
   "outputs": [
    {
     "name": "stdout",
     "output_type": "stream",
     "text": [
      "Is Circle a subclass of Shape? True\n",
      "Is Rectangle a subclass of Shape? True\n"
     ]
    }
   ],
   "source": [
    "class Shape:\n",
    "    pass\n",
    "\n",
    "class Circle(Shape):\n",
    "    pass\n",
    "\n",
    "class Rectangle(Shape):\n",
    "    pass\n",
    "\n",
    "# Check if Circle is a subclass of Shape\n",
    "is_circle_subclass = issubclass(Circle, Shape)\n",
    "print(\"Is Circle a subclass of Shape?\", is_circle_subclass)  # Output: True\n",
    "\n",
    "# Check if Rectangle is a subclass of Shape\n",
    "is_rectangle_subclass = issubclass(Rectangle, Shape)\n",
    "print(\"Is Rectangle a subclass of Shape?\", is_rectangle_subclass)  # Output: True"
   ]
  },
  {
   "cell_type": "markdown",
   "id": "f0400fda-f30b-4de0-94e4-4ea12ec90e5a",
   "metadata": {},
   "source": [
    "#### 10. Discuss the concept of constructor inheritance in Python. How are constructors inherited in child classes?"
   ]
  },
  {
   "cell_type": "markdown",
   "id": "8ed6ca5d-7f83-4c66-80a9-b30f03a221d6",
   "metadata": {},
   "source": [
    "Ans. In Python, constructors are inherited in child classes, just like other methods and attributes, through the process of inheritance. When a child class is derived from a parent class, it inherits not only the methods and attributes but also the constructor of the parent class. This means that the child class can use the constructor of the parent class to initialize its own attributes and perform any necessary setup.\n",
    "\n",
    "Here are some key points to understand about constructor inheritance in Python:\n",
    "\n",
    "Inheritance of Constructors: When a child class is created, it inherits the constructor (__init__ method) of its parent class. This means that you don't need to define a constructor in the child class if you want to use the parent class's constructor behavior.\n",
    "\n",
    "Implicit Constructor Call: If the child class does not define its own constructor, it implicitly inherits and uses the constructor of the parent class when an object of the child class is created.\n",
    "\n",
    "Overriding Constructors: If the child class defines its own constructor, it can choose to either use the parent class's constructor explicitly (using super()) or completely override the constructor to provide its own initialization logic. Using super() allows you to extend the parent class's constructor, adding or modifying behavior while ensuring the parent class's constructor is executed.\n",
    "\n",
    "Here's an example to illustrate constructor inheritance in Python:"
   ]
  },
  {
   "cell_type": "code",
   "execution_count": 11,
   "id": "694a25e6-1d01-4a40-80f1-fc7fa3e318d7",
   "metadata": {},
   "outputs": [
    {
     "name": "stdout",
     "output_type": "stream",
     "text": [
      "Parent constructor\n",
      "Child constructor\n"
     ]
    }
   ],
   "source": [
    "class Parent:\n",
    "    def __init__(self, parent_attribute):\n",
    "        self.parent_attribute = parent_attribute\n",
    "        print(\"Parent constructor\")\n",
    "\n",
    "class Child(Parent):\n",
    "    def __init__(self, parent_attribute, child_attribute):\n",
    "        super().__init__(parent_attribute)  # Call the parent class constructor\n",
    "        self.child_attribute = child_attribute\n",
    "        print(\"Child constructor\")\n",
    "\n",
    "# Create an object of the Child class\n",
    "child_instance = Child(\"Parent Attribute\", \"Child Attribute\")"
   ]
  },
  {
   "cell_type": "markdown",
   "id": "2483d25d-ff76-4f96-ba12-cd9db896019f",
   "metadata": {},
   "source": [
    "#### 11. Create a Python class called `Shape` with a method `area()` that calculates the area of a shape. Then, create child classes `Circle` and `Rectangle` that inherit from `Shape` and implement the `area()` method accordingly. Provide an example."
   ]
  },
  {
   "cell_type": "code",
   "execution_count": 14,
   "id": "5ec4238f-1ed6-48f4-bd0e-c77a99f49039",
   "metadata": {},
   "outputs": [
    {
     "name": "stdout",
     "output_type": "stream",
     "text": [
      "Circle Area: 78.53975\n",
      "Rectangle Area: 24\n"
     ]
    }
   ],
   "source": [
    "class Shape:\n",
    "    def area(self):\n",
    "        pass  # Placeholder for calculating the area\n",
    "\n",
    "class Circle(Shape):\n",
    "    def __init__(self, radius):\n",
    "        self.radius = radius\n",
    "\n",
    "    def area(self):\n",
    "        return 3.14159 * self.radius * self.radius\n",
    "\n",
    "class Rectangle(Shape):\n",
    "    def __init__(self, length, width):\n",
    "        self.length = length\n",
    "        self.width = width\n",
    "\n",
    "    def area(self):\n",
    "        return self.length * self.width\n",
    "\n",
    "# Create instances of the derived classes\n",
    "circle = Circle(5)\n",
    "rectangle = Rectangle(4, 6)\n",
    "\n",
    "# Calculate and print the areas\n",
    "print(\"Circle Area:\", circle.area()) \n",
    "print(\"Rectangle Area:\", rectangle.area())  \n"
   ]
  },
  {
   "cell_type": "markdown",
   "id": "96b56590-3d4c-493f-bec1-3859bca84d04",
   "metadata": {},
   "source": [
    "#### 12. Explain the use of abstract base classes (ABCs) in Python and how they relate to inheritance. Provide an example using the `abc` module."
   ]
  },
  {
   "cell_type": "markdown",
   "id": "6d141bc8-0dcc-4093-ab02-b611d7bd0ca9",
   "metadata": {},
   "source": [
    "Abstract Base Classes (ABCs) in Python are a way to define abstract classes and methods that must be implemented by concrete (non-abstract) subclasses. ABCs provide a way to ensure that certain methods are defined in derived classes, helping to define a common interface for classes in a class hierarchy.\n",
    "\n",
    "The abc module in Python is used to work with abstract base classes. It provides a way to define abstract methods and classes, and it enforces that any concrete class derived from an abstract class must implement the abstract methods defined in the abstract base class.\n",
    "\n",
    "Here's an example using the abc module to create an abstract base class and concrete subclasses:"
   ]
  },
  {
   "cell_type": "code",
   "execution_count": 15,
   "id": "8f81d5dd-f909-4f12-a446-37b0d21e61db",
   "metadata": {},
   "outputs": [
    {
     "name": "stdout",
     "output_type": "stream",
     "text": [
      "Circle Area: 78.53975\n",
      "Rectangle Area: 24\n"
     ]
    }
   ],
   "source": [
    "from abc import ABC, abstractmethod\n",
    "\n",
    "# Define an abstract base class called Shape\n",
    "class Shape(ABC):\n",
    "    @abstractmethod\n",
    "    def area(self):\n",
    "        pass  # This abstract method must be implemented in concrete subclasses\n",
    "\n",
    "# Concrete subclass Circle\n",
    "class Circle(Shape):\n",
    "    def __init__(self, radius):\n",
    "        self.radius = radius\n",
    "\n",
    "    def area(self):\n",
    "        return 3.14159 * self.radius * self.radius\n",
    "\n",
    "# Concrete subclass Rectangle\n",
    "class Rectangle(Shape):\n",
    "    def __init__(self, length, width):\n",
    "        self.length = length\n",
    "        self.width = width\n",
    "\n",
    "    def area(self):\n",
    "        return self.length * self.width\n",
    "\n",
    "# Attempting to create an instance of the abstract base class will result in a TypeError\n",
    "# shape = Shape()  # This will raise a TypeError\n",
    "\n",
    "# Create instances of the concrete subclasses\n",
    "circle = Circle(5)\n",
    "rectangle = Rectangle(4, 6)\n",
    "\n",
    "# Calculate and print the areas\n",
    "print(\"Circle Area:\", circle.area())  # Output: 78.53975 (approximate)\n",
    "print(\"Rectangle Area:\", rectangle.area())  # Output: 24"
   ]
  },
  {
   "cell_type": "markdown",
   "id": "27b4ac7b-0169-4c12-9498-2894e8fb1a89",
   "metadata": {},
   "source": [
    "#### 13. How can you prevent a child class from modifying certain attributes or methods inherited from a parent class in Python?"
   ]
  },
  {
   "cell_type": "markdown",
   "id": "8bac184f-d04e-4d79-8118-7567c74161a9",
   "metadata": {},
   "source": [
    "Ans. In Python, you can prevent a child class from modifying certain attributes or methods inherited from a parent class by making those attributes or methods \"private\" or \"protected.\" While Python doesn't provide strict access control like some other languages, you can follow naming conventions to indicate the level of visibility and discourage modification. Here's how to do it:"
   ]
  },
  {
   "cell_type": "markdown",
   "id": "cd0a3387-d76e-4435-9bc0-87a2a9592580",
   "metadata": {},
   "source": [
    "Private Attributes and Methods:\n",
    "\n",
    "You can use a double underscore prefix (__) for attributes and methods to make them \"private.\" This doesn't make them completely inaccessible but rather suggests that they are for internal use, and it makes it less likely that a child class will modify them directly."
   ]
  },
  {
   "cell_type": "code",
   "execution_count": null,
   "id": "4433caf2-a4ca-4c1d-b72b-324cfdde6e4e",
   "metadata": {},
   "outputs": [],
   "source": [
    "class Parent:\n",
    "    def __init__(self):\n",
    "        self.__private_attribute = 42\n",
    "\n",
    "    def __private_method(self):\n",
    "        pass\n",
    "\n",
    "class Child(Parent):\n",
    "    def modify_private_attribute(self):\n",
    "        # This won't modify the parent's private attribute directly.\n",
    "        # Instead, it creates a new attribute in the child class.\n",
    "        self.__private_attribute = 99\n",
    "\n",
    "parent = Parent()\n",
    "child = Child()\n",
    "\n",
    "# Accessing parent's private attribute and method\n",
    "print(parent.__private_attribute)  # This will raise an AttributeError\n",
    "parent.__private_method()  # This will raise an AttributeError\n"
   ]
  },
  {
   "cell_type": "markdown",
   "id": "d7345f80-2840-43e6-a8d3-b2c83637f6de",
   "metadata": {},
   "source": [
    "Protected Attributes and Methods:\n",
    "\n",
    "You can use a single underscore prefix (_) for attributes and methods to make them \"protected.\" This is a convention to indicate that these attributes and methods are intended for internal use within the class and its subclasses. While they can be accessed and modified, it's a signal that they should be used carefully."
   ]
  },
  {
   "cell_type": "code",
   "execution_count": 17,
   "id": "0f1a7325-729a-4275-b278-d9b41a7d8050",
   "metadata": {},
   "outputs": [
    {
     "name": "stdout",
     "output_type": "stream",
     "text": [
      "42\n"
     ]
    }
   ],
   "source": [
    "class Parent:\n",
    "    def __init__(self):\n",
    "        self._protected_attribute = 42\n",
    "\n",
    "    def _protected_method(self):\n",
    "        pass\n",
    "\n",
    "class Child(Parent):\n",
    "    def modify_protected_attribute(self):\n",
    "        # This will modify the parent's protected attribute.\n",
    "        self._protected_attribute = 99\n",
    "\n",
    "parent = Parent()\n",
    "child = Child()\n",
    "\n",
    "# Accessing parent's protected attribute and method\n",
    "print(parent._protected_attribute)  # This is allowed but considered a convention\n",
    "parent._protected_method()  # This is allowed but considered a convention\n"
   ]
  },
  {
   "cell_type": "markdown",
   "id": "69d9f51d-aa97-4de4-9bf0-490d39b27283",
   "metadata": {},
   "source": [
    "#### 14. Create a Python class called `Employee` with attributes `name` and `salary`. Then, create a child class `Manager` that inherits from `Employee` and adds an attribute `department`. Provide an example."
   ]
  },
  {
   "cell_type": "code",
   "execution_count": 18,
   "id": "71300946-ec03-44dc-ac40-6ac928cd4f59",
   "metadata": {},
   "outputs": [
    {
     "name": "stdout",
     "output_type": "stream",
     "text": [
      "Name: Christer Nilson\n",
      "Salary: 30000\n",
      "Department: Unit Manager\n"
     ]
    }
   ],
   "source": [
    "class Employee:\n",
    "    def __init__(self, name, salary):\n",
    "        self.name = name\n",
    "        self.salary = salary\n",
    "\n",
    "class Manager(Employee):\n",
    "    def __init__(self, name, salary, department):\n",
    "        super().__init__(name, salary)\n",
    "        self.department = department\n",
    "        \n",
    "manager = Manager(\"Christer Nilson\", 30000, \"Unit Manager\")\n",
    "\n",
    "print(\"Name:\", manager.name)\n",
    "print(\"Salary:\", manager.salary)\n",
    "print(\"Department:\", manager.department)"
   ]
  },
  {
   "cell_type": "markdown",
   "id": "6fcae389-0ae3-4e1f-b47a-feb7af92b7a3",
   "metadata": {},
   "source": [
    "#### 15. Discuss the concept of method overloading in Python inheritance. How does it differ from method overriding?"
   ]
  },
  {
   "cell_type": "markdown",
   "id": "8569c0a0-19f0-4f9f-9ab6-2b236b9ed4a0",
   "metadata": {},
   "source": [
    "Ans. \n",
    "\n",
    "Method overloading and method overriding are two distinct concepts in Python inheritance.\n",
    "\n",
    "Method Overloading:\n",
    "\n",
    "Method overloading is not a built-in feature in Python as it is in some other languages like C++ or Java. In Python, you can't define multiple methods with the same name in a class, differing only by the number or type of parameters. Instead, Python allows you to define a single method with default arguments to simulate method overloading.\n",
    "\n",
    "Here's a simple example of method overloading using default arguments:"
   ]
  },
  {
   "cell_type": "code",
   "execution_count": 19,
   "id": "f4aa3366-2814-42de-b4ad-ffe2258355a1",
   "metadata": {},
   "outputs": [
    {
     "name": "stdout",
     "output_type": "stream",
     "text": [
      "5\n",
      "9\n"
     ]
    }
   ],
   "source": [
    "class MathOperations:\n",
    "    def add(self, a, b, c=0):\n",
    "        return a + b + c\n",
    "\n",
    "math_ops = MathOperations()\n",
    "\n",
    "print(math_ops.add(2, 3))       # Output: 5\n",
    "print(math_ops.add(2, 3, 4))    # Output: 9"
   ]
  },
  {
   "cell_type": "markdown",
   "id": "8316a47f-6d4e-4c94-95a7-1cf70fcef0ba",
   "metadata": {},
   "source": [
    "In this example, the add method takes three arguments, but the third argument has a default value of 0. This allows you to call the method with two or three arguments. The method behaves differently based on the number of arguments provided."
   ]
  },
  {
   "cell_type": "markdown",
   "id": "28bdb991-026d-4b9f-9e5e-53cde16d1a73",
   "metadata": {},
   "source": [
    "Method Overriding:\n",
    "\n",
    "Method overriding, on the other hand, is the ability to provide a specific implementation for a method in a subclass that has the same name and signature as a method in the parent class. It allows the child class to replace or extend the behavior of the parent class method.\n",
    "\n",
    "Here's a method overriding example:"
   ]
  },
  {
   "cell_type": "code",
   "execution_count": 20,
   "id": "0f789704-1eab-43a2-80be-621945366738",
   "metadata": {},
   "outputs": [
    {
     "name": "stdout",
     "output_type": "stream",
     "text": [
      "Dog barks\n"
     ]
    }
   ],
   "source": [
    "class Animal:\n",
    "    def speak(self):\n",
    "        return \"Animal makes a sound\"\n",
    "\n",
    "class Dog(Animal):\n",
    "    def speak(self):\n",
    "        return \"Dog barks\"\n",
    "\n",
    "dog = Dog()\n",
    "print(dog.speak())  # Output: \"Dog barks\""
   ]
  },
  {
   "cell_type": "markdown",
   "id": "bd979f40-a2b1-4405-a164-df6316e0b92a",
   "metadata": {},
   "source": [
    "In this example, the Dog class overrides the speak method inherited from the Animal class, providing its own implementation for the method. When we call speak on a Dog object, it returns \"Dog barks,\" not the generic \"Animal makes a sound.\""
   ]
  },
  {
   "cell_type": "markdown",
   "id": "4929a202-a2d0-4d05-8f21-7a2349047115",
   "metadata": {},
   "source": [
    "#### 16. Explain the purpose of the `__init__()` method in Python inheritance and how it is utilized in child classes."
   ]
  },
  {
   "cell_type": "markdown",
   "id": "a764723d-1478-494b-a093-141334001dd6",
   "metadata": {},
   "source": [
    "Ans. The __init__() method in Python is a special method, also known as the constructor, that is used to initialize objects of a class. It is automatically called when an object of the class is created. In the context of inheritance, the __init__() method is used to initialize attributes specific to the child class while also allowing you to invoke the constructor of the parent class using the super() function. This ensures that the initialization logic of the parent class is executed before custom initialization logic for the child class.\n",
    "\n",
    "Here's how the __init__() method is utilized in child classes in the context of inheritance:\n",
    "\n",
    "Calling the Parent Class's __init__() Method:\n",
    "\n",
    "To ensure that the parent class's constructor is executed when creating an object of the child class, you can use the super() function to call the __init__() method of the parent class. This is often done in the child class's constructor to initialize attributes inherited from the parent class.\n",
    "\n",
    "Example:"
   ]
  },
  {
   "cell_type": "code",
   "execution_count": 21,
   "id": "b5a3b637-7076-4727-ae05-98bfb7fd10ec",
   "metadata": {},
   "outputs": [],
   "source": [
    "class Parent:\n",
    "    def __init__(self, parent_attr):\n",
    "        self.parent_attr = parent_attr\n",
    "\n",
    "class Child(Parent):\n",
    "    def __init__(self, parent_attr, child_attr):\n",
    "        super().__init__(parent_attr)  # Call the parent class constructor\n",
    "        self.child_attr = child_attr"
   ]
  },
  {
   "cell_type": "markdown",
   "id": "c0496cd0-76b1-4023-84cc-d0f19584f246",
   "metadata": {},
   "source": [
    "Initializing Child Class-Specific Attributes:\n",
    "\n",
    "In the child class's __init__() method, you can define and initialize attributes specific to the child class. This allows the child class to have its own attributes in addition to the attributes inherited from the parent class.\n",
    "\n",
    "Example:"
   ]
  },
  {
   "cell_type": "code",
   "execution_count": 22,
   "id": "b043c164-0236-4b24-9f4a-1aab1a117b21",
   "metadata": {},
   "outputs": [],
   "source": [
    "class Child(Parent):\n",
    "    def __init__(self, parent_attr, child_attr):\n",
    "        super().__init__(parent_attr)  # Call the parent class constructor\n",
    "        self.child_attr = child_attr"
   ]
  },
  {
   "cell_type": "markdown",
   "id": "672f2eb4-a625-462d-9e7e-f71995dfed76",
   "metadata": {},
   "source": [
    "Custom Initialization Logic:\n",
    "\n",
    "The child class's __init__() method can contain custom initialization logic specific to the child class's requirements. This logic can include additional attribute assignments, method calls, or any other operations needed to set up the child class.\n",
    "\n",
    "Example:"
   ]
  },
  {
   "cell_type": "code",
   "execution_count": 23,
   "id": "b0badb6d-9ea0-4b6b-a103-bf06e5ffa6cd",
   "metadata": {},
   "outputs": [],
   "source": [
    "class Child(Parent):\n",
    "    def __init__(self, parent_attr, child_attr):\n",
    "        super().__init__(parent_attr)  # Call the parent class constructor\n",
    "        self.child_attr = child_attr\n",
    "        self.custom_setup()  # Additional custom initialization logic"
   ]
  },
  {
   "cell_type": "markdown",
   "id": "fa252eb9-2a90-400e-a92a-d0f741135a59",
   "metadata": {},
   "source": [
    "By utilizing the __init__() method in child classes as described above, you can ensure that both the parent class's initialization logic and the child class's specific initialization logic are executed when creating an object of the child class. This supports the principle of code reusability and allows for a structured way to initialize objects in class hierarchies."
   ]
  },
  {
   "cell_type": "markdown",
   "id": "65b21611-26e9-4f25-add0-fe4c8fb19be8",
   "metadata": {},
   "source": [
    "#### 17. Create a Python class called `Bird` with a method `fly()`. Then, create child classes `Eagle` and `Sparrow` that inherit from `Bird` and implement the `fly()` method differently. Provide an example of using theseclasses."
   ]
  },
  {
   "cell_type": "code",
   "execution_count": 24,
   "id": "1c75d3a5-a069-47cc-8d1e-84dd693c1dc9",
   "metadata": {},
   "outputs": [
    {
     "name": "stdout",
     "output_type": "stream",
     "text": [
      "Eagle soars high in the sky\n",
      "Sparrow flits through the air\n"
     ]
    }
   ],
   "source": [
    "class Bird:\n",
    "    def fly(self):\n",
    "        return \"Birds flies\"\n",
    "    \n",
    "class Eagle(Bird):\n",
    "    def fly(self):\n",
    "        return \"Eagle soars high in the sky\"\n",
    "    \n",
    "class Sparrow(Bird):\n",
    "    def fly(self):\n",
    "        return \"Sparrow flits through the air\"\n",
    "    \n",
    "# Create instances of the derived classes\n",
    "eagle = Eagle()\n",
    "sparrow = Sparrow()\n",
    "\n",
    "# Call the fly method on instances\n",
    "print(eagle.fly()) \n",
    "print(sparrow.fly())  "
   ]
  },
  {
   "cell_type": "markdown",
   "id": "4b2e01ac-f6bd-42cf-83b2-979c5069fa42",
   "metadata": {},
   "source": [
    "#### 18. What is the \"diamond problem\" in multiple inheritance, and how does Python address it?"
   ]
  },
  {
   "cell_type": "markdown",
   "id": "775eb5a7-1b56-48dc-b883-b2c2203495d3",
   "metadata": {},
   "source": [
    "Ans. The \"diamond problem\" is a term used in the context of multiple inheritance in object-oriented programming languages. It refers to a potential ambiguity or conflict that can occur when a class inherits from two or more classes, each of which inherits from a common base class. This situation creates an inheritance diamond-shaped structure in the class hierarchy, leading to a problem when a method or attribute is called that is defined in the common base class. The diamond problem typically results in ambiguity and confusion in determining which method or attribute should be used.\n",
    "\n",
    "Here's a simplified example to illustrate the diamond problem:"
   ]
  },
  {
   "cell_type": "code",
   "execution_count": null,
   "id": "1a1c300a-6f55-4120-903c-54d0701fe592",
   "metadata": {},
   "outputs": [],
   "source": [
    "      A\n",
    "     / \\\n",
    "    B   C\n",
    "     \\ /\n",
    "      D"
   ]
  },
  {
   "cell_type": "markdown",
   "id": "51b6033a-6946-4ebe-ac74-167b9facc4c1",
   "metadata": {},
   "source": [
    "In this diagram, classes B and C both inherit from class A, and class D inherits from both B and C. If there is a method or attribute defined in class A, and we call that method or access that attribute in class D, which implementation of the method or attribute should be used? This ambiguity is the core of the diamond problem.\n",
    "\n",
    "Python addresses the diamond problem through a mechanism known as Method Resolution Order (MRO) and a cooperative multiple inheritance model. Python's MRO defines a specific order in which classes are searched when looking for methods or attributes. This order is determined by the C3 Linearization algorithm, and it takes into account the inheritance hierarchy and the order in which base classes are defined in the child class's definition. In Python, the MRO ensures that the method or attribute from the nearest ancestor in the hierarchy is used, avoiding ambiguity.\n",
    "\n",
    "Here's an example that demonstrates how Python's MRO helps resolve the diamond problem:"
   ]
  },
  {
   "cell_type": "code",
   "execution_count": 26,
   "id": "ed5025a5-67f5-41be-8a1d-ee306a2a46bb",
   "metadata": {},
   "outputs": [
    {
     "name": "stdout",
     "output_type": "stream",
     "text": [
      "Method in class C\n"
     ]
    }
   ],
   "source": [
    "class A:\n",
    "    def method(self):\n",
    "        print(\"Method in class A\")\n",
    "\n",
    "class B(A):\n",
    "    pass\n",
    "\n",
    "class C(A):\n",
    "    def method(self):\n",
    "        print(\"Method in class C\")\n",
    "\n",
    "class D(B, C):\n",
    "    pass\n",
    "\n",
    "d = D()\n",
    "d.method()  "
   ]
  },
  {
   "cell_type": "markdown",
   "id": "b838762d-779a-456a-91bb-7116a10aff18",
   "metadata": {},
   "source": [
    "In this example, the MRO determines that when we call the method() in class D, it should use the implementation from class C, the nearest ancestor that defines the method.\n",
    "\n",
    "Python's MRO and cooperative multiple inheritance provide a clear and predictable way to handle the diamond problem, allowing for more intuitive and unambiguous resolution of method and attribute access in multiple inheritance scenarios."
   ]
  },
  {
   "cell_type": "markdown",
   "id": "8a38bc27-33ef-4b00-885e-67303d6a208b",
   "metadata": {},
   "source": [
    "#### 19. Discuss the concept of \"is-a\" and \"has-a\" relationships in inheritance, and provide examples of each."
   ]
  },
  {
   "cell_type": "markdown",
   "id": "70ede4c6-021d-4269-baf3-fd836c15ec04",
   "metadata": {},
   "source": [
    "Ans. \n",
    "\n",
    "In object-oriented programming, \"is-a\" and \"has-a\" relationships are two fundamental concepts that help define the associations between classes and objects. They are often used to establish the structure of class hierarchies and relationships in a program.\n",
    "\n",
    "1. \"is-a\" Relationship (Inheritance):\n",
    "\n",
    "The \"is-a\" relationship, also known as inheritance or the \"subclass-superclass\" relationship, signifies that a subclass is a specialized version of its superclass. In other words, a class that inherits from another class \"is-a\" member of that class. The child class inherits the attributes and behaviors of the parent class and can add or modify them to create a more specific version of the class. This relationship is represented using inheritance and often reflects an \"is-a\" hierarchy.\n",
    "\n",
    "Example of \"is-a\" relationship:"
   ]
  },
  {
   "cell_type": "code",
   "execution_count": 27,
   "id": "3e030801-cb35-4f32-b532-c54b21235127",
   "metadata": {},
   "outputs": [],
   "source": [
    "class Animal:\n",
    "    def speak(self):\n",
    "        pass\n",
    "\n",
    "class Dog(Animal):\n",
    "    def speak(self):\n",
    "        return \"Dog barks\"\n",
    "\n",
    "class Cat(Animal):\n",
    "    def speak(self):\n",
    "        return \"Cat meows\""
   ]
  },
  {
   "cell_type": "markdown",
   "id": "70bfc21e-f097-452b-a104-bb1d60119378",
   "metadata": {},
   "source": [
    "In this example, Dog and Cat are subclasses of Animal. They are specialized versions of the generic Animal class, representing an \"is-a\" relationship. Both Dog and Cat inherit the speak() method from Animal and provide their specific implementations."
   ]
  },
  {
   "cell_type": "markdown",
   "id": "3531740a-f644-46a7-9457-7c5879183873",
   "metadata": {},
   "source": [
    "2. \"has-a\" Relationship (Composition):\n",
    "\n",
    "The \"has-a\" relationship represents an association where one class has an instance of another class as one of its attributes. In other words, a class that \"has-a\" relationship with another class contains an object of that class as one of its attributes. This is also known as composition and is a way to model more complex and flexible relationships between objects.\n",
    "\n",
    "Example of \"has-a\" relationship:"
   ]
  },
  {
   "cell_type": "code",
   "execution_count": 28,
   "id": "92116534-17eb-4ffe-9117-911db332922b",
   "metadata": {},
   "outputs": [],
   "source": [
    "class Engine:\n",
    "    def start(self):\n",
    "        return \"Engine started\"\n",
    "\n",
    "class Car:\n",
    "    def __init__(self):\n",
    "        self.engine = Engine()\n",
    "\n",
    "    def start_engine(self):\n",
    "        return self.engine.start()"
   ]
  },
  {
   "cell_type": "markdown",
   "id": "437f07e8-9191-4ffd-aa93-cb2a9560b065",
   "metadata": {},
   "source": [
    "In this example, a Car class \"has-a\" relationship with the Engine class. It contains an Engine object as one of its attributes. The Car class can use the Engine object to start the engine.\n",
    "\n",
    "To summarize:\n",
    "\n",
    "\"is-a\" relationship (inheritance) represents a specialization hierarchy where a subclass is a specialized version of its superclass.\n",
    "\"has-a\" relationship (composition) represents an association where a class contains an instance of another class as an attribute, allowing for more complex relationships and encapsulation.\n",
    "Both \"is-a\" and \"has-a\" relationships are essential in object-oriented programming and help in designing and modeling classes and their interactions effectively."
   ]
  },
  {
   "cell_type": "markdown",
   "id": "48f1d1c8-6220-4004-b706-4c7e331b70bb",
   "metadata": {},
   "source": [
    "#### 20. Create a Python class hierarchy for a university system. Start with a base class `Person` and create child classes `Student` and `Professor`, each with their own attributes and methods. Provide an example of using these classes in a university context."
   ]
  },
  {
   "cell_type": "code",
   "execution_count": 30,
   "id": "3bf3f7ac-3e22-40f1-b3c1-d6fad35d0cfc",
   "metadata": {},
   "outputs": [
    {
     "name": "stdout",
     "output_type": "stream",
     "text": [
      "My name is Alice and I am 20 years old.\n",
      "My name is Dr. Smith and I am 45 years old.\n",
      "Alice (Student) is studying Math.\n",
      "Dr. Smith (Professor) is teaching Physics.\n"
     ]
    }
   ],
   "source": [
    "class Person:\n",
    "    def __init__(self, name, age):\n",
    "        self.name = name\n",
    "        self.age = age\n",
    "\n",
    "    def introduce(self):\n",
    "        return f\"My name is {self.name} and I am {self.age} years old.\"\n",
    "\n",
    "class Student(Person):\n",
    "    def __init__(self, name, age, student_id):\n",
    "        super().__init__(name, age)\n",
    "        self.student_id = student_id\n",
    "\n",
    "    def study(self, subject):\n",
    "        return f\"{self.name} (Student) is studying {subject}.\"\n",
    "\n",
    "class Professor(Person):\n",
    "    def __init__(self, name, age, employee_id):\n",
    "        super().__init__(name, age)\n",
    "        self.employee_id = employee_id\n",
    "\n",
    "    def teach(self, subject):\n",
    "        return f\"{self.name} (Professor) is teaching {subject}.\"\n",
    "\n",
    "# Example of using the classes\n",
    "student1 = Student(\"Alice\", 20, \"S12345\")\n",
    "professor1 = Professor(\"Dr. Smith\", 45, \"P9876\")\n",
    "\n",
    "print(student1.introduce())      # Output: \"My name is Alice and I am 20 years old.\"\n",
    "print(professor1.introduce())    # Output: \"My name is Dr. Smith and I am 45 years old.\"\n",
    "\n",
    "print(student1.study(\"Math\"))    # Output: \"Alice (Student) is studying Math.\"\n",
    "print(professor1.teach(\"Physics\"))  # Output: \"Dr. Smith (Professor) is teaching Physics.\"\n"
   ]
  },
  {
   "cell_type": "markdown",
   "id": "f814a960-ba3b-4a89-9874-71b86f1ffbe3",
   "metadata": {},
   "source": [
    "In this example:\n",
    "\n",
    "The Person class is the base class with attributes for a person's name and age. It also has an introduce() method to introduce the person.\n",
    "\n",
    "The Student class is a child class of Person. It adds an attribute for the student's ID and a method study() to indicate what the student is studying.\n",
    "\n",
    "The Professor class is another child class of Person. It has an additional attribute for the employee ID and a method teach() to show what subject the professor is teaching.\n",
    "\n",
    "We create instances of Student and Professor and demonstrate how to call their respective methods to introduce themselves and describe their activities in the university.\n",
    "\n",
    "This class hierarchy models a basic university system with the base Person class serving as a common ancestor for both students and professors. Students and professors have specialized attributes and behaviors, reflecting an \"is-a\" relationship where they are specialized versions of people in the context of a university."
   ]
  },
  {
   "cell_type": "markdown",
   "id": "b431a406-7568-4ae6-ae51-ab23a86363ee",
   "metadata": {},
   "source": [
    "## Encapsulation"
   ]
  },
  {
   "cell_type": "markdown",
   "id": "e69aafd0-7124-46cb-aee0-65db2d52206a",
   "metadata": {},
   "source": [
    "#### 1. Explain the concept of encapsulation in Python. What is its role in object-oriented programming?"
   ]
  },
  {
   "cell_type": "markdown",
   "id": "dfa286c8-37f1-4b4b-a588-3edf7cc8ced8",
   "metadata": {},
   "source": [
    "Ans. \n",
    "\n",
    "Encapsulation is one of the fundamental principles of object-oriented programming (OOP). It refers to the concept of bundling data (attributes or properties) and the methods (functions or procedures) that operate on that data into a single unit, known as a class. Encapsulation allows you to hide the internal details of an object and restrict access to some of its components, exposing only what is necessary for the object's intended behavior. In Python, encapsulation is achieved through the use of access modifiers and property methods.\n",
    "\n",
    "The key aspects of encapsulation in Python are:\n",
    "\n",
    "- Private Members: In Python, encapsulation is often achieved by using a naming convention that marks certain attributes or methods as \"private.\" This is done by prefixing an attribute or method name with a single underscore (e.g., _attribute) or a double underscore (e.g., __attribute). However, this is more of a convention rather than strict access control. It suggests that a variable or method is intended for internal use within the class or its subclasses.\n",
    "\n",
    "- Property Methods: Encapsulation can be enhanced by using property methods (getters and setters) to access and manipulate private attributes. Property methods allow you to control access to attributes and add custom logic for getting and setting their values.\n",
    "\n",
    "Here's an example of encapsulation in Python:"
   ]
  },
  {
   "cell_type": "code",
   "execution_count": 2,
   "id": "81efddb0-b310-41bd-8c9b-5863ebf09b5a",
   "metadata": {},
   "outputs": [
    {
     "name": "stdout",
     "output_type": "stream",
     "text": [
      "Alice\n",
      "20\n",
      "21\n"
     ]
    }
   ],
   "source": [
    "class Student:\n",
    "    def __init__(self, name, age):\n",
    "        self._name = name # Private attribute\n",
    "        self._age = age   # Private attribute\n",
    "        \n",
    "    # Property method for the 'name' attribute\n",
    "    @property\n",
    "    def name(self):\n",
    "        return self._name\n",
    "    \n",
    "    # Property method for the 'age' attribute\n",
    "    @property\n",
    "    def age(self):\n",
    "        return self._age\n",
    "    \n",
    "    # Setter method for the 'age' attribute\n",
    "    @age.setter\n",
    "    def age(self, value):\n",
    "        if value > 0:\n",
    "            self._age = value\n",
    "            \n",
    "\n",
    "# Creating a Student object\n",
    "student = Student(\"Alice\", 20)\n",
    "\n",
    "# Access the 'name' and 'age' attributes using property methods\n",
    "print(student.name)  # Output: \"Alice\"\n",
    "print(student.age)   # Output: 20\n",
    "\n",
    "# Modify the 'age' attribute using the setter method\n",
    "student.age = 21\n",
    "print(student.age)   # Output: 21"
   ]
  },
  {
   "cell_type": "markdown",
   "id": "d4d38668-06cf-4b27-ac5d-54cf608368da",
   "metadata": {},
   "source": [
    "#### 2. Describe the key principles of encapsulation, including access control and data hiding."
   ]
  },
  {
   "cell_type": "markdown",
   "id": "87c69f82-90a3-435e-860e-65055f6f9d9b",
   "metadata": {},
   "source": [
    "Ans.\n",
    "\n",
    "Encapsulation is a fundamental concept in object-oriented programming (OOP) that encompasses several key principles, including access control and data hiding. These principles are crucial for organizing and managing code effectively. Here's an explanation of each principle:\n",
    "\n",
    "Access Control:\n",
    "\n",
    "Access control refers to the rules and mechanisms that determine which parts of a class are visible and accessible from outside the class. It governs how attributes and methods of a class can be used and modified. In OOP, there are typically three levels of access control:\n",
    "\n",
    "Public: Public attributes and methods are accessible from anywhere in the program. They can be accessed and modified without restrictions. In Python, all attributes and methods are public by default.\n",
    "\n",
    "Protected: Protected attributes and methods are indicated by a single underscore prefix (e.g., _attribute). While they are not truly private, the underscore serves as a naming convention to indicate that these members are intended for internal use within the class or its subclasses. It suggests that users of the class should treat these members with care and not access them directly.\n",
    "\n",
    "Private: Private attributes and methods are indicated by a double underscore prefix (e.g., __attribute). In Python, this naming convention makes it harder to access these members from outside the class. While they are not entirely inaccessible, it strongly suggests that they are for internal use only.\n",
    "\n",
    "Data Hiding:\n",
    "\n",
    "Data hiding is a key aspect of encapsulation. It refers to the practice of restricting access to an object's attributes (data) and exposing them only through well-defined methods (getters and setters). Data hiding ensures that the internal representation of an object is hidden from external code. The benefits of data hiding include:\n",
    "\n",
    "Security: Sensitive data can be protected from unauthorized access or modification. By providing controlled access through methods, you can implement security checks or encryption.\n",
    "\n",
    "Flexibility: The internal representation of data can be changed without affecting external code that relies on the public interface of the object. This promotes flexibility and maintenance.\n",
    "\n",
    "Consistency and Validation: Data can be accessed and modified using getter and setter methods, allowing you to implement validation, consistency checks, and custom logic to ensure data integrity.\n",
    "\n",
    "Abstraction: Data hiding allows you to abstract away the implementation details of a class. Users of the class interact with the public methods and properties, leading to a higher level of abstraction."
   ]
  },
  {
   "cell_type": "markdown",
   "id": "1575cfee-119b-46e2-996a-76321d329982",
   "metadata": {},
   "source": [
    "#### 3. How can you achieve encapsulation in Python classes? Provide an example."
   ]
  },
  {
   "cell_type": "markdown",
   "id": "be9fb9b9-2149-4caa-aeaf-3fbb5629dc30",
   "metadata": {},
   "source": [
    "Ans.\n",
    "\n",
    "Encapsulation in Python classes is achieved through access control and data hiding. Access control defines which parts of a class are visible and accessible from outside the class, and data hiding restricts direct access to class attributes, exposing them only through well-defined methods (getters and setters). Here's an example of how to achieve encapsulation in a Python class:"
   ]
  },
  {
   "cell_type": "code",
   "execution_count": 7,
   "id": "73fe2353-b98d-404c-8115-0b2dd70bb743",
   "metadata": {},
   "outputs": [
    {
     "name": "stdout",
     "output_type": "stream",
     "text": [
      "Azad\n",
      "20\n",
      "21\n"
     ]
    }
   ],
   "source": [
    "class Student:\n",
    "    def __init__(self, name, age):\n",
    "        self._name = name  # Protected attribute\n",
    "        self.__age = age   # Private attribute\n",
    "\n",
    "    @property\n",
    "    def name(self):  # Getter method for 'name'\n",
    "        return self._name\n",
    "\n",
    "    @property\n",
    "    def age(self):   # Getter method for 'age'\n",
    "        return self.__age\n",
    "\n",
    "    @age.setter\n",
    "    def age(self, value):  # Setter method for 'age'\n",
    "        if value > 0:\n",
    "            self.__age = value\n",
    "\n",
    "# Create an instance of the Student class\n",
    "student = Student(\"Azad\", 20)\n",
    "\n",
    "# Accessing attributes through getter methods\n",
    "print(student.name)       # Output: \"Alice\"\n",
    "print(student.age)        # Output: 20\n",
    "\n",
    "# Modifying the 'age' attribute through the setter method\n",
    "student.age = 21\n",
    "print(student.age)        # Output: 21\n"
   ]
  },
  {
   "cell_type": "markdown",
   "id": "efca218f-fe1f-4ea9-992a-0187260014b2",
   "metadata": {},
   "source": [
    "In this example:\n",
    "\n",
    "The Student class has an attribute _name, which is marked as protected (though not strictly private), and an attribute __age, which is marked as private.\n",
    "\n",
    "The name and age attributes are accessed and modified through getter and setter methods, which are decorated with the @property and @age.setter decorators, respectively.\n",
    "\n",
    "By using property methods, you can control access to the attributes and provide custom logic for getting and setting their values.\n",
    "\n",
    "The getter methods (name and age) allow you to access the attributes without exposing them directly. The setter method (age) enforces validation before modifying the attribute.\n",
    "\n",
    "This example demonstrates how encapsulation in Python provides controlled access to class attributes and promotes data hiding and security by preventing direct access to internal attributes. It also allows you to add custom logic when getting or setting attribute values."
   ]
  },
  {
   "cell_type": "markdown",
   "id": "8aac8fc8-bc17-4b9f-9a9e-c37eebbccce2",
   "metadata": {},
   "source": [
    "#### 4. Discuss the difference between public, private, and protected access modifiers in Python."
   ]
  },
  {
   "cell_type": "markdown",
   "id": "192f1d09-1885-4a5b-8a37-ec6e357419c7",
   "metadata": {},
   "source": [
    "Ans.\n",
    "\n",
    "In Python, access modifiers are used to control the visibility and accessibility of attributes and methods within a class. They indicate whether a particular attribute or method can be accessed from outside the class. Python uses naming conventions to imply the level of access control, but it's important to note that these conventions are not enforced by the language. The three common access modifiers in Python are:\n",
    "\n",
    "- Public (No Prefix):\n",
    "\n",
    "There is no special syntax or prefix to define public attributes or methods in Python.\n",
    "Public attributes and methods can be accessed from anywhere, both inside and outside the class.\n",
    "Public members are part of the class's public interface, and they are meant to be accessed and used by external code.\n",
    "By convention, attributes and methods without a prefix are considered public.\n",
    "Example:"
   ]
  },
  {
   "cell_type": "code",
   "execution_count": 8,
   "id": "31bb6c46-a414-4e30-802b-edaf74f34748",
   "metadata": {},
   "outputs": [],
   "source": [
    "class MyClass:\n",
    "    def public_method(self):\n",
    "        pass\n",
    "\n",
    "obj = MyClass()\n",
    "obj.public_method()"
   ]
  },
  {
   "cell_type": "markdown",
   "id": "bb6de072-e19e-40fb-8279-5a09d94e24a1",
   "metadata": {},
   "source": [
    "- Protected (Single Underscore Prefix _):\n",
    "\n",
    "A single underscore prefix (e.g., _attribute or _method) suggests that an attribute or method is intended for internal use within the class or its subclasses.\n",
    "Protected members are not considered part of the public interface, but there is no strict access control to prevent their access from outside the class.\n",
    "The single underscore is more of a naming convention to signal that users of the class should treat these members with care.\n",
    "Example:"
   ]
  },
  {
   "cell_type": "code",
   "execution_count": 9,
   "id": "480e3d20-4bbd-40ef-b366-d06dd8a0bbae",
   "metadata": {},
   "outputs": [
    {
     "name": "stdout",
     "output_type": "stream",
     "text": [
      "10\n"
     ]
    }
   ],
   "source": [
    "class MyClass:\n",
    "    def __init__(self):\n",
    "        self._protected_attribute = 10\n",
    "\n",
    "    def _protected_method(self):\n",
    "        pass\n",
    "\n",
    "obj = MyClass()\n",
    "print(obj._protected_attribute)\n",
    "obj._protected_method()"
   ]
  },
  {
   "cell_type": "markdown",
   "id": "16bb474a-f345-4c47-be89-09910cb1b12f",
   "metadata": {},
   "source": [
    "- Private (Double Underscore Prefix __):\n",
    "\n",
    "A double underscore prefix (e.g., __attribute or __method) is used to indicate that an attribute or method is intended to be private to the class. This provides a stronger form of name mangling, making it harder to access from outside the class.\n",
    "Private members are not meant to be accessed or modified from external code.\n",
    "While private members can still be accessed, they are less visible and more restricted compared to protected or public members.\n",
    "Example:"
   ]
  },
  {
   "cell_type": "code",
   "execution_count": 10,
   "id": "5e0c76b2-e040-42e2-8d06-94a9a203a174",
   "metadata": {},
   "outputs": [
    {
     "name": "stdout",
     "output_type": "stream",
     "text": [
      "20\n"
     ]
    }
   ],
   "source": [
    "class MyClass:\n",
    "    def __init__(self):\n",
    "        self.__private_attribute = 20\n",
    "\n",
    "    def __private_method(self):\n",
    "        pass\n",
    "\n",
    "obj = MyClass()\n",
    "# Accessing private members using name mangling\n",
    "print(obj._MyClass__private_attribute)\n",
    "obj._MyClass__private_method()"
   ]
  },
  {
   "cell_type": "markdown",
   "id": "5fde7e2b-8809-4a9a-95a5-892533e62c44",
   "metadata": {},
   "source": [
    "#### 5. Create a Python class called `Person` with a private attribute `__name`. Provide methods to get and set the name attribute."
   ]
  },
  {
   "cell_type": "code",
   "execution_count": 23,
   "id": "71d354cf-7ce8-43a0-b8df-01e259add6a1",
   "metadata": {},
   "outputs": [
    {
     "name": "stdout",
     "output_type": "stream",
     "text": [
      "Alice\n",
      "Bob\n"
     ]
    }
   ],
   "source": [
    "class Person:\n",
    "    def __init__(self, name):\n",
    "        self.__name = name  # Private attribute with double underscore prefix\n",
    "\n",
    "    # Getter method for the name attribute\n",
    "    def get_name(self):\n",
    "        return self.__name\n",
    "\n",
    "    # Setter method for the name attribute\n",
    "    def set_name(self, name):\n",
    "        self.__name = name\n",
    "\n",
    "# Create an instance of the Person class\n",
    "person = Person(\"Alice\")\n",
    "\n",
    "# Get the name using the getter method\n",
    "print(person.get_name())  # Output: \"Alice\"\n",
    "\n",
    "# Set a new name using the setter method\n",
    "person.set_name(\"Bob\")\n",
    "print(person.get_name())  # Output: \"Bob\""
   ]
  },
  {
   "cell_type": "markdown",
   "id": "de40bd79-e5ae-4cac-bc16-251a14f762da",
   "metadata": {},
   "source": [
    "#### 6. Explain the purpose of getter and setter methods in encapsulation. Provide examples."
   ]
  },
  {
   "cell_type": "markdown",
   "id": "f911c9c4-502f-4a00-9124-b210b4cccc66",
   "metadata": {},
   "source": [
    "Getter and setter methods are an important concept in object-oriented programming and encapsulation. They serve the purpose of controlling access to an object's attributes (data members) and providing a way to retrieve and modify those attributes in a controlled manner. The key purposes of getter and setter methods are as follows:\n",
    "\n",
    "Getter Methods (Accessors):\n",
    "\n",
    "Purpose: Getter methods are used to retrieve the values of private or protected attributes (data members) of an object. They provide read-only access to these attributes.\n",
    "Benefits:\n",
    "They encapsulate the internal representation of an object, allowing you to change the implementation without affecting external code that relies on the interface.\n",
    "They can include additional logic for data retrieval, such as formatting, calculations, or data validation.\n",
    "They make it possible to implement read-only attributes or computed properties.\n",
    "Setter Methods (Mutators):\n",
    "\n",
    "Purpose: Setter methods are used to modify the values of private or protected attributes (data members) of an object. They provide write-only access to these attributes.\n",
    "Benefits:\n",
    "They encapsulate the logic for modifying an attribute, allowing you to enforce constraints, validation, or other business rules.\n",
    "They provide a controlled interface for modifying an object's state, reducing the likelihood of invalid or inconsistent data.\n",
    "They allow you to maintain control over attribute changes, which can be useful for logging or triggering events when values are modified.\n",
    "Here are examples of getter and setter methods in Python:\n",
    "\n",
    "- Getter Method Example:"
   ]
  },
  {
   "cell_type": "code",
   "execution_count": 25,
   "id": "36a7460f-5be4-4378-8f50-07698734e270",
   "metadata": {},
   "outputs": [
    {
     "name": "stdout",
     "output_type": "stream",
     "text": [
      "Alice\n"
     ]
    }
   ],
   "source": [
    "class Person:\n",
    "    def __init__(self, name):\n",
    "        self.__name = name  # Private attribute\n",
    "\n",
    "    # Getter method for the name attribute\n",
    "    def get_name(self):\n",
    "        return self.__name\n",
    "\n",
    "# Create an instance of the Person class\n",
    "person = Person(\"Alice\")\n",
    "\n",
    "# Get the name using the getter method\n",
    "name = person.get_name()\n",
    "print(name)  # Output: \"Alice\""
   ]
  },
  {
   "cell_type": "markdown",
   "id": "9866f670-d7b9-4b8e-94cc-e81487980a18",
   "metadata": {},
   "source": [
    "In this example, the get_name() method is a getter method that provides controlled access to retrieve the value of the private __name attribute.\n",
    "\n",
    "- Setter Method Example:"
   ]
  },
  {
   "cell_type": "code",
   "execution_count": null,
   "id": "0eab2416-ff9c-416c-8da7-8359dd593975",
   "metadata": {},
   "outputs": [],
   "source": [
    "class Person:\n",
    "    def __init__(self, name):\n",
    "        self.__name = name  # Private attribute\n",
    "\n",
    "    # Setter method for the name attribute\n",
    "    def set_name(self, name):\n",
    "        self.__name = name\n",
    "\n",
    "# Create an instance of the Person class\n",
    "person = Person(\"Alice\")\n",
    "\n",
    "# Set a new name using the setter method\n",
    "person.set_name(\"Bob\")\n",
    "print(person.get_name())  # Output: \"Bob\""
   ]
  },
  {
   "cell_type": "markdown",
   "id": "cdb8c423-5aca-4ff2-aae7-0198feaf6f84",
   "metadata": {},
   "source": [
    "In this example, the set_name() method is a setter method that provides controlled access to modify the value of the private __name attribute. This allows you to encapsulate the attribute and control how it is changed."
   ]
  },
  {
   "cell_type": "markdown",
   "id": "1e335b9e-4222-4ff2-a5a8-ac8c982d1740",
   "metadata": {},
   "source": [
    "#### 7. What is name mangling in Python, and how does it affect encapsulation?"
   ]
  },
  {
   "cell_type": "markdown",
   "id": "050d11cc-e61e-4a7f-92c1-7916e1d874c5",
   "metadata": {},
   "source": [
    "Ans.\n",
    "\n",
    "Name mangling is a technique in Python that alters the name of an attribute or method to make it more challenging to access from outside the class. Name mangling is primarily used to create a form of \"pseudo-privacy\" for class members, especially in the context of encapsulation. It allows class developers to prevent accidental attribute or method name clashes when subclassing, while still allowing limited access from derived classes.\n",
    "\n",
    "In Python, name mangling is applied to identifiers (attribute and method names) that are prefixed with a double underscore (__). When an attribute or method is subject to name mangling, Python changes its name by adding a prefix that includes the class name. This transformation is done to create a unique name for the attribute within the class hierarchy."
   ]
  },
  {
   "cell_type": "markdown",
   "id": "9ec4b733-d9a7-442a-b297-bfd546574930",
   "metadata": {},
   "source": [
    "#### 8. Create a Python class called `BankAccount` with private attributes for the account balance (`__balance`) and account number (`__account_number`). Provide methods for depositing and withdrawing money."
   ]
  },
  {
   "cell_type": "code",
   "execution_count": 30,
   "id": "eb874f32-bf3e-4067-b1eb-abf274b78b64",
   "metadata": {},
   "outputs": [
    {
     "name": "stdout",
     "output_type": "stream",
     "text": [
      "Account Balance: $12000\n"
     ]
    }
   ],
   "source": [
    "class BankAccount:\n",
    "    def __init__(self, account_number, initial_balance = 0):\n",
    "        self.__account_number = account_number\n",
    "        self.__balance = initial_balance\n",
    "       \n",
    "    # Getter method for the balance attribute   \n",
    "    def get_balance(self):\n",
    "        return self.__balance\n",
    "    \n",
    "    # Method to deposit money into the account\n",
    "    def deposit(self, amount):\n",
    "        if amount > 0:\n",
    "            self.__balance += amount\n",
    "            return f\"Deposited ${amount}. New balance: ${self.__balance}\"\n",
    "        else:\n",
    "            return \"Invalid deposit amount.\"\n",
    "        \n",
    "    # Method to withdraw money from the account\n",
    "    def withdraw(self, amount):\n",
    "        if 0 < amount <= self.__balance:\n",
    "            self.__balance -= amount\n",
    "            return f\"Withdraw ${amount}. New balance: {self.__balance}\"\n",
    "        else:\n",
    "            return \"Insufficient funds or invalid withdrawal amount\"\n",
    "        \n",
    "\n",
    "# Creating a BankAccount object\n",
    "account = BankAccount(\"23423132\", 12000)\n",
    "\n",
    "# Accessing the balanvce using the getter method\n",
    "print(f\"Account Balance: ${account.get_balance()}\")\n",
    "    "
   ]
  },
  {
   "cell_type": "code",
   "execution_count": 31,
   "id": "b36d1bbd-d8f1-4bcd-bf25-7e04bdfc0807",
   "metadata": {},
   "outputs": [
    {
     "name": "stdout",
     "output_type": "stream",
     "text": [
      "Deposited $500. New balance: $12500\n"
     ]
    }
   ],
   "source": [
    "# Depositing money into the account\n",
    "print(account.deposit(500))"
   ]
  },
  {
   "cell_type": "code",
   "execution_count": 32,
   "id": "7d070175-556c-4d09-8f87-69c1e929006f",
   "metadata": {},
   "outputs": [
    {
     "name": "stdout",
     "output_type": "stream",
     "text": [
      "Withdraw $200. New balance: 12300\n"
     ]
    }
   ],
   "source": [
    "# Withdraw money from the account\n",
    "print(account.withdraw(200))"
   ]
  },
  {
   "cell_type": "markdown",
   "id": "ee72c0e6-3727-4e8c-bdcc-aadc67a0b8b9",
   "metadata": {},
   "source": [
    "#### 9. Discuss the advantages of encapsulation in terms of code maintainability and security."
   ]
  },
  {
   "cell_type": "markdown",
   "id": "56d86e0f-c95e-4f74-9b95-c1efecdaa433",
   "metadata": {},
   "source": [
    "Ans.\n",
    "\n",
    "**Encapsulation** is a fundamental concept in object-oriented programming (OOP) that involves bundling data (attributes or properties) and the methods (functions or procedures) that operate on that data into a single unit, known as a class. Encapsulation provides several advantages in terms of code maintainability and security:\n",
    "\n",
    "1. **Modularity**:\n",
    "   - Encapsulation promotes modularity by organizing code into classes with well-defined interfaces. This makes it easier to manage and maintain complex software systems.\n",
    "   - Each class encapsulates a specific set of attributes and methods, allowing you to focus on a single unit of functionality at a time.\n",
    "\n",
    "2. **Abstraction**:\n",
    "   - Encapsulation hides the implementation details of a class, exposing only what is necessary for the class's intended behavior.\n",
    "   - Users of the class interact with the public methods and properties, which provide a high-level, abstracted view of the class's functionality.\n",
    "\n",
    "3. **Code Maintainability**:\n",
    "   - Encapsulation reduces code complexity by encapsulating data and behavior within classes. This makes it easier to locate and fix bugs or make changes without affecting other parts of the code.\n",
    "   - Changes to the implementation of a class (e.g., modifying attributes or methods) do not impact external code that relies on the class's interface.\n",
    "\n",
    "4. **Security and Data Integrity**:\n",
    "   - Encapsulation provides control over data access and modification by using private, protected, and public access modifiers.\n",
    "   - Private attributes can only be accessed or modified through controlled methods (getters and setters), allowing you to enforce constraints, validation, and data integrity.\n",
    "   - Security checks, access control, and data validation can be added to getter and setter methods, ensuring that data remains consistent and secure.\n",
    "\n",
    "5. **Encapsulation of State**:\n",
    "   - Encapsulation allows you to encapsulate the state of an object within the object itself. This minimizes the risk of external code inadvertently or maliciously altering an object's state.\n",
    "   - The encapsulation of state is especially important when developing software that needs to maintain data integrity and protect sensitive information.\n",
    "\n",
    "6. **Flexibility and Extensibility**:\n",
    "   - Encapsulation allows you to modify the internal implementation of a class without affecting external code that relies on the class's interface. This promotes code flexibility and extensibility.\n",
    "   - You can extend classes by creating new subclasses while adhering to the existing interface, enabling you to reuse and build upon existing code.\n",
    "\n",
    "7. **Documentation and Interface Clarity**:\n",
    "   - Encapsulation encourages clear documentation and well-defined class interfaces. When the interface is well-documented, it's easier for other developers to understand and use your classes.\n",
    "   - Code using encapsulated classes becomes more self-explanatory and less error-prone due to the clear separation of concerns.\n",
    "\n",
    "Overall, encapsulation is a fundamental concept in OOP that leads to more modular, maintainable, and secure code. It enables you to build robust and flexible software systems by providing a clear and controlled way to manage data and behavior. It also enhances security by controlling data access and modification, making it an important practice for software development."
   ]
  },
  {
   "cell_type": "markdown",
   "id": "5c958a2a-f286-4566-8639-9466cafece85",
   "metadata": {},
   "source": [
    "#### 10. How can you access private attributes in Python? Provide an example demonstrating the use of name mangling."
   ]
  },
  {
   "cell_type": "markdown",
   "id": "fb16dd6c-d27f-49cd-81bc-f02654607fca",
   "metadata": {},
   "source": [
    "Ans.\n",
    "\n",
    "In Python, private attributes, which are defined using a double underscore prefix (e.g., `__attribute`), are subject to name mangling. Name mangling is a mechanism that slightly modifies the name of the attribute to make it more challenging to access from outside the class. To access private attributes, you can use the mangled name, which is formed by adding the class name as a prefix and a double underscore. Here's an example:\n",
    "\n",
    "```python\n",
    "class MyClass:\n",
    "    def __init__(self):\n",
    "        self.__private_var = 10\n",
    "\n",
    "# Create an instance of the class\n",
    "obj = MyClass()\n",
    "\n",
    "# Attempt to access the private attribute directly (will result in an AttributeError)\n",
    "# print(obj.__private_var)  # This line would raise an AttributeError\n",
    "\n",
    "# Access the private attribute using name mangling\n",
    "print(obj._MyClass__private_var)  # Output: 10\n",
    "```\n",
    "\n",
    "In the example above:\n",
    "\n",
    "- The `MyClass` class defines a private attribute `__private_var`.\n",
    "- An attempt to access the private attribute directly using `obj.__private_var` would result in an `AttributeError` because of the name mangling.\n",
    "- To access the private attribute, we use the mangled name, which is `_MyClass__private_var`, and this allows us to retrieve the value of the private attribute.\n",
    "\n",
    "It's important to note that while it is possible to access private attributes using name mangling, it is generally discouraged unless there is a compelling reason to do so. Private attributes are meant to be private for a reason – to encapsulate data and limit direct access from outside the class. Accessing private attributes from outside the class can undermine the principle of encapsulation and make the code more error-prone and less maintainable."
   ]
  },
  {
   "cell_type": "markdown",
   "id": "d1127fc7-0b7d-4167-8488-f9eb29ac2854",
   "metadata": {},
   "source": [
    "#### 11. Create a Python class hierarchy for a school system, including classes for students, teachers, and courses, and implement encapsulation principles to protect sensitive information."
   ]
  },
  {
   "cell_type": "code",
   "execution_count": 102,
   "id": "81d6ec86-2a35-42d5-ba86-ead24cc33908",
   "metadata": {},
   "outputs": [],
   "source": [
    "class Person:\n",
    "    def __init__(self, name, age, address, phone_number):\n",
    "        self.__name = name\n",
    "        self.__age = age\n",
    "        self.__address = address\n",
    "        self.__phone_number = phone_number\n",
    "        \n",
    "    def get_name(self):\n",
    "        return self.__name\n",
    "    \n",
    "    def get_age(self):\n",
    "        return self.__age\n",
    "    \n",
    "    def get_address(self):\n",
    "        return self.__address\n",
    "    \n",
    "    def get_phone_number(self):\n",
    "        return self.__phone_number\n",
    "    \n",
    "class Student(Person):\n",
    "    def __init__(self, name, age, address, phone_number, student_id):\n",
    "        super().__init__(name, age, address, phone_number)\n",
    "        self.__student_id = student_id\n",
    "        self.__courses = []\n",
    "        \n",
    "    def get_student_id(self):\n",
    "        return self.__student_id\n",
    "    \n",
    "    def enroll_in_course(self, course):\n",
    "        self.__courses.append(course)\n",
    "        \n",
    "    def get_enrolled_courses(self):\n",
    "        if not self.__courses:\n",
    "            return \"Not enrolled yet in any course\"\n",
    "        else:\n",
    "            return ', '.join([course.get_course_name() for course in self.__courses])\n",
    "        \n",
    "class Teacher(Person):\n",
    "    def __init__(self, name, age, address, phone_number, teacher_id):\n",
    "        super().__init__(name, age, address, phone_number)\n",
    "        self.__teacher_id = teacher_id\n",
    "        self.__courses_taught = []\n",
    "        \n",
    "    def get_teacher_id(self):\n",
    "        return self.__teacher_id\n",
    "    \n",
    "    def assign_course(self, course):\n",
    "        self.__courses_taught.append(course)\n",
    "        \n",
    "    def get_assigned_courses(self):\n",
    "        if not self.__courses_taught:\n",
    "            return \"No course assigned yet\"\n",
    "        else:\n",
    "            return ', '.join([course.get_course_name() for course in self.__courses_taught])\n",
    "        \n",
    "class Course():\n",
    "    def __init__(self, course_name, course_code):\n",
    "        self.__course_name = course_name\n",
    "        self.__course_code = course_code\n",
    "    \n",
    "    def get_course_name(self):\n",
    "        return self.__course_name\n",
    "    \n",
    "    def get_course_code(self):\n",
    "        return self.__course_code"
   ]
  },
  {
   "cell_type": "code",
   "execution_count": 103,
   "id": "6755b08b-5c38-43fb-bfd3-84adb26734c1",
   "metadata": {},
   "outputs": [],
   "source": [
    "# Create instances of students, teachers, and courses\n",
    "s1 = Student(\"Azad\", 29, \"Stockholm\", \"0769631911\", \"mohaazad4751\")\n",
    "t1 = Teacher(\"Kumar\", 38, \"Bengaluru\", \"432543423\", \"kumar1221\")\n",
    "c1 = Course(\"Python\", \"Py101\")\n",
    "c2 = Course(\"Statistics\", \"STAT101\")\n",
    "c3 = Course(\"Machine Learning\", \"ML101\")"
   ]
  },
  {
   "cell_type": "code",
   "execution_count": 104,
   "id": "400b909c-8b7a-467b-923a-98239a58aaab",
   "metadata": {},
   "outputs": [
    {
     "data": {
      "text/plain": [
       "'Not enrolled yet in any course'"
      ]
     },
     "execution_count": 104,
     "metadata": {},
     "output_type": "execute_result"
    }
   ],
   "source": [
    "# Checking if the student got enrolled in any courses\n",
    "s1.get_enrolled_courses()"
   ]
  },
  {
   "cell_type": "code",
   "execution_count": 105,
   "id": "71f7258b-fbc4-4593-8f42-1995b2a5ea5d",
   "metadata": {},
   "outputs": [],
   "source": [
    "# Enrolling the student in courses\n",
    "s1.enroll_in_course(c1)\n",
    "s1.enroll_in_course(c2)\n",
    "s1.enroll_in_course(c3)"
   ]
  },
  {
   "cell_type": "code",
   "execution_count": 106,
   "id": "d6f6dceb-dd49-4475-96f2-19297dd2ebee",
   "metadata": {},
   "outputs": [
    {
     "data": {
      "text/plain": [
       "'Python, Statistics, Machine Learning'"
      ]
     },
     "execution_count": 106,
     "metadata": {},
     "output_type": "execute_result"
    }
   ],
   "source": [
    "# Getting the enrolled courses list\n",
    "s1.get_enrolled_courses()"
   ]
  },
  {
   "cell_type": "code",
   "execution_count": 107,
   "id": "5b7cc9c9-d592-47a3-a320-550cf843c1d4",
   "metadata": {},
   "outputs": [
    {
     "data": {
      "text/plain": [
       "'No course assigned yet'"
      ]
     },
     "execution_count": 107,
     "metadata": {},
     "output_type": "execute_result"
    }
   ],
   "source": [
    "# Checking if any course is assigned yet to the teacher\n",
    "t1.get_assigned_courses()"
   ]
  },
  {
   "cell_type": "code",
   "execution_count": 108,
   "id": "ce5485c8-ca12-463c-9b9f-88dd232bbc9d",
   "metadata": {},
   "outputs": [],
   "source": [
    "# Assigning courses to teacher\n",
    "t1.assign_course(c3)\n",
    "t1.assign_course(c1)\n",
    "t1.assign_course(c2)"
   ]
  },
  {
   "cell_type": "code",
   "execution_count": 109,
   "id": "47d8c380-7264-4221-916a-59776f39998d",
   "metadata": {},
   "outputs": [
    {
     "data": {
      "text/plain": [
       "'Machine Learning, Python, Statistics'"
      ]
     },
     "execution_count": 109,
     "metadata": {},
     "output_type": "execute_result"
    }
   ],
   "source": [
    "# Getting assigned courses\n",
    "t1.get_assigned_courses()"
   ]
  },
  {
   "cell_type": "code",
   "execution_count": 116,
   "id": "ccfe83b9-f16f-44b4-85d8-a29ddbfb51ba",
   "metadata": {},
   "outputs": [
    {
     "name": "stdout",
     "output_type": "stream",
     "text": [
      "The student name is: Azad\n",
      "The age of the student is: 29\n",
      "The registered address of the student is: Stockholm\n",
      "The courses enrolled: Python, Statistics, Machine Learning\n"
     ]
    }
   ],
   "source": [
    "# Getting student details\n",
    "print(f\"The student name is: {s1.get_name()}\")\n",
    "print(f\"The age of the student is: {s1.get_age()}\")\n",
    "print(f\"The registered address of the student is: {s1.get_address()}\")\n",
    "print(f\"The courses enrolled: {s1.get_enrolled_courses()}\")"
   ]
  },
  {
   "cell_type": "code",
   "execution_count": 117,
   "id": "6fbdba27-2b15-4efc-bfc1-5b93fd586925",
   "metadata": {},
   "outputs": [
    {
     "name": "stdout",
     "output_type": "stream",
     "text": [
      "The teacher name: Kumar\n",
      "The teacher age is: 38\n",
      "The teacher's address is: Bengaluru\n",
      "The teacher's assigned courses are: Machine Learning, Python, Statistics\n"
     ]
    }
   ],
   "source": [
    "# Getting teacher details\n",
    "print(f\"The teacher name: {t1.get_name()}\")\n",
    "print(f\"The teacher age is: {t1.get_age()}\")\n",
    "print(f\"The teacher's address is: {t1.get_address()}\")\n",
    "print(f\"The teacher's assigned courses are: {t1.get_assigned_courses()}\")"
   ]
  },
  {
   "cell_type": "markdown",
   "id": "cccae954-37f1-4d78-8505-80d0ab1a957a",
   "metadata": {},
   "source": [
    "#### 12. Explain the concept of property decorators in Python and how they relate to encapsulation."
   ]
  },
  {
   "cell_type": "markdown",
   "id": "bfd2df1a-709b-4599-808d-1de0a8bb7038",
   "metadata": {},
   "source": [
    "Ans.\n",
    "\n",
    "Property decorators in Python are a powerful feature that allows you to control access to class attributes, providing a way to encapsulate attribute access and modification. Property decorators are used to define getter, setter, and deleter methods for class attributes, making it possible to enforce rules or computations when accessing or modifying attribute values. They relate to encapsulation by allowing you to define how attributes are accessed, modified, and deleted while hiding the underlying implementation details.\n",
    "\n",
    "There are three main property decorators in Python:\n",
    "\n",
    "1. `@property`: This decorator is used to define a getter method for an attribute. When you use the `@property` decorator, you can access the attribute as if it were a regular attribute, but you can also add custom behavior when getting its value. This is often used to make a read-only property, compute values on-the-fly, or add validation.\n",
    "\n",
    "2. `@<attribute_name>.setter`: This decorator defines a setter method for an attribute. It is used to define custom behavior when assigning a value to an attribute. You can perform validation, calculations, or other operations when setting the attribute's value.\n",
    "\n",
    "3. `@<attribute_name>.deleter`: This decorator defines a deleter method for an attribute. It is used to define custom behavior when deleting an attribute. This is less commonly used but can be useful in specific cases where you need to take action when an attribute is deleted.\n",
    "\n",
    "Here's an example that demonstrates the use of property decorators for encapsulation:\n",
    "\n",
    "```python\n",
    "class Circle:\n",
    "    def __init__(self, radius):\n",
    "        self._radius = radius  # Protected attribute\n",
    "\n",
    "    @property\n",
    "    def radius(self):\n",
    "        return self._radius\n",
    "\n",
    "    @radius.setter\n",
    "    def radius(self, value):\n",
    "        if value < 0:\n",
    "            raise ValueError(\"Radius cannot be negative\")\n",
    "        self._radius = value\n",
    "\n",
    "    @radius.deleter\n",
    "    def radius(self):\n",
    "        print(\"Deleting the radius attribute\")\n",
    "        del self._radius\n",
    "\n",
    "    @property\n",
    "    def area(self):\n",
    "        return 3.14159 * (self.radius ** 2)\n",
    "\n",
    "# Create a Circle object\n",
    "circle = Circle(5)\n",
    "\n",
    "# Accessing the radius using the getter (property)\n",
    "print(circle.radius)  # Output: 5\n",
    "\n",
    "# Setting the radius using the setter\n",
    "circle.radius = 7\n",
    "\n",
    "# Accessing the area (computed property)\n",
    "print(circle.area)  # Output: 153.937\n",
    "\n",
    "# Try to set a negative radius (raises an error)\n",
    "# circle.radius = -3  # This would raise a ValueError\n",
    "\n",
    "# Deleting the radius (calls the deleter)\n",
    "del circle.radius  # Output: \"Deleting the radius attribute\"\n",
    "\n",
    "# Accessing the radius after deletion (raises an AttributeError)\n",
    "# print(circle.radius)  # This would raise an AttributeError\n",
    "```\n",
    "\n",
    "In this example, the `@property`, `@radius.setter`, and `@radius.deleter` decorators are used to control access to the `radius` attribute of the `Circle` class. The `@property` decorator allows reading the radius, the `@radius.setter` decorator allows setting the radius with validation, and the `@radius.deleter` decorator specifies behavior when the attribute is deleted. This encapsulates the implementation details of the attribute and enforces rules when accessing or modifying it."
   ]
  },
  {
   "cell_type": "markdown",
   "id": "27f69edc-446e-4a97-bf92-8dac7c4b94c8",
   "metadata": {},
   "source": [
    "#### 13. What is data hiding, and why is it important in encapsulation? Provide examples."
   ]
  },
  {
   "cell_type": "markdown",
   "id": "d4bce2fa-22a5-434e-90ec-f8ba3be34303",
   "metadata": {},
   "source": [
    "Ans.\n",
    "\n",
    "**Data hiding** is a fundamental concept in encapsulation, and it involves restricting access to certain attributes or methods within a class, making them private or protected. Data hiding is essential for ensuring that the internal state and behavior of an object are not directly exposed to external code. It helps to maintain the integrity of the object's data and protects it from accidental or malicious modification, ensuring that the object adheres to its intended behavior.\n",
    "\n",
    "Data hiding is important for several reasons:\n",
    "\n",
    "1. **Encapsulation**: Data hiding is a key aspect of encapsulation, one of the four fundamental principles of object-oriented programming. Encapsulation bundles data (attributes) and methods into a single unit (a class) and controls their visibility to external code. This allows the class to expose a well-defined interface while keeping its internal implementation hidden.\n",
    "\n",
    "2. **Protection of Internal State**: By making attributes private or protected, you can control how the data is accessed and modified. This is particularly important when you want to maintain the integrity and consistency of the object's internal state.\n",
    "\n",
    "3. **Security**: Data hiding enhances security by preventing unauthorized access and modification of sensitive data. It helps protect private information or data that should not be exposed publicly.\n",
    "\n",
    "4. **Maintenance and Refactoring**: Data hiding allows you to change the internal implementation of a class without affecting the code that relies on the class's interface. This makes it easier to maintain and evolve the codebase over time.\n",
    "\n",
    "Here's an example demonstrating data hiding in Python:\n",
    "\n",
    "```python\n",
    "class BankAccount:\n",
    "    def __init__(self, account_number, initial_balance):\n",
    "        self.__account_number = account_number  # Private attribute\n",
    "        self.__balance = initial_balance  # Private attribute\n",
    "\n",
    "    def deposit(self, amount):\n",
    "        if amount > 0:\n",
    "            self.__balance += amount\n",
    "\n",
    "    def withdraw(self, amount):\n",
    "        if 0 < amount <= self.__balance:\n",
    "            self.__balance -= amount\n",
    "\n",
    "    def get_balance(self):\n",
    "        return self.__balance  # Getter method for balance\n",
    "\n",
    "# Create a BankAccount object\n",
    "account = BankAccount(\"123456\", 1000)\n",
    "\n",
    "# Attempting to access private attributes directly would raise an AttributeError\n",
    "# print(account.__account_number)  # This would raise an AttributeError\n",
    "\n",
    "# Accessing the balance using the getter method (public interface)\n",
    "print(f\"Account Balance: ${account.get_balance()}\")  # Output: \"Account Balance: $1000\"\n",
    "\n",
    "# Modifying the balance using the public deposit and withdraw methods\n",
    "account.deposit(500)\n",
    "account.withdraw(300)\n",
    "\n",
    "# Accessing the balance again through the public interface\n",
    "print(f\"Updated Balance: ${account.get_balance()}\")  # Output: \"Updated Balance: $1200\"\n",
    "```\n",
    "\n",
    "In this example, `__account_number` and `__balance` are private attributes, which means they are not directly accessible from external code. Access to these attributes is controlled through public methods (`deposit`, `withdraw`, and `get_balance`). This encapsulates the data, protecting it from unauthorized access or modification."
   ]
  },
  {
   "cell_type": "markdown",
   "id": "1dc6609f-4629-4d11-b268-28ab2edfcd8d",
   "metadata": {},
   "source": [
    "#### 14. Create a Python class called `Employee` with private attributes for salary (`__salary`) and employee ID (`__employee_id`). Provide a method to calculate yearly bonuses."
   ]
  },
  {
   "cell_type": "code",
   "execution_count": 118,
   "id": "c41aa882-f716-44cd-a3e3-5611aa2aee0e",
   "metadata": {},
   "outputs": [],
   "source": [
    "class Employee:\n",
    "    def __init__(self, employee_id, salary):\n",
    "        self.__employee_id = employee_id\n",
    "        self.__salary = salary\n",
    "        \n",
    "    def calculate_yearly_bonus(self, bonus_percentage):\n",
    "        if bonus_percentage < 0 or bonus_percentage > 1:\n",
    "            raise ValueError(\"Bonus percentage should be between 0 and 1\")\n",
    "        yearly_bonus = self.__salary * bonus_percentage\n",
    "        return yearly_bonus\n",
    "    \n",
    "    def get_employee_id(self):\n",
    "        return self.__employee_id\n",
    "    \n",
    "    \n",
    "    def get_salary(self):\n",
    "        return self.__salary"
   ]
  },
  {
   "cell_type": "code",
   "execution_count": 119,
   "id": "66e91c8f-59c2-4d34-a2e1-9921718a842b",
   "metadata": {},
   "outputs": [
    {
     "name": "stdout",
     "output_type": "stream",
     "text": [
      "Employee ID: S43123\n",
      "Employee Salary: 17500\n",
      "Yearly bonus: 1750.0\n"
     ]
    }
   ],
   "source": [
    "# Creating an Employee object\n",
    "e1 = Employee(\"S43123\", 17500)\n",
    "\n",
    "# Accessing employee ID and salary using getter methods\n",
    "print(f\"Employee ID: {e1.get_employee_id()}\")\n",
    "print(f\"Employee Salary: {e1.get_salary()}\")\n",
    "\n",
    "# Calculating and displaying the yearly bonus\n",
    "print(f\"Yearly bonus: {e1.calculate_yearly_bonus(0.10)}\")"
   ]
  },
  {
   "cell_type": "markdown",
   "id": "df137e9c-290e-4d4e-a695-1d5d962c0232",
   "metadata": {},
   "source": [
    "#### 15. Discuss the use of accessors and mutators in encapsulation. How do they help maintain control over attribute access?"
   ]
  },
  {
   "cell_type": "markdown",
   "id": "cfc55e44-0292-4d2e-b009-6d8c52e610f5",
   "metadata": {},
   "source": [
    "Ans.\n",
    "\n",
    "Accessors and mutators, often referred to as getters and setters, are methods used to control and maintain access to class attributes in encapsulation. They play a crucial role in enforcing data encapsulation and encapsulation control. Here's how they work:\n",
    "\n",
    "1. **Accessors (Getters)**:\n",
    "   - Accessors are methods used to retrieve the values of private or protected attributes.\n",
    "   - They provide controlled read-only access to attributes, allowing external code to retrieve the attribute value without directly accessing the attribute.\n",
    "   - Accessors typically have names like `get_attribute()` and return the current value of the attribute.\n",
    "   - They allow you to add logic or validation when retrieving attribute values.\n",
    "\n",
    "   Example:\n",
    "   ```python\n",
    "   class MyClass:\n",
    "       def __init__(self):\n",
    "           self.__value = 0  # Private attribute\n",
    "\n",
    "       def get_value(self):\n",
    "           return self.__value\n",
    "   ```\n",
    "\n",
    "2. **Mutators (Setters)**:\n",
    "   - Mutators are methods used to modify the values of private or protected attributes.\n",
    "   - They provide controlled write access to attributes, allowing external code to set or change the attribute's value with specified rules and validation.\n",
    "   - Mutators typically have names like `set_attribute(value)` and accept the new value as an argument.\n",
    "   - They allow you to add logic or validation when changing attribute values.\n",
    "\n",
    "   Example:\n",
    "   ```python\n",
    "   class MyClass:\n",
    "       def __init__(self):\n",
    "           self.__value = 0  # Private attribute\n",
    "\n",
    "       def set_value(self, new_value):\n",
    "           if new_value >= 0:\n",
    "               self.__value = new_value\n",
    "   ```\n",
    "\n",
    "The use of accessors and mutators helps maintain control over attribute access in several ways:\n",
    "\n",
    "- **Encapsulation**: By making attributes private or protected and providing getter and setter methods, you encapsulate the data and behavior related to that data within the class. This hides the implementation details and protects the integrity of the data.\n",
    "\n",
    "- **Validation**: Mutators (setters) allow you to validate the new value before modifying the attribute. This ensures that only valid data is stored in the attribute.\n",
    "\n",
    "- **Custom Logic**: You can add custom logic or calculations in both accessors and mutators. For example, you might compute a derived attribute value in the accessor or enforce complex rules in the mutator.\n",
    "\n",
    "- **Controlled Access**: Accessors and mutators allow you to control and modify attribute access rules as needed. This can be especially important in maintaining data consistency and preventing unwanted modifications.\n",
    "\n",
    "- **Abstraction**: Accessors and mutators provide a clear and abstract interface for interacting with attributes. They make it easier for other developers to understand how to use and interact with your class.\n",
    "\n",
    "In summary, accessors and mutators are important tools for enforcing encapsulation, data validation, and maintaining control over how attributes are accessed and modified within a class. They provide an additional layer of abstraction and control, making your code more robust and maintainable."
   ]
  },
  {
   "cell_type": "markdown",
   "id": "eba4b5c5-491a-4dec-8559-c500e90728e9",
   "metadata": {},
   "source": [
    "#### 16. What are the potential drawbacks or disadvantages of using encapsulation in Python?"
   ]
  },
  {
   "cell_type": "markdown",
   "id": "8a07fe32-bea8-435c-b868-da5e26f76ae3",
   "metadata": {},
   "source": [
    "Ans. \n",
    "\n",
    "Encapsulation is a fundamental concept in object-oriented programming and offers many benefits, but it's essential to be aware of potential drawbacks or disadvantages when using encapsulation in Python. Some of these drawbacks include:\n",
    "\n",
    "1. **Complexity**: Encapsulation can lead to increased complexity in your code. It introduces additional methods (getters and setters) for each attribute, which can make the code harder to read and maintain, especially for classes with numerous attributes.\n",
    "\n",
    "2. **Boilerplate Code**: Writing getter and setter methods for each attribute can result in boilerplate code that clutters the class definition. This can make the codebase less concise and more challenging to work with.\n",
    "\n",
    "3. **Overhead**: Accessing attributes through getter and setter methods can introduce some performance overhead compared to direct attribute access. While this overhead is typically minimal in Python, it might be a concern in performance-critical applications.\n",
    "\n",
    "4. **Limited Flexibility**: Encapsulation can make it harder to change the internal representation of a class. If you decide to change an attribute's implementation, you may need to update all the getter and setter methods that use it, potentially breaking existing code.\n",
    "\n",
    "5. **Violation of Pythonic Principles**: Python follows the \"we are all consenting adults here\" philosophy, which means it trusts developers to follow conventions and use attributes responsibly. Encapsulation, when taken to extremes, can be seen as violating this principle by enforcing strict access control.\n",
    "\n",
    "6. **Increased Learning Curve**: For newcomers to object-oriented programming, understanding the concept of encapsulation and how to use accessors and mutators may introduce a learning curve.\n",
    "\n",
    "7. **Verbose Syntax**: The syntax for accessing attributes through methods can be more verbose than direct attribute access. This can make code less readable for simple cases.\n",
    "\n",
    "8. **Limited Visibility Control**: In Python, attributes marked as private (using a single leading underscore, e.g., `_attribute`) are still accessible. While it's a convention not to access them directly, they are not completely hidden. This means that encapsulation in Python offers limited visibility control.\n",
    "\n",
    "It's important to note that the drawbacks of encapsulation are often context-specific. Encapsulation can provide significant advantages, such as data protection, code organization, and improved maintainability. Whether you choose to use encapsulation in your Python code should depend on the specific needs of your application and the trade-offs you are willing to make. In Python, it's common to use encapsulation judiciously, striking a balance between encapsulation and ease of use."
   ]
  },
  {
   "cell_type": "markdown",
   "id": "0903577e-1490-4dd5-8216-47bfa5f06172",
   "metadata": {},
   "source": [
    "#### 17. Create a Python class for a library system that encapsulates book information, including titles, authors, and availability status.\n",
    "(Not done yet)"
   ]
  },
  {
   "cell_type": "code",
   "execution_count": 38,
   "id": "bc18e94c-285d-4dd8-b858-a4f3ee4f811c",
   "metadata": {},
   "outputs": [],
   "source": [
    "class Book:\n",
    "    def __init__(self, book_title, author):\n",
    "        self.__book_title = book_title\n",
    "        self.__author = author\n",
    "        self.__available = True\n",
    "    \n",
    "    def get_title(self):\n",
    "        return self.__book_title\n",
    "    \n",
    "    def get_author(self):\n",
    "        return self.__author\n",
    "    \n",
    "    def is_available(self):\n",
    "        return self.__available\n",
    "\n",
    "    \n",
    "    def borrow(self):\n",
    "        if self.__available:\n",
    "            return \"Book has been borrowed.\"\n",
    "        else:\n",
    "            return \"Book is not available for borrowing.\"\n",
    "        \n",
    "    def return_book(self):\n",
    "        if not self.__available:\n",
    "            self.__available = True\n",
    "            return \"Book has been returned.\"\n",
    "        else:\n",
    "            return \"Book is already available.\"        "
   ]
  },
  {
   "cell_type": "code",
   "execution_count": 39,
   "id": "ff7c7266-29c6-44f7-8527-2b5cf6718365",
   "metadata": {},
   "outputs": [],
   "source": [
    "# Creating Book Objects\n",
    "b1 = Book(\"Mujeeb, the father of a nation\", \"Akram Ullah\")\n",
    "b2 = Book(\"Azad's Biopic\", \"Sanjida Yasmin\")"
   ]
  },
  {
   "cell_type": "code",
   "execution_count": 40,
   "id": "6320e18d-d886-46d9-8d2f-ee29f6a6066b",
   "metadata": {},
   "outputs": [
    {
     "name": "stdout",
     "output_type": "stream",
     "text": [
      "Akram Ullah\n",
      "Sanjida Yasmin\n"
     ]
    }
   ],
   "source": [
    "# Displaying book information (Author)\n",
    "print(f\"{b1.get_author()}\")\n",
    "print(f\"{b2.get_author()}\")"
   ]
  },
  {
   "cell_type": "code",
   "execution_count": 41,
   "id": "6d438e28-6d0a-4320-a29b-5233e8092f0b",
   "metadata": {},
   "outputs": [
    {
     "name": "stdout",
     "output_type": "stream",
     "text": [
      "Mujeeb, the father of a nation\n",
      "Azad's Biopic\n"
     ]
    }
   ],
   "source": [
    "# Displaying book information (Title)\n",
    "print(f\"{b1.get_title()}\")\n",
    "print(f\"{b2.get_title()}\")"
   ]
  },
  {
   "cell_type": "code",
   "execution_count": 42,
   "id": "ddbabb10-bad7-4920-a690-31c641d77645",
   "metadata": {},
   "outputs": [
    {
     "name": "stdout",
     "output_type": "stream",
     "text": [
      "True\n",
      "True\n"
     ]
    }
   ],
   "source": [
    "# Checking availability\n",
    "print(f\"{b1.is_available()}\")\n",
    "print(f\"{b2.is_available()}\")"
   ]
  },
  {
   "cell_type": "code",
   "execution_count": 44,
   "id": "3d6539f3-3ea2-49d9-98f6-bdcfc92e3399",
   "metadata": {},
   "outputs": [
    {
     "name": "stdout",
     "output_type": "stream",
     "text": [
      "Book has been borrowed.\n"
     ]
    }
   ],
   "source": [
    "# Borrowing book\n",
    "print(f\"{b1.borrow()}\")"
   ]
  },
  {
   "cell_type": "code",
   "execution_count": 45,
   "id": "366d5763-68d8-47a9-9134-dae2918fed16",
   "metadata": {},
   "outputs": [
    {
     "name": "stdout",
     "output_type": "stream",
     "text": [
      "True\n",
      "True\n"
     ]
    }
   ],
   "source": [
    "# Checking availability\n",
    "print(f\"{b1.is_available()}\")\n",
    "print(f\"{b2.is_available()}\")"
   ]
  },
  {
   "cell_type": "markdown",
   "id": "0caaea71-d6c5-4fde-bbc9-0c4d4762aa20",
   "metadata": {},
   "source": [
    "#### 18. Explain how encapsulation enhances code reusability and modularity in Python programs."
   ]
  },
  {
   "cell_type": "markdown",
   "id": "44f267d8-3259-45e0-8ed2-b506ae5dcee7",
   "metadata": {},
   "source": [
    "Ans. \n",
    "\n",
    "Encapsulation enhances code reusability and modularity in Python programs by promoting well-structured, maintainable, and easily extensible code. Here's how encapsulation achieves these benefits:\n",
    "\n",
    "1. **Encapsulation Separates Concerns**:\n",
    "   - Encapsulation encourages the separation of an object's internal state (attributes) and behavior (methods) from the external code that interacts with the object.\n",
    "   - This separation of concerns ensures that the internal implementation details of an object are hidden, allowing external code to interact with the object through a well-defined interface.\n",
    "   - As a result, code for different aspects of a program (e.g., user interfaces, data processing, and data storage) can be developed and modified independently.\n",
    "\n",
    "2. **Promotes Code Reusability**:\n",
    "   - Encapsulation encourages the creation of reusable and self-contained classes and objects.\n",
    "   - When you encapsulate functionality within classes, those classes can be reused across different parts of your program and even in other programs. They serve as building blocks that can be used as needed.\n",
    "   - Code reusability reduces redundant code and promotes a more efficient and maintainable codebase.\n",
    "\n",
    "3. **Modularity**:\n",
    "   - Encapsulation fosters modularity by allowing you to develop and maintain modules (classes) that are self-contained and have well-defined interfaces.\n",
    "   - Modules can be developed and tested independently, making it easier to focus on specific components of a program without needing to understand the entire codebase.\n",
    "   - Modules can be swapped or extended without affecting the rest of the program, which simplifies debugging, testing, and maintenance.\n",
    "\n",
    "4. **Maintainability and Ease of Change**:\n",
    "   - Encapsulated code is easier to maintain and update. Changes to the internal implementation of a class do not require modifications to the external code that uses the class.\n",
    "   - Encapsulation allows you to make changes to the internal details of a class without impacting the code that relies on its interface. This reduces the risk of introducing bugs when making updates.\n",
    "\n",
    "5. **Improved Collaboration**:\n",
    "   - Encapsulation promotes collaboration among team members. When classes have well-defined interfaces and clear responsibilities, team members can work on different parts of the program without stepping on each other's toes.\n",
    "   - Teams can develop classes and components in parallel, increasing productivity and ensuring that each component is a black box with a clear purpose.\n",
    "\n",
    "6. **Reduced Complexity and Cognitive Load**:\n",
    "   - Encapsulation reduces the complexity and cognitive load on developers. By hiding internal details, encapsulation simplifies how external code interacts with a class or module.\n",
    "   - This makes it easier for developers to understand and use classes, even if they don't need to understand the inner workings of those classes.\n",
    "\n",
    "Overall, encapsulation contributes to cleaner, more organized, and maintainable code. It allows you to develop software in a modular fashion, making it easier to manage, extend, and reuse components. Encapsulation is a cornerstone of object-oriented programming and is particularly valuable in Python, where it aligns well with the language's principles of code clarity and flexibility."
   ]
  },
  {
   "cell_type": "markdown",
   "id": "e682987b-1198-4b29-8ba0-924bbb1c610e",
   "metadata": {},
   "source": [
    "#### 19. Describe the concept of information hiding in encapsulation. Why is it essential in software development?"
   ]
  },
  {
   "cell_type": "markdown",
   "id": "e145db30-3741-46a0-bac6-92f056cbf336",
   "metadata": {},
   "source": [
    "Ans.\n",
    "\n",
    "**Information hiding** is a fundamental concept in encapsulation and software development. It refers to the practice of concealing the internal details of how a class or module is implemented, limiting the visibility of certain attributes and methods to external code. This is essential for several reasons:\n",
    "\n",
    "1. **Abstraction**: Information hiding allows you to present a simplified and abstract interface to the users of a class or module. External code interacts with the class through this interface, which hides the complex implementation details. This simplification makes it easier for developers to work with the class without needing to understand its internal complexities.\n",
    "\n",
    "2. **Modularity**: Encapsulated modules that hide their implementation details are more modular. Each module can be developed, tested, and maintained independently of the others. This modular design reduces the complexity of the system and allows for easier collaboration among developers working on different components.\n",
    "\n",
    "3. **Security**: Information hiding enhances security. By limiting access to sensitive data and operations, it helps protect the integrity and confidentiality of data. It prevents unauthorized access and modification, reducing the risk of security vulnerabilities.\n",
    "\n",
    "4. **Reduced Complexity**: Concealing implementation details reduces the cognitive load on developers. They don't need to understand how every part of the system works to use it effectively. This simplifies software development, maintenance, and debugging.\n",
    "\n",
    "5. **Flexibility and Maintenance**: Information hiding allows you to change the internal implementation of a class or module without affecting external code that relies on its interface. This flexibility is crucial for maintaining and evolving software over time.\n",
    "\n",
    "6. **Black Box Testing**: External code can treat an encapsulated class or module as a \"black box.\" Developers don't need to know how it works internally; they can focus on testing its functionality and behavior against a well-defined interface.\n",
    "\n",
    "7. **API Design**: Information hiding is essential when designing APIs (Application Programming Interfaces) for libraries and software components. APIs define how external code interacts with a module or service. By hiding implementation details, APIs ensure that the developer using the API can rely on stable, documented behavior.\n",
    "\n",
    "8. **Code Reusability**: Encapsulated classes and modules become reusable building blocks in software development. Other developers can use these components without needing to understand how they work internally. This promotes code reusability and accelerates development.\n",
    "\n",
    "In summary, information hiding is essential in software development because it promotes abstraction, modularity, security, and reduced complexity. It enables developers to work effectively with complex systems, maintain code over time, and ensure that software components are secure and reliable. Encapsulation, including information hiding, is a cornerstone of good software design and development practices."
   ]
  },
  {
   "cell_type": "markdown",
   "id": "8ba7149f-a8d3-44f7-8db0-ead530e7bc96",
   "metadata": {},
   "source": [
    "#### 20. Create a Python class called `Customer` with private attributes for customer details like name, address, and contact information. Implement encapsulation to ensure data integrity and security."
   ]
  },
  {
   "cell_type": "code",
   "execution_count": 92,
   "id": "8e8c7ec1-45df-4067-9b5b-4e4202bc091e",
   "metadata": {},
   "outputs": [],
   "source": [
    "class Customer:\n",
    "    def __init__(self, name, address, contact_info):\n",
    "        self.__name = name\n",
    "        self.__address = address\n",
    "        self.__contact_info = contact_info\n",
    "        \n",
    "    def get_name(self):\n",
    "        return self.__name\n",
    "    \n",
    "    def get_address(self):\n",
    "        return self.__address\n",
    "    \n",
    "    def get_contact_info(self):\n",
    "        return self.__contact_info\n",
    "    \n",
    "    def update_address(self, new_address):\n",
    "        self.__address = new_address\n",
    "        \n",
    "    def update_contact_info(self, new_contact_info):\n",
    "        self.__contact_info = new_contact_info\n",
    "        \n",
    "        \n",
    "    def __str__(self):\n",
    "        # The __str__ method is defined to provide a string representation of the Customer object for easy printing.\n",
    "        return f\"Customer Details:\\nName: {self.__name}\\nAddress: {self.__address}\\nContact Info: {self.__contact_info}\"\n"
   ]
  },
  {
   "cell_type": "code",
   "execution_count": 93,
   "id": "f1e76ac1-4366-4426-8b13-6c1a11cf9bf5",
   "metadata": {},
   "outputs": [],
   "source": [
    "# Creating Customer Object\n",
    "c1 = Customer(\"Azad\", \"Chittagong\", 34323453)"
   ]
  },
  {
   "cell_type": "code",
   "execution_count": 94,
   "id": "37300393-8fc6-4545-9588-88752622e8c5",
   "metadata": {},
   "outputs": [
    {
     "name": "stdout",
     "output_type": "stream",
     "text": [
      "Customer Details:\n",
      "Name: Azad\n",
      "Address: Chittagong\n",
      "Contact Info: 34323453\n"
     ]
    }
   ],
   "source": [
    "# Displaying Customer Details\n",
    "print(c1)"
   ]
  },
  {
   "cell_type": "code",
   "execution_count": 95,
   "id": "f272c32e-c54e-4710-9fad-374bcad6dfcc",
   "metadata": {},
   "outputs": [],
   "source": [
    "# Access and update customer details using getter and setter methods\n",
    "c1.update_address(\"Bäckgårdsvagen 4, Stockholm\")"
   ]
  },
  {
   "cell_type": "code",
   "execution_count": 96,
   "id": "613561e5-1718-47ad-9c34-ec7a3e1cc0b4",
   "metadata": {},
   "outputs": [
    {
     "name": "stdout",
     "output_type": "stream",
     "text": [
      "Customer Details:\n",
      "Name: Azad\n",
      "Address: Bäckgårdsvagen 4, Stockholm\n",
      "Contact Info: 34323453\n"
     ]
    }
   ],
   "source": [
    "# Displaying Customer Details (Updated)\n",
    "print(c1)"
   ]
  },
  {
   "cell_type": "markdown",
   "id": "5c71d126-7aea-4bea-a8dc-5e4df2bfaa00",
   "metadata": {},
   "source": [
    "## Polymorphism"
   ]
  },
  {
   "cell_type": "markdown",
   "id": "db20d91d-3207-43fe-b1b6-6d95fd96e090",
   "metadata": {},
   "source": [
    "#### 1. What is polymorphism in Python? Explain how it is related to object-oriented programming."
   ]
  },
  {
   "cell_type": "markdown",
   "id": "98460f93-c981-4e3c-b9fa-c9117618c3eb",
   "metadata": {},
   "source": [
    "Ans.\n",
    "\n",
    "**Polymorphism** is a fundamental concept in object-oriented programming (OOP) that allows objects of different classes to be treated as objects of a common base class. It enables you to write code that can work with objects of various types and classes in a consistent and generalized manner.\n",
    "\n",
    "Polymorphism is related to OOP in the following ways:\n",
    "\n",
    "1. **Inheritance and Subtyping**: Polymorphism is closely tied to the concepts of inheritance and subtyping. When you create a subclass that inherits from a base class, you can use polymorphism to treat objects of the derived class as if they were objects of the base class. This allows you to create a hierarchy of related classes with varying implementations of methods.\n",
    "\n",
    "2. **Method Overriding**: Polymorphism relies on method overriding, where a subclass provides a specific implementation of a method that is already defined in the base class. This allows you to customize the behavior of objects while adhering to a common interface.\n",
    "\n",
    "3. **Common Interface**: In polymorphism, classes that inherit from a common base class share a common interface. This means they have methods with the same names and parameters. Code that uses polymorphism can work with objects of different classes as long as they adhere to this common interface.\n",
    "\n",
    "4. **Dynamic Binding**: In many object-oriented languages, including Python, polymorphism is achieved through dynamic binding. This means that the decision about which method implementation to call is made at runtime based on the actual type of the object. This allows for flexibility and extensibility in the code.\n",
    "\n",
    "5. **Code Reusability**: Polymorphism enhances code reusability by allowing you to create generic code that can work with different objects. It promotes the development of libraries and frameworks that can be used with a wide range of objects, making your code more versatile.\n",
    "\n",
    "6. **Abstraction and Encapsulation**: Polymorphism contributes to the principles of abstraction and encapsulation by allowing you to interact with objects at a high level of abstraction, focusing on what the objects do (their methods) rather than how they do it (their internal implementations).\n",
    "\n",
    "7. **Interface and Implementation Separation**: Polymorphism helps separate the interface of a class (the methods it exposes) from its implementation details. This is a key aspect of OOP, enabling you to change the implementation of a class without affecting external code that relies on the class's interface.\n",
    "\n",
    "In Python, polymorphism is a core feature of the language. It allows you to create diverse classes, each with its own implementations, and use them interchangeably when they adhere to a common interface. This flexibility and extensibility make Python a powerful language for building complex and dynamic software systems."
   ]
  },
  {
   "cell_type": "markdown",
   "id": "4ce16d21-0b8f-4f31-956f-1da178faa1f0",
   "metadata": {},
   "source": [
    "#### 2. Describe the difference between compile-time polymorphism and runtime polymorphism in Python."
   ]
  },
  {
   "cell_type": "markdown",
   "id": "f1cc64ff-a3e6-4594-a6c9-d989f5deee0a",
   "metadata": {},
   "source": [
    "Ans.\n",
    "\n",
    "The difference between compile-time polymorphism (also known as static polymorphism) and runtime polymorphism (also known as dynamic polymorphism) in Python lies in when the method to be executed is determined:\n",
    "\n",
    "1. **Compile-Time Polymorphism (Static Polymorphism):**\n",
    "   - Compile-time polymorphism is resolved at compile time, which means that the determination of which method to call is made during the compilation phase of the program.\n",
    "   - It is also known as method overloading or function overloading. In Python, this typically involves defining multiple methods with the same name in the same class, but with different parameter lists.\n",
    "   - The compiler selects the appropriate method to call based on the number and types of arguments passed to the function. This is also known as \"early binding.\"\n",
    "\n",
    "   Example of compile-time polymorphism in Python:\n",
    "   ```python\n",
    "   class Calculator:\n",
    "       def add(self, a, b):\n",
    "           return a + b\n",
    "\n",
    "       def add(self, a, b, c):\n",
    "           return a + b + c\n",
    "\n",
    "   calc = Calculator()\n",
    "   result1 = calc.add(1, 2)  # Calls the first add method\n",
    "   result2 = calc.add(1, 2, 3)  # Calls the second add method\n",
    "   ```\n",
    "\n",
    "2. **Runtime Polymorphism (Dynamic Polymorphism):**\n",
    "   - Runtime polymorphism is resolved at runtime, which means that the determination of which method to call is made during the execution of the program.\n",
    "   - It is also known as method overriding. In Python, this involves defining a method in a subclass with the same name and parameter list as a method in the superclass. The actual method to be called is determined by the object's actual type during runtime. This is also known as \"late binding.\"\n",
    "\n",
    "   Example of runtime polymorphism in Python:\n",
    "   ```python\n",
    "   class Animal:\n",
    "       def speak(self):\n",
    "           pass\n",
    "\n",
    "   class Dog(Animal):\n",
    "       def speak(self):\n",
    "           return \"Woof!\"\n",
    "\n",
    "   class Cat(Animal):\n",
    "       def speak(self):\n",
    "           return \"Meow!\"\n",
    "\n",
    "   def make_animal_speak(animal):\n",
    "       return animal.speak()\n",
    "\n",
    "   dog = Dog()\n",
    "   cat = Cat()\n",
    "\n",
    "   print(make_animal_speak(dog))  # Calls Dog's speak method\n",
    "   print(make_animal_speak(cat))  # Calls Cat's speak method\n",
    "   ```\n",
    "\n",
    "In summary, the key difference is that compile-time polymorphism involves method overloading and is determined at compile time, while runtime polymorphism involves method overriding and is determined at runtime based on the actual type of the object. Python mainly uses runtime polymorphism, as it is a dynamically-typed language where the types of objects are determined at runtime."
   ]
  },
  {
   "cell_type": "markdown",
   "id": "f4fb8508-c3a2-45e6-8d4c-27737cbca785",
   "metadata": {},
   "source": [
    "#### 3. Create a Python class hierarchy for shapes (e.g., circle, square, triangle) and demonstrate polymorphism through a common method, such as `calculate_area()`."
   ]
  },
  {
   "cell_type": "code",
   "execution_count": 97,
   "id": "def31351-de96-4ec5-ba91-4affa4862926",
   "metadata": {},
   "outputs": [],
   "source": [
    "import math\n",
    "\n",
    "class Shape:\n",
    "    def calculate_area(self):\n",
    "        pass\n",
    "    \n",
    "class Circle(Shape):\n",
    "    def __init__(self, radius):\n",
    "        self.radius = radius\n",
    "        \n",
    "    def calculate_area(self):\n",
    "        return math.pi * self.radius ** 2\n",
    "    \n",
    "class Square(Shape):\n",
    "    def __init__(self, side):\n",
    "        self.side = side\n",
    "        \n",
    "    def calculate_area(self):\n",
    "        return self.side ** 2\n",
    "    \n",
    "class Triangle(Shape):\n",
    "    def __init__(self, base, height):\n",
    "        self.base = base\n",
    "        self.height = height\n",
    "        \n",
    "    def calculate_area(self):\n",
    "        return 0.5 * self.base * self.height"
   ]
  },
  {
   "cell_type": "code",
   "execution_count": 101,
   "id": "113231b1-7e67-44b7-b7a7-a066e3aa79d6",
   "metadata": {},
   "outputs": [
    {
     "name": "stdout",
     "output_type": "stream",
     "text": [
      "Area of Circle:  78.54\n",
      "Area of Square:  16.00\n",
      "Area of Triangle:  9.00\n"
     ]
    }
   ],
   "source": [
    "# Creating instances of different shapes\n",
    "circle = Circle(5)\n",
    "square = Square(4)\n",
    "triangle = Triangle(3,6)\n",
    "\n",
    "# Calculating and printing the areas of the shapes using polymorphism\n",
    "shapes = [circle, square, triangle]\n",
    "\n",
    "for shape in shapes:\n",
    "    area = shape.calculate_area()\n",
    "    print(f\"Area of {shape.__class__.__name__}: {area: .2f}\")"
   ]
  },
  {
   "cell_type": "markdown",
   "id": "02d19041-1ec9-4528-8626-1ce51dcee09c",
   "metadata": {},
   "source": [
    "#### 4. Explain the concept of method overriding in polymorphism. Provide an example."
   ]
  },
  {
   "cell_type": "markdown",
   "id": "6977b23d-e370-4ec5-be77-7488abf15e25",
   "metadata": {},
   "source": [
    "Ans.\n",
    "\n",
    "**Method overriding** is a fundamental concept in polymorphism and object-oriented programming (OOP). It allows a subclass to provide a specific implementation of a method that is already defined in its superclass. The overriding method in the subclass has the same name, return type, and parameter list as the method in the superclass. When an overridden method is called on an object of the subclass, the subclass's implementation is executed instead of the superclass's implementation.\n",
    "\n",
    "Here's an example to illustrate method overriding in Python:\n",
    "\n",
    "```python\n",
    "class Animal:\n",
    "    def speak(self):\n",
    "        return \"Some generic animal sound\"\n",
    "\n",
    "class Dog(Animal):\n",
    "    def speak(self):\n",
    "        return \"Woof!\"\n",
    "\n",
    "class Cat(Animal):\n",
    "    def speak(self):\n",
    "        return \"Meow!\"\n",
    "\n",
    "# Create instances of different animals\n",
    "animal = Animal()\n",
    "dog = Dog()\n",
    "cat = Cat()\n",
    "\n",
    "# Call the speak method on different objects\n",
    "print(animal.speak())  # Calls Animal's speak method\n",
    "print(dog.speak())     # Calls Dog's speak method (overridden)\n",
    "print(cat.speak())     # Calls Cat's speak method (overridden)\n",
    "```\n",
    "\n",
    "In this example:\n",
    "\n",
    "1. We have a base class `Animal` with a method `speak()` that provides a generic animal sound.\n",
    "\n",
    "2. Two subclasses, `Dog` and `Cat`, inherit from the `Animal` class and override the `speak()` method with their specific implementations.\n",
    "\n",
    "3. When we create instances of `Animal`, `Dog`, and `Cat` and call the `speak()` method on these instances, polymorphism comes into play:\n",
    "\n",
    "   - Calling `animal.speak()` invokes the `speak()` method of the base class `Animal`, and it returns the generic animal sound.\n",
    "   - Calling `dog.speak()` invokes the overridden `speak()` method in the `Dog` class, and it returns \"Woof!\"—the specific sound of a dog.\n",
    "   - Calling `cat.speak()` invokes the overridden `speak()` method in the `Cat` class, and it returns \"Meow!\"—the specific sound of a cat.\n",
    "\n",
    "Method overriding allows each subclass to customize and provide its own behavior while still adhering to the same method signature defined in the superclass. This is a powerful mechanism for creating class hierarchies where different subclasses can have specialized behavior while maintaining a common interface for external code that interacts with objects of the base class."
   ]
  },
  {
   "cell_type": "markdown",
   "id": "d097e0cf-e708-4f8d-a022-04d17228db7d",
   "metadata": {},
   "source": [
    "#### 5. How is polymorphism different from method overloading in Python? Provide examples for both."
   ]
  },
  {
   "cell_type": "markdown",
   "id": "5ad44f2b-bb25-4802-acad-e5d6496285ed",
   "metadata": {},
   "source": [
    "Ans.\n",
    "\n",
    "**Polymorphism** and **method overloading** are related concepts in Python, but they have distinct differences. Let's explore both concepts with examples to understand their differences.\n",
    "\n",
    "1. **Polymorphism:**\n",
    "\n",
    "   - **Polymorphism** allows objects of different classes to be treated as objects of a common base class. It enables you to use a single method or function to operate on objects of various types, and the appropriate method implementation is called based on the actual object's type at runtime.\n",
    "\n",
    "   - In Python, polymorphism is typically achieved through method overriding in subclasses, where each subclass provides its own implementation of a method with the same name as the one in the superclass.\n",
    "\n",
    "   - The key characteristic of polymorphism is that the method name and parameter list remain the same across the different classes, and the decision of which method to execute is made at runtime based on the actual type of the object.\n",
    "\n",
    "   Example of polymorphism in Python:\n",
    "\n",
    "   ```python\n",
    "   class Animal:\n",
    "       def speak(self):\n",
    "           pass\n",
    "\n",
    "   class Dog(Animal):\n",
    "       def speak(self):\n",
    "           return \"Woof!\"\n",
    "\n",
    "   class Cat(Animal):\n",
    "       def speak(self):\n",
    "           return \"Meow!\"\n",
    "\n",
    "   def make_animal_speak(animal):\n",
    "       return animal.speak()\n",
    "\n",
    "   dog = Dog()\n",
    "   cat = Cat()\n",
    "\n",
    "   print(make_animal_speak(dog))  # Calls Dog's speak method\n",
    "   print(make_animal_speak(cat))  # Calls Cat's speak method\n",
    "   ```\n",
    "\n",
    "2. **Method Overloading:**\n",
    "\n",
    "   - **Method overloading** refers to defining multiple methods in the same class with the same name but different parameter lists. The method to be executed is determined at compile time based on the number and types of arguments provided.\n",
    "\n",
    "   - In Python, method overloading is not supported in the same way as in languages like Java or C++. Python does not allow you to have multiple methods with the same name that only differ in the parameter list. If you define multiple methods with the same name, the last one defined will overwrite the previous ones.\n",
    "\n",
    "   - To achieve a form of method overloading in Python, you can use default arguments and variable-length argument lists (e.g., `*args` and `**kwargs`) to create methods that can accept different sets of arguments. This allows a single method to handle multiple cases based on the provided arguments.\n",
    "\n",
    "   Example of a simple form of method overloading in Python:\n",
    "\n",
    "   ```python\n",
    "   class Calculator:\n",
    "       def add(self, a, b):\n",
    "           return a + b\n",
    "\n",
    "       def add(self, a, b, c):\n",
    "           return a + b + c\n",
    "\n",
    "   calc = Calculator()\n",
    "   result1 = calc.add(1, 2)      # Calls the first add method\n",
    "   result2 = calc.add(1, 2, 3)   # Calls the second add method\n",
    "   ```\n",
    "\n",
    "In summary, polymorphism deals with the runtime execution of methods based on the actual type of the object, while method overloading (in the traditional sense) involves defining multiple methods in the same class with different parameter lists. Python doesn't support method overloading in the same way as some other languages, but you can achieve method overloading using default arguments and variable-length argument lists to handle different cases."
   ]
  },
  {
   "cell_type": "markdown",
   "id": "5525c514-116e-4cc7-8b01-7118cf7dacbe",
   "metadata": {},
   "source": [
    "#### 6. Create a Python class called `Animal` with a method `speak()`. Then, create child classes like `Dog`, `Cat`, and `Bird`, each with their own `speak()` method. Demonstrate polymorphism by calling the `speak()` method on objects of different subclasses."
   ]
  },
  {
   "cell_type": "code",
   "execution_count": 102,
   "id": "c1b230d7-446f-424b-ad34-4d7a8dec874a",
   "metadata": {},
   "outputs": [],
   "source": [
    "class Animal:\n",
    "    def speak(self):\n",
    "        return \"Different animals make different sounds\"\n",
    "    \n",
    "class Dog(Animal):\n",
    "    def speak(self):\n",
    "        return \"Dog barks\"\n",
    "    \n",
    "class Cat(Animal):\n",
    "    def speak(self):\n",
    "        return \"Cat meows\"\n",
    "    \n",
    "class Bird(Animal):\n",
    "    def speak(self):\n",
    "        return \"Birds chirps\""
   ]
  },
  {
   "cell_type": "code",
   "execution_count": 104,
   "id": "3adad7ea-41ce-4079-ba7c-1c4d905a8560",
   "metadata": {},
   "outputs": [
    {
     "name": "stdout",
     "output_type": "stream",
     "text": [
      "Different animals make different sounds\n",
      "Dog barks\n",
      "Cat meows\n",
      "Birds chirps\n"
     ]
    }
   ],
   "source": [
    "# Creating instances\n",
    "\n",
    "a1 = Animal()\n",
    "d1 = Dog()\n",
    "c1 = Cat()\n",
    "b1 = Bird()\n",
    "\n",
    "# Printing expected output\n",
    "print(a1.speak())\n",
    "print(d1.speak())\n",
    "print(c1.speak())\n",
    "print(b1.speak())"
   ]
  },
  {
   "cell_type": "markdown",
   "id": "c6bad9b4-abb2-4431-8061-99596831ebfa",
   "metadata": {},
   "source": [
    "#### 7. Discuss the use of abstract methods and classes in achieving polymorphism in Python. Provide an example using the `abc` module."
   ]
  },
  {
   "cell_type": "markdown",
   "id": "ff21eebe-72f8-499f-8ddf-19e9d156f07d",
   "metadata": {},
   "source": [
    "Ans.\n",
    "\n",
    "**Abstract methods and classes** are a way to achieve polymorphism and enforce a common interface in Python. They allow you to define a blueprint for methods that must be implemented in concrete subclasses. In Python, abstract methods and classes are typically implemented using the `abc` (Abstract Base Classes) module.\n",
    "\n",
    "Here's how you can use abstract methods and classes to achieve polymorphism:\n",
    "\n",
    "1. **Abstract Classes**: An abstract class is a class that cannot be instantiated directly. It serves as a blueprint for other classes and may contain one or more abstract methods. Abstract classes are defined using the `abc` module.\n",
    "\n",
    "2. **Abstract Methods**: An abstract method is a method declared in an abstract class but does not contain any implementation. Subclasses of the abstract class are required to provide an implementation for the abstract methods.\n",
    "\n",
    "Let's look at an example using the `abc` module to define an abstract class with an abstract method:\n",
    "\n",
    "```python\n",
    "from abc import ABC, abstractmethod\n",
    "\n",
    "class Shape(ABC):\n",
    "    @abstractmethod\n",
    "    def area(self):\n",
    "        pass\n",
    "\n",
    "class Circle(Shape):\n",
    "    def __init__(self, radius):\n",
    "        self.radius = radius\n",
    "\n",
    "    def area(self):\n",
    "        return 3.14 * self.radius ** 2\n",
    "\n",
    "class Square(Shape):\n",
    "    def __init__(self, side):\n",
    "        self.side = side\n",
    "\n",
    "    def area(self):\n",
    "        return self.side ** 2\n",
    "\n",
    "# Attempting to create an instance of the abstract class Shape will raise an error.\n",
    "# shape = Shape()  # This will result in a TypeError.\n",
    "\n",
    "# Create instances of concrete classes and calculate their areas\n",
    "circle = Circle(5)\n",
    "square = Square(4)\n",
    "\n",
    "print(f\"Area of the circle: {circle.area():.2f}\")\n",
    "print(f\"Area of the square: {square.area()}\")\n",
    "```\n",
    "\n",
    "In this example:\n",
    "\n",
    "- `Shape` is an abstract class defined with the `abc` module. It contains one abstract method, `area()`. The `abstractmethod` decorator marks the method as abstract, and it does not provide an implementation.\n",
    "\n",
    "- `Circle` and `Square` are concrete subclasses of `Shape`. They provide their own implementations of the `area()` method, and this method is called to calculate the area for each shape.\n",
    "\n",
    "- Attempting to create an instance of the abstract class `Shape` directly would result in a `TypeError` because abstract classes cannot be instantiated.\n",
    "\n",
    "- Instead, instances of concrete subclasses (`Circle` and `Square`) are created, and their `area()` methods are called to calculate the areas of the shapes.\n",
    "\n",
    "This example demonstrates how abstract classes and abstract methods can be used to enforce a common interface and ensure that subclasses provide specific implementations, leading to polymorphism where different classes can be treated uniformly based on their adherence to the same interface."
   ]
  },
  {
   "cell_type": "markdown",
   "id": "f1b964fe-7f0d-4209-b5b9-751d97d9b36c",
   "metadata": {},
   "source": [
    "#### 8. Create a Python class hierarchy for a vehicle system (e.g., car, bicycle, boat) and implement a polymorphic `start()` method that prints a message specific to each vehicle type."
   ]
  },
  {
   "cell_type": "code",
   "execution_count": 105,
   "id": "cc0ff9cf-fdc4-46d7-9ec1-729dbf1a5f42",
   "metadata": {},
   "outputs": [],
   "source": [
    "class Vehicle:\n",
    "    def __init__(self, brand, model):\n",
    "        self.brand = brand\n",
    "        self.model = model\n",
    "        \n",
    "    def start(self):\n",
    "        pass\n",
    "    \n",
    "class Car(Vehicle):\n",
    "    def start(self):\n",
    "        return f\"Starting the {self.brand} {self.model} car.\"\n",
    "    \n",
    "class Bicycle(Vehicle):\n",
    "    def start(self):\n",
    "        return f\"Starting the {self.brand} {self.model} bicycle.\"\n",
    "    \n",
    "class Boat(Vehicle):\n",
    "    def start(self):\n",
    "        return f\"Starting the engine of the {self.brand} {self.model} boat.\""
   ]
  },
  {
   "cell_type": "code",
   "execution_count": 106,
   "id": "e36942ac-5038-4650-94fa-9bcf419bc8a3",
   "metadata": {},
   "outputs": [
    {
     "name": "stdout",
     "output_type": "stream",
     "text": [
      "Starting the Toyota Camry car.\n",
      "Starting the Trek Mountain Bike bicycle.\n",
      "Starting the engine of the Yamaha Speedboat boat.\n"
     ]
    }
   ],
   "source": [
    "# Creating instances of different vehicles\n",
    "car = Car(\"Toyota\", \"Camry\")\n",
    "bicycle = Bicycle(\"Trek\", \"Mountain Bike\")\n",
    "boat = Boat(\"Yamaha\", \"Speedboat\")\n",
    "\n",
    "# Calling the start() method on objects of different subclasses\n",
    "print(car.start())\n",
    "print(bicycle.start())\n",
    "print(boat.start())"
   ]
  },
  {
   "cell_type": "markdown",
   "id": "696a3f1a-b588-4c09-a9fe-b2ec9347e56d",
   "metadata": {},
   "source": [
    "#### 9. Explain the significance of the `isinstance()` and `issubclass()` functions in Python polymorphism."
   ]
  },
  {
   "cell_type": "markdown",
   "id": "16f8cf09-427e-488d-966b-507692920e61",
   "metadata": {},
   "source": [
    "Ans. \n",
    "\n",
    "The `isinstance()` and `issubclass()` functions in Python are significant in the context of **polymorphism** as they help determine the type of objects and classes, respectively. Here's an explanation of their significance:\n",
    "\n",
    "1. **`isinstance()` Function**:\n",
    "\n",
    "   - `isinstance(object, class)` is a built-in Python function used to check whether an object is an instance of a specific class or a tuple of classes.\n",
    "\n",
    "   - Significance in Polymorphism: In polymorphism, you often work with objects of different classes but need to perform specific actions based on their types. The `isinstance()` function is useful for runtime type checking and can be used to determine the actual class type of an object.\n",
    "\n",
    "   - Example:\n",
    "\n",
    "     ```python\n",
    "     class Animal:\n",
    "         pass\n",
    "\n",
    "     class Dog(Animal):\n",
    "         pass\n",
    "\n",
    "     my_dog = Dog()\n",
    "\n",
    "     if isinstance(my_dog, Dog):\n",
    "         print(\"It's a Dog!\")\n",
    "\n",
    "     if isinstance(my_dog, Animal):\n",
    "         print(\"It's an Animal!\")\n",
    "     ```\n",
    "\n",
    "   - In the above example, `isinstance()` helps determine whether `my_dog` is an instance of the `Dog` class and the `Animal` class, allowing you to take appropriate actions based on the object's type.\n",
    "\n",
    "2. **`issubclass()` Function**:\n",
    "\n",
    "   - `issubclass(class, classinfo)` is a built-in Python function used to check if a class is a subclass of a specified class or a tuple of classes.\n",
    "\n",
    "   - Significance in Polymorphism: In the context of polymorphism, you may want to determine whether a class is a subclass of another class, which can be useful for making decisions based on the inheritance hierarchy.\n",
    "\n",
    "   - Example:\n",
    "\n",
    "     ```python\n",
    "     class Vehicle:\n",
    "         pass\n",
    "\n",
    "     class Car(Vehicle):\n",
    "         pass\n",
    "\n",
    "     if issubclass(Car, Vehicle):\n",
    "         print(\"Car is a subclass of Vehicle!\")\n",
    "\n",
    "     if issubclass(Vehicle, Car):\n",
    "         print(\"Vehicle is a subclass of Car!\")  # This will not be printed.\n",
    "     ```\n",
    "\n",
    "   - In this example, `issubclass()` is used to check if the `Car` class is a subclass of the `Vehicle` class, which is true. However, checking if `Vehicle` is a subclass of `Car` is not valid in this hierarchy, and the second condition is not met.\n",
    "\n",
    "In summary, `isinstance()` and `issubclass()` are significant in polymorphism because they enable you to perform runtime type and class checks, helping you make decisions and perform actions based on the actual types and relationships between objects and classes. This is particularly useful when dealing with polymorphic code that handles objects of various types and class hierarchies."
   ]
  },
  {
   "cell_type": "markdown",
   "id": "c594b242-5a36-476e-8847-17d879a83132",
   "metadata": {},
   "source": [
    "#### 10. What is the role of the `@abstractmethod` decorator in achieving polymorphism in Python? Provide an example."
   ]
  },
  {
   "cell_type": "markdown",
   "id": "2962c103-191d-4d06-9317-09244320d6c4",
   "metadata": {},
   "source": [
    "Ans.\n",
    "\n",
    "The `@abstractmethod` decorator plays a crucial role in achieving polymorphism in Python by defining **abstract methods** within abstract classes. Abstract methods are methods that have no implementation in the base class (abstract class), and their actual implementation is provided by concrete subclasses. The `@abstractmethod` decorator, available through the `abc` (Abstract Base Classes) module, marks methods as abstract and enforces that concrete subclasses must implement these methods.\n",
    "\n",
    "Here's the role and significance of the `@abstractmethod` decorator in achieving polymorphism:\n",
    "\n",
    "1. **Enforcing a Common Interface**: By decorating a method with `@abstractmethod` in an abstract base class, you declare that all concrete subclasses must provide an implementation of this method. This enforces a common interface for all related classes, ensuring that they have the same method name and parameters.\n",
    "\n",
    "2. **Polymorphism**: The `@abstractmethod` decorator allows you to work with objects of different classes in a polymorphic way. You can call the abstract method on objects of various subclasses, and the appropriate implementation is executed based on the actual type of the object. This enables you to use a common method across different classes.\n",
    "\n",
    "Let's look at an example that demonstrates the use of the `@abstractmethod` decorator to achieve polymorphism:\n",
    "\n",
    "```python\n",
    "from abc import ABC, abstractmethod\n",
    "\n",
    "class Shape(ABC):\n",
    "    @abstractmethod\n",
    "    def area(self):\n",
    "        pass\n",
    "\n",
    "class Circle(Shape):\n",
    "    def __init__(self, radius):\n",
    "        self.radius = radius\n",
    "\n",
    "    def area(self):\n",
    "        return 3.14 * self.radius ** 2\n",
    "\n",
    "class Square(Shape):\n",
    "    def __init__(self, side):\n",
    "        self.side = side\n",
    "\n",
    "    def area(self):\n",
    "        return self.side ** 2\n",
    "\n",
    "# Create instances of different shapes\n",
    "circle = Circle(5)\n",
    "square = Square(4)\n",
    "\n",
    "# Call the area() method on objects of different subclasses\n",
    "print(f\"Area of the circle: {circle.area():.2f}\")  # Calls Circle's area method\n",
    "print(f\"Area of the square: {square.area()}\")      # Calls Square's area method\n",
    "```\n",
    "\n",
    "In this example:\n",
    "\n",
    "- The `Shape` class is an abstract base class with an `area()` method marked with the `@abstractmethod` decorator. This decorator enforces that all subclasses must provide an implementation of the `area()` method.\n",
    "\n",
    "- The `Circle` and `Square` classes are concrete subclasses that inherit from the `Shape` class. They implement their own `area()` methods, specific to their shapes.\n",
    "\n",
    "- You can create instances of `Circle` and `Square` and call the `area()` method on these objects, demonstrating polymorphism. The `@abstractmethod` decorator ensures that the `area()` method is available in both subclasses, making it possible to use a common interface for different shapes.\n",
    "\n",
    "This example showcases how the `@abstractmethod` decorator enforces a common interface and allows you to work with objects of different classes in a polymorphic manner."
   ]
  },
  {
   "cell_type": "markdown",
   "id": "eca22f4b-8323-4638-bf98-b14165959949",
   "metadata": {},
   "source": [
    "#### 11. Create a Python class called `Shape` with a polymorphic method `area()` that calculates the area of different shapes (e.g., circle, rectangle, triangle)."
   ]
  },
  {
   "cell_type": "code",
   "execution_count": 111,
   "id": "21b3f901-d329-4428-b69f-28b7e1692f59",
   "metadata": {},
   "outputs": [
    {
     "name": "stdout",
     "output_type": "stream",
     "text": [
      "Area of the circle: 78.50\n",
      "Area of the rectangle: 24\n",
      "Area of the triangle: 10.5\n"
     ]
    }
   ],
   "source": [
    "from abc import ABC, abstractclassmethod\n",
    "\n",
    "class Shape(ABC):\n",
    "    @abstractclassmethod\n",
    "    def area(self):\n",
    "        pass\n",
    "\n",
    "class Circle(Shape):\n",
    "    def __init__(self, radius):\n",
    "        self.radius = radius\n",
    "        \n",
    "    def area(self):\n",
    "        return 3.14 * self.radius ** 2\n",
    "    \n",
    "\n",
    "class Rectangle(Shape):\n",
    "    def __init__(self, length, width):\n",
    "        self.length = length\n",
    "        self.width = width\n",
    "        \n",
    "    def area(self):\n",
    "        return self.length * self.width\n",
    "    \n",
    "class Triangle(Shape):\n",
    "    def __init__(self, base, height):\n",
    "        self.base = base\n",
    "        self.height = height\n",
    "        \n",
    "    def area(self):\n",
    "        return 0.5 * self.base * self.height\n",
    "    \n",
    "\n",
    "# Creating instances of different shapes\n",
    "circle = Circle(5)\n",
    "rectangle = Rectangle(4, 6)\n",
    "triangle = Triangle(3, 7)\n",
    "    \n",
    "# Calculating and print the areas of different shapes\n",
    "print(f\"Area of the circle: {circle.area():.2f}\")\n",
    "print(f\"Area of the rectangle: {rectangle.area()}\")\n",
    "print(f\"Area of the triangle: {triangle.area()}\")"
   ]
  },
  {
   "cell_type": "markdown",
   "id": "c1ecd2b2-ffc9-44ac-b5a7-6d484618a4fb",
   "metadata": {},
   "source": [
    "#### 12. Discuss the benefits of polymorphism in terms of code reusability and flexibility in Python programs."
   ]
  },
  {
   "cell_type": "markdown",
   "id": "34e13892-6018-4e02-9dc6-6c22009a2c2e",
   "metadata": {},
   "source": [
    "Ans.\n",
    "\n",
    "Polymorphism is a fundamental concept in object-oriented programming (OOP) and offers several benefits in terms of code reusability and flexibility in Python programs. Here are the key advantages of polymorphism:\n",
    "\n",
    "1. **Code Reusability**:\n",
    "   - Polymorphism promotes the reuse of code by allowing you to write generic, reusable functions or methods that can operate on objects of various classes.\n",
    "   - You can create common interfaces (e.g., abstract classes or shared method names) that multiple classes adhere to, making it easier to write code that can work with different types of objects.\n",
    "\n",
    "2. **Flexibility**:\n",
    "   - Polymorphism makes your code more adaptable to changes and new requirements. You can add new classes that conform to an existing interface without needing to modify the existing code that uses them.\n",
    "   - It allows you to build extensible software systems where you can introduce new classes or behaviors without affecting the code that uses the existing classes.\n",
    "\n",
    "3. **Simplifies Code**:\n",
    "   - Polymorphism simplifies your code by eliminating the need for conditional statements to handle different object types. Instead, you can rely on a common interface or method to perform operations, making the code more concise and readable.\n",
    "\n",
    "4. **Improved Maintainability**:\n",
    "   - Polymorphism leads to cleaner and more modular code. When classes adhere to a common interface, it's easier to understand and maintain the code.\n",
    "   - If a change or bug fix is required, you can focus on the specific class that needs attention without affecting other parts of the code.\n",
    "\n",
    "5. **Enhanced Testing**:\n",
    "   - Polymorphism simplifies unit testing. You can create test cases for a generic function or method and apply it to multiple classes that conform to the same interface, saving time and effort in testing.\n",
    "\n",
    "6. **Scalability**:\n",
    "   - Polymorphism allows you to scale your codebase as new classes or features are introduced. You can continue to build on existing structures and extend functionality without causing disruptions in the existing code.\n",
    "\n",
    "7. **Easier Collaboration**:\n",
    "   - When working on large projects or in a team, polymorphism helps team members collaborate more effectively. Team members can create their own classes that adhere to a common interface, allowing for seamless integration of new components.\n",
    "\n",
    "8. **Adherence to OOP Principles**:\n",
    "   - Polymorphism is one of the key principles of OOP, promoting encapsulation, inheritance, and abstraction. Using polymorphism correctly helps adhere to OOP best practices.\n",
    "\n",
    "9. **Increased Maintainability**:\n",
    "   - When you design your code using polymorphism, it's easier to make changes in the future. If you need to add or modify functionality, you can do so by creating new classes or modifying existing ones without disrupting the rest of the codebase.\n",
    "\n",
    "In summary, polymorphism provides code reusability and flexibility in Python programs by allowing you to work with objects of different classes through a common interface. This results in more efficient, adaptable, and maintainable code, making it a valuable concept in software development."
   ]
  },
  {
   "cell_type": "markdown",
   "id": "b203fa4c-abe3-495c-8c7f-9d8aba8214a9",
   "metadata": {},
   "source": [
    "#### 13. Explain the use of the `super()` function in Python polymorphism. How does it help call methods of parent classes?"
   ]
  },
  {
   "cell_type": "markdown",
   "id": "3d15b425-caf6-46c3-9680-bf8e63ed328a",
   "metadata": {},
   "source": [
    "Ans.\n",
    "\n",
    "The `super()` function in Python plays a crucial role in polymorphism by enabling you to call methods of parent classes from a subclass. It is particularly useful when you want to extend the behavior of a method in the subclass while retaining the functionality of the parent class's method. Here's how `super()` works and its use in achieving polymorphism:\n",
    "\n",
    "1. **Calling Parent Class Methods**:\n",
    "   - `super()` is used to call a method from a parent (super) class within a subclass.\n",
    "   - This allows you to invoke the implementation of the method in the parent class while extending or modifying the behavior in the subclass.\n",
    "\n",
    "2. **Method Overriding**:\n",
    "   - In the context of polymorphism, you often override a method in a subclass to provide a specialized implementation. However, sometimes you want to use the parent class's method within the overridden method.\n",
    "\n",
    "3. **Chaining Constructors**:\n",
    "   - `super()` is also commonly used to call the constructor of a parent class from the constructor of a subclass. This is useful to ensure that the initialization logic in the parent class is executed before customizations in the subclass's constructor.\n",
    "\n",
    "4. **Multiple Inheritance**:\n",
    "   - In cases of multiple inheritance, `super()` helps resolve method calls in the order of class inheritance, ensuring that each class in the inheritance hierarchy is appropriately invoked.\n",
    "\n",
    "Here's an example to illustrate the use of `super()` in polymorphism:\n",
    "\n",
    "```python\n",
    "class Animal:\n",
    "    def speak(self):\n",
    "        return \"Some generic animal sound\"\n",
    "\n",
    "class Dog(Animal):\n",
    "    def speak(self):\n",
    "        # Call the parent class's speak method using super()\n",
    "        return super().speak() + \" Woof!\"\n",
    "\n",
    "class Cat(Animal):\n",
    "    def speak(self):\n",
    "        # Call the parent class's speak method using super()\n",
    "        return super().speak() + \" Meow!\"\n",
    "\n",
    "# Create instances of Dog and Cat\n",
    "dog = Dog()\n",
    "cat = Cat()\n",
    "\n",
    "# Call the speak() method on Dog and Cat\n",
    "print(\"Dog says:\", dog.speak())  # Calls Dog's speak method\n",
    "print(\"Cat says:\", cat.speak())  # Calls Cat's speak method\n",
    "```\n",
    "\n",
    "In this example:\n",
    "\n",
    "- The `Animal` class has a `speak()` method that provides a generic animal sound.\n",
    "\n",
    "- The `Dog` and `Cat` classes are subclasses of `Animal`. They override the `speak()` method to provide their specific sounds.\n",
    "\n",
    "- Inside the `speak()` methods of `Dog` and `Cat`, the `super().speak()` call is used to invoke the parent class's `speak()` method. This allows the subclasses to add their unique sounds while preserving the parent class's behavior.\n",
    "\n",
    "- As a result, when calling `speak()` on `Dog` and `Cat` objects, you get a combination of the parent class's sound followed by the specific sound of the subclass.\n",
    "\n",
    "This demonstrates how `super()` can be used in polymorphism to call methods of parent classes, facilitating method overriding and extension of behavior in subclasses."
   ]
  },
  {
   "cell_type": "markdown",
   "id": "60945941-0232-4377-9d08-1b7d8c3cb280",
   "metadata": {},
   "source": [
    "#### 14. Create a Python class hierarchy for a banking system with various account types (e.g., savings, checking, credit card) and demonstrate polymorphism by implementing a common `withdraw()` method."
   ]
  },
  {
   "cell_type": "code",
   "execution_count": 4,
   "id": "f8dd4698-60fb-4061-8b7c-f2808c25c839",
   "metadata": {},
   "outputs": [
    {
     "name": "stdout",
     "output_type": "stream",
     "text": [
      "Withdrew $200 from savings account. New balance: $800\n",
      "Withdrew $200 from checking account. New balance: $1300\n",
      "Charged $200 to the credit card. New balance: $300\n"
     ]
    }
   ],
   "source": [
    "class BankAccount:\n",
    "    def __init__(self, account_number, balance):\n",
    "        self.account_number = account_number\n",
    "        self.balance = balance\n",
    "\n",
    "    def withdraw(self, amount):\n",
    "        if amount <= self.balance:\n",
    "            self.balance -= amount\n",
    "            return f\"Withdrew ${amount}. New balance: ${self.balance}\"\n",
    "        else:\n",
    "            return \"Insufficient funds.\"\n",
    "\n",
    "class SavingsAccount(BankAccount):\n",
    "    def __init__(self, account_number, balance, interest_rate):\n",
    "        super().__init__(account_number, balance)\n",
    "        self.interest_rate = interest_rate\n",
    "\n",
    "    def withdraw(self, amount):\n",
    "        if amount <= self.balance:\n",
    "            self.balance -= amount\n",
    "            return f\"Withdrew ${amount} from savings account. New balance: ${self.balance}\"\n",
    "        else:\n",
    "            return \"Insufficient funds.\"\n",
    "\n",
    "class CheckingAccount(BankAccount):\n",
    "    def __init__(self, account_number, balance, overdraft_limit):\n",
    "        super().__init__(account_number, balance)\n",
    "        self.overdraft_limit = overdraft_limit\n",
    "\n",
    "    def withdraw(self, amount):\n",
    "        available_balance = self.balance + self.overdraft_limit\n",
    "        if amount <= available_balance:\n",
    "            self.balance -= amount\n",
    "            return f\"Withdrew ${amount} from checking account. New balance: ${self.balance}\"\n",
    "        else:\n",
    "            return \"Insufficient funds.\"\n",
    "\n",
    "class CreditCardAccount(BankAccount):\n",
    "    def __init__(self, account_number, balance, credit_limit):\n",
    "        super().__init__(account_number, balance)\n",
    "        self.credit_limit = credit_limit\n",
    "\n",
    "    def withdraw(self, amount):\n",
    "        available_credit = self.balance + self.credit_limit\n",
    "        if amount <= available_credit:\n",
    "            self.balance -= amount\n",
    "            return f\"Charged ${amount} to the credit card. New balance: ${self.balance}\"\n",
    "        else:\n",
    "            return \"Credit limit exceeded.\"\n",
    "\n",
    "# Create instances of different account types\n",
    "savings_account = SavingsAccount(\"SAV123\", 1000, 0.02)\n",
    "checking_account = CheckingAccount(\"CHK456\", 1500, 500)\n",
    "credit_card_account = CreditCardAccount(\"CC789\", 500, 1000)\n",
    "\n",
    "# Demonstrate polymorphism by calling the common withdraw() method\n",
    "print(savings_account.withdraw(200))   # Withdraw from savings account\n",
    "print(checking_account.withdraw(200))  # Withdraw from checking account\n",
    "print(credit_card_account.withdraw(200))  # Charge to credit card"
   ]
  },
  {
   "cell_type": "markdown",
   "id": "24e96177-24a1-4f7d-b4d6-574efc14935b",
   "metadata": {},
   "source": [
    "#### 15. Describe the concept of operator overloading in Python and how it relates to polymorphism. Provide examples using operators like `+` and `*`."
   ]
  },
  {
   "cell_type": "markdown",
   "id": "7f65dc03-a53d-4ed5-b07d-8a6a31a883e3",
   "metadata": {},
   "source": [
    "Ans. \n",
    "\n",
    "Operator overloading is a feature in Python that allows you to define custom behavior for standard operators (e.g., +, -, *, /) when applied to objects of user-defined classes. It is closely related to polymorphism and allows you to create more intuitive and expressive code by extending the functionality of operators to work with user-defined types. This concept is based on the principle of polymorphism, where the same operator can perform different operations depending on the data types involved.\n",
    "\n",
    "Here's how operator overloading relates to polymorphism and some examples using the + and * operators:\n",
    "\n",
    "1. **Polymorphism and Operator Overloading**:\n",
    "   - Polymorphism allows you to use the same operator or method name with different data types, resulting in different behaviors.\n",
    "   - Operator overloading extends polymorphism by allowing you to define how standard operators should behave with user-defined classes.\n",
    "\n",
    "2. **Example with the + Operator**:\n",
    "   - You can overload the + operator to perform addition or concatenation depending on the context of the operation.\n",
    "   - For example, you can define a `Vector` class and overload the + operator to add two vectors or concatenate two strings:\n",
    "\n",
    "   ```python\n",
    "   class Vector:\n",
    "       def __init__(self, x, y):\n",
    "           self.x = x\n",
    "           self.y = y\n",
    "\n",
    "       def __add__(self, other):\n",
    "           if isinstance(other, Vector):\n",
    "               return Vector(self.x + other.x, self.y + other.y)\n",
    "           elif isinstance(other, int) or isinstance(other, float):\n",
    "               return Vector(self.x + other, self.y + other)\n",
    "           else:\n",
    "               raise TypeError(\"Unsupported operand type for +\")\n",
    "\n",
    "   v1 = Vector(1, 2)\n",
    "   v2 = Vector(3, 4)\n",
    "   result = v1 + v2  # Performs vector addition\n",
    "   print(result.x, result.y)  # Output: 4 6\n",
    "\n",
    "   s1 = \"Hello, \"\n",
    "   s2 = \"world!\"\n",
    "   result = s1 + s2  # Concatenates two strings\n",
    "   print(result)  # Output: Hello, world!\n",
    "   ```\n",
    "\n",
    "3. **Example with the * Operator**:\n",
    "   - You can also overload the * operator to perform multiplication or repetition depending on the context.\n",
    "   - For instance, you can create a class `Multiplier` and overload the * operator to multiply two numbers or repeat a string:\n",
    "\n",
    "   ```python\n",
    "   class Multiplier:\n",
    "       def __mul__(self, other):\n",
    "           if isinstance(other, (int, float)):\n",
    "               return 42 * other\n",
    "           elif isinstance(other, str):\n",
    "               return other * 3\n",
    "           else:\n",
    "               raise TypeError(\"Unsupported operand type for *\")\n",
    "\n",
    "   m = Multiplier()\n",
    "   result1 = m * 2  # Performs multiplication\n",
    "   result2 = m * \"abc\"  # Repeats the string\n",
    "   print(result1)  # Output: 84\n",
    "   print(result2)  # Output: \"abcabcabc\"\n",
    "   ```\n",
    "\n",
    "In both examples, the + and * operators are overloaded to behave differently based on the type of the operands. This showcases polymorphism, where the same operator (e.g., + or *) exhibits different behaviors depending on the data types involved, making Python code more flexible and expressive."
   ]
  },
  {
   "cell_type": "markdown",
   "id": "348e8573-7f78-48eb-8c68-801b61661cc7",
   "metadata": {},
   "source": [
    "#### 16. What is dynamic polymorphism, and how is it achieved in Python?"
   ]
  },
  {
   "cell_type": "markdown",
   "id": "ce77f14a-f971-4c73-a1b5-630263456c0c",
   "metadata": {},
   "source": [
    "Ans.\n",
    "\n",
    "Dynamic polymorphism, also known as runtime polymorphism or late binding, is a fundamental concept in object-oriented programming. It allows different classes to be treated as instances of a common superclass and for method calls to be resolved at runtime based on the actual type of the object. Dynamic polymorphism allows you to write more flexible and extensible code by supporting method overriding and enabling the use of the same method name across different subclasses.\n",
    "\n",
    "In Python, dynamic polymorphism is achieved through method overriding, and it involves the following key components:\n",
    "\n",
    "1. **Inheritance**: Dynamic polymorphism relies on the inheritance hierarchy, where you have a base class (superclass) and one or more subclasses. The base class defines a method, and one or more of its subclasses override that method.\n",
    "\n",
    "2. **Method Overriding**: Subclasses provide their own implementation of a method with the same name as the method in the superclass. This is known as method overriding. The method in the subclass has the same name and the same signature (i.e., the same method name and parameters) as the method in the superclass.\n",
    "\n",
    "3. **Dynamic Binding**: The decision of which method to execute is made at runtime based on the actual object's type. When you call a method on an object, Python determines which version of the method (superclass or subclass) to execute based on the object's class at runtime.\n",
    "\n",
    "Here's an example to illustrate dynamic polymorphism in Python:\n",
    "\n",
    "```python\n",
    "class Animal:\n",
    "    def speak(self):\n",
    "        pass\n",
    "\n",
    "class Dog(Animal):\n",
    "    def speak(self):\n",
    "        return \"Woof!\"\n",
    "\n",
    "class Cat(Animal):\n",
    "    def speak(self):\n",
    "        return \"Meow!\"\n",
    "\n",
    "# Create instances of Dog and Cat\n",
    "dog = Dog()\n",
    "cat = Cat()\n",
    "\n",
    "# Call the speak() method on different objects\n",
    "print(dog.speak())  # Output: Woof!\n",
    "print(cat.speak())  # Output: Meow!\n",
    "```\n",
    "\n",
    "In this example:\n",
    "\n",
    "- The `Animal` class defines a method `speak()`, but it's marked with `pass` because it's meant to be overridden by subclasses.\n",
    "\n",
    "- The `Dog` and `Cat` classes inherit from `Animal` and override the `speak()` method to provide their own implementations.\n",
    "\n",
    "- When we create instances of `Dog` and `Cat`, we can call the `speak()` method on each object. The decision of which version of the `speak()` method to execute is determined at runtime based on the actual object's type. This is dynamic polymorphism in action.\n",
    "\n",
    "Dynamic polymorphism allows you to write code that works with objects of different classes in a consistent manner, as long as those objects share a common superclass with the same method signature. It promotes code reuse, flexibility, and extensibility in object-oriented programming."
   ]
  },
  {
   "cell_type": "markdown",
   "id": "4a8f245a-2a31-4cc3-920d-ac0bfcff1b63",
   "metadata": {},
   "source": [
    "#### 17. Create a Python class hierarchy for employees in a company (e.g., manager, developer, designer) and implement polymorphism through a common `calculate_salary()` method."
   ]
  },
  {
   "cell_type": "code",
   "execution_count": 5,
   "id": "2904977d-6cf0-49b3-8f41-1aa4bd205815",
   "metadata": {},
   "outputs": [],
   "source": [
    "class Employee:\n",
    "    def __init__(self, name, employee_id):\n",
    "        self.name = name\n",
    "        self.employee_id = employee_id\n",
    "        \n",
    "    def calculate_salary(self):\n",
    "        # Base implementation for calculating salary (abstract)\n",
    "        pass\n",
    "    \n",
    "class Manager(Employee):\n",
    "    def __init__(self, name, employee_id, base_salary, bonus):\n",
    "        super().__init__(name, employee_id)\n",
    "        self.base_salary = base_salary\n",
    "        self.bonus = bonus\n",
    "        \n",
    "    def calculate_salary(self):\n",
    "        return self.base_salary + self.bonus\n",
    "    \n",
    "class Developer(Employee):\n",
    "    def __init__(self,  name, employee_id, hourly_rate, hours_worked):\n",
    "        super().__init__(name, employee_id)\n",
    "        self.hourly_rate = hourly_rate\n",
    "        self.hours_worked = hours_worked\n",
    "        \n",
    "    def calculate_salary(self):\n",
    "        return self.hourly_rate * self.hours_worked\n",
    "    \n",
    "class Designer(Employee):\n",
    "    def __init__(self, name, employee_id, monthly_salary):\n",
    "        super().__init__(name, employee_id)\n",
    "        self.monthly_salary = monthly_salary\n",
    "        \n",
    "    def calculate_salary(self):\n",
    "        return self.monthly_salary"
   ]
  },
  {
   "cell_type": "code",
   "execution_count": 8,
   "id": "814b7cfb-d04d-4552-8454-d8d714d772bd",
   "metadata": {},
   "outputs": [
    {
     "name": "stdout",
     "output_type": "stream",
     "text": [
      "John Smith (Employee ID: 101) - Salary: $ 70000.00\n",
      "Alice Johnson (Employee ID: 102) - Salary: $ 8000.00\n",
      "Bob Williams (Employee ID: 103) - Salary: $ 5000.00\n"
     ]
    }
   ],
   "source": [
    "# Creating instances of employees\n",
    "manager = Manager(\"John Smith\", 101, 60000, 10000)\n",
    "developer = Developer(\"Alice Johnson\", 102, 50, 160)\n",
    "designer = Designer(\"Bob Williams\", 103, 5000)\n",
    "\n",
    "# Calculating and displaying salaries\n",
    "employees = [manager, developer, designer]\n",
    "\n",
    "\n",
    "for employee in employees:\n",
    "    salary = employee.calculate_salary()\n",
    "    print(f\"{employee.name} (Employee ID: {employee.employee_id}) - Salary: ${salary: .2f}\")"
   ]
  },
  {
   "cell_type": "markdown",
   "id": "3f2309d3-f199-442c-9aa6-b01e12023dcd",
   "metadata": {},
   "source": [
    "#### 18. Discuss the concept of function pointers and how they can be used to achieve polymorphism in Python."
   ]
  },
  {
   "cell_type": "markdown",
   "id": "fc19f27f-362a-4303-b4e4-d6df1cf33e39",
   "metadata": {},
   "source": [
    "Ans.\n",
    "\n",
    "In Python, there are no traditional function pointers as you might find in languages like C or C++. However, Python provides a high level of flexibility in function handling that can be used to achieve polymorphism and dynamic behavior. These capabilities include the use of functions as first-class objects, higher-order functions, and object-oriented programming principles.\n",
    "\n",
    "1. **First-Class Functions**:\n",
    "   - In Python, functions are first-class citizens, which means they can be assigned to variables, passed as arguments to other functions, and returned from functions.\n",
    "   - This property allows you to implement function-based polymorphism by passing functions as arguments to other functions or methods.\n",
    "\n",
    "2. **Higher-Order Functions**:\n",
    "   - Higher-order functions are functions that take other functions as arguments or return functions as results.\n",
    "   - Python supports higher-order functions, making it possible to implement polymorphic behavior by selecting and using different functions at runtime.\n",
    "\n",
    "3. **Object-Oriented Polymorphism**:\n",
    "   - Python primarily relies on object-oriented programming (OOP) principles to achieve polymorphism. Polymorphism in OOP is achieved through method overriding in classes, as demonstrated earlier.\n",
    "\n",
    "Here's an example of using first-class functions and higher-order functions to achieve polymorphism in Python:\n",
    "\n",
    "```python\n",
    "def add(x, y):\n",
    "    return x + y\n",
    "\n",
    "def subtract(x, y):\n",
    "    return x - y\n",
    "\n",
    "def calculate(operation, x, y):\n",
    "    return operation(x, y)\n",
    "\n",
    "result1 = calculate(add, 5, 3)\n",
    "result2 = calculate(subtract, 10, 4)\n",
    "\n",
    "print(\"Addition result:\", result1)  # Output: Addition result: 8\n",
    "print(\"Subtraction result:\", result2)  # Output: Subtraction result: 6\n",
    "```\n",
    "\n",
    "In this example, we define two functions, `add` and `subtract`, which perform addition and subtraction. We also create a `calculate` function that takes an operation (a function) as its argument, along with two values. This allows us to switch between different operations (functions) at runtime, achieving polymorphism through function selection.\n",
    "\n",
    "While Python doesn't use explicit function pointers, it offers powerful tools for achieving polymorphism and dynamic behavior through function objects and higher-order functions. This flexibility makes it possible to adapt the behavior of your code at runtime based on the specific functions you use."
   ]
  },
  {
   "cell_type": "markdown",
   "id": "b6952ef1-e059-4bfa-8e2b-9cbf8a9528b4",
   "metadata": {},
   "source": [
    "#### 19. Explain the role of interfaces and abstract classes in polymorphism, drawing comparisons between them."
   ]
  },
  {
   "cell_type": "markdown",
   "id": "605dc640-721f-487c-9a56-feb907caec64",
   "metadata": {},
   "source": [
    "Ans. \n",
    "\n",
    "Interfaces and abstract classes are two key concepts in object-oriented programming that play a significant role in achieving polymorphism and code organization. While they serve similar purposes in some aspects, they have distinct differences. Let's explore the roles of interfaces and abstract classes in polymorphism and make comparisons between them:\n",
    "\n",
    "**Abstract Classes**:\n",
    "\n",
    "1. **Role in Polymorphism**:\n",
    "   - Abstract classes are base classes that cannot be instantiated on their own. They are designed to be subclassed.\n",
    "   - They play a central role in achieving polymorphism by providing a common interface or a set of shared methods that subclasses must implement.\n",
    "\n",
    "2. **Key Characteristics**:\n",
    "   - Abstract classes can have both abstract (unimplemented) methods and concrete (implemented) methods.\n",
    "   - Subclasses are required to implement all abstract methods defined in the abstract class. This enforces a specific contract, ensuring that each subclass adheres to the same method names and signatures.\n",
    "\n",
    "3. **Example**:\n",
    "   - Suppose you have an abstract class `Shape` with an abstract method `area()`. Subclasses like `Circle` and `Rectangle` must implement the `area()` method, enabling polymorphic behavior when you work with different shapes.\n",
    "\n",
    "**Interfaces**:\n",
    "\n",
    "1. **Role in Polymorphism**:\n",
    "   - Interfaces provide a way to define a contract for a set of methods that a class must implement.\n",
    "   - They are another tool for achieving polymorphism, allowing unrelated classes to adhere to the same interface and be used interchangeably.\n",
    "\n",
    "2. **Key Characteristics**:\n",
    "   - Interfaces contain only method signatures (no method implementations). Classes that implement an interface must provide implementations for all methods in the interface.\n",
    "   - A class can implement multiple interfaces, allowing it to conform to several contracts.\n",
    "\n",
    "3. **Example**:\n",
    "   - You can define an interface `Drawable` with a method `draw()`. Classes like `Circle` and `Square` can implement this interface and provide their own implementations of the `draw()` method, enabling polymorphism among various drawable objects.\n",
    "\n",
    "**Comparisons**:\n",
    "\n",
    "1. **Abstract Classes vs. Interfaces**:\n",
    "   - Abstract classes can include both abstract and concrete methods, providing some reusable code in addition to defining a contract. Interfaces, on the other hand, contain only method signatures, making them more suitable for defining pure contracts.\n",
    "   - A class can inherit from only one abstract class, but it can implement multiple interfaces. This makes interfaces more flexible when a class needs to conform to multiple contracts.\n",
    "   - Abstract classes are useful when you want to provide a common base class with some shared behavior for subclasses. Interfaces are better suited for defining multiple, unrelated contracts that various classes can adhere to.\n",
    "\n",
    "2. **Polymorphism**:\n",
    "   - Both abstract classes and interfaces contribute to achieving polymorphism by ensuring that different classes adhere to a common structure or contract.\n",
    "   - Polymorphism enables objects of different classes to be treated as instances of a shared superclass (abstract class) or to adhere to a common set of methods (interface).\n",
    "\n",
    "In summary, abstract classes and interfaces play a critical role in polymorphism by defining contracts and ensuring that different classes adhere to the same structure. The choice between using an abstract class or an interface depends on your design goals and the relationship between classes in your application."
   ]
  },
  {
   "cell_type": "markdown",
   "id": "0b7ad31a-0278-4a07-b709-2e8c2dac03dd",
   "metadata": {},
   "source": [
    "#### 20. Create a Python class for a zoo simulation, demonstrating polymorphism with different animal types (e.g., mammals, birds, reptiles) and their behavior (e.g., eating, sleeping, making sounds)."
   ]
  },
  {
   "cell_type": "code",
   "execution_count": 10,
   "id": "4418ea36-c33d-45fd-9f05-d67e2db172ba",
   "metadata": {},
   "outputs": [
    {
     "name": "stdout",
     "output_type": "stream",
     "text": [
      "Lion:\n",
      "Mammal: Roar!\n",
      "Mammal: Eating leaves and fruits.\n",
      "Mammal: Sleeping in a cozy den.\n",
      "\n",
      "Sparrow:\n",
      "Bird: Chirp!\n",
      "Bird: Pecking seeds and insects.\n",
      "Bird: Nestled in a tree.\n",
      "\n",
      "Snake:\n",
      "Reptile: Hiss!\n",
      "Reptile: Swallowing prey whole.\n",
      "Reptile: Basking in the sun.\n",
      "\n"
     ]
    }
   ],
   "source": [
    "class Animal:\n",
    "    def __init__(self, name):\n",
    "        self.name = name\n",
    "        \n",
    "    def speak(self):\n",
    "        pass\n",
    "    \n",
    "    def eat(self):\n",
    "        pass\n",
    "    \n",
    "    def sleep(self):\n",
    "        pass\n",
    "    \n",
    "    \n",
    "# Mammal subclass\n",
    "class Mammal(Animal):\n",
    "    def speak(self):\n",
    "        return \"Mammal: Roar!\"\n",
    "    \n",
    "    def eat(self):\n",
    "        return \"Mammal: Eating leaves and fruits.\"\n",
    "    \n",
    "    def sleep(self):\n",
    "        return \"Mammal: Sleeping in a cozy den.\"\n",
    "    \n",
    "\n",
    "# Bird subclass\n",
    "class Bird(Animal):\n",
    "    def speak(self):\n",
    "        return \"Bird: Chirp!\"\n",
    "\n",
    "    def eat(self):\n",
    "        return \"Bird: Pecking seeds and insects.\"\n",
    "\n",
    "    def sleep(self):\n",
    "        return \"Bird: Nestled in a tree.\"\n",
    "\n",
    "    \n",
    "\n",
    "# Reptile subclass\n",
    "class Reptile(Animal):\n",
    "    def speak(self):\n",
    "        return \"Reptile: Hiss!\"\n",
    "\n",
    "    def eat(self):\n",
    "        return \"Reptile: Swallowing prey whole.\"\n",
    "\n",
    "    def sleep(self):\n",
    "        return \"Reptile: Basking in the sun.\"\n",
    "    \n",
    "\n",
    "# Creating instances of different animals\n",
    "lion = Mammal(\"Lion\")\n",
    "sparrow = Bird(\"Sparrow\")\n",
    "snake = Reptile(\"Snake\")\n",
    "\n",
    "# Demonstrating polymorphism\n",
    "zoo = [lion, sparrow, snake]\n",
    "\n",
    "for animal in zoo:\n",
    "    print(f\"{animal.name}:\")\n",
    "    print(animal.speak())\n",
    "    print(animal.eat())\n",
    "    print(animal.sleep())\n",
    "    print()"
   ]
  },
  {
   "cell_type": "markdown",
   "id": "468c756b-cfa8-4506-b2d7-0daddac995da",
   "metadata": {},
   "source": [
    "## Abstraction"
   ]
  },
  {
   "cell_type": "markdown",
   "id": "d9b35a2c-31a2-48e7-b54d-e9454ff24b3e",
   "metadata": {},
   "source": [
    "#### 1. What is abstraction in Python, and how does it relate to object-oriented programming?"
   ]
  },
  {
   "cell_type": "markdown",
   "id": "8ff613d5-2368-4860-85e6-76150a5cc291",
   "metadata": {},
   "source": [
    "Ans.\n",
    "\n",
    "Abstraction is a fundamental concept in object-oriented programming (OOP) and other programming paradigms. It is a mechanism for simplifying complex systems by modeling them at a high level while hiding the underlying implementation details. In Python, abstraction is achieved through the use of classes and interfaces.\n",
    "\n",
    "Key points regarding abstraction in Python and its relation to OOP:\n",
    "\n",
    "1. **Classes and Objects**:\n",
    "   - Abstraction in Python is typically implemented using classes and objects. A class defines the blueprint for creating objects, and objects are instances of classes.\n",
    "\n",
    "2. **Encapsulation**:\n",
    "   - Abstraction is closely related to encapsulation. Encapsulation is the practice of bundling data (attributes) and methods (functions) that operate on the data into a single unit, known as a class. This helps hide the internal implementation details of the class from the outside, promoting information hiding.\n",
    "\n",
    "3. **Hiding Implementation Details**:\n",
    "   - Abstraction allows you to hide the complexities of how an object operates or is implemented. Clients of the object interact with it through a well-defined interface, without needing to know the specific details of how the object works internally.\n",
    "\n",
    "4. **Defining Interfaces**:\n",
    "   - Abstraction defines interfaces for classes. An interface specifies a set of methods that must be implemented by any class that conforms to the interface. This enables polymorphism, as different classes can adhere to the same interface, allowing them to be used interchangeably.\n",
    "\n",
    "5. **Focus on What, Not How**:\n",
    "   - Abstraction allows you to focus on \"what\" an object does rather than \"how\" it does it. This simplifies the design and understanding of complex systems by emphasizing the external behavior of objects and their interactions.\n",
    "\n",
    "6. **Example**:\n",
    "   - For example, in a banking application, you might have an `Account` class that abstracts the concept of an account. Clients of the `Account` class don't need to know how transactions are stored or how interest is calculated. They interact with the account using methods like `deposit()`, `withdraw()`, and `get_balance()` without knowing the underlying details.\n",
    "\n",
    "7. **Inheritance and Polymorphism**:\n",
    "   - Abstraction supports inheritance and polymorphism, enabling you to create hierarchies of related classes that adhere to the same interface. Subclasses provide their own implementations of methods, allowing for specialized behavior while conforming to the abstraction's contract.\n",
    "\n",
    "8. **Code Reusability**:\n",
    "   - Abstraction promotes code reusability and modularity. You can create abstract base classes or interfaces that define common functionality, which can be inherited or implemented by multiple subclasses.\n",
    "\n",
    "In summary, abstraction in Python is a central concept in OOP that allows you to simplify complex systems by providing a high-level view of objects and their interactions. It emphasizes defining interfaces and focusing on what objects do rather than how they do it, making code more understandable, maintainable, and extensible."
   ]
  },
  {
   "cell_type": "markdown",
   "id": "c4ade46e-4def-419f-9486-b09530c6d405",
   "metadata": {},
   "source": [
    "#### 2. Describe the benefits of abstraction in terms of code organization and complexity reduction."
   ]
  },
  {
   "cell_type": "markdown",
   "id": "42c9ff8f-fb17-453b-ad5e-a1c3f27d3ff3",
   "metadata": {},
   "source": [
    "Ans.\n",
    "\n",
    "Abstraction offers several benefits in terms of code organization and complexity reduction in software development. These advantages make code more manageable, maintainable, and adaptable:\n",
    "\n",
    "1. **Hiding Implementation Details**:\n",
    "   - Abstraction allows you to hide the internal details of a class or module, making it easier for developers to work with the code without needing to understand how it's implemented. This reduces cognitive load and simplifies code comprehension.\n",
    "\n",
    "2. **Focus on High-Level Concepts**:\n",
    "   - Abstraction lets you work with high-level concepts and models, abstracting away the low-level details. This makes code more understandable, as developers can focus on \"what\" a component does rather than \"how\" it does it.\n",
    "\n",
    "3. **Modularity**:\n",
    "   - Abstraction encourages modularity by breaking down complex systems into smaller, manageable components. Each component has a well-defined purpose and interface, simplifying code maintenance and troubleshooting.\n",
    "\n",
    "4. **Code Reusability**:\n",
    "   - Abstraction facilitates code reusability. Abstract classes and interfaces define common functionality that can be inherited or implemented by multiple subclasses, reducing duplication of code.\n",
    "\n",
    "5. **Simplified Maintenance**:\n",
    "   - When you need to modify the behavior of a specific component, you can do so without affecting other parts of the system. Abstraction limits the impact of changes, making maintenance less error-prone.\n",
    "\n",
    "6. **Enhanced Collaboration**:\n",
    "   - Abstraction makes it easier for teams of developers to work together. When a class or module adheres to a well-defined interface, developers can collaborate without needing to understand the entire implementation.\n",
    "\n",
    "7. **Reduced Complexity**:\n",
    "   - Abstraction simplifies complex systems by breaking them into smaller, more manageable components. It promotes clean code practices and discourages monolithic and convoluted designs.\n",
    "\n",
    "8. **Adaptability and Extensibility**:\n",
    "   - Abstraction makes it easier to extend and adapt the software as requirements change. You can add new subclasses, implement new interfaces, or modify existing components while preserving the overall structure and behavior of the system.\n",
    "\n",
    "9. **Testing and Debugging**:\n",
    "   - Abstraction can improve testing and debugging. Smaller, well-defined components are easier to test in isolation. If an issue arises, it's often simpler to locate the problem within a specific component.\n",
    "\n",
    "10. **Documentation and Understanding**:\n",
    "    - Abstraction aids in documentation. High-level descriptions of abstract classes and interfaces provide insights into how components should be used. Developers can understand the expected behavior without delving into the implementation.\n",
    "\n",
    "11. **Scalability**:\n",
    "    - Abstraction supports scalability. As a codebase grows, abstraction allows you to add new components and features without significantly increasing the complexity of existing code.\n",
    "\n",
    "12. **Enhanced Security**:\n",
    "    - Abstraction can enhance security by limiting direct access to sensitive data or operations. It allows you to control and restrict access to specific methods and attributes.\n",
    "\n",
    "In summary, abstraction is a fundamental technique in software development that simplifies code organization, reduces complexity, and fosters clean, maintainable, and extensible codebases. It promotes a high-level understanding of systems, enabling developers to work with large and intricate software projects more effectively."
   ]
  },
  {
   "cell_type": "markdown",
   "id": "0086c14e-6f92-4cb5-a961-e465c5e3c344",
   "metadata": {},
   "source": [
    "#### 3. Create a Python class called `Shape` with an abstract method `calculate_area()`. Then, create child classes (e.g., `Circle`, `Rectangle`) that implement the `calculate_area()` method. Provide an example of using these classes."
   ]
  },
  {
   "cell_type": "code",
   "execution_count": 2,
   "id": "dbd819b7-f384-4abd-afde-8f9e193ae3ce",
   "metadata": {},
   "outputs": [
    {
     "name": "stdout",
     "output_type": "stream",
     "text": [
      "Circle Area: 78.54\n",
      "Rectangle Area: 20.00\n"
     ]
    }
   ],
   "source": [
    "from abc import ABC, abstractmethod\n",
    "\n",
    "# Abstract base class\n",
    "class Shape(ABC):\n",
    "    @abstractmethod\n",
    "    def calculate_area(self):\n",
    "        pass\n",
    "    \n",
    "# Child class Circle\n",
    "class Circle(Shape):\n",
    "    def __init__(self, radius):\n",
    "        self.radius = radius\n",
    "        \n",
    "    def calculate_area(self):\n",
    "        return 3.1416 * self.radius * self.radius\n",
    "    \n",
    "# Child class Rectangle\n",
    "class Rectangle(Shape):\n",
    "    def __init__(self, length, width):\n",
    "        self.length = length\n",
    "        self.width = width\n",
    "        \n",
    "    def calculate_area(self):\n",
    "        return self.length * self.width\n",
    "    \n",
    "# Creating instances of different shapes\n",
    "circle = Circle(5)\n",
    "rectangle = Rectangle(4,5)\n",
    "\n",
    "# Calculating and printing areas\n",
    "print(f\"Circle Area: {circle.calculate_area():.2f}\")\n",
    "print(f\"Rectangle Area: {rectangle.calculate_area():.2f}\")"
   ]
  },
  {
   "cell_type": "markdown",
   "id": "3cb68383-1f0b-4d89-ae14-9c031610050d",
   "metadata": {},
   "source": [
    "#### 4. Explain the concept of abstract classes in Python and how they are defined using the `abc` module. Provide an example."
   ]
  },
  {
   "cell_type": "markdown",
   "id": "705c685a-8293-4599-a131-d541218810cf",
   "metadata": {},
   "source": [
    "Ans.\n",
    "\n",
    "Abstract classes in Python are classes that cannot be instantiated on their own and are meant to serve as a blueprint for other classes. They typically contain one or more abstract methods, which are declared but not implemented in the abstract class. Subclasses that inherit from an abstract class are required to provide concrete implementations for these abstract methods. Abstract classes are defined using the `abc` (Abstract Base Classes) module in Python.\n",
    "\n",
    "Here's an example of how to define an abstract class using the `abc` module:\n",
    "\n",
    "```python\n",
    "from abc import ABC, abstractmethod\n",
    "\n",
    "# Abstract base class\n",
    "class Shape(ABC):\n",
    "    @abstractmethod\n",
    "    def calculate_area(self):\n",
    "        pass\n",
    "\n",
    "# Child class Circle\n",
    "class Circle(Shape):\n",
    "    def __init__(self, radius):\n",
    "        self.radius = radius\n",
    "\n",
    "    def calculate_area(self):\n",
    "        return 3.14159 * self.radius * self.radius\n",
    "\n",
    "# Child class Rectangle\n",
    "class Rectangle(Shape):\n",
    "    def __init__(self, length, width):\n",
    "        self.length = length\n",
    "        self.width = width\n",
    "\n",
    "    def calculate_area(self):\n",
    "        return self.length * self.width\n",
    "\n",
    "# Create instances of different shapes\n",
    "circle = Circle(5)\n",
    "rectangle = Rectangle(4, 6)\n",
    "\n",
    "# Calculate and print the areas\n",
    "print(f\"Circle Area: {circle.calculate_area():.2f}\")\n",
    "print(f\"Rectangle Area: {rectangle.calculate_area():.2f}\")\n",
    "```\n",
    "\n",
    "In this example:\n",
    "\n",
    "- We import the `ABC` (Abstract Base Class) and `abstractmethod` decorators from the `abc` module.\n",
    "\n",
    "- We define an abstract base class called `Shape` that inherits from `ABC`. It contains one abstract method, `calculate_area()`. The `abstractmethod` decorator is used to declare this method as abstract.\n",
    "\n",
    "- We create two child classes, `Circle` and `Rectangle`, that inherit from the `Shape` abstract class. Each child class provides a concrete implementation of the `calculate_area()` method based on the shape it represents.\n",
    "\n",
    "- We create instances of the `Circle` and `Rectangle` classes and use them to calculate and print the areas of specific shapes.\n",
    "\n",
    "This example showcases the use of abstract classes and abstract methods. The abstract class `Shape` serves as a common interface for shapes, and its abstract method `calculate_area()` is required to be implemented by all concrete shape subclasses. Using the `abc` module helps enforce this contract and ensures that subclasses adhere to the expected behavior defined by the abstract class."
   ]
  },
  {
   "cell_type": "markdown",
   "id": "e4affc1f-6657-4b85-88c6-5a460fbc6610",
   "metadata": {},
   "source": [
    "#### 5. How do abstract classes differ from regular classes in Python? Discuss their use cases."
   ]
  },
  {
   "cell_type": "markdown",
   "id": "b199c18e-6665-4145-b5f6-6ebfd8027629",
   "metadata": {},
   "source": [
    "Ans.\n",
    "\n",
    "Abstract classes and regular classes in Python differ in several ways, including their purpose and functionality:\n",
    "\n",
    "1. **Instantiation**:\n",
    "   - Regular classes can be instantiated to create objects, while abstract classes cannot be directly instantiated. Attempting to create an instance of an abstract class will result in a `TypeError`.\n",
    "\n",
    "2. **Abstract Methods**:\n",
    "   - Abstract classes may contain one or more abstract methods. An abstract method is declared but not implemented in the abstract class. Concrete subclasses are required to provide implementations for these methods.\n",
    "\n",
    "3. **Concrete Methods**:\n",
    "   - Abstract classes can also include concrete (non-abstract) methods, just like regular classes. These methods can have implementations in the abstract class that can be inherited by concrete subclasses.\n",
    "\n",
    "4. **Inheritance**:\n",
    "   - Abstract classes are meant to be inherited by other classes, serving as a blueprint for the creation of related classes. In contrast, regular classes can be used independently without inheritance.\n",
    "\n",
    "5. **Purpose**:\n",
    "   - Regular classes are used when you want to create objects directly and do not have the concept of enforcing a common interface for their subclasses. They encapsulate attributes and behaviors.\n",
    "\n",
    "   - Abstract classes are used when you want to define a common interface for a group of related classes, ensuring that specific methods must be implemented in all concrete subclasses. They define a contract that subclasses must adhere to.\n",
    "\n",
    "Use cases for regular classes and abstract classes:\n",
    "\n",
    "- **Regular Classes**:\n",
    "   - Use regular classes when you want to create objects with their own unique behavior.\n",
    "   - Regular classes are suitable for modeling objects that do not need to conform to a common interface.\n",
    "   - You can instantiate regular classes and use them as standalone objects.\n",
    "\n",
    "```python\n",
    "class Person:\n",
    "    def __init__(self, name):\n",
    "        self.name = name\n",
    "\n",
    "    def greet(self):\n",
    "        return f\"Hello, my name is {self.name}.\"\n",
    "\n",
    "person = Person(\"Alice\")\n",
    "print(person.greet())\n",
    "```\n",
    "\n",
    "- **Abstract Classes**:\n",
    "   - Use abstract classes when you want to define a common interface for a group of related classes that share certain methods.\n",
    "   - Abstract classes are suitable for creating a contract that enforces specific behaviors for subclasses.\n",
    "   - You cannot instantiate an abstract class, but you can create concrete subclasses that implement the required methods.\n",
    "\n",
    "```python\n",
    "from abc import ABC, abstractmethod\n",
    "\n",
    "class Shape(ABC):\n",
    "    @abstractmethod\n",
    "    def calculate_area(self):\n",
    "        pass\n",
    "\n",
    "class Circle(Shape):\n",
    "    def __init__(self, radius):\n",
    "        self.radius = radius\n",
    "\n",
    "    def calculate_area(self):\n",
    "        return 3.14159 * self.radius * self.radius\n",
    "```\n",
    "\n",
    "In summary, regular classes are used for creating objects with their own behavior, while abstract classes are used to define a common interface that concrete subclasses must adhere to. Abstract classes are particularly useful when you want to enforce a consistent structure for related classes in a hierarchy."
   ]
  },
  {
   "cell_type": "markdown",
   "id": "e56a5099-ffb2-4cea-8687-b28ffb8844cb",
   "metadata": {},
   "source": [
    "#### 6. Create a Python class for a bank account and demonstrate abstraction by hiding the account balance and providing methods to deposit and withdraw funds."
   ]
  },
  {
   "cell_type": "code",
   "execution_count": 15,
   "id": "8dfd985f-0d3c-4b58-b692-5dd73198a1dd",
   "metadata": {},
   "outputs": [
    {
     "name": "stdout",
     "output_type": "stream",
     "text": [
      "Savings Account Balance: $1500.00\n",
      "Checking Account Balance: $1200.00\n"
     ]
    }
   ],
   "source": [
    "from abc import ABC, abstractmethod\n",
    "\n",
    "class BankAccount(ABC):\n",
    "    def __init__(self, account_number, account_holder, initial_balance=0.0):\n",
    "        self.account_number = account_number\n",
    "        self.account_holder = account_holder\n",
    "        self._balance = initial_balance  # Protected attribute (convention)\n",
    "\n",
    "    @abstractmethod\n",
    "    def deposit(self, amount):\n",
    "        pass\n",
    "\n",
    "    @abstractmethod\n",
    "    def withdraw(self, amount):\n",
    "        pass\n",
    "\n",
    "    def get_balance(self):\n",
    "        return self._balance\n",
    "\n",
    "# Concrete SavingsAccount class\n",
    "class SavingsAccount(BankAccount):\n",
    "    def deposit(self, amount):\n",
    "        if amount > 0:\n",
    "            self._balance += amount\n",
    "\n",
    "    def withdraw(self, amount):\n",
    "        if amount > 0 and self._balance >= amount:\n",
    "            self._balance -= amount\n",
    "\n",
    "# Concrete CheckingAccount class\n",
    "class CheckingAccount(BankAccount):\n",
    "    def deposit(self, amount):\n",
    "        if amount > 0:\n",
    "            self._balance += amount\n",
    "\n",
    "    def withdraw(self, amount):\n",
    "        if amount > 0 and self._balance >= amount:\n",
    "            self._balance -= amount\n",
    "\n",
    "# Create instances of SavingsAccount and CheckingAccount\n",
    "savings_account = SavingsAccount(\"SA123\", \"Alice\", 1000.0)\n",
    "checking_account = CheckingAccount(\"CA456\", \"Bob\", 1500.0)\n",
    "\n",
    "# Deposit and withdraw funds\n",
    "savings_account.deposit(500.0)\n",
    "checking_account.withdraw(300.0)\n",
    "\n",
    "# Get and print account balances\n",
    "print(f\"Savings Account Balance: ${savings_account.get_balance():.2f}\")\n",
    "print(f\"Checking Account Balance: ${checking_account.get_balance():.2f}\")\n"
   ]
  },
  {
   "cell_type": "markdown",
   "id": "ec0c73f4-2af4-4212-829e-94273d239266",
   "metadata": {},
   "source": [
    "#### 7. Discuss the concept of interface classes in Python and their role in achieving abstraction."
   ]
  },
  {
   "cell_type": "markdown",
   "id": "bf65737a-2602-4572-9674-6c3a51021b41",
   "metadata": {},
   "source": [
    "Ans.\n",
    "\n",
    "In Python, interface classes are not a built-in language feature like in some other programming languages (e.g., Java or C#). Instead, Python encourages the use of abstract base classes (ABCs) and duck typing to achieve abstraction and define interfaces for classes that need to adhere to a common set of methods. However, you can emulate interface-like behavior using ABCs in Python.\n",
    "\n",
    "Here's how interface-like behavior can be achieved using ABCs in Python:\n",
    "\n",
    "1. **Abstract Base Classes (ABCs)**:\n",
    "   - Python's `abc` module provides a way to define abstract base classes. Abstract base classes are classes that contain one or more abstract methods (methods declared but not implemented). These abstract methods define the interface that concrete classes must adhere to.\n",
    "\n",
    "2. **Enforce Implementation**:\n",
    "   - Concrete classes that inherit from an ABC are required to provide implementations for all the abstract methods defined in the ABC. Failure to do so results in a `TypeError`.\n",
    "\n",
    "3. **Polymorphism**:\n",
    "   - By defining a common set of abstract methods in an ABC, you can achieve polymorphism. Different concrete classes that implement the same abstract methods can be used interchangeably."
   ]
  },
  {
   "cell_type": "markdown",
   "id": "01bf2aef-fc7c-4bdb-8ed2-f64a33264aa5",
   "metadata": {},
   "source": [
    "#### 8. Create a Python class hierarchy for animals and implement abstraction by defining common methods (e.g., `eat()`, `sleep()`) in an abstract base class."
   ]
  },
  {
   "cell_type": "code",
   "execution_count": 26,
   "id": "17480ea3-6975-4c14-8b20-4163b3034c8d",
   "metadata": {},
   "outputs": [
    {
     "name": "stdout",
     "output_type": "stream",
     "text": [
      "Tiger sleeps well\n",
      "tuKI eats grass\n"
     ]
    }
   ],
   "source": [
    "from abc import ABC, abstractmethod\n",
    "\n",
    "# Abstract base class for animals\n",
    "class Animal:\n",
    "    def __init__(self, name):\n",
    "        self.name = name\n",
    "    \n",
    "    @abstractmethod\n",
    "    def eat(self):\n",
    "        pass\n",
    "    \n",
    "    @abstractmethod\n",
    "    def sleep(self):\n",
    "        pass\n",
    " \n",
    "# Concrete class for a specific animal\n",
    "class Tiger(Animal):\n",
    "    def eat(self):\n",
    "        return f\"{self.name} eats meat\"\n",
    "    \n",
    "    def sleep(self):\n",
    "        return f\"{self.name} sleeps well\"\n",
    "    \n",
    "class Cow(Animal):\n",
    "    def eat(self):\n",
    "        return f\"{self.name} eats grass\"\n",
    "    \n",
    "    def sleep(self):\n",
    "        return f\"{self.name} sleeps peacefully\"\n",
    "\n",
    "    \n",
    "t = Tiger(\"Tiger\")\n",
    "c = Cow(\"tuKI\")\n",
    "\n",
    "print(t.sleep())\n",
    "print(c.eat())"
   ]
  },
  {
   "cell_type": "markdown",
   "id": "495293b5-138a-42a6-be1b-411c40721017",
   "metadata": {},
   "source": [
    "#### 9. Explain the significance of encapsulation in achieving abstraction. Provide examples."
   ]
  },
  {
   "cell_type": "markdown",
   "id": "785450b5-ce95-44df-b2f6-a228d91b1a0a",
   "metadata": {},
   "source": [
    "Ans.\n",
    "\n",
    "Encapsulation and abstraction are closely related concepts in object-oriented programming, and encapsulation plays a significant role in achieving abstraction. Let's explore the significance of encapsulation in achieving abstraction with examples:\n",
    "\n",
    "1. **Hiding Internal Details**:\n",
    "   - Encapsulation involves bundling data (attributes) and the methods (functions) that operate on that data into a single unit called a class.\n",
    "   - By encapsulating the data within a class and providing controlled access to that data (usually through getter and setter methods), you hide the internal details of the class's implementation.\n",
    "   - This helps abstract away the complexity of how the class works internally, allowing users of the class to interact with it at a higher level.\n",
    "\n",
    "```python\n",
    "class BankAccount:\n",
    "    def __init__(self, balance):\n",
    "        self._balance = balance  # Encapsulated attribute\n",
    "\n",
    "    def get_balance(self):\n",
    "        return self._balance  # Getter method for encapsulated attribute\n",
    "\n",
    "    def deposit(self, amount):\n",
    "        self._balance += amount\n",
    "\n",
    "    def withdraw(self, amount):\n",
    "        if self._balance >= amount:\n",
    "            self._balance -= amount\n",
    "\n",
    "account = BankAccount(1000)\n",
    "account.deposit(500)\n",
    "print(account.get_balance())  # Abstraction: Interacting with the class at a higher level\n",
    "```\n",
    "\n",
    "2. **Controlling Access**:\n",
    "   - Encapsulation allows you to specify how data should be accessed and modified, providing controlled access to the attributes of a class.\n",
    "   - Access control mechanisms, such as making attributes private (by using a single underscore like `_balance`) or providing getter and setter methods, allow you to define rules for accessing data.\n",
    "   - This control is essential for maintaining data integrity and enforcing business logic.\n",
    "\n",
    "```python\n",
    "class Person:\n",
    "    def __init__(self, name, age):\n",
    "        self._name = name  # Encapsulated attribute\n",
    "        self._age = age  # Encapsulated attribute\n",
    "\n",
    "    def get_name(self):\n",
    "        return self._name  # Getter method for encapsulated attribute\n",
    "\n",
    "    def set_age(self, age):\n",
    "        if age >= 0:\n",
    "            self._age = age  # Setter method for encapsulated attribute\n",
    "\n",
    "    def get_age(self):\n",
    "        return self._age  # Getter method for encapsulated attribute\n",
    "\n",
    "person = Person(\"Alice\", 30)\n",
    "person.set_age(-5)  # Abstraction: Validating and controlling access to the age attribute\n",
    "print(person.get_age())\n",
    "```\n",
    "\n",
    "3. **Promoting Abstraction**:\n",
    "   - Encapsulation encourages you to define clean, high-level interfaces for your classes. These interfaces abstract away the underlying complexity of the class's implementation.\n",
    "   - Users of the class interact with these high-level interfaces, focusing on what the class does rather than how it does it.\n",
    "\n",
    "```python\n",
    "class Car:\n",
    "    def __init__(self, make, model):\n",
    "        self._make = make  # Encapsulated attribute\n",
    "        self._model = model  # Encapsulated attribute\n",
    "\n",
    "    def start_engine(self):\n",
    "        print(f\"The {self._make} {self._model}'s engine is started.\")  # Abstraction: Users interact with high-level methods\n",
    "\n",
    "    def stop_engine(self):\n",
    "        print(f\"The {self._make} {self._model}'s engine is stopped.\")\n",
    "\n",
    "my_car = Car(\"Toyota\", \"Camry\")\n",
    "my_car.start_engine()  # Abstraction: Starting the engine without worrying about the internal details\n",
    "```\n",
    "\n",
    "In summary, encapsulation, which involves bundling data and methods together and controlling access to that data, is a key mechanism for achieving abstraction in object-oriented programming. It allows you to hide implementation details, promote high-level interfaces, and control data access, making it easier to work with and understand complex systems. Abstraction, in turn, allows users to interact with classes at a higher level of understanding, focusing on what a class does rather than how it does it."
   ]
  },
  {
   "cell_type": "markdown",
   "id": "7ca21afb-0fca-442e-9798-889636e99715",
   "metadata": {},
   "source": [
    "#### 10. What is the purpose of abstract methods, and how do they enforce abstraction in Python classes?"
   ]
  },
  {
   "cell_type": "markdown",
   "id": "66f42683-15af-45a4-b75c-804958929bee",
   "metadata": {},
   "source": [
    "Ans.\n",
    "\n",
    "Abstract methods serve an important purpose in object-oriented programming, particularly in Python. They enforce abstraction by defining a common interface that must be implemented by concrete subclasses. Here's a breakdown of their purpose and how they enforce abstraction:\n",
    "\n",
    "**Purpose of Abstract Methods**:\n",
    "\n",
    "1. **Define a Common Interface**:\n",
    "   - Abstract methods are methods declared in an abstract base class (ABC) without providing their implementation details.\n",
    "   - They define a common interface for a group of related classes that are expected to perform a particular action in their own specific way.\n",
    "\n",
    "2. **Enforce a Contract**:\n",
    "   - Abstract methods effectively define a contract that concrete subclasses must adhere to. This contract specifies that any concrete subclass must implement these methods with their own specific functionality.\n",
    "\n",
    "3. **Achieve Polymorphism**:\n",
    "   - By enforcing the implementation of abstract methods, abstract classes ensure that different concrete subclasses can be used interchangeably and polymorphism can be achieved. This means that objects of different subclasses can be treated as instances of the same base class.\n",
    "\n",
    "**Enforcing Abstraction with Abstract Methods**:\n",
    "\n",
    "1. **Declaring Abstract Methods**:\n",
    "   - Abstract methods are declared in an abstract base class using the `@abstractmethod` decorator from the `abc` module.\n",
    "   - The abstract base class itself may also be marked as abstract using the `@abstractmethod` decorator.\n",
    "\n",
    "2. **Concrete Subclasses Must Implement**:\n",
    "   - Any concrete subclass that inherits from the abstract base class is required to provide concrete implementations of all abstract methods declared in the base class.\n",
    "   - If a concrete subclass fails to provide an implementation for an abstract method, a `TypeError` will be raised when attempting to instantiate an object of that subclass.\n",
    "\n",
    "3. **Polymorphism and Abstraction**:\n",
    "   - When objects of different concrete subclasses implement the same abstract methods, they can be used interchangeably, allowing for polymorphic behavior.\n",
    "   - This means that users of these objects can interact with them based on the common interface defined by the abstract methods, without needing to know the specific details of each subclass's implementation."
   ]
  },
  {
   "cell_type": "markdown",
   "id": "e935f383-bf79-41f3-9c64-6a8df738edad",
   "metadata": {},
   "source": [
    "#### 11. Create a Python class for a vehicle system and demonstrate abstraction by defining common methods (e.g., `start()`, `stop()`) in an abstract base class."
   ]
  },
  {
   "cell_type": "code",
   "execution_count": 30,
   "id": "0f5d2e5b-0cca-4d13-95e8-82ff60eaa441",
   "metadata": {},
   "outputs": [
    {
     "name": "stdout",
     "output_type": "stream",
     "text": [
      "Starting the Toyota Camry car\n",
      "Stopping the Toyota Camry car.\n",
      "Pedaling the Trek Mountain Bike bicycle.\n",
      "Braking the Trek Mountain Bike bicycle.\n"
     ]
    }
   ],
   "source": [
    "from abc import ABC, abstractmethod\n",
    "\n",
    "# Abstract base class (ABC) for vehicle\n",
    "class Vehicle(ABC):\n",
    "    def __init__(self, make, model):\n",
    "        self.make = make\n",
    "        self.model = model\n",
    "        \n",
    "    @abstractmethod\n",
    "    def start(self):\n",
    "        pass\n",
    "    \n",
    "    @abstractmethod\n",
    "    def stop(self):\n",
    "        pass\n",
    "    \n",
    "# Concrete class for a car\n",
    "class Car(Vehicle):\n",
    "    def start(self):\n",
    "        return f\"Starting the {self.make} {self.model} car\"\n",
    "    def stop(self):\n",
    "        return f\"Stopping the {self.make} {self.model} car.\"\n",
    "\n",
    "# Concrete class for a bicycle\n",
    "class Bicycle(Vehicle):\n",
    "    def start(self):\n",
    "        return f\"Pedaling the {self.make} {self.model} bicycle.\"\n",
    "\n",
    "    def stop(self):\n",
    "        return f\"Braking the {self.make} {self.model} bicycle.\"\n",
    "    \n",
    "# Function to interect with vehicle\n",
    "def vehicle_actions(vehicle):\n",
    "    print(vehicle.start())\n",
    "    print(vehicle.stop())\n",
    "    \n",
    "# Usage\n",
    "car = Car(\"Toyota\", \"Camry\")\n",
    "bicycle = Bicycle(\"Trek\", \"Mountain Bike\")\n",
    "\n",
    "vehicle_actions(car)\n",
    "vehicle_actions(bicycle)\n",
    "    \n"
   ]
  },
  {
   "cell_type": "markdown",
   "id": "4ac05e81-72a7-4b5f-bcd6-88e837eb8fcf",
   "metadata": {},
   "source": [
    "#### 12. Describe the use of abstract properties in Python and how they can be employed in abstract classes."
   ]
  },
  {
   "cell_type": "markdown",
   "id": "412bd75d-a226-4be7-a239-ecd067d846c5",
   "metadata": {},
   "source": [
    "Ans.\n",
    "\n",
    "Abstract properties in Python are used to define attributes in an abstract base class (ABC) that must be implemented by concrete subclasses. These properties enforce a contract, ensuring that any concrete subclass provides implementations for specific attributes. Here's how abstract properties work and how they can be employed in abstract classes:\n",
    "\n",
    "**Use of Abstract Properties**:\n",
    "\n",
    "1. **Defining Abstract Properties**:\n",
    "   - Abstract properties are defined in an abstract base class using the `@property` decorator and the `@<property>.setter` decorator to define the setter method.\n",
    "   - The `@abstractmethod` decorator is also used to mark the getter and setter methods as abstract, indicating that concrete subclasses must implement these methods.\n",
    "\n",
    "2. **Enforcing Implementation**:\n",
    "   - When an abstract property is defined in an abstract base class, concrete subclasses are required to provide implementations for both the getter and setter methods of that property.\n",
    "   - If a concrete subclass fails to implement either the getter or setter method, a `TypeError` will be raised when attempting to instantiate an object of that subclass.\n",
    "\n",
    "**Employing Abstract Properties in Abstract Classes**:\n",
    "\n",
    "Here's an example to illustrate the use of abstract properties in an abstract class:\n",
    "\n",
    "```python\n",
    "from abc import ABC, abstractmethod, abstractproperty\n",
    "\n",
    "# Abstract base class (ABC) for shapes\n",
    "class Shape(ABC):\n",
    "    @abstractproperty\n",
    "    @property\n",
    "    @abstractmethod\n",
    "    def area(self):\n",
    "        pass\n",
    "\n",
    "# Concrete subclass for a Circle\n",
    "class Circle(Shape):\n",
    "    def __init__(self, radius):\n",
    "        self.radius = radius\n",
    "\n",
    "    @property\n",
    "    def area(self):\n",
    "        return 3.14159 * self.radius * self.radius\n",
    "\n",
    "# Concrete subclass for a Rectangle\n",
    "class Rectangle(Shape):\n",
    "    def __init__(self, width, height):\n",
    "        self.width = width\n",
    "        self.height = height\n",
    "\n",
    "    @property\n",
    "    def area(self):\n",
    "        return self.width * self.height\n",
    "\n",
    "# Usage\n",
    "circle = Circle(5)\n",
    "rectangle = Rectangle(4, 6)\n",
    "\n",
    "print(f\"Circle Area: {circle.area:.2f}\")\n",
    "print(f\"Rectangle Area: {rectangle.area}\")\n",
    "```\n",
    "\n",
    "In this example:\n",
    "\n",
    "- The `Shape` abstract base class defines an abstract property `area`. This property enforces that any concrete subclass must provide an implementation for the `area` property, which calculates the area of the shape.\n",
    "\n",
    "- The concrete subclasses, `Circle` and `Rectangle`, implement the `area` property with their specific formulas to calculate the area of their respective shapes.\n",
    "\n",
    "- When we create instances of these concrete subclasses, we can access their `area` property, demonstrating polymorphism through the common abstract property.\n",
    "\n",
    "Abstract properties provide a way to define attributes that must be implemented in concrete subclasses, enforcing a contract and promoting abstraction. This mechanism ensures that all subclasses adhere to a common interface for the specified attribute, even if the actual implementations vary."
   ]
  },
  {
   "cell_type": "markdown",
   "id": "06a579d0-f689-41ff-9655-6f55bc675050",
   "metadata": {},
   "source": [
    "#### 13. Create a Python class hierarchy for employees in a company (e.g., manager, developer, designer) and implement abstraction by defining a common `get_salary()` method."
   ]
  },
  {
   "cell_type": "code",
   "execution_count": 32,
   "id": "b67c9e34-6311-409b-b6e0-bb5ac96d534d",
   "metadata": {},
   "outputs": [
    {
     "name": "stdout",
     "output_type": "stream",
     "text": [
      "Total Salary for Employees: $124800.00\n"
     ]
    }
   ],
   "source": [
    "from abc import ABC, abstractmethod\n",
    "\n",
    "# Abstract base class (ABC) for employees\n",
    "class Employee(ABC):\n",
    "    def __init__(self, name, employee_id):\n",
    "        self.name = name\n",
    "        self.employee_id = employee_id\n",
    "\n",
    "    @abstractmethod\n",
    "    def get_salary(self):\n",
    "        pass\n",
    "\n",
    "# Concrete class for a manager\n",
    "class Manager(Employee):\n",
    "    def __init__(self, name, employee_id, salary):\n",
    "        super().__init__(name, employee_id)\n",
    "        self.salary = salary\n",
    "\n",
    "    def get_salary(self):\n",
    "        return self.salary\n",
    "\n",
    "# Concrete class for a developer\n",
    "class Developer(Employee):\n",
    "    def __init__(self, name, employee_id, hourly_rate, hours_worked):\n",
    "        super().__init__(name, employee_id)\n",
    "        self.hourly_rate = hourly_rate\n",
    "        self.hours_worked = hours_worked\n",
    "\n",
    "    def get_salary(self):\n",
    "        return self.hourly_rate * self.hours_worked\n",
    "\n",
    "# Concrete class for a designer\n",
    "class Designer(Employee):\n",
    "    def __init__(self, name, employee_id, base_salary, bonus):\n",
    "        super().__init__(name, employee_id)\n",
    "        self.base_salary = base_salary\n",
    "        self.bonus = bonus\n",
    "\n",
    "    def get_salary(self):\n",
    "        return self.base_salary + self.bonus\n",
    "\n",
    "# Function to calculate total salary for a list of employees\n",
    "def calculate_total_salary(employees):\n",
    "    total_salary = sum(employee.get_salary() for employee in employees)\n",
    "    return total_salary\n",
    "\n",
    "# Usage\n",
    "manager = Manager(\"Alice\", \"M001\", 60000)\n",
    "developer = Developer(\"Bob\", \"D001\", 30, 160)\n",
    "designer = Designer(\"Charlie\", \"D002\", 55000, 5000)\n",
    "\n",
    "employees = [manager, developer, designer]\n",
    "total_salary = calculate_total_salary(employees)\n",
    "\n",
    "print(f\"Total Salary for Employees: ${total_salary:.2f}\")\n"
   ]
  },
  {
   "cell_type": "markdown",
   "id": "1675bc2e-7fcb-43bc-a0f6-47e10e1ce177",
   "metadata": {},
   "source": [
    "#### 15. Explain the concept of abstract data types (ADTs) and their role in achieving abstraction in Python."
   ]
  },
  {
   "cell_type": "markdown",
   "id": "561e45c1-bef4-4972-8660-4015c27c61d4",
   "metadata": {},
   "source": [
    "Ans.\n",
    "\n",
    "Abstract Data Types (ADTs) are a high-level concept in computer science that abstractly define the behavior of data and the operations that can be performed on that data. They serve as a blueprint for data structures, encapsulating both data and operations into a single unit. The key points regarding ADTs and their role in achieving abstraction in Python are as follows:\n",
    "\n",
    "1. **Abstraction**:\n",
    "   - ADTs provide a level of abstraction by focusing on what data and operations should be available without specifying how they are implemented.\n",
    "   - They hide the internal details and complexities of data structures, allowing users to work with data at a higher level, focusing on the functionality it provides rather than its implementation.\n",
    "\n",
    "2. **Encapsulation**:\n",
    "   - ADTs encapsulate data and behavior within a single unit, much like Python classes encapsulate data attributes and methods.\n",
    "   - This encapsulation is essential for organizing and managing complex data structures.\n",
    "\n",
    "3. **Modularity**:\n",
    "   - ADTs promote modularity by breaking down complex problems into simpler components. They define well-structured interfaces, allowing developers to work on different parts of a program independently.\n",
    "\n",
    "4. **Reusability**:\n",
    "   - ADTs can be used as building blocks for creating various data structures. Once an ADT is defined, it can be used in different contexts and applications.\n",
    "   - In Python, classes can serve as ADTs, and by creating classes with well-defined interfaces, you can reuse them in different parts of your code.\n",
    "\n",
    "5. **Customization**:\n",
    "   - ADTs can be customized by implementing them in various ways to suit specific requirements. For instance, you can create different implementations of a stack ADT, such as using lists or linked lists, depending on your needs.\n",
    "   - In Python, you can create custom classes to implement ADTs tailored to your application.\n",
    "\n",
    "6. **Data Abstraction**:\n",
    "   - ADTs abstract data, providing a set of operations for working with the data without revealing the internal representation of the data.\n",
    "   - This separation of interface from implementation is a core principle of data abstraction.\n",
    "\n",
    "7. **Encapsulation in Python**:\n",
    "   - In Python, ADTs can be implemented using classes. Classes encapsulate both data attributes and methods that operate on those attributes.\n",
    "   - Python's support for object-oriented programming makes it a suitable language for creating ADTs and implementing abstraction.\n",
    "\n",
    "8. **Examples**:\n",
    "   - Common ADTs include lists, stacks, queues, dictionaries, and sets. In Python, you often work with built-in ADTs like lists, dictionaries, and sets. You can also create custom ADTs using classes to abstract data and operations specific to your application.\n",
    "\n",
    "Overall, ADTs play a vital role in software development by promoting abstraction, encapsulation, and modular design, making complex systems more manageable and maintainable. In Python, you can implement ADTs using classes, and this aligns with Python's object-oriented programming paradigm, where classes serve as a primary means of abstraction and encapsulation."
   ]
  },
  {
   "cell_type": "markdown",
   "id": "5b65a9c3-8900-49e6-b7e6-dc3960f03922",
   "metadata": {},
   "source": [
    "#### 16. Create a Python class for a computer system, demonstrating abstraction by defining common methods (e.g., ´power_on()´, `shutdown()`) in an abstract base class. "
   ]
  },
  {
   "cell_type": "code",
   "execution_count": 3,
   "id": "355f939d-cd13-4604-96d2-f473eba9f049",
   "metadata": {},
   "outputs": [
    {
     "name": "stdout",
     "output_type": "stream",
     "text": [
      "Dell OptiPlex desktop computer is powering on.\n",
      "HP Pavilion laptop computer is powering on.\n",
      "Dell OptiPlex desktop computer is shutting down.\n",
      "HP Pavilion laptop computer is shutting down.\n"
     ]
    }
   ],
   "source": [
    "from abc import ABC, abstractmethod\n",
    "\n",
    "# Abstract base class (ABC) for a computer system\n",
    "class ComputerSystem(ABC):\n",
    "    def __init__(self, brand, model):\n",
    "        self.brand = brand\n",
    "        self.model = model\n",
    "        self.is_powered_on = False\n",
    "\n",
    "    @abstractmethod\n",
    "    def power_on(self):\n",
    "        pass\n",
    "\n",
    "    @abstractmethod\n",
    "    def shutdown(self):\n",
    "        pass\n",
    "\n",
    "# Concrete class for a desktop computer\n",
    "class DesktopComputer(ComputerSystem):\n",
    "    def power_on(self):\n",
    "        self.is_powered_on = True\n",
    "        print(f\"{self.brand} {self.model} desktop computer is powering on.\")\n",
    "\n",
    "    def shutdown(self):\n",
    "        self.is_powered_on = False\n",
    "        print(f\"{self.brand} {self.model} desktop computer is shutting down.\")\n",
    "\n",
    "# Concrete class for a laptop computer\n",
    "class LaptopComputer(ComputerSystem):\n",
    "    def power_on(self):\n",
    "        self.is_powered_on = True\n",
    "        print(f\"{self.brand} {self.model} laptop computer is powering on.\")\n",
    "\n",
    "    def shutdown(self):\n",
    "        self.is_powered_on = False\n",
    "        print(f\"{self.brand} {self.model} laptop computer is shutting down.\")\n",
    "\n",
    "# Usage\n",
    "desktop = DesktopComputer(\"Dell\", \"OptiPlex\")\n",
    "laptop = LaptopComputer(\"HP\", \"Pavilion\")\n",
    "\n",
    "desktop.power_on()\n",
    "laptop.power_on()\n",
    "\n",
    "desktop.shutdown()\n",
    "laptop.shutdown()\n"
   ]
  },
  {
   "cell_type": "markdown",
   "id": "30742173-d6b7-49ce-9bcf-01908e34c7f7",
   "metadata": {},
   "source": [
    "#### 17. Discuss the benefits of using abstraction in large-scale software development projects."
   ]
  },
  {
   "cell_type": "markdown",
   "id": "7e4b8378-b46a-49b7-a435-b224ead5f938",
   "metadata": {},
   "source": [
    "Ans.\n",
    "\n",
    "Abstraction plays a crucial role in large-scale software development projects, offering several benefits that contribute to the efficiency, maintainability, and overall success of the project:\n",
    "\n",
    "1. **Complexity Management**:\n",
    "   - In large-scale projects, software systems can become exceedingly complex. Abstraction allows developers to break down the complexity into manageable and understandable components.\n",
    "   - By creating high-level abstractions, developers can focus on individual components without needing to understand the entire system's intricacies, which simplifies development and debugging.\n",
    "\n",
    "2. **Modularity**:\n",
    "   - Abstraction encourages a modular design approach. Modules or components with well-defined interfaces can be developed independently, which promotes code reusability and team collaboration.\n",
    "   - Modules can be tested, maintained, and enhanced without affecting other parts of the system, reducing the risk of introducing unintended consequences.\n",
    "\n",
    "3. **Code Reusability**:\n",
    "   - Abstraction promotes the creation of reusable components. These components, often in the form of libraries or frameworks, can be applied to multiple projects.\n",
    "   - Reusing well-tested and abstracted code saves development time and ensures consistency in different parts of a project or across various projects.\n",
    "\n",
    "4. **Maintainability**:\n",
    "   - Abstraction simplifies maintenance. When issues or updates are required, developers can focus on specific modules or classes without having to understand the entire system.\n",
    "   - Abstraction reduces the risk of introducing new bugs during maintenance, as changes are localized to well-defined components.\n",
    "\n",
    "5. **Scalability**:\n",
    "   - Large-scale projects typically need to accommodate growth. Abstraction provides the flexibility to scale a system by adding new components or modifying existing ones without disrupting the entire system.\n",
    "   - New features can be implemented as separate abstractions, preserving the integrity of the existing system.\n",
    "\n",
    "6. **Collaboration**:\n",
    "   - Abstraction enhances collaboration among developers and teams. Team members can work on separate components defined by clear interfaces.\n",
    "   - Collaboration is more efficient because each team member doesn't need to understand the entire project but only the components they are responsible for.\n",
    "\n",
    "7. **Reduced Cognitive Load**:\n",
    "   - Abstraction reduces the cognitive load on developers by allowing them to focus on high-level concepts and interfaces. They can work at a level of abstraction that matches the problem domain rather than the implementation details.\n",
    "   - This reduces mental overhead and the potential for errors.\n",
    "\n",
    "8. **Testing and Quality Assurance**:\n",
    "   - Abstracted components are easier to test in isolation. This facilitates unit testing, ensuring that individual parts of the system behave as expected.\n",
    "   - Quality assurance efforts are more effective, as tests can be concentrated on specific components.\n",
    "\n",
    "9. **Documentation**:\n",
    "   - Abstraction leads to more clear and concise documentation. Components with well-defined interfaces are easier to document, making it easier for developers to understand and use the system.\n",
    "\n",
    "10. **Adaptability and Future-Proofing**:\n",
    "    - Abstraction allows for the introduction of new technologies or architectural changes without major disruptions. As long as the interfaces remain consistent, underlying implementations can change.\n",
    "\n",
    "In summary, abstraction is a fundamental concept in large-scale software development because it streamlines project management, improves code quality, and reduces the complexity of working with extensive and intricate software systems. By creating well-defined abstractions, developers can build and maintain complex projects more effectively and with higher levels of quality."
   ]
  },
  {
   "cell_type": "markdown",
   "id": "5e5ef5e8-e152-440d-a2de-0f2fbb42f0ee",
   "metadata": {},
   "source": [
    "#### 18. Explain how abstraction enhances code reusability and modularity in Python programs."
   ]
  },
  {
   "cell_type": "markdown",
   "id": "e2fa4208-ea27-4af2-af69-182328612b0c",
   "metadata": {},
   "source": [
    "Ans.\n",
    "\n",
    "Abstraction enhances code reusability and modularity in Python programs by promoting a structured and organized approach to software design and development. Here's how abstraction contributes to these aspects:\n",
    "\n",
    "1. **Modularity**:\n",
    "\n",
    "   - **Component Isolation**: Abstraction encourages the division of a program into modular components or classes, each responsible for a specific task or functionality. These components are self-contained and encapsulate their behavior.\n",
    "\n",
    "   - **Clearly Defined Interfaces**: Abstraction often involves defining clear and well-documented interfaces for these modules. These interfaces specify how different components can interact with each other.\n",
    "\n",
    "   - **Separation of Concerns**: Abstraction enforces the separation of concerns, ensuring that each module has a single, well-defined responsibility. This separation makes it easier to reason about and maintain the code.\n",
    "\n",
    "   - **Independent Development**: Modular components can be developed independently, which simplifies collaboration in large teams. Developers can work on individual modules without affecting other parts of the system.\n",
    "\n",
    "   - **Reusability**: Modular components can be reused in various parts of the program or even in different projects. This reusability reduces duplication of code and accelerates development.\n",
    "\n",
    "2. **Code Reusability**:\n",
    "\n",
    "   - **Abstraction Layers**: Abstraction often involves creating layers of increasing complexity, with higher layers built upon lower layers. The lower layers contain reusable and foundational components that higher layers can leverage.\n",
    "\n",
    "   - **Library and Framework Reuse**: Python's extensive library and framework ecosystem is a prime example of code reusability through abstraction. Developers can reuse libraries like NumPy for numerical operations, Django for web development, or TensorFlow for machine learning.\n",
    "\n",
    "   - **Custom Abstractions**: Developers can create their custom abstractions (classes or functions) that encapsulate common functionality. These abstractions can be reused in different parts of the codebase.\n",
    "\n",
    "   - **Design Patterns**: Abstraction encourages the use of design patterns, such as the Factory Pattern or Singleton Pattern, which provide reusable solutions to common design problems.\n",
    "\n",
    "3. **Scalability**:\n",
    "\n",
    "   - **Plug-and-Play**: Abstraction enables the addition of new modules or components to extend the functionality of a program. These new components can often be added without changing existing code if the interfaces are well-defined.\n",
    "\n",
    "   - **Maintainability**: As code grows, maintaining a program can become challenging. Abstraction helps in managing the growth by isolating and organizing components. This, in turn, eases the task of adding or modifying features.\n",
    "\n",
    "4. **Testing**:\n",
    "\n",
    "   - **Unit Testing**: Abstraction facilitates unit testing, as individual modules can be tested in isolation. This ensures that each component functions correctly before integration testing.\n",
    "\n",
    "   - **Modular Testing**: With abstraction, it's possible to test different modules separately, making it easier to identify and address issues within a specific component.\n",
    "\n",
    "In Python, abstraction is often implemented through the use of classes and functions. Python's object-oriented programming (OOP) capabilities, including encapsulation, inheritance, and polymorphism, further support the development of modular and reusable code. The combination of these features and best practices in software design allows Python developers to create maintainable, scalable, and reusable codebases."
   ]
  },
  {
   "cell_type": "markdown",
   "id": "267a5edf-3755-493b-a6b0-cebecf91ca66",
   "metadata": {},
   "source": [
    "#### 19. Create a Python class for a library system, implementing abstraction by defining common methods (e.g., `add_book()`, `borrow_book()`) in an abstract base class."
   ]
  },
  {
   "cell_type": "code",
   "execution_count": 13,
   "id": "238b38ec-88d0-4f02-8073-8c4639fb192e",
   "metadata": {},
   "outputs": [],
   "source": [
    "from abc import ABC, abstractmethod\n",
    "\n",
    "# Abstract base class for a Library\n",
    "class Library(ABC):\n",
    "    def __init__(self, name):\n",
    "        self.name = name\n",
    "        \n",
    "    @abstractmethod\n",
    "    def add_book(self):\n",
    "        pass\n",
    "    \n",
    "    @abstractmethod\n",
    "    def show_available_book(self):\n",
    "        pass\n",
    "    \n",
    "    @abstractmethod\n",
    "    def borrow_book(self):\n",
    "        pass\n",
    "    \n",
    "    \n",
    "# Concrete class for a Library\n",
    "class PublicLibrary(Library):\n",
    "    def __init__(self, name):\n",
    "        super().__init__(name)\n",
    "        self.books = []\n",
    "        \n",
    "    def add_book(self, book):\n",
    "        self.books.append(book)\n",
    "        print(f\"Added {book} to {self.name}\")\n",
    "        \n",
    "        \n",
    "    def show_available_book(self):\n",
    "        if not self.books:\n",
    "            print(\"No book has been added in the library\")\n",
    "        else:\n",
    "            print(f\"Available books are: {self.books}\")\n",
    "    \n",
    "        \n",
    "    def borrow_book(self, book):\n",
    "        \n",
    "        if book not in self.books:\n",
    "            print(\"No book has been added in the library\")\n",
    "        elif book in self.books:\n",
    "            self.books.remove(book)\n",
    "            print(f\"Borrowed '{book}' from {self.name}.\")\n",
    "        else:\n",
    "            print(f\"'{book}' is not available in {self.name}.\")\n",
    "            \n",
    "####\n",
    "public_library = PublicLibrary(\"Public Library\")"
   ]
  },
  {
   "cell_type": "code",
   "execution_count": 14,
   "id": "ab1e33d2-fc8f-4e77-ae0a-774a93791906",
   "metadata": {},
   "outputs": [
    {
     "name": "stdout",
     "output_type": "stream",
     "text": [
      "No book has been added in the library\n"
     ]
    }
   ],
   "source": [
    "public_library.show_available_book()"
   ]
  },
  {
   "cell_type": "code",
   "execution_count": 15,
   "id": "4fe64ea6-6f85-4b1e-b3e0-86893007d059",
   "metadata": {},
   "outputs": [
    {
     "name": "stdout",
     "output_type": "stream",
     "text": [
      "No book has been added in the library\n"
     ]
    }
   ],
   "source": [
    "public_library.borrow_book(\"Book1\")"
   ]
  },
  {
   "cell_type": "code",
   "execution_count": 16,
   "id": "17d0bfe7-b7ec-45ba-9802-b484c2102eae",
   "metadata": {},
   "outputs": [
    {
     "name": "stdout",
     "output_type": "stream",
     "text": [
      "Added Book 1 to Public Library\n",
      "Added Book 2 to Public Library\n",
      "Added Book 3 to Public Library\n"
     ]
    }
   ],
   "source": [
    "public_library.add_book(\"Book 1\")\n",
    "public_library.add_book(\"Book 2\")\n",
    "public_library.add_book(\"Book 3\")"
   ]
  },
  {
   "cell_type": "code",
   "execution_count": 17,
   "id": "d66949b3-85a0-4a1c-a9d5-010688d0c41a",
   "metadata": {},
   "outputs": [
    {
     "name": "stdout",
     "output_type": "stream",
     "text": [
      "Available books are: ['Book 1', 'Book 2', 'Book 3']\n"
     ]
    }
   ],
   "source": [
    "public_library.show_available_book()"
   ]
  },
  {
   "cell_type": "code",
   "execution_count": 18,
   "id": "23d3938c-cc84-4feb-b48b-701c9557955b",
   "metadata": {},
   "outputs": [
    {
     "name": "stdout",
     "output_type": "stream",
     "text": [
      "Borrowed 'Book 2' from Public Library.\n"
     ]
    }
   ],
   "source": [
    "public_library.borrow_book(\"Book 2\")"
   ]
  },
  {
   "cell_type": "code",
   "execution_count": 19,
   "id": "be3d35f0-8690-41b9-a8ea-ba91a918b62f",
   "metadata": {},
   "outputs": [
    {
     "name": "stdout",
     "output_type": "stream",
     "text": [
      "Available books are: ['Book 1', 'Book 3']\n"
     ]
    }
   ],
   "source": [
    "public_library.show_available_book()"
   ]
  },
  {
   "cell_type": "markdown",
   "id": "822f8429-8863-4b77-9934-9f7c0ec7cd85",
   "metadata": {},
   "source": [
    "#### 20. Describe the concept of method abstraction in Python and how it relates to polymorphism."
   ]
  },
  {
   "cell_type": "markdown",
   "id": "c55588da-fcdb-4d3b-abf5-0fdde99021be",
   "metadata": {},
   "source": [
    "Ans.\n",
    "\n",
    "Method abstraction in Python refers to the practice of defining method signatures or interfaces in a way that hides the specific implementation details. This concept is closely related to polymorphism, as it allows different classes to provide their own concrete implementations for the same method or interface. Here's how method abstraction and polymorphism are interconnected:\n",
    "\n",
    "1. **Method Signatures**:\n",
    "   - Method abstraction involves defining the signature of a method, which includes its name, parameters, and return type, without specifying how the method performs its task.\n",
    "   - For example, in Python, method abstraction is often achieved by defining abstract methods using the `@abstractmethod` decorator, which specifies that the method must be implemented by any concrete subclass.\n",
    "\n",
    "2. **Polymorphism**:\n",
    "   - Polymorphism is a fundamental concept in object-oriented programming that allows objects of different classes to be treated as instances of a common base class. This is often achieved through method abstraction and the implementation of these methods in concrete classes.\n",
    "   - When multiple classes implement the same method abstracted by a common interface, they enable polymorphism. This means that objects of different classes can be used interchangeably, and the appropriate method implementation is called at runtime.\n",
    "\n",
    "3. **Inheritance and Abstraction**:\n",
    "   - Method abstraction is often associated with inheritance. Abstract methods are defined in a base class, while concrete implementations are provided in derived (sub) classes.\n",
    "   - Derived classes inherit the method signatures from the base class, ensuring that they implement the required functionality.\n",
    "\n",
    "4. **Dynamic Binding**:\n",
    "   - Polymorphism, which is enabled by method abstraction, involves dynamic binding. At runtime, the appropriate method implementation is dynamically determined based on the actual class of the object being operated on.\n",
    "   - This allows for flexibility and adaptability in object-oriented code because different implementations of the same method can be used based on the context.\n",
    "\n",
    "Here's an example to illustrate the relationship between method abstraction and polymorphism:\n",
    "\n",
    "```python\n",
    "from abc import ABC, abstractmethod\n",
    "\n",
    "# Abstract base class with an abstract method\n",
    "class Shape(ABC):\n",
    "    @abstractmethod\n",
    "    def area(self):\n",
    "        pass\n",
    "\n",
    "# Concrete classes implementing the abstract method\n",
    "class Circle(Shape):\n",
    "    def __init__(self, radius):\n",
    "        self.radius = radius\n",
    "\n",
    "    def area(self):\n",
    "        return 3.14 * self.radius * self.radius\n",
    "\n",
    "class Square(Shape):\n",
    "    def __init__(self, side_length):\n",
    "        self.side_length = side_length\n",
    "\n",
    "    def area(self):\n",
    "        return self.side_length * self.side_length\n",
    "\n",
    "# Polymorphism in action\n",
    "shapes = [Circle(5), Square(4)]\n",
    "\n",
    "for shape in shapes:\n",
    "    print(f\"Area of {shape.__class__.__name__}: {shape.area()}\")\n",
    "```\n",
    "\n",
    "In this example:\n",
    "\n",
    "- The `Shape` class defines an abstract method `area()`, providing an abstract interface for calculating the area of different shapes.\n",
    "- The `Circle` and `Square` classes implement the `area()` method according to their specific shapes.\n",
    "- The list of shapes demonstrates polymorphism, as objects of different classes are treated as instances of the common base class (`Shape`), and the appropriate `area()` method is called based on the actual class of each object.\n",
    "\n",
    "Method abstraction, through the use of abstract methods, is essential for defining common interfaces, enabling polymorphism, and building flexible and extensible software systems."
   ]
  },
  {
   "cell_type": "markdown",
   "id": "4da8a9a3-7f59-4a2b-8605-6fc42c9c62de",
   "metadata": {},
   "source": [
    "## Composition"
   ]
  },
  {
   "cell_type": "markdown",
   "id": "337be5a7-c9e2-44c4-96a2-a41406398bf5",
   "metadata": {},
   "source": [
    "#### 1. Explain the concept of composition in Python and how it is used to build complex objects from simpler ones."
   ]
  },
  {
   "cell_type": "markdown",
   "id": "80a03faa-5399-40e8-b6ae-1f9b650986c0",
   "metadata": {},
   "source": [
    "Ans.\n",
    "\n",
    "Composition in Python is a fundamental concept in object-oriented programming (OOP) that allows you to build complex objects by combining or composing simpler objects. It is a way to create relationships between classes where one class contains or is composed of instances of another class. This enables you to create complex structures and behaviors by reusing and assembling existing components. Here's an explanation of composition and how it is used in Python:\n",
    "\n",
    "1. **Composition vs. Inheritance**:\n",
    "   - Composition is an alternative to inheritance for structuring classes and objects. While inheritance creates an \"is-a\" relationship (e.g., a `Car` is a `Vehicle`), composition creates a \"has-a\" relationship (e.g., a `Car` has an `Engine`).\n",
    "   - Composition is often favored over inheritance because it promotes code reuse, flexibility, and loose coupling between classes.\n",
    "\n",
    "2. **Components and Containers**:\n",
    "   - In composition, you have two main types of classes: components and containers. Components are the simpler objects that encapsulate specific functionality or data. Containers are the complex objects that contain or compose multiple instances of components.\n",
    "\n",
    "3. **Example of Composition**:\n",
    "   - Consider a `Car` class composed of several components, such as an `Engine`, `Wheels`, and `Transmission`. Instead of inheriting from these classes, the `Car` class contains instances of these components as attributes.\n",
    "\n",
    "```python\n",
    "class Engine:\n",
    "    def start(self):\n",
    "        print(\"Engine started\")\n",
    "\n",
    "class Wheels:\n",
    "    def rotate(self):\n",
    "        print(\"Wheels are rotating\")\n",
    "\n",
    "class Car:\n",
    "    def __init__(self):\n",
    "        self.engine = Engine()\n",
    "        self.wheels = Wheels()\n",
    "\n",
    "    def drive(self):\n",
    "        self.engine.start()\n",
    "        self.wheels.rotate()\n",
    "\n",
    "my_car = Car()\n",
    "my_car.drive()\n",
    "```\n",
    "\n",
    "4. **Benefits of Composition**:\n",
    "   - **Code Reusability**: Components can be reused in multiple contexts. For example, the same `Engine` class can be used in various types of vehicles.\n",
    "   - **Flexibility**: You can easily replace or upgrade components without affecting the container class. For instance, you can replace the engine with a more powerful one.\n",
    "   - **Loose Coupling**: The container class and the components are loosely coupled, meaning changes in one do not directly impact the other. This promotes maintainability.\n",
    "\n",
    "5. **Composition in Real-World Software**:\n",
    "   - Composition is used extensively in building software systems, where complex functionalities are constructed by assembling smaller, well-defined modules.\n",
    "   - It is commonly used in frameworks and libraries, allowing developers to create custom solutions by combining pre-built components.\n",
    "\n",
    "6. **Design Patterns**:\n",
    "   - Several design patterns, such as the Composite Pattern, rely on composition to create hierarchical structures of objects.\n",
    "   - The Composite Pattern, for example, allows you to treat individual objects and compositions of objects uniformly.\n",
    "\n",
    "In summary, composition is a powerful and flexible way to build complex software systems in Python by combining simpler objects into larger and more intricate structures. It promotes code reuse, flexibility, and maintainability, making it a valuable approach in software design."
   ]
  },
  {
   "cell_type": "markdown",
   "id": "065b6db1-32b7-40fa-877a-f5ac24488d52",
   "metadata": {},
   "source": [
    "#### 2. Describe the difference between composition and inheritance in object-oriented programming."
   ]
  },
  {
   "cell_type": "markdown",
   "id": "033812ed-d4f9-422a-ad8e-d78c1426f45b",
   "metadata": {},
   "source": [
    "Ans.\n",
    "\n",
    "Composition and inheritance are two fundamental concepts in object-oriented programming (OOP), each with its own advantages and use cases. Here's a comparison of composition and inheritance, highlighting their differences:\n",
    "\n",
    "1. **Relationship Type**:\n",
    "   - **Composition**: Composition represents a \"has-a\" or \"part-of\" relationship between classes. In composition, one class contains or is composed of instances of other classes as components. For example, a `Car` class may contain an `Engine` class as one of its components.\n",
    "   - **Inheritance**: Inheritance represents an \"is-a\" relationship between classes. It allows a subclass to inherit attributes and methods from a parent class. For example, a `Car` class might inherit from a more general `Vehicle` class.\n",
    "\n",
    "2. **Code Reuse**:\n",
    "   - **Composition**: Composition promotes code reuse by allowing you to reuse existing classes (components) as part of new classes (containers). It favors a modular approach where individual components can be used in multiple contexts.\n",
    "   - **Inheritance**: Inheritance also supports code reuse, but it does so by inheriting attributes and methods from a parent class. It's more suitable for modeling \"is-a\" relationships, where a subclass shares a common interface and behavior with a parent class.\n",
    "\n",
    "3. **Flexibility**:\n",
    "   - **Composition**: Composition offers greater flexibility because you can easily replace or upgrade components within a container. You can mix and match components to create new objects, making it easier to adapt to changing requirements.\n",
    "   - **Inheritance**: Inheritance can lead to rigid class hierarchies. Once a class is derived from a parent class, it inherits the parent's attributes and methods, which may not be as flexible in terms of modification.\n",
    "\n",
    "4. **Coupling**:\n",
    "   - **Composition**: Composition typically results in loose coupling between classes. Changes in a component class do not directly affect the container class, and vice versa. This promotes maintainability and allows for more independent development of components and containers.\n",
    "   - **Inheritance**: Inheritance can lead to tight coupling, where changes in the parent class can impact all its subclasses. This can make the codebase less maintainable and more prone to unintended side effects.\n",
    "\n",
    "5. **Complexity**:\n",
    "   - **Composition**: Composition is often preferred for managing complexity, as it allows you to break down a complex problem into smaller, more manageable components. You can create complex objects by assembling simpler ones.\n",
    "   - **Inheritance**: Inheritance can lead to complex class hierarchies, especially in cases of deep inheritance chains. Complex hierarchies can be harder to understand and maintain.\n",
    "\n",
    "6. **Design Patterns**:\n",
    "   - **Composition**: Composition is essential for design patterns like the Composite Pattern, where objects can be treated uniformly, whether they are individual objects or compositions of objects.\n",
    "   - **Inheritance**: Inheritance is used in patterns like the Strategy Pattern, where different subclasses implement various strategies, and the context class can switch between them.\n",
    "\n",
    "In practice, the choice between composition and inheritance depends on the specific problem you are trying to solve and the relationships between the classes in your application. Both composition and inheritance have their places in software design, and they can even be used together when appropriate. The decision should be based on the design goals, maintainability, and the desired level of flexibility in your code."
   ]
  },
  {
   "cell_type": "markdown",
   "id": "be9873b1-067c-48ab-a5e2-445509639b6e",
   "metadata": {},
   "source": [
    "#### 3. Create a Python class called `Author` with attributes for name and birthdate. Then, create a `Book` class that contains an instance of `Author` as a composition. Provide an example of creating a `Book` object."
   ]
  },
  {
   "cell_type": "code",
   "execution_count": 1,
   "id": "4c380dfc-6dca-41a5-9700-11f62ac5afec",
   "metadata": {},
   "outputs": [
    {
     "name": "stdout",
     "output_type": "stream",
     "text": [
      "Title: Azad's biopic\n",
      "Author: Sanjida Mishu\n",
      "Author's Birthdate: June 21, 1993\n",
      "Published Year: 2030\n"
     ]
    }
   ],
   "source": [
    "class Author:\n",
    "    def __init__(self, name, birthdate):\n",
    "        self.name = name\n",
    "        self.birthdate = birthdate\n",
    "        \n",
    "class Book(Author):\n",
    "    def __init__(self, title, author, published_year):\n",
    "        self.title = title\n",
    "        self.author = author # Composition: A book has an Author\n",
    "        self.published_year = published_year\n",
    "        \n",
    "    \n",
    "    def display_info(self):\n",
    "        print(f\"Title: {self.title}\")\n",
    "        print(f\"Author: {self.author.name}\")  # Use of composition\n",
    "        print(f\"Author's Birthdate: {self.author.birthdate}\")  # Use of composition\n",
    "        print(f\"Published Year: {self.published_year}\")\n",
    "        \n",
    "        \n",
    "# Creating an Author object\n",
    "author1 = Author(\"Sanjida Mishu\", \"June 21, 1993\")\n",
    "\n",
    "# Creating a Book object with the Author composition\n",
    "book1 = Book(\"Azad's biopic\", author1, 2030)\n",
    "\n",
    "# Displaying book information\n",
    "book1.display_info()\n",
    "    "
   ]
  },
  {
   "cell_type": "markdown",
   "id": "dc9837e6-c61c-4f69-be8b-1ead41a67373",
   "metadata": {},
   "source": [
    "#### 4. Discuss the benefits of using composition over inheritance in Python, especially in terms of code flexibility and reusability."
   ]
  },
  {
   "cell_type": "markdown",
   "id": "1e52d994-b24b-45be-adf8-28d1215dfcd5",
   "metadata": {},
   "source": [
    "Ans.\n",
    "\n",
    "Using composition over inheritance in Python offers several benefits, especially in terms of code flexibility and reusability. Here are some advantages of composition:\n",
    "\n",
    "1. **Modularity and Code Reusability**:\n",
    "   - Composition promotes a modular approach where you can create components that encapsulate specific functionality or data. These components can be reused across different classes and projects.\n",
    "   - By reusing existing components in various contexts, you avoid code duplication and promote reusability.\n",
    "\n",
    "2. **Flexibility**:\n",
    "   - Composition provides greater flexibility compared to inheritance. You can easily replace or upgrade components within a container class without impacting the container's interface or behavior.\n",
    "   - This flexibility is essential for adapting to changing requirements and allows you to mix and match components to create new objects.\n",
    "\n",
    "3. **Loose Coupling**:\n",
    "   - Classes created using composition are loosely coupled, which means changes in one class don't directly affect the other. This promotes maintainability because you can modify a component without worrying about its impact on containers.\n",
    "   - In contrast, inheritance can lead to tight coupling, where changes in the parent class can have unintended consequences for all its subclasses.\n",
    "\n",
    "4. **Independent Development**:\n",
    "   - In a composition-based design, components can be developed independently of the classes that use them. This separation of concerns simplifies development and testing because you can focus on the behavior and implementation of individual components.\n",
    "   - This independence also facilitates parallel development efforts, as multiple teams or developers can work on different components simultaneously.\n",
    "\n",
    "5. **Reuse of Existing Code**:\n",
    "   - Composition encourages the reuse of existing classes and libraries, which is especially valuable when working with third-party libraries or open-source components. You can build your classes by composing well-tested and well-maintained components.\n",
    "\n",
    "6. **Clearer Class Hierarchies**:\n",
    "   - Composition tends to lead to flatter and clearer class hierarchies. Instead of deep and complex inheritance chains, you have a more straightforward structure with clear relationships between components and containers.\n",
    "   - This simplifies the understanding and maintenance of the codebase.\n",
    "\n",
    "7. **Design Patterns**:\n",
    "   - Many design patterns, such as the Composite Pattern, are based on composition. These patterns help you build flexible and scalable software systems by allowing objects and compositions of objects to be treated uniformly.\n",
    "   - Composition is a central concept in these patterns.\n",
    "\n",
    "8. **Encapsulation and Information Hiding**:\n",
    "   - Composition naturally supports encapsulation and information hiding. Components can expose only the necessary interface to the container, hiding implementation details. This improves the security and maintainability of your code.\n",
    "\n",
    "9. **Reduced Risk of Fragile Base Class Problem**:\n",
    "   - Inheritance can lead to the \"Fragile Base Class Problem,\" where changes to a base class can break multiple subclasses. Composition mitigates this risk because changes to components affect only the classes that directly use them.\n",
    "\n",
    "In summary, composition is a powerful and flexible way to design software systems in Python, offering clear advantages in terms of modularity, code reusability, flexibility, and maintainability. It enables you to build complex and adaptable systems by assembling smaller, well-defined components, making it an essential concept in modern software design."
   ]
  },
  {
   "cell_type": "markdown",
   "id": "a413dbac-fff6-4b54-be11-bb9eca125c9a",
   "metadata": {},
   "source": [
    "#### 5. How can you implement composition in Python classes? Provide examples of using composition to create complex objects."
   ]
  },
  {
   "cell_type": "markdown",
   "id": "260017e8-a2a1-488f-a225-20547915358d",
   "metadata": {},
   "source": [
    "Ans. \n",
    "\n",
    "To implement composition in Python classes, you create relationships between classes where one class contains or is composed of instances of another class as components. Here are some examples of how you can use composition to create complex objects:\n",
    "\n",
    "**Example 1: Car and Engine Composition**\n",
    "\n",
    "In this example, we'll create a `Car` class composed of an `Engine` class:\n",
    "\n",
    "```python\n",
    "class Engine:\n",
    "    def start(self):\n",
    "        print(\"Engine started\")\n",
    "\n",
    "class Car:\n",
    "    def __init__(self):\n",
    "        self.engine = Engine()  # Composition: A Car has an Engine\n",
    "\n",
    "    def drive(self):\n",
    "        print(\"Driving...\")\n",
    "        self.engine.start()\n",
    "\n",
    "# Creating a Car object\n",
    "my_car = Car()\n",
    "\n",
    "# Using composition to access the Engine's functionality\n",
    "my_car.drive()\n",
    "```\n",
    "\n",
    "**Example 2: Smartphone and Camera Composition**\n",
    "\n",
    "Here, we'll create a `Smartphone` class composed of a `Camera` class:\n",
    "\n",
    "```python\n",
    "class Camera:\n",
    "    def take_photo(self):\n",
    "        print(\"Taking a photo\")\n",
    "\n",
    "class Smartphone:\n",
    "    def __init__(self):\n",
    "        self.camera = Camera()  # Composition: A Smartphone has a Camera\n",
    "\n",
    "    def make_call(self):\n",
    "        print(\"Making a call\")\n",
    "\n",
    "# Creating a Smartphone object\n",
    "my_phone = Smartphone()\n",
    "\n",
    "# Using composition to access the Camera's functionality\n",
    "my_phone.take_photo()\n",
    "```\n",
    "\n",
    "**Example 3: Zoo Simulation with Animal Composition**\n",
    "\n",
    "In this example, we'll simulate a zoo with animals as components of a `Zoo` class:\n",
    "\n",
    "```python\n",
    "class Animal:\n",
    "    def __init__(self, name):\n",
    "        self.name = name\n",
    "\n",
    "    def speak(self):\n",
    "        pass\n",
    "\n",
    "class Dog(Animal):\n",
    "    def speak(self):\n",
    "        return \"Woof!\"\n",
    "\n",
    "class Cat(Animal):\n",
    "    def speak(self):\n",
    "        return \"Meow!\"\n",
    "\n",
    "class Zoo:\n",
    "    def __init__(self):\n",
    "        self.animals = []  # Composition: A Zoo has a collection of Animals\n",
    "\n",
    "    def add_animal(self, animal):\n",
    "        self.animals.append(animal)\n",
    "\n",
    "    def perform_sounds(self):\n",
    "        for animal in self.animals:\n",
    "            print(f\"{animal.name} says {animal.speak()}\")\n",
    "\n",
    "# Creating a Zoo and adding animals using composition\n",
    "my_zoo = Zoo()\n",
    "my_zoo.add_animal(Dog(\"Fido\"))\n",
    "my_zoo.add_animal(Cat(\"Whiskers\"))\n",
    "\n",
    "# Simulating animal sounds using composition\n",
    "my_zoo.perform_sounds()\n",
    "```\n",
    "\n",
    "In these examples:\n",
    "\n",
    "- Composition is used to create relationships between classes by including instances of one class within another.\n",
    "- The container class (e.g., `Car`, `Smartphone`, `Zoo`) is composed of one or more components (e.g., `Engine`, `Camera`, `Animal`).\n",
    "- Components can be accessed and used through the container class, demonstrating the \"has-a\" relationship.\n",
    "- The container class can have its own methods and attributes, and it can delegate functionality to its components as needed.\n",
    "\n",
    "Composition allows you to create complex objects by combining simpler ones and is a powerful technique for building modular and maintainable code."
   ]
  },
  {
   "cell_type": "markdown",
   "id": "3d3af0f1-e10b-49e9-9139-1817850f3140",
   "metadata": {},
   "source": [
    "#### 6. Create a Python class hierarchy for a music player system, using composition to represent playlists and songs."
   ]
  },
  {
   "cell_type": "code",
   "execution_count": 3,
   "id": "62d91014-c854-469e-a8b9-c95d8052cc4a",
   "metadata": {},
   "outputs": [
    {
     "name": "stdout",
     "output_type": "stream",
     "text": [
      "Playlist: Favorites\n",
      "Playing: Kal ho na ho by Karan Johar (6 minutes)\n",
      "Playing: It's my life by Bon JOvi (7 minutes)\n"
     ]
    }
   ],
   "source": [
    "class Song:\n",
    "    def __init__(self, title, artist, duration):\n",
    "        self.title = title\n",
    "        self.artist = artist\n",
    "        self.duration = duration\n",
    "        \n",
    "    def play(self):\n",
    "        print(f\"Playing: {self.title} by {self.artist} ({self.duration} minutes)\")\n",
    "        \n",
    "\n",
    "class Playlist:\n",
    "    def __init__(self, name):\n",
    "        self.name = name\n",
    "        self.songs = []  # Composition: A playlist has a list of songs\n",
    "        \n",
    "    def add_songs(self, song):\n",
    "        self.songs.append(song)\n",
    "        \n",
    "    def play(self):\n",
    "        print(f\"Playlist: {self.name}\")\n",
    "        for song in self.songs:\n",
    "            song.play()\n",
    "            \n",
    "class MusicPlayer:\n",
    "    def __init__(self):\n",
    "        self.playlists = []  # Composition: A MusicPlayer has a list of a playlists\n",
    "        \n",
    "    def add_playlist(self, playlist):\n",
    "        self.playlists.append(playlist)\n",
    "        \n",
    "    def play_playlist(self, playlist_name):\n",
    "        for playlist in self.playlists:\n",
    "            if playlist.name == playlist.name:\n",
    "                playlist.play()\n",
    "                return\n",
    "            \n",
    "        print(f\"Playlist '{playlist_name}' not found\")\n",
    "        \n",
    "# Creating songs\n",
    "song1 = Song(\"Kal ho na ho\", \"Karan Johar\", 6)\n",
    "song2 = Song(\"It's my life\", \"Bon JOvi\", 7)\n",
    "song3 = Song(\"Incomplete\", \"Backstreet Boys\", 5)\n",
    "\n",
    "# Creating playlists\n",
    "playlist1 = Playlist(\"Favorites\")\n",
    "playlist1.add_songs(song1)\n",
    "playlist1.add_songs(song2)\n",
    "\n",
    "playlist2 = Playlist(\"Classics\")\n",
    "playlist2.add_songs(song2)\n",
    "playlist2.add_songs(song3)\n",
    "\n",
    "# Create a music player\n",
    "player = MusicPlayer()\n",
    "player.add_playlist(playlist1)\n",
    "player.add_playlist(playlist2)\n",
    "\n",
    "# Play a playlist\n",
    "player.play_playlist(\"Favorites\")"
   ]
  },
  {
   "cell_type": "code",
   "execution_count": null,
   "id": "bee9fb93-86b4-4a89-9a0a-5f4bfb5b053a",
   "metadata": {},
   "outputs": [],
   "source": []
  }
 ],
 "metadata": {
  "kernelspec": {
   "display_name": "Python 3 (ipykernel)",
   "language": "python",
   "name": "python3"
  },
  "language_info": {
   "codemirror_mode": {
    "name": "ipython",
    "version": 3
   },
   "file_extension": ".py",
   "mimetype": "text/x-python",
   "name": "python",
   "nbconvert_exporter": "python",
   "pygments_lexer": "ipython3",
   "version": "3.10.8"
  }
 },
 "nbformat": 4,
 "nbformat_minor": 5
}
