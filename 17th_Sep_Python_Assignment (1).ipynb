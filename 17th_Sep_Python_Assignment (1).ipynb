{
 "cells": [
  {
   "cell_type": "markdown",
   "id": "fad0652b-e252-474b-87ae-419e333c1d97",
   "metadata": {},
   "source": [
    "## For Loop"
   ]
  },
  {
   "cell_type": "markdown",
   "id": "59892e28-53aa-4778-bf1d-dda5b33650da",
   "metadata": {},
   "source": [
    "1. Write a Python program to print numbers from 1 to 10 using a for loop."
   ]
  },
  {
   "cell_type": "code",
   "execution_count": 1,
   "id": "b9728af4-6750-4c18-afa8-18fb96bd6a56",
   "metadata": {},
   "outputs": [
    {
     "name": "stdout",
     "output_type": "stream",
     "text": [
      "1\n",
      "2\n",
      "3\n",
      "4\n",
      "5\n",
      "6\n",
      "7\n",
      "8\n",
      "9\n",
      "10\n"
     ]
    }
   ],
   "source": [
    "a = range(1,11,1)  # Setting the range\n",
    "\n",
    "for i in a:     \n",
    "    print(i)"
   ]
  },
  {
   "cell_type": "markdown",
   "id": "a208b690-3e36-4d26-9828-12a24c23b0a9",
   "metadata": {},
   "source": [
    "2. Explain the difference between a for loop and a while loop in Python."
   ]
  },
  {
   "cell_type": "markdown",
   "id": "d60f6894-e16a-4018-bf6d-d17a6765870a",
   "metadata": {},
   "source": [
    "Ans: ´for loop´ and 'while loop' both are used for repetative operations. However, for loop is used if the the number of iteration is known or pre-defined by the user. While loop is used if the if the number of iteration is not known to the user and also the condition in while loop is turned to false to stop looping according to users need."
   ]
  },
  {
   "cell_type": "markdown",
   "id": "05e9c0f6-98fa-44b7-9458-e8131c9a412b",
   "metadata": {},
   "source": [
    "3. Write a Python program to calculate the sum of all numbers from 1 to 100 using a for loop."
   ]
  },
  {
   "cell_type": "code",
   "execution_count": 4,
   "id": "2d029a93-fe3b-4330-8f2a-87e9c7b2b4d0",
   "metadata": {},
   "outputs": [
    {
     "name": "stdout",
     "output_type": "stream",
     "text": [
      "the sum of all numbers from 1 to 100 using a for loop is: 5050\n"
     ]
    }
   ],
   "source": [
    "sum_num = 0    # Setting a variable to store the sum\n",
    "\n",
    "for i in range(1,101):\n",
    "    sum_num += i\n",
    "print(\"the sum of all numbers from 1 to 100 using a for loop is:\", sum_num)"
   ]
  },
  {
   "cell_type": "markdown",
   "id": "d5283f90-51ac-4e8a-9d13-a6b7fff3e1fe",
   "metadata": {},
   "source": [
    "4. How do you iterate through a list using a for loop in Python?"
   ]
  },
  {
   "cell_type": "markdown",
   "id": "db4b460b-de3a-4b5c-981e-fd414dd2ac21",
   "metadata": {},
   "source": [
    "Ans. As a list is iterable, it can be used directly in the for loop for element wise iteration. The exampe shown is as below:"
   ]
  },
  {
   "cell_type": "code",
   "execution_count": 1,
   "id": "8d95109a-8457-40f1-a346-4303379024b1",
   "metadata": {},
   "outputs": [
    {
     "name": "stdout",
     "output_type": "stream",
     "text": [
      "1\n",
      "2\n",
      "3\n",
      "4\n",
      "Azad\n",
      "Bangladesh\n"
     ]
    }
   ],
   "source": [
    "list_1 = [1,2,3,4,'Azad', 'Bangladesh']\n",
    "for i in list_1:\n",
    "    print(i)"
   ]
  },
  {
   "cell_type": "markdown",
   "id": "cfe25edd-b892-4d4f-9038-bf5122765467",
   "metadata": {},
   "source": [
    "5. Write a Python program to find the product of all elements in a list using a for loop."
   ]
  },
  {
   "cell_type": "code",
   "execution_count": 32,
   "id": "4f41d0b6-45a6-464c-a027-566c2704ed32",
   "metadata": {},
   "outputs": [
    {
     "name": "stdout",
     "output_type": "stream",
     "text": [
      "['Sugar', 'Salt', 'Dates', 'Juice', 'Cola']\n"
     ]
    }
   ],
   "source": [
    "data = {'Store': \"A.K Tradings\", 'Products':[\"Sugar\",\"Salt\",\"Dates\",\"Juice\",\"Cola\"], 'Owner':\"Juwel\", 'Mobile No': 223344}  # Assigning product details inside a variable named 'data'\n",
    "\n",
    "for i in data.values():\n",
    "    if type(i) == list:\n",
    "        print(i)\n"
   ]
  },
  {
   "cell_type": "markdown",
   "id": "41d5faad-0066-4f24-a6ef-908ce29fda86",
   "metadata": {},
   "source": [
    "6. Create a Python program that prints all even numbers from 1 to 20 using a for loop."
   ]
  },
  {
   "cell_type": "code",
   "execution_count": 41,
   "id": "8449bf19-f82c-47c0-9476-a0cddecab595",
   "metadata": {},
   "outputs": [
    {
     "name": "stdout",
     "output_type": "stream",
     "text": [
      "2\n",
      "4\n",
      "6\n",
      "8\n",
      "10\n",
      "12\n",
      "14\n",
      "16\n",
      "18\n",
      "20\n"
     ]
    }
   ],
   "source": [
    "for i in range(1,21):\n",
    "    if i%2==0:\n",
    "        print(i)"
   ]
  },
  {
   "cell_type": "markdown",
   "id": "06892e10-291e-48d1-8f17-f7f7d8969efb",
   "metadata": {},
   "source": [
    "7. Write a Python program that calculates the factorial of a number using a for loop."
   ]
  },
  {
   "cell_type": "code",
   "execution_count": 1,
   "id": "95a0f576-f9cc-49a5-95b5-29884421208e",
   "metadata": {},
   "outputs": [
    {
     "name": "stdin",
     "output_type": "stream",
     "text": [
      "Enter a number:  5\n"
     ]
    },
    {
     "name": "stdout",
     "output_type": "stream",
     "text": [
      "The factorial of 5 is 120\n"
     ]
    }
   ],
   "source": [
    "num = int(input(\"Enter a number: \"))\n",
    "fact = 1\n",
    "\n",
    "for i in range(1, num +1):\n",
    "    fact *= i\n",
    "\n",
    "print(f\"The factorial of {num} is {fact}\")"
   ]
  },
  {
   "cell_type": "markdown",
   "id": "bc5096b2-88b7-491c-966d-15f8699998fa",
   "metadata": {},
   "source": [
    "8. How can you iterate through the characters of a string using a for loop in Python?"
   ]
  },
  {
   "cell_type": "code",
   "execution_count": 46,
   "id": "a5718129-0090-40e5-be28-f277753705f2",
   "metadata": {},
   "outputs": [
    {
     "name": "stdout",
     "output_type": "stream",
     "text": [
      "a\n",
      "z\n",
      "a\n",
      "d\n"
     ]
    }
   ],
   "source": [
    "a = \"azad\"\n",
    "for i in a:\n",
    "    print(i)"
   ]
  },
  {
   "cell_type": "markdown",
   "id": "e0119379-3bb4-4973-bb34-732b73f8145a",
   "metadata": {},
   "source": [
    "9. Write a Python program to find the largest number in a list using a for loop."
   ]
  },
  {
   "cell_type": "code",
   "execution_count": 56,
   "id": "c460018d-f129-4e6a-81e6-8fec5d6444e5",
   "metadata": {},
   "outputs": [
    {
     "name": "stdout",
     "output_type": "stream",
     "text": [
      "The largest number in the list is: 10\n"
     ]
    }
   ],
   "source": [
    "list_num = range(1,11) # Create a list of numbers\n",
    "\n",
    "largest = list_num[0]  # Initialize a variable to store the largest number, starting with the first number of the list\n",
    "\n",
    "for i in list_num:\n",
    "    if i > largest:    # Checking if the current number is greater than the current largest number\n",
    "        largest = i\n",
    "\n",
    "print(\"The largest number in the list is:\", largest)"
   ]
  },
  {
   "cell_type": "markdown",
   "id": "a69a5a25-8e6f-475e-9d04-7af5baeea2a0",
   "metadata": {},
   "source": [
    "10. Create a Python program that prints the Fibonacci sequence up to a specified limit using a for loop."
   ]
  },
  {
   "cell_type": "code",
   "execution_count": 9,
   "id": "3bc377e4-900c-42ce-b62b-45658af465ea",
   "metadata": {},
   "outputs": [],
   "source": [
    "def fib(n):\n",
    "    a,b=0,1\n",
    "    for i in range(n):\n",
    "        yield a\n",
    "        a,b = b, a+b  "
   ]
  },
  {
   "cell_type": "code",
   "execution_count": 10,
   "id": "6396e420-cd29-41e8-a4ff-64fbf39046c3",
   "metadata": {},
   "outputs": [
    {
     "name": "stdout",
     "output_type": "stream",
     "text": [
      "0\n",
      "1\n",
      "1\n",
      "2\n",
      "3\n",
      "5\n",
      "8\n",
      "13\n",
      "21\n",
      "34\n"
     ]
    }
   ],
   "source": [
    "for i in fib(10):\n",
    "    print(i)"
   ]
  },
  {
   "cell_type": "markdown",
   "id": "011a6f29-0aef-4cf7-addb-6efeba8f9be9",
   "metadata": {},
   "source": [
    "11. Write a Python program to count the number of vowels in a given string using a for loop."
   ]
  },
  {
   "cell_type": "code",
   "execution_count": 69,
   "id": "0f472b47-b704-448d-9940-52e6d2a7c939",
   "metadata": {},
   "outputs": [
    {
     "name": "stdin",
     "output_type": "stream",
     "text": [
      "Enter a word: Azad\n"
     ]
    },
    {
     "name": "stdout",
     "output_type": "stream",
     "text": [
      "The number of vowels are:  2\n"
     ]
    }
   ],
   "source": [
    "v = 'aeiouAEIOU'\n",
    "count = 0\n",
    "\n",
    "for i in str(input(\"Enter a word:\")):\n",
    "    if i in v:\n",
    "        count+=1\n",
    "        \n",
    "        \n",
    "print(\"The number of vowels are: \", count)"
   ]
  },
  {
   "cell_type": "markdown",
   "id": "74a20b7d-fbc8-4092-84cf-502d98905132",
   "metadata": {},
   "source": [
    "12. Create a Python program that generates a multiplication table for a given number using a for loop."
   ]
  },
  {
   "cell_type": "code",
   "execution_count": 6,
   "id": "8999129e-40ca-414b-a682-ec3d4c5aa2db",
   "metadata": {},
   "outputs": [
    {
     "name": "stdin",
     "output_type": "stream",
     "text": [
      "Enter a number:  2\n"
     ]
    },
    {
     "name": "stdout",
     "output_type": "stream",
     "text": [
      "2 * 1 = 2\n",
      "2 * 2 = 4\n",
      "2 * 3 = 6\n",
      "2 * 4 = 8\n",
      "2 * 5 = 10\n",
      "2 * 6 = 12\n",
      "2 * 7 = 14\n",
      "2 * 8 = 16\n",
      "2 * 9 = 18\n",
      "2 * 10 = 20\n"
     ]
    }
   ],
   "source": [
    "num = int(input(\"Enter a number: \"))\n",
    "t = range(1,11)\n",
    "\n",
    "for i in t:\n",
    "    result = num*i\n",
    "    print(f\"{num} * {i} = {result}\")\n",
    "    "
   ]
  },
  {
   "cell_type": "markdown",
   "id": "7aa431b9-4d21-474b-bac6-1778b38d0131",
   "metadata": {},
   "source": [
    "13. Write a Python program to reverse a list using a for loop."
   ]
  },
  {
   "cell_type": "code",
   "execution_count": 73,
   "id": "eb47ea75-3628-4e6e-b956-04c90ab42373",
   "metadata": {},
   "outputs": [
    {
     "name": "stdout",
     "output_type": "stream",
     "text": [
      "[10, 9, 8, 7, 6, 5, 4, 3, 2, 1]\n"
     ]
    }
   ],
   "source": [
    "a = [1,2,3,4,5,6,7,8,9,10]\n",
    "\n",
    "for i in a:\n",
    "    i = a[::-1]\n",
    "\n",
    "print(i)"
   ]
  },
  {
   "cell_type": "markdown",
   "id": "5953c956-d55a-45e7-92bd-e382215e1687",
   "metadata": {},
   "source": [
    "14. Write a Python program to find the common elements between two lists using a for loop."
   ]
  },
  {
   "cell_type": "code",
   "execution_count": 77,
   "id": "45ccdf3b-f78a-4b43-8470-071115c57da8",
   "metadata": {},
   "outputs": [
    {
     "name": "stdout",
     "output_type": "stream",
     "text": [
      "The common elements between two lists are [34, 54, 65, 34, 99]\n"
     ]
    }
   ],
   "source": [
    "l1 = [1,2,3,4,5,34,54,65,34,99]\n",
    "l2 = [54,65,76,34,99]\n",
    "\n",
    "l3 = []\n",
    "\n",
    "for i in l1:\n",
    "    if i in l2:\n",
    "        l3.append(i)\n",
    "        \n",
    "print(\"The common elements between two lists are\",l3)"
   ]
  },
  {
   "cell_type": "markdown",
   "id": "290e725f-18cf-4daa-a5cc-19aaef84f3a6",
   "metadata": {},
   "source": [
    "15. Explain how to use a for loop to iterate through the keys and values of a dictionary in Python."
   ]
  },
  {
   "cell_type": "code",
   "execution_count": 10,
   "id": "62f9d2b6-3f40-4b67-a789-74810b566dc2",
   "metadata": {},
   "outputs": [
    {
     "name": "stdout",
     "output_type": "stream",
     "text": [
      "name\n",
      "course enrolled\n",
      "Student ID\n",
      "Azad\n",
      "['Big Data', 'Data Science', 'Statistics']\n",
      "moaz\n"
     ]
    }
   ],
   "source": [
    "d = {'name': \"Azad\", 'course enrolled':[\"Big Data\", \"Data Science\", \"Statistics\"], 'Student ID': \"moaz\"}\n",
    "\n",
    "## We iterate on d using inbuilt functions of keys() and values() to get the result like below:\n",
    "\n",
    "for i in d.keys():\n",
    "    print(i)\n",
    "\n",
    "for i in d.values():\n",
    "    print(i)\n"
   ]
  },
  {
   "cell_type": "markdown",
   "id": "2955c3af-f15f-4989-b133-561ffbce4412",
   "metadata": {},
   "source": [
    "16. Write a Python program to find the GCD (Greatest Common Divisor) of two numbers using a for loop."
   ]
  },
  {
   "cell_type": "code",
   "execution_count": 7,
   "id": "28796809-53a0-4faf-8687-ee41c8ce3b4b",
   "metadata": {},
   "outputs": [
    {
     "name": "stdin",
     "output_type": "stream",
     "text": [
      "Enter the 1st number:  20\n",
      "Enter the 2nd number:  10\n"
     ]
    },
    {
     "name": "stdout",
     "output_type": "stream",
     "text": [
      "The computed GCD of 20 and 10 is 10.\n"
     ]
    }
   ],
   "source": [
    "num_1 = int(input('Enter the 1st number: '))\n",
    "num_2 = int(input('Enter the 2nd number: '))\n",
    "n = min(num_1,num_2)\n",
    "\n",
    "gcd = 0\n",
    "for i in range(1,n+1):\n",
    "    if num_1%i == 0 and num_2%i == 0:\n",
    "        gcd = i\n",
    "        \n",
    "print(f\"The computed GCD of {num_1} and {num_2} is {gcd}.\")"
   ]
  },
  {
   "cell_type": "markdown",
   "id": "f2ffcc48-4172-4a2e-a3f0-add8170676b5",
   "metadata": {},
   "source": [
    "17. Create a Python program that checks if a string is a palindrome using a for loop."
   ]
  },
  {
   "cell_type": "code",
   "execution_count": 22,
   "id": "08c7db89-28f7-45cb-a33d-835d3b949f4f",
   "metadata": {},
   "outputs": [
    {
     "name": "stdin",
     "output_type": "stream",
     "text": [
      "Enter the string:  dasf\n"
     ]
    },
    {
     "name": "stdout",
     "output_type": "stream",
     "text": [
      "dasf is a palindrome word\n"
     ]
    }
   ],
   "source": [
    "s = str(input(\"Enter the string: \"))\n",
    "n_s = s.lower()\n",
    "\n",
    "for i in n_s:\n",
    "    if i == i[::-1]:\n",
    "        result = f\"{s} is a palindrome word\"\n",
    "    else:\n",
    "        result = f\"{s} is not a palindrome word\"\n",
    "    \n",
    "print(result)\n",
    "    "
   ]
  },
  {
   "cell_type": "markdown",
   "id": "9584eeb7-37c4-4b4b-9d48-3f7135e7ce96",
   "metadata": {},
   "source": [
    "18. Write a Python program to remove duplicates from a list using a for loop."
   ]
  },
  {
   "cell_type": "code",
   "execution_count": 79,
   "id": "f21aa626-e13f-4b82-acf2-788a7117b02d",
   "metadata": {},
   "outputs": [
    {
     "name": "stdout",
     "output_type": "stream",
     "text": [
      "After removing duplicates: ['Sugar', 'Salt', 'Beef', 'Meat', 'Juice']\n"
     ]
    }
   ],
   "source": [
    "list_items = ['Sugar', 'Salt', 'Beef', 'Meat', 'Juice', 'Sugar', 'Salt']\n",
    "\n",
    "New_list = []\n",
    "\n",
    "for i in list_items:\n",
    "    if i not in New_list:\n",
    "        New_list.append(i)\n",
    "\n",
    "print(\"After removing duplicates:\",New_list)\n",
    "        "
   ]
  },
  {
   "cell_type": "markdown",
   "id": "bcf71817-d69b-4a86-8e99-c2b03df8e642",
   "metadata": {},
   "source": [
    "19. Create a Python program that counts the number of words in a sentence using a for loop."
   ]
  },
  {
   "cell_type": "code",
   "execution_count": 81,
   "id": "35a97518-4afe-46c4-b614-04e44ebd4556",
   "metadata": {},
   "outputs": [
    {
     "name": "stdout",
     "output_type": "stream",
     "text": [
      "The number of words in the given sentence: 20\n"
     ]
    }
   ],
   "source": [
    "w = 'I am from Bangladesh'\n",
    "\n",
    "count = 0\n",
    "\n",
    "for i in w:\n",
    "    count+=1\n",
    "    \n",
    "print(\"The number of words in the given sentence:\", count)"
   ]
  },
  {
   "cell_type": "markdown",
   "id": "60c0bc09-74d5-4849-9946-ec7271e0d44c",
   "metadata": {},
   "source": [
    "20. Write a Python program to find the sum of all odd numbers from 1 to 50 using a for loop."
   ]
  },
  {
   "cell_type": "code",
   "execution_count": 38,
   "id": "55f7184f-d558-4ad5-a68f-ae15ec0044c4",
   "metadata": {},
   "outputs": [
    {
     "name": "stdout",
     "output_type": "stream",
     "text": [
      "The sum of all odd numbers from 1 to 50 are 625\n"
     ]
    }
   ],
   "source": [
    "a = range(1,51)\n",
    "odd = []\n",
    "total = sum(odd)\n",
    "for i in a:\n",
    "    if i%2!=0:\n",
    "        odd.append(i)\n",
    "        total = sum(odd)\n",
    "\n",
    "print(f\"The sum of all odd numbers from 1 to 50 are {total}\") "
   ]
  },
  {
   "cell_type": "markdown",
   "id": "6d6e4cd8-5c26-46bb-8aae-8518fa69c64d",
   "metadata": {},
   "source": [
    "21. Write a Python program that checks if a given year is a leap year using a for loop."
   ]
  },
  {
   "cell_type": "code",
   "execution_count": 1,
   "id": "152c35ae-810a-44d8-8354-d1c93bd3aa90",
   "metadata": {},
   "outputs": [
    {
     "name": "stdin",
     "output_type": "stream",
     "text": [
      "Enter the start year 2000\n",
      "Enter the end year 2023\n"
     ]
    },
    {
     "name": "stdout",
     "output_type": "stream",
     "text": [
      "The leap years are [2000, 2004, 2008, 2012, 2016, 2020]\n",
      "The non-leap years are [2001, 2002, 2003, 2005, 2006, 2007, 2009, 2010, 2011, 2013, 2014, 2015, 2017, 2018, 2019, 2021, 2022]\n"
     ]
    }
   ],
   "source": [
    "start_year = int(input(\"Enter the start year\"))\n",
    "end_year = int(input(\"Enter the end year\"))\n",
    "leap_year = []\n",
    "not_leap = []\n",
    "\n",
    "for i in range(start_year, end_year):\n",
    "    if i%4==0 or i%400==0:\n",
    "        leap_year.append(i)\n",
    "    else:\n",
    "        not_leap.append(i)\n",
    "print(f\"The leap years are {leap_year}\")\n",
    "print(f\"The non-leap years are {not_leap}\")"
   ]
  },
  {
   "cell_type": "markdown",
   "id": "56871944-7df5-448b-91ff-7cee0a766104",
   "metadata": {},
   "source": [
    "22. Create a Python program that calculates the square root of a number using a for loop.\n"
   ]
  },
  {
   "cell_type": "code",
   "execution_count": 11,
   "id": "63caa252-220d-4455-a350-9c0847af5f3b",
   "metadata": {},
   "outputs": [
    {
     "name": "stdin",
     "output_type": "stream",
     "text": [
      "Enter the number:  9\n"
     ]
    },
    {
     "name": "stdout",
     "output_type": "stream",
     "text": [
      "3\n"
     ]
    }
   ],
   "source": [
    "num = int(input('Enter the number: '))\n",
    "for i in range (0, num):\n",
    "    if i**2 >= num:\n",
    "        print(i)\n",
    "        break  "
   ]
  },
  {
   "cell_type": "markdown",
   "id": "4a08878e-1d13-47dc-8947-10d89593b3b1",
   "metadata": {},
   "source": [
    "23. Write a Python program to find the LCM (Least Common Multiple) of two numbers using a for loop."
   ]
  },
  {
   "cell_type": "code",
   "execution_count": 12,
   "id": "cdf123df-91ca-4156-81f9-1bddb23b1fba",
   "metadata": {},
   "outputs": [
    {
     "name": "stdin",
     "output_type": "stream",
     "text": [
      "Enter the first number:  25\n",
      "Enter the second number:  30\n"
     ]
    },
    {
     "name": "stdout",
     "output_type": "stream",
     "text": [
      "LCM of 25 and 30 is: 150.0\n"
     ]
    }
   ],
   "source": [
    "num_1 = int(input('Enter the first number: '))\n",
    "num_2 = int(input('Enter the second number: '))\n",
    "n = min(num_1,num_2)\n",
    "\n",
    "gcd = 0\n",
    "for i in range(1,n+1):\n",
    "    if num_1%i == 0 and num_2%i == 0:\n",
    "        gcd = i\n",
    "LCM = (num_1*num_2)/gcd\n",
    "print(\"LCM of\", num_1, \"and\", num_2, \"is:\", LCM)"
   ]
  },
  {
   "cell_type": "markdown",
   "id": "921def8d-0611-4acb-a2b5-06859cc181d1",
   "metadata": {},
   "source": [
    "## if else:"
   ]
  },
  {
   "cell_type": "markdown",
   "id": "857e00e6-9c32-4832-bdf3-be6183ae739c",
   "metadata": {},
   "source": [
    "1. Write a Python program to check if a number is positive, negative, or zero using an if-else statement."
   ]
  },
  {
   "cell_type": "code",
   "execution_count": 110,
   "id": "031569d0-75ed-48ad-af06-e002f9b1d754",
   "metadata": {},
   "outputs": [
    {
     "name": "stdin",
     "output_type": "stream",
     "text": [
      "Enter a number:  -12\n"
     ]
    },
    {
     "name": "stdout",
     "output_type": "stream",
     "text": [
      "The number is negative\n"
     ]
    }
   ],
   "source": [
    "a = int(input(\"Enter a number: \"))\n",
    "\n",
    "\n",
    "if a > 0:\n",
    "    print('The number is positive')\n",
    "elif a < 0:\n",
    "    print('The number is negative')\n",
    "else:\n",
    "    print('The number is Zero')"
   ]
  },
  {
   "cell_type": "markdown",
   "id": "249225c1-9dab-48cf-b0d2-db70f5fcabf5",
   "metadata": {},
   "source": [
    "2. Create a Python program that checks if a given number is even or odd using an if-else statement."
   ]
  },
  {
   "cell_type": "code",
   "execution_count": 112,
   "id": "19e94ac5-7ffc-49b8-b3c1-a17b4d540738",
   "metadata": {},
   "outputs": [
    {
     "name": "stdin",
     "output_type": "stream",
     "text": [
      "Write a number:  12\n"
     ]
    },
    {
     "name": "stdout",
     "output_type": "stream",
     "text": [
      "The number is even\n"
     ]
    }
   ],
   "source": [
    "a = int(input(\"Write a number: \"))\n",
    "\n",
    "if a%2==0:\n",
    "    print(\"The number is even\")\n",
    "else:\n",
    "    print(\"The number is odd\")"
   ]
  },
  {
   "cell_type": "markdown",
   "id": "4598470d-1075-4851-ad96-abaa223673a1",
   "metadata": {},
   "source": [
    "3. How can you use nested if-else statements in Python, and provide an example?\n"
   ]
  },
  {
   "cell_type": "markdown",
   "id": "0b803f08-0082-4ec3-9da1-4c07679b7a05",
   "metadata": {},
   "source": [
    "- Ans: Based on the problem statement, one can decide if the problem has to be solved by building logic based on nested if else. For example, if I want to to touch the water which is inside a bottle, first, I have to be able to open the cap of the bottle, so I my finger can go through that bottle to touch the water. If the first condition is met, then only I will be able to put my finger inside the bottle and touch the water. Otherwise, if the I am not able to open the cap, I won't be able to touch the water. Below in coding manner, I have given the example:"
   ]
  },
  {
   "cell_type": "code",
   "execution_count": 59,
   "id": "042cb131-b4ab-427c-bef0-71e781b97f80",
   "metadata": {},
   "outputs": [
    {
     "name": "stdin",
     "output_type": "stream",
     "text": [
      "Enter the status opened\n",
      "Enter the status sadfa\n"
     ]
    },
    {
     "name": "stdout",
     "output_type": "stream",
     "text": [
      "Put the correct input\n"
     ]
    }
   ],
   "source": [
    "num1 = \"open\"\n",
    "num2 = \"touch\"\n",
    "num3 = \"closed\"\n",
    "\n",
    "if str(input(\"Enter the status\")) == num1:\n",
    "    if str(input(\"Enter your choice\"))==num2:\n",
    "        print(\"yes the bottle cap is open, you can touch\")\n",
    "    else:\n",
    "        print(\"The bottle cap is closed, you cannot touch\")\n",
    "elif str(input(\"Enter the status\"))==\"closed\":\n",
    "    print(\"You cannot touch as the cap is closed\")\n",
    "    \n",
    "else:\n",
    "    print(\"Put the correct input\")"
   ]
  },
  {
   "cell_type": "markdown",
   "id": "e79e176f-32eb-48f1-8581-1b2a72212ad1",
   "metadata": {},
   "source": [
    "4. Write a Python program to determine the largest of three numbers using if-else.\n"
   ]
  },
  {
   "cell_type": "code",
   "execution_count": null,
   "id": "5b76154d-2072-4cb7-870a-b094ccce7de7",
   "metadata": {},
   "outputs": [],
   "source": [
    "num1 = 5\n",
    "num2 = 10\n",
    "num3 = 8\n",
    "\n",
    "if num1 > num2:\n",
    "    if num1>num3:\n",
    "        print(\"The largest number is\", num1)\n",
    "    else:\n",
    "        print(\"The largest number is\", num3)\n",
    "elif num2>num3:\n",
    "    print(\"The largest number is\", num2)\n",
    "    \n",
    "else:\n",
    "    print(\"The largest number is\", num3)\n"
   ]
  },
  {
   "cell_type": "markdown",
   "id": "70080b84-e755-4b76-bf32-d7c9d1432bc0",
   "metadata": {},
   "source": [
    "5. Write a Python program that calculates the absolute value of a number using if-else."
   ]
  },
  {
   "cell_type": "code",
   "execution_count": 64,
   "id": "bc978859-555b-4d65-b752-b78690a46936",
   "metadata": {},
   "outputs": [
    {
     "name": "stdin",
     "output_type": "stream",
     "text": [
      "Enter a number:  -1\n"
     ]
    },
    {
     "name": "stdout",
     "output_type": "stream",
     "text": [
      "The absolute value of -1 is 1\n"
     ]
    }
   ],
   "source": [
    "a = int(input(\"Enter a number: \"))\n",
    "\n",
    "if a<0:\n",
    "    print(f\"The absolute value of {a} is {-a}\")\n",
    "else:\n",
    "    print(f\"{a} is an absolute value\")"
   ]
  },
  {
   "cell_type": "markdown",
   "id": "15c30bb9-7ae1-46bb-89bf-7cea08e7bc76",
   "metadata": {},
   "source": [
    "6. Create a Python program that checks if a given character is a vowel or consonant using if-else."
   ]
  },
  {
   "cell_type": "code",
   "execution_count": 46,
   "id": "c694af8c-a308-4fd7-ac4f-0f0b6af3b19f",
   "metadata": {},
   "outputs": [
    {
     "name": "stdin",
     "output_type": "stream",
     "text": [
      "Enter a word c\n"
     ]
    },
    {
     "name": "stdout",
     "output_type": "stream",
     "text": [
      "It is a consonant word\n"
     ]
    }
   ],
   "source": [
    "a = 'aeiouAEIOU'\n",
    "b = str(input(\"Enter a word\"))\n",
    "\n",
    "if len(b)==1:\n",
    "    if b in a:\n",
    "        print(\"It is a vowel word\")\n",
    "    else:\n",
    "        print(\"It is a consonant word\")\n",
    "else:\n",
    "    print(\"Enter a single character\")"
   ]
  },
  {
   "cell_type": "markdown",
   "id": "8bdf89a9-b7aa-4bde-96a3-b600340a2f46",
   "metadata": {},
   "source": [
    "7. Write a Python program to determine if a user is eligible to vote based on their age using if-else."
   ]
  },
  {
   "cell_type": "code",
   "execution_count": 3,
   "id": "92f0c2c7-74b2-4d4e-96d5-7503dafb4e53",
   "metadata": {},
   "outputs": [
    {
     "name": "stdin",
     "output_type": "stream",
     "text": [
      "Enter age: 18\n"
     ]
    },
    {
     "name": "stdout",
     "output_type": "stream",
     "text": [
      "User is eligible to vote\n"
     ]
    }
   ],
   "source": [
    "age = int(input(\"Enter age:\"))\n",
    "\n",
    "if age >= 18:\n",
    "    print(\"User is eligible to vote\")\n",
    "else:\n",
    "    print(\"User is not eligible to vote\")"
   ]
  },
  {
   "cell_type": "markdown",
   "id": "256893c9-9d0d-4903-b470-057d0344a832",
   "metadata": {},
   "source": [
    "8. Create a Python program that calculates the discount amount based on the purchase amount using if-else.\n"
   ]
  },
  {
   "cell_type": "code",
   "execution_count": 10,
   "id": "ecb29221-60b1-49bd-a38f-a4962fca0786",
   "metadata": {},
   "outputs": [
    {
     "name": "stdin",
     "output_type": "stream",
     "text": [
      "Enter the item price:  200\n"
     ]
    },
    {
     "name": "stdout",
     "output_type": "stream",
     "text": [
      "you have a 20.0$ discount on your purchase\n"
     ]
    }
   ],
   "source": [
    "item_price = int(input(\"Enter the item price: \"))\n",
    "\n",
    "discount_amount = 10\n",
    "\n",
    "final = item_price * (discount_amount/100)\n",
    "\n",
    "if item_price >= 50:\n",
    "    print(f\"you have a {final}$ discount on your purchase\")\n",
    "else:\n",
    "    print(\"Sorry, you don't have any discount in your purchase\")"
   ]
  },
  {
   "cell_type": "markdown",
   "id": "8f402e33-bc53-4662-8b4b-25a2d6211838",
   "metadata": {},
   "source": [
    "9. Write a Python program to check if a number is within a specified range using if-else.\n"
   ]
  },
  {
   "cell_type": "code",
   "execution_count": 12,
   "id": "290dbf46-7e7c-40a4-a5c1-ca1b4dbde64b",
   "metadata": {},
   "outputs": [
    {
     "name": "stdin",
     "output_type": "stream",
     "text": [
      "Ener a number 12\n"
     ]
    },
    {
     "name": "stdout",
     "output_type": "stream",
     "text": [
      "The number doesn't exists within the range\n"
     ]
    }
   ],
   "source": [
    "a = range(1,11)\n",
    "\n",
    "if int(input(\"Ener a number\")) in a:\n",
    "    print(\"The number exists within the range\")\n",
    "else:\n",
    "    print(\"The number doesn't exists within the range\")"
   ]
  },
  {
   "cell_type": "markdown",
   "id": "4ad830f3-d15f-43a9-8e72-0f42ef00af58",
   "metadata": {},
   "source": [
    "10. Create a Python program that determines the grade of a student based on their score using if-else.\n"
   ]
  },
  {
   "cell_type": "code",
   "execution_count": 27,
   "id": "8f47659f-e7a2-4bed-b254-c176a65c3118",
   "metadata": {},
   "outputs": [
    {
     "name": "stdin",
     "output_type": "stream",
     "text": [
      "Enter score 55\n"
     ]
    },
    {
     "name": "stdout",
     "output_type": "stream",
     "text": [
      "Student has obtained grade E\n"
     ]
    }
   ],
   "source": [
    "grade = int(input(\"Enter score\"))\n",
    "\n",
    "if grade>100:\n",
    "    print(\"Invalid Grade\")\n",
    "elif 90<=grade<=100:\n",
    "    print(\"Student has obtained grade A\")\n",
    "elif 80<=grade<=89:\n",
    "    print(\"Student has obtained grade B\")\n",
    "elif 70<=grade<=79:\n",
    "    print(\"Student has obtained grade C\")\n",
    "elif 60<=grade<=69:\n",
    "    print(\"Student has obtained grade D\")\n",
    "elif 50<=grade<=59:\n",
    "    print(\"Student has obtained grade E\")\n",
    "else:\n",
    "    print(\"Student has obtained grade F\")\n",
    "    \n"
   ]
  },
  {
   "cell_type": "markdown",
   "id": "d050a1d2-d133-4780-b9e1-7fa79ab0df2e",
   "metadata": {},
   "source": [
    "11. Write a Python program to check if a string is empty or not using if-else.\n"
   ]
  },
  {
   "cell_type": "code",
   "execution_count": 61,
   "id": "15cd48c3-4f3e-4e16-bbc9-e2396e664978",
   "metadata": {},
   "outputs": [
    {
     "name": "stdin",
     "output_type": "stream",
     "text": [
      "Enter a string:  sa\n"
     ]
    },
    {
     "name": "stdout",
     "output_type": "stream",
     "text": [
      "The string is not empty\n"
     ]
    }
   ],
   "source": [
    "s = input(\"Enter a string: \")\n",
    "\n",
    "if s:\n",
    "    print(\"The string is not empty\")\n",
    "else:\n",
    "    print(\"The string is empty\")"
   ]
  },
  {
   "cell_type": "markdown",
   "id": "924ff190-5680-484a-8c15-7ac1251a6306",
   "metadata": {},
   "source": [
    "12. Create a Python program that identifies the type of a triangle (e.g., equilateral, isosceles, or scalene) based on input values using if-else.\n"
   ]
  },
  {
   "cell_type": "code",
   "execution_count": 13,
   "id": "2fc39546-d31e-4d57-945e-a2f016f64848",
   "metadata": {},
   "outputs": [
    {
     "name": "stdin",
     "output_type": "stream",
     "text": [
      "Enter the length of first side:  45\n",
      "Enter the length of second side:  90\n",
      "Enter the length of third side:  70\n"
     ]
    },
    {
     "name": "stdout",
     "output_type": "stream",
     "text": [
      "The triangle is a SCALENE triangle\n"
     ]
    }
   ],
   "source": [
    "x = int(input('Enter the length of first side: '))\n",
    "y = int(input('Enter the length of second side: '))\n",
    "z = int(input('Enter the length of third side: '))\n",
    "if x == y:\n",
    "    if y == z:\n",
    "        print('The triangle is an EQUILATERAL triangle')\n",
    "    else:\n",
    "        print('The triangle is an ISOSCELES triangle')\n",
    "else:\n",
    "    if y == z:\n",
    "        print('The triangle is an ISOSCELES triangle')\n",
    "    else:\n",
    "        if z == x:\n",
    "            print('The triangle is an ISOSCELES triangle')\n",
    "        else:    \n",
    "            print('The triangle is a SCALENE triangle')"
   ]
  },
  {
   "cell_type": "markdown",
   "id": "8475e89f-4e37-4dc5-814b-a822fa391e2a",
   "metadata": {},
   "source": [
    "13. Write a Python program to determine the day of the week based on a user-provided number using if-else.\n"
   ]
  },
  {
   "cell_type": "code",
   "execution_count": 35,
   "id": "684bdeea-6002-4f16-9d37-4dfaa5de7260",
   "metadata": {},
   "outputs": [
    {
     "name": "stdin",
     "output_type": "stream",
     "text": [
      "Enter a number:  3\n"
     ]
    },
    {
     "name": "stdout",
     "output_type": "stream",
     "text": [
      "Wednesday\n"
     ]
    }
   ],
   "source": [
    "num = int(input(\"Enter a number: \"))\n",
    "\n",
    "if num == 1:\n",
    "    print(\"Monday\")\n",
    "elif num == 2:\n",
    "    print(\"Tuesday\")\n",
    "elif num == 3:\n",
    "    print(\"Wednesday\")\n",
    "elif num == 4:\n",
    "    print(\"Thursday\")\n",
    "elif num == 5:\n",
    "    print(\"Friday\")\n",
    "elif num == 6:\n",
    "    print(\"Saturday\")\n",
    "elif num == 7:\n",
    "    print(\"Sunday\")\n",
    "else:\n",
    "    print(\"Invalid Number\")\n",
    "    "
   ]
  },
  {
   "cell_type": "markdown",
   "id": "032c78fb-7c79-446a-9a26-21201b17891d",
   "metadata": {},
   "source": [
    "14. Create a Python program that checks if a given year is a leap year using both if-else and a function.\n"
   ]
  },
  {
   "cell_type": "code",
   "execution_count": 14,
   "id": "1739181a-e397-4f22-a57e-e635a73d06f6",
   "metadata": {},
   "outputs": [
    {
     "name": "stdin",
     "output_type": "stream",
     "text": [
      "Enter the year in AD:  2070\n"
     ]
    },
    {
     "name": "stdout",
     "output_type": "stream",
     "text": [
      "2070 is not a leap year\n"
     ]
    }
   ],
   "source": [
    "year = int(input('Enter the year in AD: '))\n",
    "if year % 4 == 0:\n",
    "    print(f'{year} is a leap year')\n",
    "else:\n",
    "    print(f'{year} is not a leap year')"
   ]
  },
  {
   "cell_type": "markdown",
   "id": "804c8f53-52b3-435c-8dc6-5d02db69ca80",
   "metadata": {},
   "source": [
    "15. How do you use the \"assert\" statement in Python to add debugging checks within if-else blocks?\n"
   ]
  },
  {
   "cell_type": "markdown",
   "id": "d5143f31-7702-4ce5-af35-476977c056ee",
   "metadata": {},
   "source": [
    "Ans: In simpler terms, we can say that assertion is the boolean expression that checks if the statement is True or False. If the statement is true then it does nothing and continues the execution, but if the statement is False then it stops the execution of the program and throws an error."
   ]
  },
  {
   "cell_type": "markdown",
   "id": "af7894f7-3f10-487c-b4ef-d7433514319b",
   "metadata": {},
   "source": [
    "16. Create a Python program that determines the eligibility of a person for a senior citizen discount based on age using if-else.\n"
   ]
  },
  {
   "cell_type": "code",
   "execution_count": 2,
   "id": "2f1263fb-e5f7-42eb-8d85-1f1d7e77f778",
   "metadata": {},
   "outputs": [
    {
     "name": "stdin",
     "output_type": "stream",
     "text": [
      "Enter age:  67\n"
     ]
    },
    {
     "name": "stdout",
     "output_type": "stream",
     "text": [
      "The person is eligible for a senior citiven discount\n"
     ]
    }
   ],
   "source": [
    "age = int(input(\"Enter age: \"))\n",
    "\n",
    "if age > 60:\n",
    "    print(\"The person is eligible for a senior citiven discount\")\n",
    "else:\n",
    "    print(\"The person is not eligible for a senior citiven discount\")"
   ]
  },
  {
   "cell_type": "markdown",
   "id": "b343a51f-46ac-4bfa-9a27-08eb519b583e",
   "metadata": {},
   "source": [
    "17. Write a Python program to categorize a given character as uppercase, lowercase, or neither using if-else."
   ]
  },
  {
   "cell_type": "code",
   "execution_count": 12,
   "id": "bb01e2cd-3be4-4691-8413-01ad8e5afb4a",
   "metadata": {},
   "outputs": [
    {
     "name": "stdin",
     "output_type": "stream",
     "text": [
      "Enter a character:  b\n"
     ]
    },
    {
     "name": "stdout",
     "output_type": "stream",
     "text": [
      "The given character is lower case\n"
     ]
    }
   ],
   "source": [
    "char = str(input(\"Enter a character: \"))\n",
    "\n",
    "if len(char) == 1:\n",
    "    if char.isupper():\n",
    "        print(\"The given character is upper case\")\n",
    "    else:\n",
    "        print(\"The given character is lower case\")\n",
    "else:\n",
    "    print(\"Please enter a single character\")"
   ]
  },
  {
   "cell_type": "markdown",
   "id": "6d39f59e-c3b9-4f60-82c4-a18e42e9a981",
   "metadata": {},
   "source": [
    "19. Create a Python program that checks if a given year is a century year or not using if-else."
   ]
  },
  {
   "cell_type": "code",
   "execution_count": 15,
   "id": "d282293b-9629-4907-87ab-441a42ee92a3",
   "metadata": {},
   "outputs": [
    {
     "name": "stdin",
     "output_type": "stream",
     "text": [
      "Enter year:  2023\n"
     ]
    },
    {
     "name": "stdout",
     "output_type": "stream",
     "text": [
      "It is not a century year\n"
     ]
    }
   ],
   "source": [
    "year = int(input(\"Enter year: \"))\n",
    "\n",
    "if year % 100 == 0:\n",
    "    print(\"It is a century year\")\n",
    "else:\n",
    "    print(\"It is not a century year\")"
   ]
  },
  {
   "cell_type": "markdown",
   "id": "a66eb25d-5119-4bbc-a374-b821b6e9a685",
   "metadata": {},
   "source": [
    "20. Write a Python program to determine if a given number is a perfect square using if-else."
   ]
  },
  {
   "cell_type": "code",
   "execution_count": 22,
   "id": "b999582a-cbeb-4235-bf0b-569bbca426ac",
   "metadata": {},
   "outputs": [
    {
     "name": "stdin",
     "output_type": "stream",
     "text": [
      "Enter a single digit number:  25\n"
     ]
    },
    {
     "name": "stdout",
     "output_type": "stream",
     "text": [
      "25 is a perfect square\n"
     ]
    }
   ],
   "source": [
    "import math\n",
    "\n",
    "num = int(input(\"Enter a single digit number: \"))\n",
    "\n",
    "sqrt_num = math.sqrt(num)\n",
    "\n",
    "if sqrt_num.is_integer():\n",
    "    print(f\"{num} is a perfect square\")\n",
    "else:\n",
    "    print(f\"{num} is not a perfect square\")\n"
   ]
  },
  {
   "cell_type": "markdown",
   "id": "341752ff-fee5-4f20-a38d-7448353f6339",
   "metadata": {},
   "source": [
    "21. Explain the purpose of the \"continue\" and \"break\" statements within if-else loops."
   ]
  },
  {
   "cell_type": "markdown",
   "id": "49915001-0f53-42c8-803b-0afd32a3cff5",
   "metadata": {},
   "source": [
    "Continue: Lets say in a given list, if we want to stop the loop after a fixed targeted value appears, we can set the condition accordingly using the command ´break´. The opposite happens in term of ´continue´. Suppose, even an unwanted element comes up and we still want the execution continue, we use the command ´continue´ so the loop doesn't stop."
   ]
  },
  {
   "cell_type": "markdown",
   "id": "c2f4d1b5-ad55-42df-9d61-a7d753525992",
   "metadata": {},
   "source": [
    "22. Create a Python program that calculates the BMI (Body Mass Index) of a person based on their weight and height using if-else."
   ]
  },
  {
   "cell_type": "code",
   "execution_count": 68,
   "id": "bb09ab2d-d76e-40a1-8b3b-c3a250db939a",
   "metadata": {},
   "outputs": [
    {
     "name": "stdin",
     "output_type": "stream",
     "text": [
      "Enter the weight in kg:  130\n",
      "Enter the height in cm 173\n"
     ]
    },
    {
     "name": "stdout",
     "output_type": "stream",
     "text": [
      "The person is under weighted\n"
     ]
    }
   ],
   "source": [
    "w = float(input(\"Enter the weight in kg: \"))\n",
    "h = float(input(\"Enter the height in cm\"))\n",
    "BMI = w / h**2\n",
    "\n",
    "if BMI < 18.5:\n",
    "    print(\"The person is under weighted\")\n",
    "elif 18.5<BMI<24.9:\n",
    "    print(\"The person is normal weighted\")\n",
    "elif 25<BMI<29.9:\n",
    "    print(\"The person is over weighted\")\n",
    "elif 30<BMI<34.9:\n",
    "    print(\"The person falls in Obesity class 1\")\n",
    "elif 35<BMI<39.9:\n",
    "    print(\"The person falss in Obesity class 2\")\n",
    "else:\n",
    "    print(\"The person falls in Obesity class 3\")\n",
    "    \n",
    "    \n"
   ]
  },
  {
   "cell_type": "markdown",
   "id": "84e8d002-7719-41aa-9f3d-6cfe691948b6",
   "metadata": {},
   "source": [
    "23. How can you use the \"filter()\" function with if-else statements to filter elements from a list?"
   ]
  },
  {
   "cell_type": "code",
   "execution_count": 24,
   "id": "2c46f686-4c42-41fc-80d0-c8d0dc0d97de",
   "metadata": {},
   "outputs": [
    {
     "data": {
      "text/plain": [
       "[22, 25, 27, 29]"
      ]
     },
     "execution_count": 24,
     "metadata": {},
     "output_type": "execute_result"
    }
   ],
   "source": [
    "l = [22,2,3,4,5,25,27,29,2,3,12,43]\n",
    "\n",
    "list(filter(lambda a : a>=20 and a<=30, l ))"
   ]
  },
  {
   "cell_type": "markdown",
   "id": "12be7f75-73d5-40ce-a4e5-9f918c487769",
   "metadata": {},
   "source": [
    "24. Write a Python program to determine if a given number is prime or not using if-else."
   ]
  },
  {
   "cell_type": "code",
   "execution_count": 16,
   "id": "d5c4b3b6-3ee8-4017-b1b6-385cbe28423a",
   "metadata": {},
   "outputs": [
    {
     "name": "stdin",
     "output_type": "stream",
     "text": [
      "Enter the number:  9\n"
     ]
    },
    {
     "name": "stdout",
     "output_type": "stream",
     "text": [
      "The number '9' is not a prime number\n"
     ]
    }
   ],
   "source": [
    "num = int(input('Enter the number: '))\n",
    "if num > 1:\n",
    "    for i in range(2, num):\n",
    "        if num%i==0:\n",
    "            print(f'The number \\'{num}\\' is not a prime number')\n",
    "            break\n",
    "    else:\n",
    "        print(f'The number \\'{num}\\' is a prime number')"
   ]
  },
  {
   "cell_type": "markdown",
   "id": "885e60b4-5b51-4acc-a3f8-e75ee2aabe2c",
   "metadata": {},
   "source": [
    "## Basics of Functions"
   ]
  },
  {
   "cell_type": "markdown",
   "id": "5be91c63-966e-4e46-9a26-a374c5f28ede",
   "metadata": {},
   "source": [
    "1. What is a function in Python, and why is it used?"
   ]
  },
  {
   "cell_type": "markdown",
   "id": "7e091e43-00ba-499c-aecb-c7d7f58c79b4",
   "metadata": {},
   "source": [
    "- Ans: function is a pre-defined block of code, where we can pass some values to get a desired output by just calling the function. \n",
    "\n",
    "If we want to use a block of code multiple times, instead of writing some lines of code again and again, we can simple build a function and write the code once inside the function. Later when we have to use these codes, we can simply call the function name and pass the values to get a result."
   ]
  },
  {
   "cell_type": "markdown",
   "id": "1708eebf-5097-4171-b4a1-ffc9f31d176c",
   "metadata": {},
   "source": [
    "2. How do you define a function in Python? Provide an example."
   ]
  },
  {
   "cell_type": "markdown",
   "id": "c6b33484-a235-4c43-9240-a6ecdc80eb6c",
   "metadata": {},
   "source": [
    "- Ans: a function is defined by 'def' in python. Below is an example:"
   ]
  },
  {
   "cell_type": "code",
   "execution_count": 70,
   "id": "fa50d6ae-de47-4b1a-81f1-e56d896ad890",
   "metadata": {},
   "outputs": [],
   "source": [
    "def name(First,Last):\n",
    "    print(First, Last)"
   ]
  },
  {
   "cell_type": "code",
   "execution_count": 71,
   "id": "ec3f4330-d581-4ba5-a1bf-fb0ba9c5cf5b",
   "metadata": {},
   "outputs": [
    {
     "name": "stdout",
     "output_type": "stream",
     "text": [
      "Kaiser Azad\n"
     ]
    }
   ],
   "source": [
    "name('Kaiser','Azad')"
   ]
  },
  {
   "cell_type": "markdown",
   "id": "880e893d-bf05-4858-bb1c-fe3a819ff14d",
   "metadata": {},
   "source": [
    "3. Explain the difference between a function definition and a function call."
   ]
  },
  {
   "cell_type": "markdown",
   "id": "8ca3727f-b4fb-46bc-b8b7-48d409d89ee5",
   "metadata": {},
   "source": [
    "- Ans: Function definition means, we define a function by writing some code inside the fixed function. And function call means, we just call the defined function where we want to use and pass the values through the functions parameter to get a result."
   ]
  },
  {
   "cell_type": "markdown",
   "id": "d891166d-414f-440c-b841-0820d495c695",
   "metadata": {},
   "source": [
    "4. Write a Python program that defines a function to calculate the sum of two numbers and then calls the function."
   ]
  },
  {
   "cell_type": "code",
   "execution_count": 4,
   "id": "69092356-d479-410c-af1a-6eddd47c6c9f",
   "metadata": {},
   "outputs": [],
   "source": [
    "def add_sum(a,b):\n",
    "    \n",
    "    return a + b"
   ]
  },
  {
   "cell_type": "code",
   "execution_count": 5,
   "id": "7a887eb2-7f96-4b31-9b36-b2df6bbd03f5",
   "metadata": {},
   "outputs": [
    {
     "data": {
      "text/plain": [
       "7"
      ]
     },
     "execution_count": 5,
     "metadata": {},
     "output_type": "execute_result"
    }
   ],
   "source": [
    "add_sum(3,4)"
   ]
  },
  {
   "cell_type": "markdown",
   "id": "cd34d83d-11e3-4046-84fd-997687379108",
   "metadata": {},
   "source": [
    "5. What is a function signature, and what information does it typically include?"
   ]
  },
  {
   "cell_type": "markdown",
   "id": "6335b08a-e4fd-4a41-9e71-a7f23ad50c9a",
   "metadata": {},
   "source": [
    "Ans. A function signature is a docstring which can be emedded into a function and can be used to given information about the function like information about the parameters, a sample or example code, the goal of the written code and other material like extra read."
   ]
  },
  {
   "cell_type": "markdown",
   "id": "c9394b1f-07ee-4f8e-88b4-b8a880dc35bd",
   "metadata": {},
   "source": [
    "6. Create a Python function that takes two arguments and returns their product."
   ]
  },
  {
   "cell_type": "code",
   "execution_count": 6,
   "id": "6b572053-0ced-47b4-9c15-1a41936af5fd",
   "metadata": {},
   "outputs": [],
   "source": [
    "def name(a:str, b:str):\n",
    "    \n",
    "    return a, b"
   ]
  },
  {
   "cell_type": "code",
   "execution_count": 9,
   "id": "a343f9c7-0c82-4f2d-8db9-12a7bab8eafc",
   "metadata": {},
   "outputs": [
    {
     "data": {
      "text/plain": [
       "('Salt', 'Sugar')"
      ]
     },
     "execution_count": 9,
     "metadata": {},
     "output_type": "execute_result"
    }
   ],
   "source": [
    "name(\"Salt\", \"Sugar\")"
   ]
  },
  {
   "cell_type": "markdown",
   "id": "5cb0c3a6-2352-4299-8a03-fb434b9c0402",
   "metadata": {},
   "source": [
    "## Function Parameters and Arguments"
   ]
  },
  {
   "cell_type": "markdown",
   "id": "5a53d58c-9d14-46af-9cdb-04d22437767b",
   "metadata": {},
   "source": [
    "1. Explain the concepts of formal parameters and actual arguments in Python functions."
   ]
  },
  {
   "cell_type": "markdown",
   "id": "6450e722-ec30-4d04-a3e0-17351130c344",
   "metadata": {},
   "source": [
    "- Ans: Formal parameters works like a placeholder inside the functions parameters place. These parameters define what kind of input a function expects and how it will refer to that input within the functions body.\n",
    "\n",
    "- Actual arguments, often referred to as arguments or inputs, are the values or expressions that are passed into a function when it is called. These values are used to initialize the formal parameters."
   ]
  },
  {
   "cell_type": "markdown",
   "id": "600973e0-a8c8-4ef9-a0b3-997d34ab867a",
   "metadata": {},
   "source": [
    "2. Write a Python program that defines a function with default argument values."
   ]
  },
  {
   "cell_type": "code",
   "execution_count": 11,
   "id": "a57a8857-82cd-4471-afe6-1baedd01a95c",
   "metadata": {},
   "outputs": [],
   "source": [
    "def name(a = 'Salt', b = 'Sugar'):\n",
    "    return a, b"
   ]
  },
  {
   "cell_type": "code",
   "execution_count": 13,
   "id": "06bf9e76-c056-4fe8-a34d-de0809c1e3b3",
   "metadata": {},
   "outputs": [
    {
     "data": {
      "text/plain": [
       "('Banana', 'Sugar')"
      ]
     },
     "execution_count": 13,
     "metadata": {},
     "output_type": "execute_result"
    }
   ],
   "source": [
    "name('Banana')"
   ]
  },
  {
   "cell_type": "markdown",
   "id": "35faa7c2-d001-4907-9232-b28dafae0e34",
   "metadata": {},
   "source": [
    "3. How do you use keyword arguments in Python function calls? Provide an example."
   ]
  },
  {
   "cell_type": "code",
   "execution_count": 14,
   "id": "65f70aa6-364e-497f-8d39-43eeac34cfb8",
   "metadata": {},
   "outputs": [],
   "source": [
    "def test(**kwargs):\n",
    "    return kwargs"
   ]
  },
  {
   "cell_type": "code",
   "execution_count": 15,
   "id": "3f163a46-9518-4c29-aaf7-c7980be755d4",
   "metadata": {},
   "outputs": [
    {
     "data": {
      "text/plain": [
       "{'a': 1, 'b': 2, 'c': 3, 'd': 4}"
      ]
     },
     "execution_count": 15,
     "metadata": {},
     "output_type": "execute_result"
    }
   ],
   "source": [
    "test(a = 1, b = 2, c = 3, d = 4)"
   ]
  },
  {
   "cell_type": "markdown",
   "id": "299d30db-5872-422b-8562-e20f97f911e8",
   "metadata": {},
   "source": [
    "4. Create a Python function that accepts a variable number of arguments and calculates their sum."
   ]
  },
  {
   "cell_type": "code",
   "execution_count": 27,
   "id": "4db791ee-d73f-4fc6-a73c-a7c87d2f0b02",
   "metadata": {},
   "outputs": [],
   "source": [
    "def num(a,b):\n",
    "    return a+b"
   ]
  },
  {
   "cell_type": "code",
   "execution_count": 28,
   "id": "7942c109-55d0-4c2e-b8aa-24f7ab820c32",
   "metadata": {},
   "outputs": [
    {
     "name": "stdin",
     "output_type": "stream",
     "text": [
      "Enter 1st number 2\n",
      "Enter 1st number 5\n"
     ]
    },
    {
     "data": {
      "text/plain": [
       "7"
      ]
     },
     "execution_count": 28,
     "metadata": {},
     "output_type": "execute_result"
    }
   ],
   "source": [
    "num(a = int(input(\"Enter 1st number\")) , b = int(input(\"Enter 1st number\")))"
   ]
  },
  {
   "cell_type": "markdown",
   "id": "6d013b08-f4a2-4a25-b0c6-8de45a817e30",
   "metadata": {},
   "source": [
    "5. What is the purpose of the `*args` and `**kwargs` syntax in function parameter lists?"
   ]
  },
  {
   "cell_type": "markdown",
   "id": "a2ad9876-3ed3-4c5d-a7a6-c8578e7b148a",
   "metadata": {},
   "source": [
    "- The *args and **kwargs syntax in function parameter lists in Python allows us to work with variable-length argument lists. They are often used when we want to create functions that can accept a varying number of arguments, which can be useful for making our code more flexible and generic."
   ]
  },
  {
   "cell_type": "markdown",
   "id": "89cce5e0-39de-4074-90f1-f354767bee62",
   "metadata": {},
   "source": [
    "## Return Values and Scoping"
   ]
  },
  {
   "cell_type": "markdown",
   "id": "25f7e5a2-d466-4bc9-bcb3-cc4802a3b5fe",
   "metadata": {},
   "source": [
    "1. Describe the role of the `return` statement in Python functions and provide examples."
   ]
  },
  {
   "cell_type": "markdown",
   "id": "b5a1e8f6-af37-4814-a6c2-1a1a0c21da2a",
   "metadata": {},
   "source": [
    "- Return is a keyword that will try to give us a return out of the functions to us in our console. After this operation, we can perform anyting that we want. Return gives us the output as it is. This is why, we can add any value later by just calling the function based on its type. In other word, we can perform premative operations.\n",
    "\n",
    "- By the use of return, we can get a multiple outcomes and data types at a time. \n",
    "\n",
    "- return gives us back the data in a form of tuple\n",
    "\n",
    "- using the return helps us to hold the outcome in a fixed variable. Ex: a, b, c, d = test3()"
   ]
  },
  {
   "cell_type": "code",
   "execution_count": 1,
   "id": "a70e5b4b-21b2-408a-9285-8b9eff838f24",
   "metadata": {},
   "outputs": [],
   "source": [
    "def name():\n",
    "    return \"My name is \" "
   ]
  },
  {
   "cell_type": "code",
   "execution_count": 3,
   "id": "9f3e25a6-4b76-403e-9224-197556bb540b",
   "metadata": {},
   "outputs": [
    {
     "data": {
      "text/plain": [
       "'My name is Azad'"
      ]
     },
     "execution_count": 3,
     "metadata": {},
     "output_type": "execute_result"
    }
   ],
   "source": [
    "name() + \"Azad\""
   ]
  },
  {
   "cell_type": "markdown",
   "id": "5f15aae8-7760-4937-899c-769280cc7b34",
   "metadata": {},
   "source": [
    "2. Explain the concept of variable scope in Python, including local and global variables."
   ]
  },
  {
   "cell_type": "markdown",
   "id": "a7a9405f-4d7c-4d25-b5b5-2890b14ebd25",
   "metadata": {},
   "source": [
    "- Ans: Python Global variables are those which are not defined inside any function and have a global scope whereas Python local variables are those which are defined inside a function and their scope is limited to that function only. In other words, we can say that local variables are accessible only inside the function in which it was initialized whereas the global variables are accessible throughout the program and inside every function. "
   ]
  },
  {
   "cell_type": "markdown",
   "id": "8ce5d4aa-f198-49ca-8a3d-c193ac6336db",
   "metadata": {},
   "source": [
    "3. Write a Python program that demonstrates the use of global variables within functions."
   ]
  },
  {
   "cell_type": "code",
   "execution_count": 20,
   "id": "84c8a5d8-5c79-4a86-be3b-c71cf0f94cb2",
   "metadata": {},
   "outputs": [
    {
     "name": "stdout",
     "output_type": "stream",
     "text": [
      "I am outside\n"
     ]
    },
    {
     "data": {
      "text/plain": [
       "\"I won't come outside\""
      ]
     },
     "execution_count": 20,
     "metadata": {},
     "output_type": "execute_result"
    }
   ],
   "source": [
    "def name(n):\n",
    "    s = \"I won't come outside\" ## Local variable\n",
    "    return s\n",
    "\n",
    "s = \"I am outside\" ## Global variable\n",
    "print(s)\n",
    "\n",
    "name(s)"
   ]
  },
  {
   "cell_type": "markdown",
   "id": "cb662f0c-249a-433a-91af-542ce2031eca",
   "metadata": {},
   "source": [
    "4. Create a Python function that calculates the factorial of a number and returns it."
   ]
  },
  {
   "cell_type": "code",
   "execution_count": 2,
   "id": "1acb9a6f-09d9-4c80-ac34-d17c3a6c739b",
   "metadata": {},
   "outputs": [],
   "source": [
    "def fact(n):\n",
    "    if n == 0:\n",
    "        return 1\n",
    "    else:\n",
    "        return n*fact(n-1)"
   ]
  },
  {
   "cell_type": "code",
   "execution_count": 3,
   "id": "b3f92e45-b8c6-484c-8102-1fd0eb878af8",
   "metadata": {},
   "outputs": [
    {
     "data": {
      "text/plain": [
       "24"
      ]
     },
     "execution_count": 3,
     "metadata": {},
     "output_type": "execute_result"
    }
   ],
   "source": [
    "fact(4)"
   ]
  },
  {
   "cell_type": "markdown",
   "id": "054f5828-c6d0-4727-8935-6ff0c73b3ae8",
   "metadata": {},
   "source": [
    "5. How can you access variables defined outside a function from within the function?"
   ]
  },
  {
   "cell_type": "markdown",
   "id": "44e03c35-0971-4f5f-a228-749238edfb56",
   "metadata": {},
   "source": [
    "- Ans: Since the variable is diclared globally, it can be defined outside and inside a function. Below is an example given:"
   ]
  },
  {
   "cell_type": "code",
   "execution_count": 25,
   "id": "7d933ba6-bd68-4819-8d50-a0da09d3b20f",
   "metadata": {},
   "outputs": [
    {
     "data": {
      "text/plain": [
       "'I am outside and still can be executed inside a function'"
      ]
     },
     "execution_count": 25,
     "metadata": {},
     "output_type": "execute_result"
    }
   ],
   "source": [
    "s = \"I am outside and still can be executed inside a function\" ## Global variable\n",
    "def name(n):\n",
    "    return s\n",
    "\n",
    "name(s)"
   ]
  },
  {
   "cell_type": "markdown",
   "id": "d3b8c250-9728-4bee-b864-6814c99fa4f0",
   "metadata": {},
   "source": [
    "## Lambda Functions and Higher-Order Functions"
   ]
  },
  {
   "cell_type": "markdown",
   "id": "03856f5d-f615-4d2d-8aa0-da202a5eadd9",
   "metadata": {},
   "source": [
    "1. What are lambda functions in Python, and when are they typically used?"
   ]
  },
  {
   "cell_type": "markdown",
   "id": "0e4dd87d-d293-4078-8207-900ee2fa3350",
   "metadata": {},
   "source": [
    "- Ans: It is an anonymous function, techlically called as lambda function. If we want to try an alternative of using function, we can replace it using lambda function. \n",
    "\n",
    "- If we want to reduce the line of the code, lambda function is a best choice. We can simply write a lambda function, where input variables will be there, store the the function inside a variable, and call the variable by passing the input values to get an outcome out of the lambda function. "
   ]
  },
  {
   "cell_type": "markdown",
   "id": "6e136773-1c0e-449f-b7ef-70d50114abb9",
   "metadata": {},
   "source": [
    "2. Write a Python program that uses lambda functions to sort a list of tuples based on the second element."
   ]
  },
  {
   "cell_type": "code",
   "execution_count": 37,
   "id": "6028e839-5ef8-4bce-b9d6-123457a3f240",
   "metadata": {},
   "outputs": [
    {
     "data": {
      "text/plain": [
       "120"
      ]
     },
     "execution_count": 37,
     "metadata": {},
     "output_type": "execute_result"
    }
   ],
   "source": [
    "l = (1,2,3,4,5)\n",
    "\n",
    "from functools import reduce\n",
    "\n",
    "reduce(lambda a,b : a*b, l)"
   ]
  },
  {
   "cell_type": "markdown",
   "id": "c6049c21-ff67-4884-b032-2dda7299c767",
   "metadata": {},
   "source": [
    "3. Explain the concept of higher-order functions in Python, and provide an example."
   ]
  },
  {
   "cell_type": "markdown",
   "id": "23a30cae-3f4f-4e21-a758-10b32aad1048",
   "metadata": {},
   "source": [
    "Explaining the concept of higher-order functions in Python is important, as they are a fundamental concept in functional programming.\n",
    "\n",
    "In Python, higher-order functions are a powerful concept in functional programming. A higher-order function is a function that can take one or more functions as arguments and/or can return a function as its result. Essentially, it treats functions as first-class citizens, allowing us to work with them just like any other data type, such as integers, strings, or lists.\n",
    "\n",
    "One of the key characteristics of higher-order functions is their ability to abstract and encapsulate behavior, making code more modular, reusable, and concise. They enable us to write more generic and flexible code that can adapt to various scenarios.\n",
    "\n",
    "Let me provide a simple example to illustrate this concept:\n",
    "\n",
    "```python\n",
    "# Define a higher-order function\n",
    "def operate(operation, x, y):\n",
    "    return operation(x, y)\n",
    "\n",
    "# Define some basic operations as functions\n",
    "def add(x, y):\n",
    "    return x + y\n",
    "\n",
    "def subtract(x, y):\n",
    "    return x - y\n",
    "\n",
    "def multiply(x, y):\n",
    "    return x * y\n",
    "\n",
    "# Using the higher-order function with different operations\n",
    "result1 = operate(add, 5, 3)  # Calls operate with the 'add' function\n",
    "result2 = operate(subtract, 10, 4)  # Calls operate with the 'subtract' function\n",
    "result3 = operate(multiply, 7, 2)  # Calls operate with the 'multiply' function\n",
    "\n",
    "# Display the results\n",
    "print(result1)  # Output: 8\n",
    "print(result2)  # Output: 6\n",
    "print(result3)  # Output: 14\n",
    "```\n",
    "\n",
    "In this example, we have a higher-order function called `operate`, which takes three arguments: an operation (a function) and two numbers (`x` and `y`). It then applies the given operation to `x` and `y` and returns the result. We define three basic operations (`add`, `subtract`, and `multiply`) as functions. By passing these functions as arguments to `operate`, we can perform different operations using the same higher-order function.\n",
    "\n",
    "This demonstrates how higher-order functions in Python allow us to write more generic and reusable code by abstracting the behavior of functions and treating them as data. This concept is widely used in functional programming paradigms and is a valuable tool for writing clean and modular code."
   ]
  },
  {
   "cell_type": "markdown",
   "id": "e00092b1-73fe-4db7-ba28-e0bc5affe44e",
   "metadata": {},
   "source": [
    "4. Create a Python function that takes a list of numbers and a function as arguments, applying the function to each element in the list."
   ]
  },
  {
   "cell_type": "code",
   "execution_count": 17,
   "id": "249dca1a-014f-4511-9534-945e2e356d08",
   "metadata": {},
   "outputs": [
    {
     "data": {
      "text/plain": [
       "[4, 9, 16]"
      ]
     },
     "execution_count": 17,
     "metadata": {},
     "output_type": "execute_result"
    }
   ],
   "source": [
    "def exp_num(x):\n",
    "    return x**2\n",
    "def list_func(lst_789, exp_num):\n",
    "    list_func_exp = []\n",
    "    for i in lst_789:\n",
    "        list_func_exp.append(exp_num(i))\n",
    "    return list_func_exp\n",
    "list_func([2,3,4], exp_num)"
   ]
  },
  {
   "cell_type": "markdown",
   "id": "b9f12595-a85e-444a-baf0-a0b740ec8e65",
   "metadata": {},
   "source": [
    "## Reduce"
   ]
  },
  {
   "cell_type": "markdown",
   "id": "3e75b3f8-2bd1-412e-b5f9-7d5a215a38c8",
   "metadata": {},
   "source": [
    "1. What is the `reduce()` function in Python, and what module should you import to use it? Provide an example of its basic usage."
   ]
  },
  {
   "cell_type": "code",
   "execution_count": 6,
   "id": "b774c317-d010-4036-97be-2d0843c8b64c",
   "metadata": {},
   "outputs": [],
   "source": [
    "from functools import reduce"
   ]
  },
  {
   "cell_type": "markdown",
   "id": "5388f026-717f-4dde-91a3-d8962ae49aa1",
   "metadata": {},
   "source": [
    "2. Write a Python program that uses the `reduce()` function to find the product of all elements in a list."
   ]
  },
  {
   "cell_type": "code",
   "execution_count": 7,
   "id": "5fe5aba6-8862-4228-8e42-ea35a2fe32b5",
   "metadata": {},
   "outputs": [
    {
     "data": {
      "text/plain": [
       "120"
      ]
     },
     "execution_count": 7,
     "metadata": {},
     "output_type": "execute_result"
    }
   ],
   "source": [
    "l = [1,2,3,4,5]\n",
    "\n",
    "reduce(lambda x,y : x*y, l)"
   ]
  },
  {
   "cell_type": "markdown",
   "id": "49bd1c60-3ae5-4782-bb68-4ba22eef474c",
   "metadata": {},
   "source": [
    "3. Create a Python program that uses `reduce()` to find the maximum element in a list of numbers."
   ]
  },
  {
   "cell_type": "code",
   "execution_count": 19,
   "id": "205e29ca-646c-43ef-a8fc-a9e36a44dd3e",
   "metadata": {},
   "outputs": [
    {
     "data": {
      "text/plain": [
       "45"
      ]
     },
     "execution_count": 19,
     "metadata": {},
     "output_type": "execute_result"
    }
   ],
   "source": [
    "l = [1,2,3,4,5,45]\n",
    "\n",
    "reduce(lambda x,y : x if x > y else y, l)"
   ]
  },
  {
   "cell_type": "markdown",
   "id": "01f7167e-4092-4567-9ce9-ad43d79fdbe6",
   "metadata": {},
   "source": [
    "4. How can you use the `reduce()` function to concatenate a list of strings into a single string?"
   ]
  },
  {
   "cell_type": "code",
   "execution_count": 23,
   "id": "77511546-6929-4d54-a960-19543c6f87c7",
   "metadata": {},
   "outputs": [
    {
     "data": {
      "text/plain": [
       "'MohammadKaiserAzad'"
      ]
     },
     "execution_count": 23,
     "metadata": {},
     "output_type": "execute_result"
    }
   ],
   "source": [
    "l = ['Mohammad', 'Kaiser', 'Azad']\n",
    "\n",
    "reduce(lambda x,y : x+y, l)"
   ]
  },
  {
   "cell_type": "markdown",
   "id": "33a8cbe5-86ea-44de-be21-ef116298fc7d",
   "metadata": {},
   "source": [
    "5. Write a Python program that calculates the factorial of a number using the `reduce()` function."
   ]
  },
  {
   "cell_type": "code",
   "execution_count": 3,
   "id": "736abf3a-c27a-4114-a7d1-f79e58ac1e2f",
   "metadata": {},
   "outputs": [
    {
     "name": "stdin",
     "output_type": "stream",
     "text": [
      "Enter a number:  4\n"
     ]
    },
    {
     "data": {
      "text/plain": [
       "24"
      ]
     },
     "execution_count": 3,
     "metadata": {},
     "output_type": "execute_result"
    }
   ],
   "source": [
    "num = int(input(\"Enter a number: \"))\n",
    "reduce(lambda x,y : x * y , range(1, num+1))"
   ]
  },
  {
   "cell_type": "code",
   "execution_count": null,
   "id": "496ff079-b1f1-44d3-9184-568cd10e4fe7",
   "metadata": {},
   "outputs": [],
   "source": [
    "num/x = int(input(\"Enter a number: \"))\n",
    "fact/y = 1\n",
    "\n",
    "for i in range(1, x +1):\n",
    "    y = y*x\n",
    "\n",
    "print(f\"The factorial of {num} is {fact}\")"
   ]
  },
  {
   "cell_type": "markdown",
   "id": "6431dabb-8776-42ab-b2a0-a90cdd16839d",
   "metadata": {},
   "source": [
    "7. Write a Python program that uses the `reduce()` function to find the sum of the digits of a given number."
   ]
  },
  {
   "cell_type": "code",
   "execution_count": 31,
   "id": "f34a3cf1-9640-4f03-aabd-fd9ca827891c",
   "metadata": {},
   "outputs": [
    {
     "data": {
      "text/plain": [
       "15"
      ]
     },
     "execution_count": 31,
     "metadata": {},
     "output_type": "execute_result"
    }
   ],
   "source": [
    "l = [1,2,3,4,5]\n",
    "reduce(lambda x,y : x+y, l)"
   ]
  },
  {
   "cell_type": "markdown",
   "id": "040633c9-4b29-410e-8eef-18bf10bfbfe6",
   "metadata": {},
   "source": [
    "## Filter"
   ]
  },
  {
   "cell_type": "markdown",
   "id": "6d865d87-8055-478d-b08d-f55d7e6531f6",
   "metadata": {},
   "source": [
    "1. Explain the purpose of the `filter()` function in Python and provide an example of how it can be used to filter elements from an iterable."
   ]
  },
  {
   "cell_type": "markdown",
   "id": "307c04b9-0fe1-4682-9abb-7a27d11b488b",
   "metadata": {},
   "source": [
    "- The purpose of filter() is to filter out data's from a list with given conditions through a function.\n",
    "- For example, if I want to get the negative values from a given list, where positive values will be there as well, and if I want to filter out the negative values through iteration, I can set the condition accordingly and filter out the negative values from the list"
   ]
  },
  {
   "cell_type": "markdown",
   "id": "e0f4fe5f-4a35-4f01-8a7c-5aa99bb98e5d",
   "metadata": {},
   "source": [
    "2. Write a Python program that uses the `filter()` function to select even numbers from a list of integers."
   ]
  },
  {
   "cell_type": "code",
   "execution_count": 5,
   "id": "90bd6e00-4195-4066-9291-5653ee9c7c83",
   "metadata": {},
   "outputs": [
    {
     "data": {
      "text/plain": [
       "[2, 4, 6, 8]"
      ]
     },
     "execution_count": 5,
     "metadata": {},
     "output_type": "execute_result"
    }
   ],
   "source": [
    "l = [1,2,3,4,5,6,7,8]\n",
    "\n",
    "list(filter(lambda x : x%2==0, l))"
   ]
  },
  {
   "cell_type": "markdown",
   "id": "d9611926-f5fe-4d7c-b5e5-42772a502e7b",
   "metadata": {},
   "source": [
    "3. Create a Python program that uses the `filter()` function to select names that start with a specific letter from a list of strings."
   ]
  },
  {
   "cell_type": "code",
   "execution_count": 11,
   "id": "f8188fcf-a20d-4469-9a09-bdcf7db60770",
   "metadata": {},
   "outputs": [
    {
     "data": {
      "text/plain": [
       "['Azad', 'Akram']"
      ]
     },
     "execution_count": 11,
     "metadata": {},
     "output_type": "execute_result"
    }
   ],
   "source": [
    "l = ['Azad', 'Ruby', 'Mishu', 'Akram']\n",
    "\n",
    "list(filter(lambda a : a[0]=='A', l))"
   ]
  },
  {
   "cell_type": "markdown",
   "id": "275a0f8e-7fa7-4da0-b911-a51860873272",
   "metadata": {},
   "source": [
    "4. Write a Python program that uses the `filter()` function to select prime numbers from a list of integers. ???"
   ]
  },
  {
   "cell_type": "code",
   "execution_count": 15,
   "id": "730a8d4c-528e-405a-870b-b0a572f08ddf",
   "metadata": {},
   "outputs": [
    {
     "data": {
      "text/plain": [
       "[]"
      ]
     },
     "execution_count": 15,
     "metadata": {},
     "output_type": "execute_result"
    }
   ],
   "source": [
    "l = [1,2,3,4,5,6,7,8,9,10,11,12,13,43,123,42]\n",
    "\n",
    "list(filter(lambda a : a%a == 0 or , l))"
   ]
  },
  {
   "cell_type": "markdown",
   "id": "d58fd4e7-66ef-4a4e-9b80-95b8e351f359",
   "metadata": {},
   "source": [
    "6. Create a Python program that uses `filter()` to select words longer than a certain length from a list of strings."
   ]
  },
  {
   "cell_type": "code",
   "execution_count": 12,
   "id": "3bca71cc-b8ab-4f8b-b243-cf3a097c64e1",
   "metadata": {},
   "outputs": [
    {
     "data": {
      "text/plain": [
       "['Mohammad', 'Chittagong', 'Bangladesh']"
      ]
     },
     "execution_count": 12,
     "metadata": {},
     "output_type": "execute_result"
    }
   ],
   "source": [
    "l = ['Mohammad','Azad', 'Kaiser','Chittagong', 'Bangladesh']\n",
    "\n",
    "list(filter(lambda a : len(a) >6, l))"
   ]
  },
  {
   "cell_type": "markdown",
   "id": "090024f7-cb57-4f4b-a889-050819509f6d",
   "metadata": {},
   "source": [
    "7. Write a Python program that uses the `filter()` function to select elements greater than a specified threshold from a list of values."
   ]
  },
  {
   "cell_type": "code",
   "execution_count": 13,
   "id": "4f63a312-4002-4a65-b323-0039c82e7f20",
   "metadata": {},
   "outputs": [
    {
     "data": {
      "text/plain": [
       "[34, 22]"
      ]
     },
     "execution_count": 13,
     "metadata": {},
     "output_type": "execute_result"
    }
   ],
   "source": [
    "l = [34,22,1,5,3]\n",
    "list(filter(lambda a : a > 6, l))"
   ]
  },
  {
   "cell_type": "markdown",
   "id": "7c38602a-220b-4421-93c2-b8d8f96267a3",
   "metadata": {},
   "source": [
    "## Recursion"
   ]
  },
  {
   "cell_type": "markdown",
   "id": "050f8cda-5a0a-4cf0-bbfb-405665dce3ba",
   "metadata": {},
   "source": [
    "1. Explain the concept of recursion in Python. How does it differ from iteration?"
   ]
  },
  {
   "cell_type": "markdown",
   "id": "c00d08c2-2414-41e4-88f1-8fe1d6cec8ff",
   "metadata": {},
   "source": [
    "Ans: Recursion is a technique in which the function calls itself till a base condtion is arrived or achieved. If there is no base condition mentioned the recursion continues infinitely.\n",
    "\n",
    "It is different from iteration in a way that iteration continues till the iterating condition becomes False while Recursion continues till a base condition is reached. The recursion is slower than iteration"
   ]
  },
  {
   "cell_type": "markdown",
   "id": "5e9c3c14-60b3-4a1f-a5e6-520ad378282f",
   "metadata": {},
   "source": [
    "2. Write a Python program to calculate the factorial of a number using recursion."
   ]
  },
  {
   "cell_type": "code",
   "execution_count": 1,
   "id": "e18d3bdb-3177-424b-bb8f-f14b04022055",
   "metadata": {},
   "outputs": [],
   "source": [
    "def fact(n):\n",
    "    if n == 0:\n",
    "        return 1\n",
    "    else:\n",
    "        return n*fact(n-1)"
   ]
  },
  {
   "cell_type": "code",
   "execution_count": 2,
   "id": "dceec869-f6fd-46c6-8115-49d4fe1e8850",
   "metadata": {},
   "outputs": [
    {
     "data": {
      "text/plain": [
       "24"
      ]
     },
     "execution_count": 2,
     "metadata": {},
     "output_type": "execute_result"
    }
   ],
   "source": [
    "fact(4)"
   ]
  },
  {
   "cell_type": "markdown",
   "id": "1c2ebe45-f063-42ca-a74b-22568c688872",
   "metadata": {},
   "source": [
    "3. Create a recursive Python function to find the nth Fibonacci number."
   ]
  },
  {
   "cell_type": "code",
   "execution_count": 1,
   "id": "9cbb3500-dbeb-4aa2-b4e4-c487a8ef4089",
   "metadata": {},
   "outputs": [],
   "source": [
    "def fib(n):\n",
    "    if n<=1:\n",
    "        return n\n",
    "    else:\n",
    "        return fib(n-2) + fib(n-1)"
   ]
  },
  {
   "cell_type": "code",
   "execution_count": 2,
   "id": "65d87a1e-8ee4-402c-87e5-d22967abd42c",
   "metadata": {},
   "outputs": [
    {
     "data": {
      "text/plain": [
       "2"
      ]
     },
     "execution_count": 2,
     "metadata": {},
     "output_type": "execute_result"
    }
   ],
   "source": [
    "fib(3)"
   ]
  },
  {
   "cell_type": "markdown",
   "id": "eae06db9-9ea3-4344-9020-8ae5c6a534c4",
   "metadata": {},
   "source": [
    "4. Write a recursive Python function to calculate the sum of all elements in a list."
   ]
  },
  {
   "cell_type": "code",
   "execution_count": 34,
   "id": "d8baf764-e921-469f-a710-346b2d3fdd35",
   "metadata": {},
   "outputs": [],
   "source": [
    "l = [1,2,3,4,5]\n",
    "\n",
    "def sum_l(n):\n",
    "    if not n:\n",
    "        return 0\n",
    "    else:\n",
    "        return n[0] + sum_l(n[1:])"
   ]
  },
  {
   "cell_type": "code",
   "execution_count": 35,
   "id": "1e167a21-030f-4142-a284-3243f2bf7398",
   "metadata": {},
   "outputs": [
    {
     "data": {
      "text/plain": [
       "15"
      ]
     },
     "execution_count": 35,
     "metadata": {},
     "output_type": "execute_result"
    }
   ],
   "source": [
    "sum_l(l)"
   ]
  },
  {
   "cell_type": "markdown",
   "id": "a8cecac4-f352-4c88-b48c-3c5796757ef5",
   "metadata": {},
   "source": [
    "5. How can you prevent a recursive function from running indefinitely, causing a stack overflow error?"
   ]
  },
  {
   "cell_type": "markdown",
   "id": "8de3d279-260b-4096-8467-9fac6f7eb89b",
   "metadata": {},
   "source": [
    "- Ans: By setting up a base condition, we can prevent a recursive function from running indefinitely. It is a general requirement to set a base condition to build a successful recursive function. By this, Python interpreter limits the depths of recursion to help avoiding a stacl overflow error."
   ]
  },
  {
   "cell_type": "markdown",
   "id": "993b781d-3103-43fb-8948-9a4ef09ac371",
   "metadata": {},
   "source": [
    "6. Create a recursive Python function to find the greatest common divisor (GCD) of two numbers using the Euclidean algorithm."
   ]
  },
  {
   "cell_type": "code",
   "execution_count": 19,
   "id": "8f33596c-4247-43cb-87e3-423f0da054d4",
   "metadata": {},
   "outputs": [
    {
     "data": {
      "text/plain": [
       "5"
      ]
     },
     "execution_count": 19,
     "metadata": {},
     "output_type": "execute_result"
    }
   ],
   "source": [
    "def gcd_2_num(num1, num2):\n",
    "    if num1 == 0:\n",
    "        return num2\n",
    "    return gcd_2_num(num2%num1, num1)\n",
    "\n",
    "gcd_2_num(10,15)"
   ]
  },
  {
   "cell_type": "markdown",
   "id": "fc2f5eb9-39b7-43ac-aeb1-05c31479d37b",
   "metadata": {},
   "source": [
    "7. Write a recursive Python function to reverse a string."
   ]
  },
  {
   "cell_type": "code",
   "execution_count": 44,
   "id": "e8201599-e6f8-4d1e-8e98-dd64033828b1",
   "metadata": {},
   "outputs": [],
   "source": [
    "def rev_s(n):\n",
    "    if n == \"\":\n",
    "        return \"\"\n",
    "    else:\n",
    "        return rev_s(n[1:]) + n[0]"
   ]
  },
  {
   "cell_type": "code",
   "execution_count": 45,
   "id": "0134e847-b32f-41b0-a4b5-2f4e77881cda",
   "metadata": {},
   "outputs": [
    {
     "data": {
      "text/plain": [
       "'resiak'"
      ]
     },
     "execution_count": 45,
     "metadata": {},
     "output_type": "execute_result"
    }
   ],
   "source": [
    "rev_s(\"kaiser\")"
   ]
  },
  {
   "cell_type": "markdown",
   "id": "ab751cc2-fde0-4917-8326-ed7132de9c1e",
   "metadata": {},
   "source": [
    "8. Create a recursive Python function to calculate the power of a number (x^n)."
   ]
  },
  {
   "cell_type": "code",
   "execution_count": 42,
   "id": "dddf5532-cb1b-42e5-b2af-166b1308fbef",
   "metadata": {},
   "outputs": [],
   "source": [
    "def power_num(n,k):\n",
    "    if k == 0:\n",
    "        return 1\n",
    "    else:\n",
    "        return n * power_num(n,k-1)"
   ]
  },
  {
   "cell_type": "code",
   "execution_count": 43,
   "id": "572ffbc4-a1b7-44cf-b0ee-1a5cc7072bf0",
   "metadata": {},
   "outputs": [
    {
     "data": {
      "text/plain": [
       "8"
      ]
     },
     "execution_count": 43,
     "metadata": {},
     "output_type": "execute_result"
    }
   ],
   "source": [
    "power_num(2,3)"
   ]
  },
  {
   "cell_type": "markdown",
   "id": "16063886-bc0a-4c0f-9883-e13aa4a21d8a",
   "metadata": {},
   "source": [
    "10. Write a recursive Python function to check if a string is a palindrome."
   ]
  },
  {
   "cell_type": "code",
   "execution_count": 66,
   "id": "67fa84ca-d4ce-42e7-a98e-036633c4fccf",
   "metadata": {},
   "outputs": [],
   "source": [
    "def pal(n):\n",
    "    if n == \"\":\n",
    "        print(\"nothing\")\n",
    "        \n",
    "    elif n[::] == n[::-1]:\n",
    "        print(f\"{n} is a palindrome\")\n",
    "    else:\n",
    "        print(f\"{n} is not a palindrome\")"
   ]
  },
  {
   "cell_type": "code",
   "execution_count": 64,
   "id": "ec18e31f-68f8-41a6-936f-0ff6fd4f5fb8",
   "metadata": {},
   "outputs": [],
   "source": [
    "def pal(n):\n",
    "    if n == \"\":\n",
    "        return \"nothing\"\n",
    "    elif n[::] == n[::-1]:\n",
    "        return n + \" is palindrome\"\n",
    "    else:\n",
    "        return n + \" is not palindorme\""
   ]
  },
  {
   "cell_type": "code",
   "execution_count": 65,
   "id": "7e00d55b-286b-4592-aea2-417c6bdb3d31",
   "metadata": {},
   "outputs": [
    {
     "data": {
      "text/plain": [
       "'azad is not palindorme'"
      ]
     },
     "execution_count": 65,
     "metadata": {},
     "output_type": "execute_result"
    }
   ],
   "source": [
    "pal(\"azad\")"
   ]
  },
  {
   "cell_type": "code",
   "execution_count": null,
   "id": "49147b69-3a2e-4cae-88be-faf94d09de3b",
   "metadata": {},
   "outputs": [],
   "source": [
    "def pal(n):\n",
    "    if len(n) == \"\":\n",
    "        return \"nothing\"\n",
    "    elif n[::] != n[::-1]:\n",
    "        return n + \" is palindrome\"\n",
    "    else:\n",
    "        return pal(n[::])\n",
    "    \n",
    "    hello"
   ]
  },
  {
   "cell_type": "code",
   "execution_count": 67,
   "id": "8b84ce0d-f2cf-4e9a-a84d-4d999db019ea",
   "metadata": {},
   "outputs": [
    {
     "name": "stdout",
     "output_type": "stream",
     "text": [
      "True\n"
     ]
    }
   ],
   "source": [
    "def is_palindrome(string): ## hellh --> h --o e--l l--l -> 1 it will be paindrom\n",
    "    if len(string)<=1:\n",
    "        return True\n",
    "    if  string[0]==string[-1]:\n",
    "        return is_palindrome(string[1:-1])    \n",
    "        \n",
    "    else:\n",
    "        return False\n",
    "        \n",
    "print(is_palindrome(\"malayalam\"))"
   ]
  },
  {
   "cell_type": "markdown",
   "id": "6770d3cb-7e5e-45c4-a636-d07767cf4e1b",
   "metadata": {},
   "source": [
    "## Map"
   ]
  },
  {
   "cell_type": "markdown",
   "id": "9177e1dc-63d1-439c-9939-bfa6f1e9f496",
   "metadata": {},
   "source": [
    "1. Explain the purpose of the `map()` function in Python and provide an example of how it can be used to apply a function to each element of an iterable."
   ]
  },
  {
   "cell_type": "markdown",
   "id": "d460969e-faee-4aa5-bc9c-5fa5fedfdd77",
   "metadata": {},
   "source": [
    "- Ans. map() is a function which will try to map each and every individual elements with the operation we would like to perform. That operation we can try to introduce based on the function parameter. \n",
    "- map() takes a function parameter and iterables to map objects. iterables basically means list or tuples or string. map takes each elements from a list or tutple or set and applies the operation on those each elements separatelly. "
   ]
  },
  {
   "cell_type": "markdown",
   "id": "7cfd3ba4-42b6-4c3e-bfb3-e285b5c45394",
   "metadata": {},
   "source": [
    "2. Write a Python program that uses the `map()` function to square each element of a list of numbers."
   ]
  },
  {
   "cell_type": "code",
   "execution_count": 11,
   "id": "f7d5c263-5b48-4075-87ca-9ab955e092f8",
   "metadata": {},
   "outputs": [],
   "source": [
    "l = [1,2,3,4,5]\n",
    "def sq(x):\n",
    "    return x**2"
   ]
  },
  {
   "cell_type": "code",
   "execution_count": 13,
   "id": "32c2c13d-24fa-45ff-a0b1-8dd369b1c2e5",
   "metadata": {},
   "outputs": [
    {
     "data": {
      "text/plain": [
       "[1, 4, 9, 16, 25]"
      ]
     },
     "execution_count": 13,
     "metadata": {},
     "output_type": "execute_result"
    }
   ],
   "source": [
    "list(map(sq, l))"
   ]
  },
  {
   "cell_type": "markdown",
   "id": "ae4dfe43-1c51-474c-9cf5-04e47552c662",
   "metadata": {},
   "source": [
    "3. How does the `map()` function differ from a list comprehension in Python, and when would you choose one over the other?"
   ]
  },
  {
   "cell_type": "markdown",
   "id": "88567dcf-7afc-423a-a6ca-557b9be05bc9",
   "metadata": {},
   "source": [
    "- Ans. map() takes two arguments. (1) map takes a Function that we would like to implement on every lebal of a list. (2) map takes a data. map() is mapping the function, where we put a logic to get an output through mapping individually in a given list. We are not running a loop in map() function.\n",
    "\n",
    "- In list comprehension, looping takes place to iterate through a given list and we get the output based on the given input inside a function. \n",
    "\n",
    "- It is not mandatory to use map, but, to get our work in an optimized way, mapping is a good choice over list comprehention.\n"
   ]
  },
  {
   "cell_type": "markdown",
   "id": "0311a9cb-7248-4270-98fe-8a1e9367f1e6",
   "metadata": {},
   "source": [
    "4. Create a Python program that uses the `map()` function to convert a list of names to uppercase."
   ]
  },
  {
   "cell_type": "code",
   "execution_count": 14,
   "id": "6b50e8e4-cc57-497e-bb90-bb12099282a0",
   "metadata": {},
   "outputs": [
    {
     "data": {
      "text/plain": [
       "['AZAD', 'MISHU', 'AKRAM', 'RUBY']"
      ]
     },
     "execution_count": 14,
     "metadata": {},
     "output_type": "execute_result"
    }
   ],
   "source": [
    "l = ['azad', 'mishu', 'akram', 'ruby']\n",
    "\n",
    "list(map(lambda x : x.upper(), l))"
   ]
  },
  {
   "cell_type": "markdown",
   "id": "8dca5c20-357c-4d6f-89f7-26631a1cda2c",
   "metadata": {},
   "source": [
    "5. Write a Python program that uses the `map()` function to calculate the length of each word in a list of strings."
   ]
  },
  {
   "cell_type": "code",
   "execution_count": 15,
   "id": "d9e2361e-f94a-4843-a26d-0ffa7393b591",
   "metadata": {},
   "outputs": [
    {
     "data": {
      "text/plain": [
       "[4, 5, 5, 4]"
      ]
     },
     "execution_count": 15,
     "metadata": {},
     "output_type": "execute_result"
    }
   ],
   "source": [
    "l = ['azad', 'mishu', 'akram', 'ruby']\n",
    "\n",
    "list(map(lambda x : len(x), l))"
   ]
  },
  {
   "cell_type": "markdown",
   "id": "b06897b1-e8a1-4a7c-bd89-da19fed6f2dd",
   "metadata": {},
   "source": [
    "6. How can you use the `map()` function to apply a custom function to elements of multiple lists simultaneously in Python?"
   ]
  },
  {
   "cell_type": "code",
   "execution_count": 7,
   "id": "346c0a0e-d6b6-43d9-a3c9-63f5e897a611",
   "metadata": {},
   "outputs": [
    {
     "data": {
      "text/plain": [
       "[2, 4, 6, 8, 10]"
      ]
     },
     "execution_count": 7,
     "metadata": {},
     "output_type": "execute_result"
    }
   ],
   "source": [
    "## In below example, I have taken multiple lists as l1 and l2, \n",
    "## applied a custom lambda function to to addition of two lists, \n",
    "## passed the lists l1 and l2, \n",
    "## did the mapping and got an output in form of list.\n",
    "\n",
    "l1 = [1,2,3,4,5]\n",
    "l2 = [1,2,3,4,5]\n",
    "list(map(lambda x,y : x+y, l1, l2))"
   ]
  },
  {
   "cell_type": "markdown",
   "id": "7d4c52f6-ba29-4aa3-bd88-f377510d44e1",
   "metadata": {},
   "source": [
    "7. Create a Python program that uses `map()` to convert a list of temperatures from Celsius to Fahrenheit."
   ]
  },
  {
   "cell_type": "code",
   "execution_count": 21,
   "id": "31225eda-b5e2-478d-9027-28198a599e84",
   "metadata": {},
   "outputs": [
    {
     "data": {
      "text/plain": [
       "[89.6, 87.80000000000001, 71.6, 69.80000000000001, 77.0, 82.4]"
      ]
     },
     "execution_count": 21,
     "metadata": {},
     "output_type": "execute_result"
    }
   ],
   "source": [
    "temp = [32, 31, 22, 21, 25, 28]\n",
    "Fahrenheit = list(map(lambda c: (9/5)*c+32, temp))\n",
    "Fahrenheit"
   ]
  },
  {
   "cell_type": "markdown",
   "id": "eb447f6b-9d04-4ac3-bd26-a8a2f5a0f473",
   "metadata": {},
   "source": [
    "8. Write a Python program that uses the `map()` function to round each element of a list of floating-point numbers to the nearest integer."
   ]
  },
  {
   "cell_type": "code",
   "execution_count": 17,
   "id": "1104bf4f-4428-41bf-ac91-a71b69acc136",
   "metadata": {},
   "outputs": [
    {
     "data": {
      "text/plain": [
       "[3, 4, 4, 6]"
      ]
     },
     "execution_count": 17,
     "metadata": {},
     "output_type": "execute_result"
    }
   ],
   "source": [
    "flt = [2.7, 3.7, 4.5, 5.9]\n",
    "list(map(lambda x : round(x), flt))"
   ]
  },
  {
   "cell_type": "markdown",
   "id": "fc202503-10db-4707-a3af-4ef97ccf444c",
   "metadata": {},
   "source": [
    "## Built-in Functions"
   ]
  },
  {
   "cell_type": "markdown",
   "id": "579dea26-1c39-41f5-b3ca-49f7bf36bfd8",
   "metadata": {},
   "source": [
    "1. Describe the role of built-in functions like `len()`, `max()`, and `min()` in Python."
   ]
  },
  {
   "cell_type": "markdown",
   "id": "df45be13-d61d-46b8-92eb-3abc57dd27a0",
   "metadata": {},
   "source": [
    "- Ans: \n",
    "- len():- This in-built function is used to get the length of a given variable.\n",
    "- max():- This in-built function is used to get the maximum value of an integer from a given list inside the max() function.\n",
    "- min():- This in-built function is used to get the minimum value of an integer from a given list inside the min() function."
   ]
  },
  {
   "cell_type": "markdown",
   "id": "51d0a1f9-c85e-4b24-9503-4be1ea61af57",
   "metadata": {},
   "source": [
    "2. Write a Python program that uses the `map()` function to apply a function to each element of a list."
   ]
  },
  {
   "cell_type": "code",
   "execution_count": 1,
   "id": "22c56c1a-1bd4-403c-a0b1-078716bf71da",
   "metadata": {},
   "outputs": [
    {
     "data": {
      "text/plain": [
       "[2, 4, 6, 8, 10]"
      ]
     },
     "execution_count": 1,
     "metadata": {},
     "output_type": "execute_result"
    }
   ],
   "source": [
    "l = [1,2,3,4,5]\n",
    "\n",
    "list(map(lambda a : a*2, l))"
   ]
  },
  {
   "cell_type": "markdown",
   "id": "4201073f-5558-44d3-8941-d0a5e963c0eb",
   "metadata": {},
   "source": [
    "3. How does the `filter()` function work in Python, and when would you use it?"
   ]
  },
  {
   "cell_type": "markdown",
   "id": "0ac5bca6-1d5c-48e9-9658-c9da23f52f3f",
   "metadata": {},
   "source": [
    "- Ans: The purpose of filter() is to filter out data's from a list with given conditions through a function.\n",
    "- For example, if I want to get the negative values from a given list, where positive values will be there as well, and if I want to filter out the negative values through iteration, I can set the condition accordingly and filter out the negative values from the list."
   ]
  },
  {
   "cell_type": "markdown",
   "id": "5095bcee-ca92-47d7-86ad-05f3a2e19ebe",
   "metadata": {},
   "source": [
    "4. Create a Python program that uses the `reduce()` function to find the product of all elements in a list."
   ]
  },
  {
   "cell_type": "code",
   "execution_count": 8,
   "id": "f3a357dd-cae3-4b68-885c-89b7469f6dd8",
   "metadata": {},
   "outputs": [
    {
     "data": {
      "text/plain": [
       "120"
      ]
     },
     "execution_count": 8,
     "metadata": {},
     "output_type": "execute_result"
    }
   ],
   "source": [
    "from functools import reduce\n",
    "l = [1,2,3,4,5]\n",
    "\n",
    "reduce(lambda x,y : x*y, l)"
   ]
  },
  {
   "cell_type": "markdown",
   "id": "6c582fbe-cf4f-4701-90fa-97f46237fcc4",
   "metadata": {
    "tags": []
   },
   "source": [
    "## Function Documentation and Best Practices"
   ]
  },
  {
   "cell_type": "markdown",
   "id": "206d7606-5bcd-4a62-82c1-5644789f94b3",
   "metadata": {},
   "source": [
    "1. Explain the purpose of docstrings in Python functions and how to write them."
   ]
  },
  {
   "cell_type": "markdown",
   "id": "8eff935c-8a8b-4c48-8fe5-8cc7261a44a4",
   "metadata": {},
   "source": [
    "- Ans: Documentation String, in short, known as docstring is used to document codes for python code. In general way, it is used to document explainations for a particular code, function, classes or methods. \n",
    "\n",
    "- There are several way to write docstring. The docstring for a function or method should summarize its behavior and document its arguments and return values. It should also list all the exceptions that can be raised and other optional arguments. In below block of code an example is given of a docstring in Python function:"
   ]
  },
  {
   "cell_type": "code",
   "execution_count": 1,
   "id": "8d1e82ff-1da9-405b-b92f-78a6c9a03916",
   "metadata": {},
   "outputs": [
    {
     "name": "stdout",
     "output_type": "stream",
     "text": [
      "\n",
      "    Returns the sum of two decimal numbers in binary digits.\n",
      "\n",
      "            Parameters:\n",
      "                    a (int): A decimal integer\n",
      "                    b (int): Another decimal integer\n",
      "\n",
      "            Returns:\n",
      "                    binary_sum (str): Binary string of the sum of a and b\n",
      "    \n"
     ]
    }
   ],
   "source": [
    "def add_binary(a, b):\n",
    "    '''\n",
    "    Returns the sum of two decimal numbers in binary digits.\n",
    "\n",
    "            Parameters:\n",
    "                    a (int): A decimal integer\n",
    "                    b (int): Another decimal integer\n",
    "\n",
    "            Returns:\n",
    "                    binary_sum (str): Binary string of the sum of a and b\n",
    "    '''\n",
    "    binary_sum = bin(a+b)[2:]\n",
    "    return binary_sum\n",
    "\n",
    "\n",
    "print(add_binary.__doc__)"
   ]
  },
  {
   "cell_type": "markdown",
   "id": "cf50348b-774b-4980-874d-b86287e92bbb",
   "metadata": {},
   "source": [
    "- As we can see, we have included a short description of what the function does, the parameter it takes in and the value it returns. The string literal is embedded to the function add_binary as its __doc__ attribute."
   ]
  },
  {
   "cell_type": "markdown",
   "id": "8e042c46-db46-454c-8f6d-aa59b9b0f0c9",
   "metadata": {
    "tags": []
   },
   "source": [
    "2. Describe some best practices for naming functions and variables in Python, including naming conventions and guidelines."
   ]
  },
  {
   "cell_type": "markdown",
   "id": "3015e851-f83a-4dee-95ff-d266271093e5",
   "metadata": {},
   "source": [
    "Ans: When it comes to naming functions and variables in Python, following best practices is crucial for writing clean, readable, and maintainable code. Here are some naming conventions and guidelines that is written below:\n",
    "\n",
    "1. **Use Descriptive and Meaningful Names**:\n",
    "   - Choose names that clearly describe the purpose or functionality of the function or variable. A well-chosen name should provide context to the reader.\n",
    "   - For example, instead of using `x` or `temp`, use names like `user_input` or `average_temperature`.\n",
    "\n",
    "2. **Following PEP 8**:\n",
    "   - Python has an official style guide called PEP 8, which provides recommendations for naming conventions. It suggests using lowercase letters and underscores for function and variable names (snake_case).\n",
    "   - Function names should be lowercase and descriptive, while variable names should also be lowercase with meaningful words separated by underscores.\n",
    "   - For example: `calculate_average`, `user_age`, or `data_file_path`.\n",
    "\n",
    "3. **Use Verb-Noun Pairing for Functions**:\n",
    "   - For functions, it's a good practice to use a verb-noun pairing to indicate what the function does. This makes it clear that the identifier is a function.\n",
    "   - For instance, `calculate_average`, `get_user_input`, or `write_file_data` are clear and informative function names.\n",
    "\n",
    "4. **Be Consistent**:\n",
    "   - Maintain consistency in the naming conventions throughout the codebase. If I use a particular naming style, I have to stick to it.\n",
    "   - Consistency makes our code easier to understand and contributes to a more professional and polished codebase.\n",
    "\n",
    "5. **Avoid Using Single Letters**:\n",
    "   - With few exceptions (e.g., loop variables), we should try to avoid using single letters like `i`, `j`, or `k` as variable names. We should use meaningful names even for short-lived variables.\n",
    "\n",
    "6. **Use Capital Letters for Constants**:\n",
    "   - If I have constants in my code (values that don't change), I should use uppercase letters and separate words with underscores.\n",
    "   - For example: `MAX_VALUE`, `PI`, or `CONFIG_FILE_PATH`.\n",
    "\n",
    "7. **Follow Industry Conventions**:\n",
    "   - If I am working on a project that follows specific naming conventions or guidelines, I should adhere to those conventions. Consistency across the project is essential.\n",
    "\n",
    "8. **Document Your Code**:\n",
    "   - I should provide clear and concise comments or docstrings to explain the purpose of my functions and variables. Well-documented code is more understandable and maintainable.\n",
    "\n",
    "9. **Consider Function Names as Commands**:\n",
    "   - When naming functions, I should think of them as commands that describe what they do when invoked. This mental model can help yme choose descriptive names.\n",
    "\n",
    "10. **Refactor When Necessary**:\n",
    "    - If I find that a function or variable name no longer accurately represents its purpose due to changes in the code, be willing to refactor and update the name.\n",
    "\n",
    "- In summary, adhering to these best practices for naming functions and variables in Python will make my code more readable and maintainable, facilitating collaboration with other developers and ensuring the longevity of your codebase."
   ]
  },
  {
   "cell_type": "code",
   "execution_count": null,
   "id": "c2a78b18-b346-4d07-af26-7cac04106d32",
   "metadata": {},
   "outputs": [],
   "source": []
  }
 ],
 "metadata": {
  "kernelspec": {
   "display_name": "Python 3 (ipykernel)",
   "language": "python",
   "name": "python3"
  },
  "language_info": {
   "codemirror_mode": {
    "name": "ipython",
    "version": 3
   },
   "file_extension": ".py",
   "mimetype": "text/x-python",
   "name": "python",
   "nbconvert_exporter": "python",
   "pygments_lexer": "ipython3",
   "version": "3.10.8"
  }
 },
 "nbformat": 4,
 "nbformat_minor": 5
}
