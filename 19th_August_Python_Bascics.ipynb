{
 "cells": [
  {
   "cell_type": "markdown",
   "id": "f0ebf8b1-d628-4072-bc2a-8bde4c134b20",
   "metadata": {},
   "source": [
    "# Python Basics Variable"
   ]
  },
  {
   "cell_type": "markdown",
   "id": "9c0e7fb0-8b1f-41a2-b63e-71ecb6f541f0",
   "metadata": {},
   "source": [
    "1. Declare two variables, 'x' and 'y', and assign them integer values. Swap the values of these variables without using any temporary variable."
   ]
  },
  {
   "cell_type": "code",
   "execution_count": 26,
   "id": "1ebb7b50-7ba7-4701-b336-e54425481947",
   "metadata": {},
   "outputs": [],
   "source": [
    "x = 22  #Declared x as a variable and assigned an integer value\n",
    "y = 33  #Declared y as a variable and assigned an integer value"
   ]
  },
  {
   "cell_type": "code",
   "execution_count": 27,
   "id": "f01fc740-3174-408a-b8dd-af5d878f67f5",
   "metadata": {},
   "outputs": [],
   "source": [
    "x = x + y"
   ]
  },
  {
   "cell_type": "code",
   "execution_count": 28,
   "id": "7c2dc8a5-0db7-4e0d-8167-f0f4fe45900f",
   "metadata": {},
   "outputs": [],
   "source": [
    "y = x - y"
   ]
  },
  {
   "cell_type": "code",
   "execution_count": 29,
   "id": "7b1781e2-9906-4423-b34d-66a63f1cdc71",
   "metadata": {},
   "outputs": [],
   "source": [
    "x = x - y"
   ]
  },
  {
   "cell_type": "code",
   "execution_count": 30,
   "id": "934abdc6-fb67-4ad5-997e-573da1f65ea2",
   "metadata": {},
   "outputs": [
    {
     "name": "stdout",
     "output_type": "stream",
     "text": [
      "After swapping the value of x becomes 33 and the value of y becomes 22\n"
     ]
    }
   ],
   "source": [
    "print(\"After swapping the value of x becomes\",x,\"and the value of y becomes\",y)"
   ]
  },
  {
   "cell_type": "markdown",
   "id": "cc476c0f-4bc2-4a84-8416-dd9ded551972",
   "metadata": {},
   "source": [
    "2. Create a program that calculates the area of a rectangle. Take the length and width as inputs from the user and store them in variables. Calculate and display the area. "
   ]
  },
  {
   "cell_type": "code",
   "execution_count": 12,
   "id": "3b8bec20-3278-448a-a0b3-e9b4d41a3ce6",
   "metadata": {},
   "outputs": [
    {
     "name": "stdin",
     "output_type": "stream",
     "text": [
      "Enter the length:  3\n",
      "Enter the width:  3\n"
     ]
    },
    {
     "name": "stdout",
     "output_type": "stream",
     "text": [
      "The Area of the Rectangle is: 9\n"
     ]
    }
   ],
   "source": [
    "x = int(input(\"Enter the length: \"))         # Taken an input from user as length and stored in x variable\n",
    "y = int(input(\"Enter the width: \"))          # Taken an input from user as width and stored in y variable\n",
    "print(\"The Area of the Rectangle is:\", x*y)  # Calculating the are by x*y formula"
   ]
  },
  {
   "cell_type": "markdown",
   "id": "ae1e34c2-c01c-4faf-84c1-cac13f081c5e",
   "metadata": {},
   "source": [
    "3. Write a Python program that converts temperature from Celsius to Fahrenheit. Take the temperature in Celsius as input, store it in a variable, convert it to Fahrenheit, and display the result. "
   ]
  },
  {
   "cell_type": "code",
   "execution_count": 15,
   "id": "ecac64b6-1289-47d3-a496-0b1406d99426",
   "metadata": {},
   "outputs": [
    {
     "name": "stdin",
     "output_type": "stream",
     "text": [
      "Temperature:  22\n"
     ]
    },
    {
     "name": "stdout",
     "output_type": "stream",
     "text": [
      "Temperature in Fahrenheit is:  71.6\n"
     ]
    }
   ],
   "source": [
    "C = int(input(\"Temperature: \"))  # C is temperature in Celcius \n",
    "F = (C * 9/5) + 32               # F is temperature in Fahrenheit and the formula to convert to Fahrenheit\n",
    "\n",
    "print(\"Temperature in Fahrenheit is: \", F)"
   ]
  },
  {
   "cell_type": "markdown",
   "id": "0f4affec-6fa3-40ae-85cb-0c8447a0ad89",
   "metadata": {
    "tags": []
   },
   "source": [
    "# String Based Questions"
   ]
  },
  {
   "cell_type": "markdown",
   "id": "a341d1af-38f3-4290-96a5-3bc0780e7d01",
   "metadata": {},
   "source": [
    "1. Write a Python program that takes a string as input and prints the length of the string. "
   ]
  },
  {
   "cell_type": "code",
   "execution_count": 20,
   "id": "583d7cde-f59f-4112-a0cc-3a490b2e23bd",
   "metadata": {},
   "outputs": [
    {
     "name": "stdin",
     "output_type": "stream",
     "text": [
      "Write a string:  asa\n"
     ]
    },
    {
     "data": {
      "text/plain": [
       "3"
      ]
     },
     "execution_count": 20,
     "metadata": {},
     "output_type": "execute_result"
    }
   ],
   "source": [
    "x = str(input(\"Write a string: \")) # Takes a string as input from user and stored in x variable\n",
    "len(x)                             # Calculates the lenght of the input string x"
   ]
  },
  {
   "cell_type": "markdown",
   "id": "67d9a1dd-ccf5-49cb-a3c8-f313a4db95f1",
   "metadata": {},
   "source": [
    "2. Create a program that takes a sentence from the user and counts the\n",
    "number of vowels (a, e, i, o, u) in the string."
   ]
  },
  {
   "cell_type": "code",
   "execution_count": 6,
   "id": "e9e2b37c-98c9-48ce-85ee-978296f51bc8",
   "metadata": {},
   "outputs": [
    {
     "name": "stdin",
     "output_type": "stream",
     "text": [
      "Write a sentence: My name is Mohammad Kaiser Azad and I am 28 years old\n"
     ]
    },
    {
     "name": "stdout",
     "output_type": "stream",
     "text": [
      "The number of vowels are 17\n"
     ]
    }
   ],
   "source": [
    "x = input(\"Write a sentence:\" )  # Askes the user to write a sentence as input\n",
    "\n",
    "def vowel(v):                         # Created a new function named vowel to calculate the number of vowel from the input x\n",
    "    vowels = 'AEIOUaeiou'             # Vowels in capital and small letter\n",
    "    count = 0\n",
    "    \n",
    "    for i in v:\n",
    "        if i in vowels:\n",
    "            count = count + 1         # The count gets increamented if there are more than 1 vowel\n",
    "    return count\n",
    "v_numbers = vowel(x)\n",
    "\n",
    "print(\"The number of vowels are\",v_numbers)  # Prints the totall number of vowels\n",
    "    \n",
    "    "
   ]
  },
  {
   "cell_type": "markdown",
   "id": "2814ec2c-2326-44a8-ad6b-2964a4aad275",
   "metadata": {},
   "source": [
    "3. Given a string, reverse the order of characters using string slicing and\n",
    "print the reversed string."
   ]
  },
  {
   "cell_type": "code",
   "execution_count": 30,
   "id": "2c70d636-8a71-405b-9158-594dc711fdd9",
   "metadata": {},
   "outputs": [
    {
     "name": "stdout",
     "output_type": "stream",
     "text": [
      "The revered string is woC\n"
     ]
    }
   ],
   "source": [
    "s = 'Cow'              # String named Cow given\n",
    "reversing = s[: :-1]   # Reversing the order of the character of s variable using string slicing\n",
    "print(\"The revered string is\", reversing)"
   ]
  },
  {
   "cell_type": "markdown",
   "id": "2ec9c3d2-3c86-409e-b686-3e8d50723204",
   "metadata": {},
   "source": [
    "4. Write a program that takes a string as input and checks if it is a\n",
    "palindrome (reads the same forwards and backwards)."
   ]
  },
  {
   "cell_type": "code",
   "execution_count": 28,
   "id": "a45f5921-9df9-4be4-8456-919a1d48bfe4",
   "metadata": {},
   "outputs": [
    {
     "name": "stdin",
     "output_type": "stream",
     "text": [
      "Enter a word:  Malayalam\n"
     ]
    },
    {
     "name": "stdout",
     "output_type": "stream",
     "text": [
      "The string word is palindrome\n"
     ]
    }
   ],
   "source": [
    "x = str(input(\"Enter a word: \" ))   # Takes a string input from the user\n",
    "l_x = x.lower()                     # Using the lower() function will convert the upper case to lower case to treat any given value equally \n",
    "reverse_x = l_x[::-1]               # Reversing the input string value\n",
    "\n",
    "if reverse_x == l_x:                # Setting an if/else statement to varify the string value if it is palindrome or not\n",
    "    print(\"The string word is palindrome\")\n",
    "else:\n",
    "    print(\"The string word is not palindrome\")\n",
    "    "
   ]
  },
  {
   "cell_type": "markdown",
   "id": "fd83d214-d363-4fa7-b980-65c91b53653b",
   "metadata": {},
   "source": [
    "5. Create a program that takes a string as input and removes all the\n",
    "spaces from it. Print the modified string without spaces."
   ]
  },
  {
   "cell_type": "code",
   "execution_count": 31,
   "id": "1a013be2-ab6b-48a5-b2c7-209520df707d",
   "metadata": {},
   "outputs": [
    {
     "name": "stdin",
     "output_type": "stream",
     "text": [
      "Enter string:  I am a legend\n"
     ]
    },
    {
     "name": "stdout",
     "output_type": "stream",
     "text": [
      "The modified string without spaces is Iamalegend\n"
     ]
    }
   ],
   "source": [
    "string = str(input(\"Enter string: \"))                           # Takes string as an input from user\n",
    "\n",
    "modified_string = string.replace(\" \", \"\")                       # Removes the spaces between string by replace() function\n",
    "\n",
    "print(\"The modified string without spaces is\", modified_string) # Prints the modifeid\n"
   ]
  },
  {
   "cell_type": "code",
   "execution_count": null,
   "id": "fb507fa2-65a9-42a3-b4c4-0fdb35004961",
   "metadata": {},
   "outputs": [],
   "source": []
  }
 ],
 "metadata": {
  "kernelspec": {
   "display_name": "Python 3 (ipykernel)",
   "language": "python",
   "name": "python3"
  },
  "language_info": {
   "codemirror_mode": {
    "name": "ipython",
    "version": 3
   },
   "file_extension": ".py",
   "mimetype": "text/x-python",
   "name": "python",
   "nbconvert_exporter": "python",
   "pygments_lexer": "ipython3",
   "version": "3.10.8"
  }
 },
 "nbformat": 4,
 "nbformat_minor": 5
}
