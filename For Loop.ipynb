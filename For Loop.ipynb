{
 "cells": [
  {
   "cell_type": "markdown",
   "id": "522c614e-6e11-49ba-a767-22b81d6c9251",
   "metadata": {},
   "source": [
    "## Basic Level"
   ]
  },
  {
   "cell_type": "markdown",
   "id": "4762dcdf-c46f-4cae-b198-ff9b61ff602e",
   "metadata": {},
   "source": [
    "1. Write a Python program to print the numbers from 1 to 10 using a `for` loop."
   ]
  },
  {
   "cell_type": "code",
   "execution_count": 7,
   "id": "94773f84-9884-47de-a257-321d4c67d464",
   "metadata": {},
   "outputs": [
    {
     "name": "stdout",
     "output_type": "stream",
     "text": [
      "1\n",
      "2\n",
      "3\n",
      "4\n",
      "5\n",
      "6\n",
      "7\n",
      "8\n",
      "9\n",
      "10\n"
     ]
    }
   ],
   "source": [
    "for i in range(1,11):      ## Setting the range to iterate within the range\n",
    "    print(i)"
   ]
  },
  {
   "cell_type": "markdown",
   "id": "db114a57-0b75-46e6-aef9-e084051af8e0",
   "metadata": {},
   "source": [
    "2. Create a program that calculates the sum of all numbers in a list using a `for` loop."
   ]
  },
  {
   "cell_type": "code",
   "execution_count": 15,
   "id": "c6e3f4ab-2d75-4feb-b5b5-879bde68fd9f",
   "metadata": {},
   "outputs": [
    {
     "name": "stdout",
     "output_type": "stream",
     "text": [
      "The sum of the numbers in the list is: 10\n"
     ]
    }
   ],
   "source": [
    "n = [2,2,2,2,2]\n",
    "sum = 0\n",
    "\n",
    "for i in n:\n",
    "    sum+=i\n",
    "print(\"The sum of the numbers in the list is:\", sum)"
   ]
  },
  {
   "cell_type": "markdown",
   "id": "25151c20-4492-4abc-9f3b-04749b46908d",
   "metadata": {},
   "source": [
    "3. Write a program to print the characters of a string in reverse order using a `for` loop."
   ]
  },
  {
   "cell_type": "code",
   "execution_count": 17,
   "id": "5c8f65cc-98bf-4622-8971-4ede38bc7f69",
   "metadata": {},
   "outputs": [
    {
     "name": "stdout",
     "output_type": "stream",
     "text": [
      "My reveresed order is  dazA\n"
     ]
    }
   ],
   "source": [
    "s = \"Azad\"\n",
    "r = \" \"\n",
    "\n",
    "for i in reversed(s):\n",
    "    r+=i\n",
    "    \n",
    "print(\"My reveresed order is\", r)"
   ]
  },
  {
   "cell_type": "markdown",
   "id": "174633c4-e339-4ddb-baf0-79149c7534b5",
   "metadata": {},
   "source": [
    "4. Develop a program that finds the factorial of a given number using a `for` loop."
   ]
  },
  {
   "cell_type": "code",
   "execution_count": 1,
   "id": "fdf9f3c1-d4c2-4d9f-904c-ee1f51006d5f",
   "metadata": {},
   "outputs": [
    {
     "name": "stdin",
     "output_type": "stream",
     "text": [
      "Enter a number 4\n"
     ]
    },
    {
     "name": "stdout",
     "output_type": "stream",
     "text": [
      "24\n"
     ]
    }
   ],
   "source": [
    "num = int(input(\"Enter a number\"))\n",
    "a = 1\n",
    "for i in range(1,num +1):\n",
    "    a = i*a\n",
    "\n",
    "print(a)\n",
    "    "
   ]
  },
  {
   "cell_type": "markdown",
   "id": "fc3f1d4e-6966-49c9-b935-8ee8649723dd",
   "metadata": {},
   "source": [
    "5. Create a program to print the multiplication table of a given number using a `for` loop."
   ]
  },
  {
   "cell_type": "code",
   "execution_count": 3,
   "id": "ecd321fa-252d-41e8-b337-b5a696105f38",
   "metadata": {},
   "outputs": [
    {
     "name": "stdin",
     "output_type": "stream",
     "text": [
      "Enter a number:  12\n"
     ]
    },
    {
     "name": "stdout",
     "output_type": "stream",
     "text": [
      "12 * 1 = 12\n",
      "12 * 2 = 24\n",
      "12 * 3 = 36\n",
      "12 * 4 = 48\n",
      "12 * 5 = 60\n",
      "12 * 6 = 72\n",
      "12 * 7 = 84\n",
      "12 * 8 = 96\n",
      "12 * 9 = 108\n",
      "12 * 10 = 120\n"
     ]
    }
   ],
   "source": [
    "num = int(input(\"Enter a number: \"))\n",
    "\n",
    "for i in range(1,11):\n",
    "    result = num*i\n",
    "    print(f\"{num} * {i} = {result}\")"
   ]
  },
  {
   "cell_type": "markdown",
   "id": "5dff52b2-9257-47e2-a017-92faeb871c8b",
   "metadata": {},
   "source": [
    "6. Write a program that counts the number of even and odd numbers in a list using a `for` loop."
   ]
  },
  {
   "cell_type": "code",
   "execution_count": 30,
   "id": "a7a65e02-fa06-4277-8236-708e92afb780",
   "metadata": {},
   "outputs": [
    {
     "name": "stdout",
     "output_type": "stream",
     "text": [
      "The counts of even numbers are 5\n",
      "The counts of odd numbers are 4\n"
     ]
    }
   ],
   "source": [
    "num = [2,3,4,5,6,7,8,9,10]\n",
    "even_count = 0\n",
    "odd_count = 0\n",
    "for i in num:\n",
    "    if i%2==0:\n",
    "        even_count+=1\n",
    "    else:\n",
    "        odd_count+=1\n",
    "\n",
    "print(\"The counts of even numbers are\", even_count)\n",
    "print(\"The counts of odd numbers are\", odd_count)\n",
    "        \n",
    "    "
   ]
  },
  {
   "cell_type": "markdown",
   "id": "022412be-1bcd-43c4-b960-56c661e8741c",
   "metadata": {},
   "source": [
    "7. Develop a program that prints the squares of numbers from 1 to 5 using a `for` loop."
   ]
  },
  {
   "cell_type": "code",
   "execution_count": 5,
   "id": "b452ee0d-1cdd-4b99-8db2-d9c191f61f5b",
   "metadata": {},
   "outputs": [
    {
     "name": "stdout",
     "output_type": "stream",
     "text": [
      "1\n",
      "4\n",
      "9\n",
      "16\n",
      "25\n"
     ]
    }
   ],
   "source": [
    "n = range(1,6)\n",
    "\n",
    "for i in n:\n",
    "    print((i**2))"
   ]
  },
  {
   "cell_type": "markdown",
   "id": "624a4282-742f-4ef9-8477-a3ea296dad76",
   "metadata": {},
   "source": [
    "8. Create a program to find the length of a string without using the `len()` function."
   ]
  },
  {
   "cell_type": "code",
   "execution_count": 7,
   "id": "99534133-f484-445b-89e5-63a52c45ed1c",
   "metadata": {},
   "outputs": [
    {
     "name": "stdin",
     "output_type": "stream",
     "text": [
      "Enter a string:  azad\n"
     ]
    },
    {
     "name": "stdout",
     "output_type": "stream",
     "text": [
      "The length of the string is: 4\n"
     ]
    }
   ],
   "source": [
    "string = input(\"Enter a string: \")\n",
    "length = 0\n",
    "\n",
    "for i in string:\n",
    "    length+=1\n",
    "print(f\"The length of the string is: {length}\")\n"
   ]
  },
  {
   "cell_type": "markdown",
   "id": "c7294434-8bff-4813-8b2c-b7efdeb44525",
   "metadata": {},
   "source": [
    "9. Write a program that calculates the average of a list of numbers using a `for` loop."
   ]
  },
  {
   "cell_type": "code",
   "execution_count": 51,
   "id": "e8f1955e-6f7d-466c-b963-489471cf3fbb",
   "metadata": {},
   "outputs": [
    {
     "name": "stdout",
     "output_type": "stream",
     "text": [
      "The average of a list of numbers: 5.5\n"
     ]
    }
   ],
   "source": [
    "num = [1,2,3,4,5,6,7,8,9,10]\n",
    "total = 0\n",
    "count = 0\n",
    "for i in num:\n",
    "    total+=i\n",
    "    count+=1\n",
    "avg = total/count\n",
    "print(f\"The average of a list of numbers: {avg}\")"
   ]
  },
  {
   "cell_type": "markdown",
   "id": "e5196a89-b551-4eae-9967-f9aac6578ee5",
   "metadata": {},
   "source": [
    "10. Develop a program that prints the first `n` Fibonacci numbers using a `for` loop."
   ]
  },
  {
   "cell_type": "code",
   "execution_count": 8,
   "id": "a1ec3dba-39a5-404c-95ea-31866921f7fa",
   "metadata": {},
   "outputs": [
    {
     "name": "stdin",
     "output_type": "stream",
     "text": [
      "Input a number:  12\n"
     ]
    },
    {
     "name": "stdout",
     "output_type": "stream",
     "text": [
      "[0, 1, 1, 2, 3, 5, 8, 13, 21, 34, 55, 89]\n"
     ]
    }
   ],
   "source": [
    "num = int(input(\"Input a number: \"))\n",
    "list_f = []\n",
    "a = 0\n",
    "b = 1\n",
    "\n",
    "for i in range(0,num):\n",
    "    list_f.append(a)\n",
    "    c = a+b\n",
    "    a = b\n",
    "    b = c\n",
    "print(list_f)\n",
    "    "
   ]
  },
  {
   "cell_type": "markdown",
   "id": "a0c4a9fa-1a81-4271-8d16-92d614f32ac4",
   "metadata": {},
   "source": [
    "## Intermediate Level"
   ]
  },
  {
   "cell_type": "markdown",
   "id": "8074906e-33dd-44e0-ac80-65c149e4ea80",
   "metadata": {},
   "source": [
    "11. Write a program to check if a given list contains any duplicates using a `for` loop."
   ]
  },
  {
   "cell_type": "code",
   "execution_count": 16,
   "id": "d30192d1-634b-4a27-9a80-d676dde81ea5",
   "metadata": {},
   "outputs": [
    {
     "name": "stdout",
     "output_type": "stream",
     "text": [
      "The list contains duplicates values and these are [2, 3, 4, 5, 6, 9, 10, 11, 12]\n"
     ]
    }
   ],
   "source": [
    "li = [2,2,3,4,5,6,4,3,9,10,11,12]\n",
    "dup = []\n",
    "for i in li:\n",
    "    if i not in dup:\n",
    "        dup.append(i)\n",
    "        \n",
    "print(f\"The list contains duplicates values and these are {dup}\")\n"
   ]
  },
  {
   "cell_type": "markdown",
   "id": "fd0bd589-b519-4be1-9a5e-4819c9c96438",
   "metadata": {},
   "source": [
    "12. Create a program that prints the prime numbers in a given range using a `for` loop. ?????????????????"
   ]
  },
  {
   "cell_type": "code",
   "execution_count": 37,
   "id": "e67007f2-c0bb-459a-8472-6756826eb884",
   "metadata": {},
   "outputs": [
    {
     "name": "stdout",
     "output_type": "stream",
     "text": [
      "[2, 3, 4, 5, 6, 7, 8, 9, 10, 11, 12, 13, 14, 15, 16, 17, 18, 19, 20]\n"
     ]
    }
   ],
   "source": [
    "p_num=[]\n",
    "for i in range(2,21):\n",
    "    if i%i == 0:\n",
    "        p_num.append(i)\n",
    "print(p_num)"
   ]
  },
  {
   "cell_type": "markdown",
   "id": "48943960-0e4e-4be2-8076-7167547f7e05",
   "metadata": {},
   "source": [
    "13. Develop a program that counts the number of vowels in a string using a `for` loop."
   ]
  },
  {
   "cell_type": "code",
   "execution_count": 11,
   "id": "2dbc659a-1b30-43c6-bf9a-978882d279c3",
   "metadata": {},
   "outputs": [
    {
     "name": "stdin",
     "output_type": "stream",
     "text": [
      "Enter a word Kaiser Azad\n"
     ]
    },
    {
     "name": "stdout",
     "output_type": "stream",
     "text": [
      "The number of vowels are 5\n"
     ]
    }
   ],
   "source": [
    "count = 0\n",
    "v = 'aeiouAEIOU'\n",
    "\n",
    "for i in str(input(\"Enter a word\")):\n",
    "    if i in v:\n",
    "        count+=1\n",
    "print(\"The number of vowels are\",count)"
   ]
  },
  {
   "cell_type": "markdown",
   "id": "3342badd-74ff-463f-98e8-2a69ae64c3e6",
   "metadata": {},
   "source": [
    "14. Write a program to find the maximum element in a 2D list using a nested `for` loop."
   ]
  },
  {
   "cell_type": "code",
   "execution_count": 1,
   "id": "3d67e6b8-1987-4a92-888b-0188b1e5dce1",
   "metadata": {},
   "outputs": [
    {
     "name": "stdout",
     "output_type": "stream",
     "text": [
      "The maximum element in the 2D list is: 9\n"
     ]
    }
   ],
   "source": [
    "matrix = [\n",
    "    [1, 7, 3],\n",
    "    [5, 1, 9],\n",
    "    [3, 7, 1]\n",
    "    ]\n",
    "\n",
    "max_element = matrix[0][0]\n",
    "\n",
    "for row in matrix:\n",
    "    for element in row:\n",
    "        if element > max_element:\n",
    "            max_element = element\n",
    "\n",
    "print(f\"The maximum element in the 2D list is: {max_element}\")"
   ]
  },
  {
   "cell_type": "markdown",
   "id": "706b25f6-8c26-4b4e-9ddc-a525acde6533",
   "metadata": {},
   "source": [
    "15. Create a program that removes all occurrences of a specific element from a list using a `for` loop."
   ]
  },
  {
   "cell_type": "code",
   "execution_count": 6,
   "id": "780bc6b6-1563-4d21-bd6a-1946f1406d4c",
   "metadata": {},
   "outputs": [
    {
     "name": "stdout",
     "output_type": "stream",
     "text": [
      "After removing all the occurrences of '2' the new list is [1, 3, 5, 4, 3, 5, 7, 8, 9, 3, 3, 3, 3]\n"
     ]
    }
   ],
   "source": [
    "l = [1,2,3,2,5,4,3,5,7,8,9,3,3,3,3]\n",
    "\n",
    "new_l = []\n",
    "\n",
    "\n",
    "for i in l:\n",
    "    if i != 2:\n",
    "        new_l.append(i)\n",
    "print(f\"After removing all the occurrences of '2' the new list is {new_l}\")\n",
    "        "
   ]
  },
  {
   "cell_type": "markdown",
   "id": "bf59fe9e-72f0-4139-aff2-789330a5bcb1",
   "metadata": {},
   "source": [
    "16. Develop a program that generates a multiplication table for numbers from 1 to 5 using a nested `for` loop."
   ]
  },
  {
   "cell_type": "code",
   "execution_count": 36,
   "id": "a81e07df-c5c7-4e41-a56c-e3cef540681c",
   "metadata": {},
   "outputs": [
    {
     "name": "stdout",
     "output_type": "stream",
     "text": [
      "1 * 1 = 1\n",
      "1 * 2 = 2\n",
      "1 * 3 = 3\n",
      "1 * 4 = 4\n",
      "1 * 5 = 5\n",
      "1 * 6 = 6\n",
      "1 * 7 = 7\n",
      "1 * 8 = 8\n",
      "1 * 9 = 9\n",
      "1 * 10 = 10\n",
      "2 * 1 = 2\n",
      "2 * 2 = 4\n",
      "2 * 3 = 6\n",
      "2 * 4 = 8\n",
      "2 * 5 = 10\n",
      "2 * 6 = 12\n",
      "2 * 7 = 14\n",
      "2 * 8 = 16\n",
      "2 * 9 = 18\n",
      "2 * 10 = 20\n",
      "3 * 1 = 3\n",
      "3 * 2 = 6\n",
      "3 * 3 = 9\n",
      "3 * 4 = 12\n",
      "3 * 5 = 15\n",
      "3 * 6 = 18\n",
      "3 * 7 = 21\n",
      "3 * 8 = 24\n",
      "3 * 9 = 27\n",
      "3 * 10 = 30\n",
      "4 * 1 = 4\n",
      "4 * 2 = 8\n",
      "4 * 3 = 12\n",
      "4 * 4 = 16\n",
      "4 * 5 = 20\n",
      "4 * 6 = 24\n",
      "4 * 7 = 28\n",
      "4 * 8 = 32\n",
      "4 * 9 = 36\n",
      "4 * 10 = 40\n",
      "5 * 1 = 5\n",
      "5 * 2 = 10\n",
      "5 * 3 = 15\n",
      "5 * 4 = 20\n",
      "5 * 5 = 25\n",
      "5 * 6 = 30\n",
      "5 * 7 = 35\n",
      "5 * 8 = 40\n",
      "5 * 9 = 45\n",
      "5 * 10 = 50\n"
     ]
    }
   ],
   "source": [
    "for i in range(1,6):\n",
    "    for j in range(1,11):\n",
    "        print(f\"{i} * {j} = {i*j}\")\n",
    "  "
   ]
  },
  {
   "cell_type": "markdown",
   "id": "7457516c-706b-48ff-bdf5-5a68a3cb4f88",
   "metadata": {},
   "source": [
    "17. Write a program that converts a list of Fahrenheit temperatures to Celsius using a `for` loop."
   ]
  },
  {
   "cell_type": "code",
   "execution_count": 48,
   "id": "642b0fff-32fb-4179-aeae-49ad5dd81cb3",
   "metadata": {},
   "outputs": [
    {
     "name": "stdout",
     "output_type": "stream",
     "text": [
      "The list of converted temperatures are [0.777777777777777, 0.0, 6.111111111111112, -6.111111111111112, -3.3333333333333335, 6.111111111111112, 1.1111111111111112]\n"
     ]
    }
   ],
   "source": [
    "temp_f = [33.4,32,43,21,26,43,34]\n",
    "\n",
    "temperature_in_Celcsius = []\n",
    "\n",
    "for i in temp_f:\n",
    "    temp_c = (5/9)*(i-32)\n",
    "    temperature_in_Celcsius.append(temp_c)\n",
    "    \n",
    "print(\"The list of converted temperatures are\",temperature_in_Celcsius)"
   ]
  },
  {
   "cell_type": "markdown",
   "id": "cfdb9f5d-8fc6-4210-bdd1-46828456af3e",
   "metadata": {},
   "source": [
    "18. Create a program to print the common elements from two lists using a `for` loop."
   ]
  },
  {
   "cell_type": "code",
   "execution_count": 59,
   "id": "b332289e-3b94-42cd-9846-1a733ddbd19d",
   "metadata": {},
   "outputs": [
    {
     "name": "stdout",
     "output_type": "stream",
     "text": [
      "The common elements from two lists are [2, 4]\n"
     ]
    }
   ],
   "source": [
    "l1 = [2,3,4,5,32,7,98,23,45]\n",
    "l2 = [56,65,345,2,4,543]\n",
    "\n",
    "common = []\n",
    "\n",
    "for i in l1:\n",
    "    if i in l2:\n",
    "        common.append(i)\n",
    "            \n",
    "print(f\"The common elements from two lists are {common}\")\n",
    "            "
   ]
  },
  {
   "cell_type": "markdown",
   "id": "654c56e4-2fb4-484c-a025-09950bc95f05",
   "metadata": {},
   "source": [
    "19. Develop a program that prints the pattern of right-angled triangles using a `for` loop. Use ‘*’ to draw the pattern."
   ]
  },
  {
   "cell_type": "code",
   "execution_count": 63,
   "id": "5d57501a-ffa4-4fe2-8fed-bced40df81d6",
   "metadata": {},
   "outputs": [
    {
     "name": "stdout",
     "output_type": "stream",
     "text": [
      "*\n",
      "**\n",
      "***\n",
      "****\n",
      "*****\n",
      "******\n",
      "*******\n",
      "********\n",
      "*********\n",
      "**********\n"
     ]
    }
   ],
   "source": [
    "for i in range(0,10):\n",
    "    for j in range(0,i+1):\n",
    "        print(\"*\", end=\"\")\n",
    "\n",
    "    print(\"\\r\")\n",
    "        \n"
   ]
  },
  {
   "cell_type": "markdown",
   "id": "7ef7777a-2640-41b4-b64c-531aa215b659",
   "metadata": {},
   "source": [
    "20. Write a program to find the greatest common divisor (GCD) of two numbers using a `for` loop."
   ]
  },
  {
   "cell_type": "code",
   "execution_count": 1,
   "id": "9178feba-8c72-43f3-8892-f34a4dc76aeb",
   "metadata": {},
   "outputs": [
    {
     "name": "stdin",
     "output_type": "stream",
     "text": [
      "Enter the first number:  3\n",
      "Enter the second number:  8\n"
     ]
    },
    {
     "name": "stdout",
     "output_type": "stream",
     "text": [
      "The Greatest common divisor of 3 and 8 is 1\n"
     ]
    }
   ],
   "source": [
    "def gcd_func( a, b):  \n",
    "    if a > b:  \n",
    "        temp = b  \n",
    "    else:  \n",
    "        temp = a  \n",
    "    for i in range(1, temp + 1):  \n",
    "        if ((a%i == 0) and (b%i == 0 )):  \n",
    "            gcd = i  \n",
    "    return gcd\n",
    "a = int(input('Enter the first number: '))\n",
    "b = int(input('Enter the second number: '))\n",
    "num_gcd= gcd_func(a, b)\n",
    "print(f'The Greatest common divisor of {a} and {b} is {num_gcd}')\n",
    "        "
   ]
  },
  {
   "cell_type": "markdown",
   "id": "b9a1e56c-9f83-4d2d-b385-153a68eaf665",
   "metadata": {},
   "source": [
    "## Advance Level"
   ]
  },
  {
   "cell_type": "markdown",
   "id": "553c4932-67ae-4205-b349-637e1b296e94",
   "metadata": {},
   "source": [
    "21. Create a program that calculates the sum of the digits of numbers in a list using a list comprehension."
   ]
  },
  {
   "cell_type": "code",
   "execution_count": 25,
   "id": "1a121a08-3af4-441f-b787-f21d74f3df0f",
   "metadata": {},
   "outputs": [
    {
     "data": {
      "text/plain": [
       "[15, 4, 6, 7]"
      ]
     },
     "execution_count": 25,
     "metadata": {},
     "output_type": "execute_result"
    }
   ],
   "source": [
    "num = [12345, 13, 15, 25]\n",
    "sum_num = [sum((int(i)) for i in str(number)) for number in num]\n",
    "\n",
    "sum_num"
   ]
  },
  {
   "cell_type": "markdown",
   "id": "cb818f03-4c41-43b5-9257-0d5d548a5806",
   "metadata": {},
   "source": [
    "22. Write a program to find the prime factors of a given number using a `for` loop and list comprehension."
   ]
  },
  {
   "cell_type": "code",
   "execution_count": 73,
   "id": "15f2e6f5-61fb-43dd-a3eb-bc74826dc7be",
   "metadata": {},
   "outputs": [
    {
     "data": {
      "text/plain": [
       "[1]"
      ]
     },
     "execution_count": 73,
     "metadata": {},
     "output_type": "execute_result"
    }
   ],
   "source": [
    "list_of_number = [1,34,32,2,3,76,564,5,7,11,13,17]\n",
    "\n",
    "prime = [i for i in list_of_number if i%2==i or i&1==i]\n",
    "prime"
   ]
  },
  {
   "cell_type": "markdown",
   "id": "6d362587-e567-4833-acfe-7f28be82cde8",
   "metadata": {},
   "source": [
    "23. Develop a program that extracts unique elements from a list and stores them in a new list using a list comprehension."
   ]
  },
  {
   "cell_type": "code",
   "execution_count": 2,
   "id": "937e1f1a-63a6-4de7-a010-1bf134431dc8",
   "metadata": {},
   "outputs": [
    {
     "name": "stdout",
     "output_type": "stream",
     "text": [
      "The unique elements in list [1, 2, 3, 0, 9, 9] are [0, 1, 2, 3, 9]\n"
     ]
    }
   ],
   "source": [
    "list_1 = [1,2,3,0,9,9]\n",
    "list_2 = set()\n",
    "{list_2.add(i) for i in list_1}            \n",
    "print(f'The unique elements in list {list_1} are {list(list_2)}')"
   ]
  },
  {
   "cell_type": "markdown",
   "id": "8e8b81a9-8c38-468b-94cf-0be1555d2b78",
   "metadata": {},
   "source": [
    "24. Create a program that generates a list of all palindromic numbers up to a specified limit using a list comprehension."
   ]
  },
  {
   "cell_type": "code",
   "execution_count": 3,
   "id": "97a323a0-5f1f-4e91-9323-a593dffd9aae",
   "metadata": {},
   "outputs": [
    {
     "name": "stdin",
     "output_type": "stream",
     "text": [
      "Please enter the limit upto which the palindromeic numbers are to be found:  50\n"
     ]
    },
    {
     "data": {
      "text/plain": [
       "[1, 2, 3, 4, 5, 6, 7, 8, 9, 11, 22, 33, 44]"
      ]
     },
     "execution_count": 3,
     "metadata": {},
     "output_type": "execute_result"
    }
   ],
   "source": [
    "palind = int(input('Please enter the limit upto which the palindromeic numbers are to be found: '))\n",
    "[i for i in range(1,palind+1) if str(i) == str(i)[::-1]]"
   ]
  },
  {
   "cell_type": "markdown",
   "id": "642d21f4-cf91-43fe-bb27-f1422424b75a",
   "metadata": {},
   "source": [
    "25. Write a program to flatten a nested list using list comprehension."
   ]
  },
  {
   "cell_type": "code",
   "execution_count": 33,
   "id": "9f872c39-2ad1-44f9-9d4a-b0248186ea00",
   "metadata": {},
   "outputs": [
    {
     "data": {
      "text/plain": [
       "[1, 2, 3, 4, 5, 6, 7, 8, 9]"
      ]
     },
     "execution_count": 33,
     "metadata": {},
     "output_type": "execute_result"
    }
   ],
   "source": [
    "list_number = [[1,2,3], [4,5,6], [7,8,9]]\n",
    "\n",
    "flatten_list = [i_2 for i_1 in list_number for i_2 in i_1]\n",
    "flatten_list"
   ]
  },
  {
   "cell_type": "markdown",
   "id": "cfdebcb0-f2f1-41bc-ae60-82aa08c621c6",
   "metadata": {},
   "source": [
    "26. Develop a program that computes the sum of even and odd numbers in a list separately using list comprehension."
   ]
  },
  {
   "cell_type": "code",
   "execution_count": 56,
   "id": "3a8b8b25-de25-46ae-936e-55ad20c02972",
   "metadata": {},
   "outputs": [
    {
     "name": "stdout",
     "output_type": "stream",
     "text": [
      "The sum of even number is 30\n",
      "The sum of even number is 25\n"
     ]
    }
   ],
   "source": [
    "list_numbers = [1,2,3,4,5,6,7,8,9,10]\n",
    "\n",
    "\n",
    "even = [num for num in list_numbers if num%2==0]\n",
    "\n",
    "odd = [num for num in list_numbers if num%2!=0]\n",
    "\n",
    "print(f\"The sum of even number is {sum(even)}\")\n",
    "print(f\"The sum of even number is {sum(odd)}\")"
   ]
  },
  {
   "cell_type": "markdown",
   "id": "53119c81-4c05-4f08-aad0-55206c45d432",
   "metadata": {},
   "source": [
    "27. Create a program that generates a list of squares of odd numbers between 1 and 10 using list comprehension."
   ]
  },
  {
   "cell_type": "code",
   "execution_count": 58,
   "id": "0ca54ba1-84f0-44c8-8f79-5d67546e63cf",
   "metadata": {},
   "outputs": [
    {
     "name": "stdout",
     "output_type": "stream",
     "text": [
      "The list of squares of odd numbers between 1 and 10 is [1, 9, 25, 49, 81]\n"
     ]
    }
   ],
   "source": [
    "squares_of_odd = [i**2 for i in list_numbers if i%2!=0]\n",
    "\n",
    "print(f\"The list of squares of odd numbers between 1 and 10 is {squares_of_odd}\")"
   ]
  },
  {
   "cell_type": "markdown",
   "id": "34171a58-cf3a-4498-9f00-36d1c89d3532",
   "metadata": {},
   "source": [
    "28. Write a program that combines two lists into a dictionary using list comprehension."
   ]
  },
  {
   "cell_type": "code",
   "execution_count": 70,
   "id": "091644a5-a3d3-44f1-9670-e9c94c5bd473",
   "metadata": {},
   "outputs": [
    {
     "name": "stdout",
     "output_type": "stream",
     "text": [
      "{'name': 'Shakib Al Hasan', 'age': '37', 'role': 'All-Rounder'}\n"
     ]
    }
   ],
   "source": [
    "keys = ['name', 'age', 'role']\n",
    "values = [\"Shakib Al Hasan\", \"37\", \"All-Rounder\"]\n",
    "\n",
    "combined_dict = {key: value for key, value in zip(keys, values)}\n",
    "print(combined_dict)"
   ]
  },
  {
   "cell_type": "markdown",
   "id": "356650cd-a743-449e-9437-8025cfd99f93",
   "metadata": {},
   "source": [
    "29. Develop a program that extracts the vowels from a string and stores them in a list using list comprehension."
   ]
  },
  {
   "cell_type": "code",
   "execution_count": 61,
   "id": "2c935462-5a16-455c-93b2-534640d555a9",
   "metadata": {},
   "outputs": [
    {
     "name": "stdout",
     "output_type": "stream",
     "text": [
      "The vowels from the given string is ['o', 'a', 'a', 'a', 'i', 'e', 'A', 'a']\n"
     ]
    }
   ],
   "source": [
    "name = 'Mohammad Kaiser Azad'\n",
    "vowels = 'aeiouAEIOU'\n",
    "\n",
    "vowel_list = [i for i in name if i in vowels]\n",
    "print(f\"The vowels from the given string is {vowel_list}\")"
   ]
  },
  {
   "cell_type": "markdown",
   "id": "840f5701-05f3-4ff2-8779-78c5fc15c45f",
   "metadata": {},
   "source": [
    "30. Create a program that removes all non-numeric characters from a list of strings using list comprehension."
   ]
  },
  {
   "cell_type": "code",
   "execution_count": 5,
   "id": "3be72513-f581-4e67-a4e7-b99ca4d04ce4",
   "metadata": {},
   "outputs": [
    {
     "data": {
      "text/plain": [
       "['Salt', 'Sugar', 'Azad']"
      ]
     },
     "execution_count": 5,
     "metadata": {},
     "output_type": "execute_result"
    }
   ],
   "source": [
    "lst = [1,232,3432,'Salt', 'Sugar', 'Azad']\n",
    "\n",
    "lst_nonNumeric = [i for i in lst if type(i) != int]\n",
    "lst_nonNumeric"
   ]
  },
  {
   "cell_type": "code",
   "execution_count": null,
   "id": "72b96d15-722c-4ced-8d00-fbd720fca156",
   "metadata": {},
   "outputs": [],
   "source": []
  }
 ],
 "metadata": {
  "kernelspec": {
   "display_name": "Python 3 (ipykernel)",
   "language": "python",
   "name": "python3"
  },
  "language_info": {
   "codemirror_mode": {
    "name": "ipython",
    "version": 3
   },
   "file_extension": ".py",
   "mimetype": "text/x-python",
   "name": "python",
   "nbconvert_exporter": "python",
   "pygments_lexer": "ipython3",
   "version": "3.10.8"
  }
 },
 "nbformat": 4,
 "nbformat_minor": 5
}
