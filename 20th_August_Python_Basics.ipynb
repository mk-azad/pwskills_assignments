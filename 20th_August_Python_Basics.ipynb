{
 "cells": [
  {
   "cell_type": "markdown",
   "id": "91c8cea9-b39c-4118-b082-808e02dd87ea",
   "metadata": {},
   "source": [
    "## String Based Assignment Problems"
   ]
  },
  {
   "cell_type": "code",
   "execution_count": 2,
   "id": "59a93b78-d5bf-41ec-b64d-03634aa74eb7",
   "metadata": {},
   "outputs": [
    {
     "name": "stdout",
     "output_type": "stream",
     "text": [
      "The reversed string is resiaK\n"
     ]
    }
   ],
   "source": [
    "## 1. Write a program to reverse a string.\n",
    "\n",
    "str_input = 'Kaiser'\n",
    "\n",
    "reverse = str_input[::-1]\n",
    "print(f\"The reversed string is {reverse}\")"
   ]
  },
  {
   "cell_type": "code",
   "execution_count": 3,
   "id": "8f67013b-801a-4300-aa20-c0cefd08b105",
   "metadata": {},
   "outputs": [
    {
     "name": "stdout",
     "output_type": "stream",
     "text": [
      "malayalam is Palindrome\n"
     ]
    }
   ],
   "source": [
    "## 2. Check if a string is a palindrome.\n",
    "\n",
    "str_input = \"Malayalam\"\n",
    "check = str_input.lower()\n",
    "\n",
    "if check == check[::-1]:\n",
    "    print(f\"{check} is Palindrome\")\n",
    "else:\n",
    "    print(f\"{check} is not Palindrome\")"
   ]
  },
  {
   "cell_type": "code",
   "execution_count": 4,
   "id": "77421159-7fa7-4eb3-8f13-77093885a0c1",
   "metadata": {},
   "outputs": [
    {
     "data": {
      "text/plain": [
       "'AZAD'"
      ]
     },
     "execution_count": 4,
     "metadata": {},
     "output_type": "execute_result"
    }
   ],
   "source": [
    "## 3. Convert a string to uppercase.\n",
    "\n",
    "str_input = 'azad'\n",
    "str_input.upper()"
   ]
  },
  {
   "cell_type": "code",
   "execution_count": 6,
   "id": "ebdeb3d6-2aff-4ff0-9f1b-06d24e071841",
   "metadata": {},
   "outputs": [
    {
     "data": {
      "text/plain": [
       "'azad'"
      ]
     },
     "execution_count": 6,
     "metadata": {},
     "output_type": "execute_result"
    }
   ],
   "source": [
    "## 4. Convert a string to lowercase.\n",
    "\n",
    "str_input = 'AZAD'\n",
    "str_input.lower()"
   ]
  },
  {
   "cell_type": "code",
   "execution_count": 10,
   "id": "ac0a9922-ce11-41a3-84ba-83ac92d94ec0",
   "metadata": {},
   "outputs": [
    {
     "name": "stdout",
     "output_type": "stream",
     "text": [
      "The number of vowels are 5\n"
     ]
    }
   ],
   "source": [
    "## 5. Count the number of vowels in a string.\n",
    "\n",
    "vowels = 'aeiouAEIOU'\n",
    "name = 'Kaiser Azad'\n",
    "\n",
    "count = 0\n",
    "\n",
    "for i in name:\n",
    "    if i in vowels:\n",
    "        count += 1\n",
    "print(f\"The number of vowels are {count}\")\n"
   ]
  },
  {
   "cell_type": "code",
   "execution_count": 13,
   "id": "ace08daf-ea75-431c-b6d1-3ca7bc5c43c0",
   "metadata": {},
   "outputs": [
    {
     "name": "stdout",
     "output_type": "stream",
     "text": [
      "The number of conconants are 8\n"
     ]
    }
   ],
   "source": [
    "## 6. Count the number of consonants in a string.\n",
    "\n",
    "vowels = 'aeiouAEIOU'\n",
    "name = 'KaiserAzadRubel'\n",
    "\n",
    "count = 0\n",
    "\n",
    "for i in name:\n",
    "    if i not in vowels:\n",
    "        count += 1\n",
    "print(f\"The number of conconants are {count}\")"
   ]
  },
  {
   "cell_type": "code",
   "execution_count": 50,
   "id": "395d4755-86b5-4180-ad4c-62fd151f2806",
   "metadata": {},
   "outputs": [
    {
     "data": {
      "text/plain": [
       "'KaiserAzadRubel'"
      ]
     },
     "execution_count": 50,
     "metadata": {},
     "output_type": "execute_result"
    }
   ],
   "source": [
    "## 7. Remove all whitespaces from a string.\n",
    "\n",
    "name = 'Kaiser Azad Rubel'\n",
    "\n",
    "name.replace(\" \",\"\")\n",
    "    "
   ]
  },
  {
   "cell_type": "code",
   "execution_count": 19,
   "id": "5f4583a3-4d43-4fbb-86e9-0a2e2062a4bb",
   "metadata": {},
   "outputs": [
    {
     "name": "stdout",
     "output_type": "stream",
     "text": [
      "The length of the string is 18\n"
     ]
    }
   ],
   "source": [
    "## 8. Find the length of a string without using the `len()` function.\n",
    "\n",
    "string = 'MohammadKaiserAzad'\n",
    "\n",
    "count = 0\n",
    "\n",
    "for i in string:\n",
    "    count +=1\n",
    "print(f\"The length of the string is {count}\")"
   ]
  },
  {
   "cell_type": "code",
   "execution_count": 26,
   "id": "0b89f16f-873b-410d-b3c7-079364629a70",
   "metadata": {},
   "outputs": [
    {
     "name": "stdin",
     "output_type": "stream",
     "text": [
      "Enter a string Azad\n"
     ]
    },
    {
     "name": "stdout",
     "output_type": "stream",
     "text": [
      "Yes is contains the specific word\n"
     ]
    }
   ],
   "source": [
    "## 9. Check if a string contains a specific word.\n",
    "\n",
    "string = str(input(\"Enter a string\"))\n",
    "\n",
    "specific_word = 'Azad'\n",
    "\n",
    "if specific_word in string:\n",
    "    print(\"Yes is contains the specific word\")\n",
    "else:\n",
    "    print(\"No is doesn't contain any specific word\")"
   ]
  },
  {
   "cell_type": "code",
   "execution_count": 28,
   "id": "006d9691-a52d-45c0-a060-f39e4da30a84",
   "metadata": {},
   "outputs": [
    {
     "name": "stdout",
     "output_type": "stream",
     "text": [
      "The replace string of Kaiser is Azad\n"
     ]
    }
   ],
   "source": [
    "## 10. Replace a word in a string with another word.\n",
    "\n",
    "string = 'Kaiser'\n",
    "\n",
    "replace_string = string.replace('Kaiser', 'Azad')\n",
    "\n",
    "print(f\"The replace string of {string} is {replace_string}\")"
   ]
  },
  {
   "cell_type": "code",
   "execution_count": 34,
   "id": "11595574-ae56-4ed9-a6c1-442a8d80bbfa",
   "metadata": {},
   "outputs": [
    {
     "name": "stdout",
     "output_type": "stream",
     "text": [
      "The count for the word 'M' in Mohammad is 3\n"
     ]
    }
   ],
   "source": [
    "## 11. Count the occurrences of a word in a string.\n",
    "\n",
    "string = 'Mohammad'\n",
    "update = string.lower()\n",
    "\n",
    "count = 0\n",
    "for i in update:\n",
    "    if i == 'm':\n",
    "        count+=1\n",
    "print(f\"The count for the word 'M' in {string} is {count}\")"
   ]
  },
  {
   "cell_type": "code",
   "execution_count": 36,
   "id": "5537ce59-5dde-4355-8e57-f6347507d028",
   "metadata": {},
   "outputs": [
    {
     "name": "stdout",
     "output_type": "stream",
     "text": [
      "The first occurrence of a word of Mohammad is M\n"
     ]
    }
   ],
   "source": [
    "## 12. Find the first occurrence of a word in a string.\n",
    "\n",
    "string = 'Mohammad'\n",
    "\n",
    "for i in string[0]:\n",
    "    print(f\"The first occurrence of a word of {string} is {i}\")"
   ]
  },
  {
   "cell_type": "code",
   "execution_count": 37,
   "id": "33ec127c-36fd-4b05-9fb5-c4394c9e5560",
   "metadata": {},
   "outputs": [
    {
     "name": "stdout",
     "output_type": "stream",
     "text": [
      "The last occurrence of a word of Mohammad is d\n"
     ]
    }
   ],
   "source": [
    "## 13. Find the last occurrence of a word in a string.\n",
    "\n",
    "string = 'Mohammad'\n",
    "\n",
    "for i in string[-1]:\n",
    "    print(f\"The last occurrence of a word of {string} is {i}\")"
   ]
  },
  {
   "cell_type": "code",
   "execution_count": 44,
   "id": "8aca2cdf-4506-430b-ad64-92b89cf4d55f",
   "metadata": {},
   "outputs": [
    {
     "name": "stdout",
     "output_type": "stream",
     "text": [
      "['I', 'am', 'Mohammad', 'Kasier', 'Azad']\n"
     ]
    }
   ],
   "source": [
    "## 14. Split a string into a list of words.\n",
    "\n",
    "string = 'I am Mohammad Kasier Azad'\n",
    "word_list = string.split()\n",
    "\n",
    "print(word_list)"
   ]
  },
  {
   "cell_type": "code",
   "execution_count": 48,
   "id": "8fa0f089-55a9-449c-bb24-467df2614efe",
   "metadata": {},
   "outputs": [
    {
     "name": "stdout",
     "output_type": "stream",
     "text": [
      "I am Mohammad Kasier Azad\n"
     ]
    }
   ],
   "source": [
    "## 15. Join a list of words into a string.\n",
    "\n",
    "join_list= \" \".join(word_list)\n",
    "print(join_list)"
   ]
  },
  {
   "cell_type": "code",
   "execution_count": 1,
   "id": "4da9bf0f-883c-4a9c-8415-5fcbc8326793",
   "metadata": {},
   "outputs": [
    {
     "name": "stdin",
     "output_type": "stream",
     "text": [
      "Enter a string seprated by spaces: Mohammad Kaiser Azad\n"
     ]
    },
    {
     "name": "stdout",
     "output_type": "stream",
     "text": [
      "Converted String:  Mohammad_Kaiser_Azad\n"
     ]
    }
   ],
   "source": [
    "## 16. Convert a string where words are separated by spaces to one where words are separated by underscores.\n",
    "\n",
    "string = str(input(\"Enter a string seprated by spaces:\"))\n",
    "print(\"Converted String: \", string.replace(\" \", \"_\"))"
   ]
  },
  {
   "cell_type": "code",
   "execution_count": 14,
   "id": "cdd3c153-b620-44e9-abef-865843ced992",
   "metadata": {},
   "outputs": [
    {
     "name": "stdin",
     "output_type": "stream",
     "text": [
      "Enter the string:  Azad\n",
      "Enter the specific word: A\n"
     ]
    },
    {
     "name": "stdout",
     "output_type": "stream",
     "text": [
      "The string starts with A.\n"
     ]
    }
   ],
   "source": [
    "## 17. Check if a string starts with a specific word or phrase.\n",
    "\n",
    "string = str(input(\"Enter the string: \"))\n",
    "specific_word = str(input(\"Enter the specific word:\"))\n",
    "\n",
    "if string[0] == specific_word:\n",
    "    print(f\"The string starts with {specific_word}.\")\n",
    "else:\n",
    "    print(f\"The string doesn't starts with {specific_word}.\")"
   ]
  },
  {
   "cell_type": "code",
   "execution_count": 17,
   "id": "abbd5121-51d9-4f1b-9a9b-223ffd1e35b8",
   "metadata": {},
   "outputs": [
    {
     "name": "stdin",
     "output_type": "stream",
     "text": [
      "Enter the string:  Azad\n",
      "Enter the specific word: d\n"
     ]
    },
    {
     "name": "stdout",
     "output_type": "stream",
     "text": [
      "The string ends with d.\n"
     ]
    }
   ],
   "source": [
    "## 18. Check if a string ends with a specific word or phrase.\n",
    "\n",
    "string = str(input(\"Enter the string: \"))\n",
    "specific_word = str(input(\"Enter the specific word:\"))\n",
    "\n",
    "if string[-1] == specific_word:\n",
    "    print(f\"The string ends with {specific_word}.\")\n",
    "else:\n",
    "    print(f\"The string doesn't ends with {specific_word}.\")"
   ]
  },
  {
   "cell_type": "code",
   "execution_count": 18,
   "id": "5c29e5f3-ff9a-479c-8925-df2b1635ef1e",
   "metadata": {},
   "outputs": [
    {
     "name": "stdin",
     "output_type": "stream",
     "text": [
      "Enter a string:  hello world\n"
     ]
    },
    {
     "name": "stdout",
     "output_type": "stream",
     "text": [
      "Title case is:  Hello World\n"
     ]
    }
   ],
   "source": [
    "## 19. Convert a string to title case (e.g., \"hello world\" to \"Hello World\").\n",
    "\n",
    "string = str(input(\"Enter a string: \"))\n",
    "title_case = string.title()\n",
    "\n",
    "print(\"Title case is: \", title_case)"
   ]
  },
  {
   "cell_type": "code",
   "execution_count": 23,
   "id": "f84bb40b-e6a7-4d53-9d31-de528673c007",
   "metadata": {},
   "outputs": [
    {
     "name": "stdin",
     "output_type": "stream",
     "text": [
      "Enter the word:  Mohammad Kaiser Azad\n"
     ]
    },
    {
     "name": "stdout",
     "output_type": "stream",
     "text": [
      "The longest word is Mohammad\n"
     ]
    }
   ],
   "source": [
    "## 20. Find the longest word in a string.\n",
    "\n",
    "string = str(input(\"Enter the word: \"))\n",
    "words = string.split()  # Spliting the string into words\n",
    "longest_word = max(words, key = len)\n",
    "\n",
    "print(f\"The longest word is {longest_word}\")"
   ]
  },
  {
   "cell_type": "code",
   "execution_count": 26,
   "id": "1e6ee187-5ed5-4642-a8c7-bbe1d10f94ed",
   "metadata": {},
   "outputs": [
    {
     "name": "stdin",
     "output_type": "stream",
     "text": [
      "Enter the word:  I am Mohammad Kaiser Azad\n"
     ]
    },
    {
     "name": "stdout",
     "output_type": "stream",
     "text": [
      "The shortest word is I\n"
     ]
    }
   ],
   "source": [
    "## 21. Find the shortest word in a string.\n",
    "\n",
    "string = str(input(\"Enter the word: \"))\n",
    "words = string.split()  # Spliting the string into words\n",
    "shortest_word = min(words, key = len)\n",
    "\n",
    "print(f\"The shortest word is {shortest_word}\")"
   ]
  },
  {
   "cell_type": "code",
   "execution_count": 27,
   "id": "1661f566-8e67-4579-be62-21e78a6f1e5d",
   "metadata": {},
   "outputs": [
    {
     "name": "stdin",
     "output_type": "stream",
     "text": [
      "Enter a string:  What\n"
     ]
    },
    {
     "name": "stdout",
     "output_type": "stream",
     "text": [
      "The reverse of the string is tahW\n"
     ]
    }
   ],
   "source": [
    "## 22. Reverse the order of words in a string.\n",
    "\n",
    "string = str(input(\"Enter a string: \"))\n",
    "rev_string = string[::-1]\n",
    "\n",
    "print(f\"The reverse of the string is {rev_string}\")"
   ]
  },
  {
   "cell_type": "code",
   "execution_count": 29,
   "id": "60b9a35e-9e79-4fe0-998e-99801b02c2e7",
   "metadata": {},
   "outputs": [
    {
     "name": "stdin",
     "output_type": "stream",
     "text": [
      "Enter the string:  malayalam\n"
     ]
    },
    {
     "name": "stdout",
     "output_type": "stream",
     "text": [
      "The string is Alphanumeric\n"
     ]
    }
   ],
   "source": [
    "## 23. Check if a string is alphanumeric.\n",
    "\n",
    "string = str(input(\"Enter the string: \"))\n",
    "\n",
    "if string.isalnum():\n",
    "    print(\"The string is Alphanumeric\")\n",
    "else:\n",
    "    print(\"The string is not Alphanumeric\")"
   ]
  },
  {
   "cell_type": "code",
   "execution_count": 33,
   "id": "a4707345-acac-47f8-8736-d514bb84e449",
   "metadata": {},
   "outputs": [
    {
     "name": "stdin",
     "output_type": "stream",
     "text": [
      "Enter a string:  fksjfalök1123434\n"
     ]
    },
    {
     "name": "stdout",
     "output_type": "stream",
     "text": [
      "The extracted figists are:  1123434\n"
     ]
    }
   ],
   "source": [
    "## 24. Extract all digits from a string.\n",
    "\n",
    "string = input(\"Enter a string: \")\n",
    "\n",
    "digits = \"\"\n",
    "\n",
    "for i in string:\n",
    "    if i.isdigit():\n",
    "        digits += i\n",
    "print(\"The extracted figists are: \", digits)"
   ]
  },
  {
   "cell_type": "code",
   "execution_count": 34,
   "id": "77e9988a-e34a-4948-b99f-2d3ba20bb938",
   "metadata": {},
   "outputs": [
    {
     "name": "stdin",
     "output_type": "stream",
     "text": [
      "Enter a string:  12dasdadfd321\n"
     ]
    },
    {
     "name": "stdout",
     "output_type": "stream",
     "text": [
      "The alphabets are dasdadfd\n"
     ]
    }
   ],
   "source": [
    "## 25. Extract all alphabets from a string.\n",
    "string = str(input(\"Enter a string: \"))\n",
    "alphabets = \"\"\n",
    "\n",
    "for i in string:\n",
    "    if i.isalpha():\n",
    "        alphabets+=i\n",
    "        \n",
    "print(\"The alphabets are\", alphabets)\n"
   ]
  },
  {
   "cell_type": "code",
   "execution_count": 38,
   "id": "bb0dd9cd-c9c8-4000-83ae-2690084e0fad",
   "metadata": {},
   "outputs": [
    {
     "name": "stdin",
     "output_type": "stream",
     "text": [
      "Enter a string:  I am Mohammad Kaiser Azad\n"
     ]
    },
    {
     "name": "stdout",
     "output_type": "stream",
     "text": [
      "The count for the number of uppercases are 4\n"
     ]
    }
   ],
   "source": [
    "## 26. Count the number of uppercase letters in a string.\n",
    "\n",
    "string = str(input(\"Enter a string: \"))\n",
    "count = 0\n",
    "\n",
    "for i in string:\n",
    "    if i.isupper():\n",
    "        count+=1\n",
    "print(\"The count for the number of uppercases are\",count)"
   ]
  },
  {
   "cell_type": "code",
   "execution_count": 40,
   "id": "d2514406-7e43-453a-9df3-c24b27b856e3",
   "metadata": {},
   "outputs": [
    {
     "name": "stdin",
     "output_type": "stream",
     "text": [
      "Enter a string:  AzaD\n"
     ]
    },
    {
     "name": "stdout",
     "output_type": "stream",
     "text": [
      "The count for the number of lower cases are 2\n"
     ]
    }
   ],
   "source": [
    "## 27. Count the number of lowercase letters in a string.\n",
    "\n",
    "string = str(input(\"Enter a string: \"))\n",
    "count = 0\n",
    "\n",
    "for i in string:\n",
    "    if i.islower():\n",
    "        count+=1\n",
    "print(\"The count for the number of lower cases are\",count)"
   ]
  },
  {
   "cell_type": "code",
   "execution_count": 42,
   "id": "bd2bb544-7d9a-4d1d-bc60-9235d5fa0f2a",
   "metadata": {},
   "outputs": [
    {
     "name": "stdin",
     "output_type": "stream",
     "text": [
      "Enter a string:  AzaD\n"
     ]
    },
    {
     "name": "stdout",
     "output_type": "stream",
     "text": [
      "Swapped case of each character is aZAd\n"
     ]
    }
   ],
   "source": [
    "## 28. Swap the case of each character in a string.\n",
    "\n",
    "string = str(input(\"Enter a string: \"))\n",
    "swapped_string = string.swapcase()\n",
    "print(\"Swapped case of each character is\",swapped_string)"
   ]
  },
  {
   "cell_type": "code",
   "execution_count": 43,
   "id": "30ecd018-f140-4b51-89d9-275b5a43954b",
   "metadata": {},
   "outputs": [
    {
     "name": "stdin",
     "output_type": "stream",
     "text": [
      "Enter a string:  Azad\n",
      "Enter a word to remove:  z\n"
     ]
    },
    {
     "name": "stdout",
     "output_type": "stream",
     "text": [
      "Modified string is:  Aad\n"
     ]
    }
   ],
   "source": [
    "## 29. Remove a specific word from a string.\n",
    "\n",
    "string = str(input(\"Enter a string: \"))\n",
    "word_to_remove = str(input(\"Enter a word to remove: \"))\n",
    "new_string = string.replace(word_to_remove, \"\")\n",
    "\n",
    "print(\"Modified string is: \", new_string)"
   ]
  },
  {
   "cell_type": "code",
   "execution_count": 44,
   "id": "e64af21b-7dde-45c8-81d0-453484977137",
   "metadata": {},
   "outputs": [
    {
     "name": "stdin",
     "output_type": "stream",
     "text": [
      "Enter an email address:  mk.azad0090a231\n"
     ]
    },
    {
     "name": "stdout",
     "output_type": "stream",
     "text": [
      "Invalid email address. mk.azad0090a231"
     ]
    }
   ],
   "source": [
    "## 30. Check if a string is a valid email address.\n",
    "\n",
    "import re\n",
    "\n",
    "def is_valid_email(email):\n",
    "    pattern = r'^[\\w\\.-]+@[\\w\\.-]+\\.\\w+$'\n",
    "    return re.match(pattern, email) is not None\n",
    "\n",
    "input_email = input(\"Enter an email address: \")\n",
    "if is_valid_email(input_email):\n",
    "    print(\"Valid email address. \",end=input_email)\n",
    "else:\n",
    "    print(\"Invalid email address. \",end=input_email)"
   ]
  },
  {
   "cell_type": "code",
   "execution_count": 45,
   "id": "3084683e-ac6b-4412-99f3-06186fd9e18e",
   "metadata": {},
   "outputs": [
    {
     "name": "stdin",
     "output_type": "stream",
     "text": [
      "Enter an email address:  mk.azad0090@gmail.com\n"
     ]
    },
    {
     "name": "stdout",
     "output_type": "stream",
     "text": [
      "Extracted user name is: mk.azad0090\n"
     ]
    }
   ],
   "source": [
    "## 31. Extract the username from an email address string.\n",
    "\n",
    "email = str(input(\"Enter an email address: \"))\n",
    "\n",
    "username = email.split('@')[0]\n",
    "\n",
    "print(\"Extracted user name is:\", username)"
   ]
  },
  {
   "cell_type": "code",
   "execution_count": 46,
   "id": "629c6d0d-47fd-4534-a39f-c2261fea3890",
   "metadata": {},
   "outputs": [
    {
     "name": "stdin",
     "output_type": "stream",
     "text": [
      "Enter an email address:  mk.azad0090@gmail.com\n"
     ]
    },
    {
     "name": "stdout",
     "output_type": "stream",
     "text": [
      "Extracted domain is: gmail.com\n"
     ]
    }
   ],
   "source": [
    "## 32. Extract the domain name from an email address string.\n",
    "\n",
    "email = str(input(\"Enter an email address: \"))\n",
    "\n",
    "domain = email.split('@')[1]\n",
    "\n",
    "print(\"Extracted domain is:\", domain)\n"
   ]
  },
  {
   "cell_type": "code",
   "execution_count": 49,
   "id": "2eef4fb1-2e2b-452e-b712-fa0dd9e9f3f3",
   "metadata": {},
   "outputs": [
    {
     "name": "stdin",
     "output_type": "stream",
     "text": [
      "Enter a string:  Mohammad Kaiser  Azad\n"
     ]
    },
    {
     "name": "stdout",
     "output_type": "stream",
     "text": [
      "After replacing multiple spaces:  Mohammad Kaiser Azad\n"
     ]
    }
   ],
   "source": [
    "## 33. Replace multiple spaces in a string with a single space.\n",
    "\n",
    "string = str(input(\"Enter a string: \"))\n",
    "\n",
    "updated_string = string.replace(\"  \", \" \")\n",
    "\n",
    "print(\"After replacing multiple spaces: \", updated_string)"
   ]
  },
  {
   "cell_type": "code",
   "execution_count": 52,
   "id": "feb67c44-ab46-47ed-8c08-b0e5f85ba784",
   "metadata": {},
   "outputs": [
    {
     "name": "stdin",
     "output_type": "stream",
     "text": [
      "Enter a URL:  https://www.facebook.com/sadfafsf\n"
     ]
    },
    {
     "name": "stdout",
     "output_type": "stream",
     "text": [
      "Valid URL. https://www.facebook.com/sadfafsf"
     ]
    }
   ],
   "source": [
    "## 34. Check if a string is a valid URL.\n",
    "\n",
    "import re\n",
    "\n",
    "def is_valid_url(url):\n",
    "    pattern = r'^(http|https|ftp)://[a-zA-Z0-9.-]+\\.[a-zA-Z]{2,4}(/.*)?$'\n",
    "    return re.match(pattern, url) is not None\n",
    "\n",
    "input_url = input(\"Enter a URL: \")\n",
    "if is_valid_url(input_url):\n",
    "    print(\"Valid URL. \",end=input_url)\n",
    "else:\n",
    "    print(\"Invalid URL. \",end=index)"
   ]
  },
  {
   "cell_type": "code",
   "execution_count": 53,
   "id": "4f998a49-f1d9-4ba6-b47f-9ba2ac489fa0",
   "metadata": {},
   "outputs": [
    {
     "name": "stdin",
     "output_type": "stream",
     "text": [
      "Enter a URL:  https://www.youtube.com/\n"
     ]
    },
    {
     "name": "stdout",
     "output_type": "stream",
     "text": [
      "Extracted protocol: https\n"
     ]
    }
   ],
   "source": [
    "## 35. Extract the protocol (http or https) from a URL string.\n",
    "\n",
    "from urllib.parse import urlparse\n",
    "\n",
    "def extract_protocol(url):\n",
    "    parsed_url = urlparse(url)\n",
    "    return parsed_url.scheme\n",
    "\n",
    "input_url = input(\"Enter a URL: \")\n",
    "protocol = extract_protocol(input_url)\n",
    "print(\"Extracted protocol:\", protocol)"
   ]
  },
  {
   "cell_type": "code",
   "execution_count": 55,
   "id": "9793f202-5fbd-4178-84ff-00ab9972e43f",
   "metadata": {},
   "outputs": [
    {
     "name": "stdin",
     "output_type": "stream",
     "text": [
      "Enter a string:  Mohammad Kaiser Azad \n"
     ]
    },
    {
     "name": "stdout",
     "output_type": "stream",
     "text": [
      "Character frequencies:\n",
      "'M': 1\n",
      "'o': 1\n",
      "'h': 1\n",
      "'a': 4\n",
      "'m': 2\n",
      "'d': 2\n",
      "' ': 3\n",
      "'K': 1\n",
      "'i': 1\n",
      "'s': 1\n",
      "'e': 1\n",
      "'r': 1\n",
      "'A': 1\n",
      "'z': 1\n"
     ]
    }
   ],
   "source": [
    "## 36. Find the frequency of each character in a string.\n",
    "\n",
    "def character_frequency(string):\n",
    "    frequency = {}\n",
    "\n",
    "    for i in string:\n",
    "        if i in frequency:\n",
    "            frequency[i] += 1\n",
    "        else:\n",
    "            frequency[i] = 1\n",
    "\n",
    "    return frequency\n",
    "\n",
    "string = input(\"Enter a string: \")\n",
    "frequency_dic = character_frequency(string)\n",
    "\n",
    "print(\"Character frequencies:\")\n",
    "for i, count in frequency_dic.items():\n",
    "    print(f\"'{i}': {count}\")"
   ]
  },
  {
   "cell_type": "code",
   "execution_count": 58,
   "id": "5a2ac6e1-b116-4b3d-a963-222211484a39",
   "metadata": {},
   "outputs": [
    {
     "name": "stdin",
     "output_type": "stream",
     "text": [
      "Enter a string:  My? name+ is Azad!\n"
     ]
    },
    {
     "name": "stdout",
     "output_type": "stream",
     "text": [
      "Original String My? name+ is Azad!\n",
      "Cleaned string: My name is Azad\n"
     ]
    }
   ],
   "source": [
    "## 37. Remove all punctuation from a string.\n",
    "\n",
    "import string\n",
    "\n",
    "def remove_punctuation(input_string):\n",
    "    translator = str.maketrans('', '', string.punctuation)\n",
    "    clean_string = input_string.translate(translator)\n",
    "    return clean_string\n",
    "\n",
    "input_string = input(\"Enter a string: \")\n",
    "cleaned_string = remove_punctuation(input_string)\n",
    "print(f\"Original String {input_string}\")\n",
    "print(\"Cleaned string:\", cleaned_string)"
   ]
  },
  {
   "cell_type": "code",
   "execution_count": 10,
   "id": "0e0f7fe7-6a54-48a6-a169-e076f227116a",
   "metadata": {},
   "outputs": [
    {
     "name": "stdin",
     "output_type": "stream",
     "text": [
      "Enter something:  1221\n"
     ]
    },
    {
     "name": "stdout",
     "output_type": "stream",
     "text": [
      "The string contains digits\n"
     ]
    }
   ],
   "source": [
    "## 38. Check if a string contains only digits.\n",
    "\n",
    "string = input(\"Enter something: \")\n",
    "\n",
    "if string.isdigit():\n",
    "    print(\"The string contains digits\")\n",
    "else:\n",
    "    print(\"The string doesn't contain any digits\")"
   ]
  },
  {
   "cell_type": "code",
   "execution_count": 13,
   "id": "e2bb882a-2f9b-4b83-9102-147cfbe88c9a",
   "metadata": {},
   "outputs": [
    {
     "name": "stdin",
     "output_type": "stream",
     "text": [
      "Enter something:  124asfdafa\n"
     ]
    },
    {
     "name": "stdout",
     "output_type": "stream",
     "text": [
      "The string doesn't contain only alphabets\n"
     ]
    }
   ],
   "source": [
    "## 39. Check if a string contains only alphabets.\n",
    "\n",
    "string = input(\"Enter something: \")\n",
    "\n",
    "if string.isalpha():\n",
    "    print(\"The string contains only alphabets\")\n",
    "else:\n",
    "    print(\"The string doesn't contain only alphabets\")"
   ]
  },
  {
   "cell_type": "code",
   "execution_count": 14,
   "id": "f4884900-b879-4468-ac7e-514de8a61633",
   "metadata": {},
   "outputs": [
    {
     "name": "stdout",
     "output_type": "stream",
     "text": [
      " The list of character is ['A', 'z', 'a', 'd']\n"
     ]
    }
   ],
   "source": [
    "## 40. Convert a string to a list of characters.\n",
    "\n",
    "string = \"Azad\"\n",
    "list_char = list(string)\n",
    "\n",
    "print(f\" The list of character is {list_char}\")"
   ]
  },
  {
   "cell_type": "code",
   "execution_count": 18,
   "id": "bfa7f0bf-f4b1-45c2-9f76-67a5153c5f7b",
   "metadata": {},
   "outputs": [
    {
     "name": "stdin",
     "output_type": "stream",
     "text": [
      "Enter the first string:  abcd\n",
      "Enter the second string:  cadb\n"
     ]
    },
    {
     "name": "stdout",
     "output_type": "stream",
     "text": [
      "The strings are anagrams\n"
     ]
    }
   ],
   "source": [
    "## 41. Check if two strings are anagrams.\n",
    "\n",
    "str1 = str(input(\"Enter the first string: \"))\n",
    "str2 = str(input(\"Enter the second string: \"))\n",
    "\n",
    "if (sorted(str1)) == (sorted(str2)):\n",
    "    print(\"The strings are anagrams\")\n",
    "else:\n",
    "    print(\"The string are not anagrams\")                 "
   ]
  },
  {
   "cell_type": "code",
   "execution_count": 7,
   "id": "a60d627a-2b80-440d-8808-ac718d08ad88",
   "metadata": {},
   "outputs": [
    {
     "name": "stdin",
     "output_type": "stream",
     "text": [
      "Enter the string kasier\n"
     ]
    },
    {
     "name": "stdout",
     "output_type": "stream",
     "text": [
      "Original text kasier\n",
      " ndvlhu\n"
     ]
    }
   ],
   "source": [
    "## 42. Encode a string using a Caesar cipher.\n",
    "\n",
    "def ceasar_cipher_encode(text, shift):\n",
    "    encoded_text = \" \"\n",
    "    \n",
    "    for char in text:\n",
    "        if char.isalpha():\n",
    "            if char.islower():\n",
    "                encoded_char = chr((ord(char) - ord('a') + shift) % 26 + ord('a'))\n",
    "            else:\n",
    "                encoded_char = chr((ord(char) - ord('A') + shift) % 26 + ord('A'))\n",
    "        else:\n",
    "            encoded_char = char\n",
    "        encoded_text += encoded_char\n",
    "        \n",
    "    return encoded_text\n",
    "\n",
    "plaintext = input(\"Enter the string\")\n",
    "shift = 3\n",
    "encoded_text = ceasar_cipher_encode(plaintext, shift)\n",
    "print(f\"Original text {plaintext}\")\n",
    "print(encoded_text)"
   ]
  },
  {
   "cell_type": "code",
   "execution_count": 8,
   "id": "4f7ddb79-13f4-4976-997e-62ddb696c678",
   "metadata": {},
   "outputs": [
    {
     "name": "stdin",
     "output_type": "stream",
     "text": [
      "Enter string  kaiser\n"
     ]
    },
    {
     "name": "stdout",
     "output_type": "stream",
     "text": [
      "Original String kasier\n",
      "hxfpbo\n"
     ]
    }
   ],
   "source": [
    "## 43. Decode a Caesar cipher encoded string.\n",
    "\n",
    "def caesar_cipher_decode(encoded_text, shift):\n",
    "    decoded_text = \"\"\n",
    "\n",
    "    for char in encoded_text:\n",
    "        if char.isalpha():\n",
    "            if char.islower():\n",
    "                decoded_char = chr((ord(char) - ord('a' ) - shift) % 26 + ord('a'))\n",
    "            else:\n",
    "                decoded_char = chr((ord(char) - ord('A') - shift) % 26 + ord('A'))\n",
    "        else:\n",
    "            decoded_char = char\n",
    "        decoded_text += decoded_char\n",
    "\n",
    "    return decoded_text\n",
    "\n",
    "\n",
    "encoded_text = input(\"Enter string \") \n",
    "shift = 3\n",
    "decoded_text = caesar_cipher_decode(encoded_text, shift)\n",
    "print(\"Original String \"+plaintext)\n",
    "print(decoded_text)"
   ]
  },
  {
   "cell_type": "code",
   "execution_count": 9,
   "id": "32c0f0b5-d6fc-408b-9172-fb266be9534d",
   "metadata": {},
   "outputs": [
    {
     "name": "stdin",
     "output_type": "stream",
     "text": [
      "Enter the String I am Azad. I am 29 years old. I live in Sweden.\n"
     ]
    },
    {
     "name": "stdout",
     "output_type": "stream",
     "text": [
      "The most frequent word is: i\n",
      "It appears 3 times.\n"
     ]
    }
   ],
   "source": [
    "## 44. Find the most frequent word in a string.\n",
    "\n",
    "from collections import Counter\n",
    "import re\n",
    "\n",
    "def most_frequent_word(text):\n",
    "    cleaned_text = re.sub(r'[^\\w\\s]', '', text).lower()\n",
    "\n",
    "    words = cleaned_text.split()\n",
    "\n",
    "    word_counts = Counter(words)\n",
    "\n",
    "   \n",
    "    most_common_word = word_counts.most_common(1)[0]\n",
    "\n",
    "    return most_common_word\n",
    "\n",
    "# Example usage\n",
    "input_text =input(\"Enter the String\") \n",
    "result = most_frequent_word(input_text)\n",
    "print(\"The most frequent word is:\", result[0])\n",
    "print(\"It appears\", result[1], \"times.\")"
   ]
  },
  {
   "cell_type": "code",
   "execution_count": 10,
   "id": "35827943-1ae8-499d-82b4-1a3a94d001a8",
   "metadata": {},
   "outputs": [
    {
     "name": "stdin",
     "output_type": "stream",
     "text": [
      "Enter the string play only if you love to play\n"
     ]
    },
    {
     "name": "stdout",
     "output_type": "stream",
     "text": [
      "Unique words: {'play', 'only', 'if', 'to', 'love', 'you'}\n"
     ]
    }
   ],
   "source": [
    "#45. Find all unique words in a string.\n",
    "\n",
    "import re\n",
    "\n",
    "def unique_words(text):\n",
    "    cleaned_text = re.sub(r'[^\\w\\s]', '', text).lower()\n",
    "\n",
    "    words = cleaned_text.split()\n",
    "\n",
    "    unique_words_set = set(words)\n",
    "\n",
    "    return unique_words_set\n",
    "\n",
    "\n",
    "input_text = input(\"Enter the string\")\n",
    "unique_words_set = unique_words(input_text)\n",
    "print(\"Unique words:\", unique_words_set)\n"
   ]
  },
  {
   "cell_type": "code",
   "execution_count": 11,
   "id": "de5973a5-920c-4645-9e28-9d95295f5e28",
   "metadata": {},
   "outputs": [
    {
     "name": "stdout",
     "output_type": "stream",
     "text": [
      "Total syllables: 11\n"
     ]
    }
   ],
   "source": [
    "#46. Count the number of syllables in a string.\n",
    "\n",
    "import re\n",
    "\n",
    "def count_syllables(word):\n",
    "    vowels = re.findall(r'[aeiouy]+', word, re.IGNORECASE)\n",
    "    return len(vowels)\n",
    "\n",
    "def total_syllables(text):\n",
    "    words = text.split()\n",
    "    total = sum(count_syllables(word) for word in words)\n",
    "    return total\n",
    "\n",
    "\n",
    "input_text = \"The quick brown fox jumps over the lazy dog.\"\n",
    "syllable_count = total_syllables(input_text)\n",
    "print(\"Total syllables:\", syllable_count)"
   ]
  },
  {
   "cell_type": "code",
   "execution_count": 1,
   "id": "9c7ec59f-bf69-486c-9f59-8bbc481ace61",
   "metadata": {},
   "outputs": [
    {
     "name": "stdin",
     "output_type": "stream",
     "text": [
      "Enter sentence I am not Azad\n",
      "Enter word index you want to remove 2\n"
     ]
    },
    {
     "name": "stdout",
     "output_type": "stream",
     "text": [
      "I am Azad\n"
     ]
    }
   ],
   "source": [
    "#48. Remove the nth word from a string.\n",
    "\n",
    "user = input('Enter sentence')\n",
    "user = user.split()\n",
    "word = int(input('Enter word index you want to remove'))\n",
    "user.pop(word)\n",
    "print(\" \".join(user))"
   ]
  },
  {
   "cell_type": "code",
   "execution_count": 6,
   "id": "c9785167-4103-47aa-8a76-f316bc0f4617",
   "metadata": {},
   "outputs": [
    {
     "name": "stdin",
     "output_type": "stream",
     "text": [
      "Enter word love\n",
      "Enter index 2\n"
     ]
    },
    {
     "name": "stdout",
     "output_type": "stream",
     "text": [
      "I love PWSKILLS\n"
     ]
    }
   ],
   "source": [
    "# 49. Insert a word at the nth position in a string.\n",
    "\n",
    "sentence = 'I PWSKILLS'\n",
    "user = input('Enter word')\n",
    "sentence = sentence.split()\n",
    "word = int(input('Enter index'))\n",
    "sentence.insert(word-1,user)\n",
    "print(\" \".join(sentence))"
   ]
  },
  {
   "cell_type": "code",
   "execution_count": 7,
   "id": "dc5d93eb-68c6-4f24-a422-8f22c8ea453a",
   "metadata": {},
   "outputs": [
    {
     "name": "stdout",
     "output_type": "stream",
     "text": [
      "['Name', ' Age', ' Country']\n",
      "['John', ' 25', ' USA']\n",
      "['Alice', ' 30', ' Canada']\n",
      "['Bob', ' 22', ' UK']\n"
     ]
    }
   ],
   "source": [
    "# 50. Convert a CSV string to a list of lists.\n",
    "\n",
    "def csv_string_to_list(csv_string):\n",
    "    # Split the CSV string into lines\n",
    "    lines = csv_string.split('\\n')\n",
    "\n",
    "    # Initialize an empty list to store the result\n",
    "    result = []\n",
    "\n",
    "    for line in lines:\n",
    "        # Split each line into fields using comma as the delimiter\n",
    "        fields = line.split(',')\n",
    "\n",
    "        # Append the fields to the result list as a row\n",
    "        result.append(fields)\n",
    "\n",
    "    return result\n",
    "\n",
    "# Example CSV string\n",
    "csv_data = \"Name, Age, Country\\nJohn, 25, USA\\nAlice, 30, Canada\\nBob, 22, UK\"\n",
    "\n",
    "# Convert CSV string to a list of lists\n",
    "list_of_lists = csv_string_to_list(csv_data)\n",
    "\n",
    "# Print the result\n",
    "for row in list_of_lists:\n",
    "    print(row)"
   ]
  },
  {
   "cell_type": "markdown",
   "id": "14c22237-9787-4fbc-8443-cd665983501b",
   "metadata": {},
   "source": [
    "## List Based Practice Problem :"
   ]
  },
  {
   "cell_type": "code",
   "execution_count": 12,
   "id": "eb71776e-c27f-4f83-b29a-a4f98561d694",
   "metadata": {},
   "outputs": [
    {
     "name": "stdout",
     "output_type": "stream",
     "text": [
      "The list of integers: [1, 2, 3, 4, 5, 6, 7, 8, 9, 10]\n"
     ]
    }
   ],
   "source": [
    "## 1. Create a list with integers from 1 to 10.\n",
    "\n",
    "list_int = list(range(1,11))\n",
    "print(f\"The list of integers: {list_int}\")"
   ]
  },
  {
   "cell_type": "code",
   "execution_count": 16,
   "id": "b6b3b468-20d0-4b6a-b69c-5f165f8eb390",
   "metadata": {},
   "outputs": [
    {
     "name": "stdout",
     "output_type": "stream",
     "text": [
      "The length of the list 5\n"
     ]
    }
   ],
   "source": [
    "## 2. Find the length of a list without using the `len()` function.\n",
    "\n",
    "count = 0\n",
    "\n",
    "list_word = [\"azad\", \"suresh\", \"sakib\", 12, 43]\n",
    "\n",
    "for i in list_word:\n",
    "    count+=1\n",
    "print(f\"The length of the list {count}\")"
   ]
  },
  {
   "cell_type": "code",
   "execution_count": 22,
   "id": "9d767626-dbb0-4c3e-a724-7cd74a14a6c7",
   "metadata": {},
   "outputs": [
    {
     "name": "stdout",
     "output_type": "stream",
     "text": [
      "The appended list is ['azad', 'suresh', 'sakib', 12, 43, 'Bangladesh']\n"
     ]
    }
   ],
   "source": [
    "## 3. Append an element to the end of a list.\n",
    "\n",
    "list_word.append(\"Bangladesh\")\n",
    "print(f\"The appended list is {list_word}\")"
   ]
  },
  {
   "cell_type": "code",
   "execution_count": 1,
   "id": "56ab28af-6dd8-4bed-953c-d66f7e896025",
   "metadata": {},
   "outputs": [
    {
     "name": "stdout",
     "output_type": "stream",
     "text": [
      "['Gulshan', 'Dhaka', 'Bangladesh', 'Chittagong']\n"
     ]
    }
   ],
   "source": [
    "## 4. Insert an element at a specific index in a list.\n",
    "\n",
    "myList = ['Gulshan', 'Dhaka', 'Chittagong']\n",
    "myList.insert(2, 'Bangladesh')\n",
    "print(myList)"
   ]
  },
  {
   "cell_type": "code",
   "execution_count": 3,
   "id": "81520992-3500-4e14-86ad-7dbb195732d2",
   "metadata": {},
   "outputs": [
    {
     "name": "stdout",
     "output_type": "stream",
     "text": [
      "['Gulshan', 'Bangladesh', 'Chittagong']\n"
     ]
    }
   ],
   "source": [
    "## 5. Remove an element from a list by its value.\n",
    "\n",
    "myList.remove('Dhaka')\n",
    "print(myList)"
   ]
  },
  {
   "cell_type": "code",
   "execution_count": 4,
   "id": "c2dd0598-efe1-441e-a80b-069cb90de11e",
   "metadata": {},
   "outputs": [
    {
     "name": "stdout",
     "output_type": "stream",
     "text": [
      "['Bangladesh', 'Chittagong']\n"
     ]
    }
   ],
   "source": [
    "## 6. Remove an element from a list by its index.\n",
    "\n",
    "del myList[0]\n",
    "print(myList)"
   ]
  },
  {
   "cell_type": "code",
   "execution_count": 11,
   "id": "2b2e8f30-539e-489c-9b0b-5b9b092c0bd0",
   "metadata": {},
   "outputs": [
    {
     "name": "stdin",
     "output_type": "stream",
     "text": [
      "Write a word: daa\n"
     ]
    },
    {
     "name": "stdout",
     "output_type": "stream",
     "text": [
      "This element doesn't exist\n"
     ]
    }
   ],
   "source": [
    "## 7. Check if an element exists in a list.\n",
    "\n",
    "inp = str(input(\"Write a word:\"))\n",
    "\n",
    "if inp in myList:\n",
    "    print(\"This element exist\")\n",
    "else:\n",
    "    print(\"This element doesn't exist\")"
   ]
  },
  {
   "cell_type": "code",
   "execution_count": 15,
   "id": "0b5da705-77fd-459a-998f-612e12f4e2f8",
   "metadata": {},
   "outputs": [
    {
     "name": "stdout",
     "output_type": "stream",
     "text": [
      "Bangladesh\n"
     ]
    }
   ],
   "source": [
    "## 8. Find the index of the first occurrence of an element in a list.\n",
    "\n",
    "myList = ['Bangladesh', 'India', 'Pakistan', 'Srilanka']\n",
    "print(myList[0])"
   ]
  },
  {
   "cell_type": "code",
   "execution_count": 17,
   "id": "9da0010d-d69e-4bbc-b8f4-0262fb8a0ab3",
   "metadata": {},
   "outputs": [
    {
     "name": "stdout",
     "output_type": "stream",
     "text": [
      "The occurrence of Bangladesh in the list is 3\n"
     ]
    }
   ],
   "source": [
    "## 9. Count the occurrences of an element in a list.\n",
    "\n",
    "myList = ['Bangladesh', 'India', 'Pakistan', 'Srilanka', 'Bangladesh', 'Bangladesh']\n",
    "\n",
    "print(f\"The occurrence of Bangladesh in the list is {myList.count('Bangladesh')}\")"
   ]
  },
  {
   "cell_type": "code",
   "execution_count": 18,
   "id": "ef451aad-f599-4264-bb46-a16ad7d3c805",
   "metadata": {},
   "outputs": [
    {
     "name": "stdout",
     "output_type": "stream",
     "text": [
      "The reversed order of the list is ['Bangladesh', 'Bangladesh', 'Srilanka', 'Pakistan', 'India', 'Bangladesh']\n"
     ]
    }
   ],
   "source": [
    "## 10. Reverse the order of elements in a list.\n",
    "\n",
    "myList.reverse()\n",
    "print(f\"The reversed order of the list is {myList}\")"
   ]
  },
  {
   "cell_type": "code",
   "execution_count": 19,
   "id": "b8b4473a-04b8-4d9c-b52b-e2d54a337050",
   "metadata": {},
   "outputs": [
    {
     "name": "stdout",
     "output_type": "stream",
     "text": [
      "[7, 4, 3, 6, 5, 2, 1]\n",
      "[1, 2, 3, 4, 5, 6, 7]\n"
     ]
    }
   ],
   "source": [
    "## 11. Sort a list in ascending order.\n",
    "\n",
    "myList = [7,4,3,6,5,2,1]\n",
    "print(myList)\n",
    "myList.sort()\n",
    "print(myList)"
   ]
  },
  {
   "cell_type": "code",
   "execution_count": 21,
   "id": "9970dc45-573a-4a47-a4b6-f0a16a6d7d94",
   "metadata": {},
   "outputs": [
    {
     "name": "stdout",
     "output_type": "stream",
     "text": [
      "[7, 6, 5, 4, 3, 2, 1]\n"
     ]
    }
   ],
   "source": [
    "## 12. Sort a list in descending order.\n",
    "\n",
    "myList.sort(reverse= True)\n",
    "print(myList)"
   ]
  },
  {
   "cell_type": "code",
   "execution_count": 24,
   "id": "06fc55a0-2345-402f-8897-ebc168737760",
   "metadata": {},
   "outputs": [
    {
     "name": "stdout",
     "output_type": "stream",
     "text": [
      "[2, 4, 6, 8, 10, 12, 14, 16, 18, 20]\n"
     ]
    }
   ],
   "source": [
    "## 13. Create a list of even numbers from 1 to 20.\n",
    "\n",
    "list_numbers = range(1,21)\n",
    "even_list = []\n",
    "\n",
    "for i in list_numbers:\n",
    "    if i%2 == 0:\n",
    "        even_list.append(i)\n",
    "print(even_list)"
   ]
  },
  {
   "cell_type": "code",
   "execution_count": 25,
   "id": "080ba5cd-9293-4992-8a01-ad96b8524a2b",
   "metadata": {},
   "outputs": [
    {
     "name": "stdout",
     "output_type": "stream",
     "text": [
      "[1, 3, 5, 7, 9, 11, 13, 15, 17, 19]\n"
     ]
    }
   ],
   "source": [
    "## 14. Create a list of odd numbers from 1 to 20.\n",
    "\n",
    "list_numbers = range(1,21)\n",
    "odd_list = []\n",
    "\n",
    "for i in list_numbers:\n",
    "    if i%2 != 0:\n",
    "        odd_list.append(i)\n",
    "print(odd_list)"
   ]
  },
  {
   "cell_type": "code",
   "execution_count": 26,
   "id": "2ea53350-edbc-429b-920b-7c96481a87a2",
   "metadata": {},
   "outputs": [
    {
     "name": "stdout",
     "output_type": "stream",
     "text": [
      "210\n"
     ]
    }
   ],
   "source": [
    "## 15. Find the sum of all elements in a list.\n",
    "\n",
    "list_numbers = range(1,21)\n",
    "print(sum(list_numbers))\n"
   ]
  },
  {
   "cell_type": "code",
   "execution_count": 28,
   "id": "1b594178-e35a-4f41-b891-6ce9bf9b2940",
   "metadata": {},
   "outputs": [
    {
     "name": "stdout",
     "output_type": "stream",
     "text": [
      "55\n"
     ]
    }
   ],
   "source": [
    "## 16. Find the maximum value in a list.\n",
    "\n",
    "list_numbers = [1,4,2,5,6,55]\n",
    "print(max(list_numbers))\n"
   ]
  },
  {
   "cell_type": "code",
   "execution_count": 29,
   "id": "5bb21114-536b-49d2-b824-1a52f9a14611",
   "metadata": {},
   "outputs": [
    {
     "name": "stdout",
     "output_type": "stream",
     "text": [
      "1\n"
     ]
    }
   ],
   "source": [
    "## 17. Find the minimum value in a list.\n",
    "\n",
    "list_numbers = [1,4,2,5,6,55]\n",
    "print(min(list_numbers))"
   ]
  },
  {
   "cell_type": "code",
   "execution_count": 36,
   "id": "f03522a0-4d29-4452-94af-40cbeee2e4fc",
   "metadata": {},
   "outputs": [
    {
     "name": "stdout",
     "output_type": "stream",
     "text": [
      "The list of squares of numbers are [1, 4, 9, 16, 25, 36, 49, 64, 81, 100]\n"
     ]
    }
   ],
   "source": [
    "## 18. Create a list of squares of numbers from 1 to 10.\n",
    "\n",
    "list_num = range(1,11)\n",
    "square = []\n",
    "for i in list_num:\n",
    "    i = i**2\n",
    "    square.append(i)\n",
    "print(f\"The list of squares of numbers are {square}\")"
   ]
  },
  {
   "cell_type": "code",
   "execution_count": 38,
   "id": "a639a0a5-6c01-4697-9b02-6e93bb9b6c4f",
   "metadata": {},
   "outputs": [
    {
     "name": "stdout",
     "output_type": "stream",
     "text": [
      "[32, 31, 37, 43, 17, 6, 21, 25, 11, 41]\n"
     ]
    }
   ],
   "source": [
    "## 19. Create a list of random numbers.\n",
    "\n",
    "import random\n",
    "\n",
    "random_numbers = 10  \n",
    "min_value = 1  \n",
    "max_value = 50 \n",
    "\n",
    "random_numbers = [random.randint(min_value, max_value) for i in range(random_numbers)]\n",
    "print(random_numbers)"
   ]
  },
  {
   "cell_type": "code",
   "execution_count": 39,
   "id": "b310b62e-3df2-406b-a634-8e9fb9e4aab0",
   "metadata": {},
   "outputs": [
    {
     "name": "stdout",
     "output_type": "stream",
     "text": [
      "Unique List:  [1, 2, 3, 4, 5, 6, 7, 8, 9, 10]\n"
     ]
    }
   ],
   "source": [
    "## 20. Remove duplicates from a list.\n",
    "\n",
    "myList = [1,2,5,5,2,2,7,8,9,1,1,3,4,6,10]\n",
    "unique_list = list(set(myList))\n",
    "print(\"Unique List: \", unique_list)"
   ]
  },
  {
   "cell_type": "code",
   "execution_count": 40,
   "id": "c22c0212-5c26-40f6-b72b-f3ae88694cd1",
   "metadata": {},
   "outputs": [
    {
     "name": "stdout",
     "output_type": "stream",
     "text": [
      "[4, 5, 6, 7, 8]\n"
     ]
    }
   ],
   "source": [
    "## 21. Find the common elements between two lists.\n",
    "\n",
    "list1 = [1, 2, 3, 4, 5, 6, 7, 8]\n",
    "list2 = [8, 4, 5, 6, 7]\n",
    "\n",
    "common_elements = list(set(list1).intersection(list2))\n",
    "print(common_elements)"
   ]
  },
  {
   "cell_type": "code",
   "execution_count": 41,
   "id": "6f86479a-a071-4c5c-89ab-b5a9d5e75008",
   "metadata": {},
   "outputs": [
    {
     "name": "stdout",
     "output_type": "stream",
     "text": [
      "[1, 2, 3, 55, 70]\n"
     ]
    }
   ],
   "source": [
    "## 22. Find the difference between two lists.\n",
    "\n",
    "list1 = [1, 2, 3, 4, 5, 6, 7, 8, 55, 70]\n",
    "list2 = [8, 4, 5, 6, 7]\n",
    "\n",
    "difference = []\n",
    "\n",
    "for i in list1:\n",
    "    if i not in list2:\n",
    "        difference.append(i)\n",
    "\n",
    "print(difference)\n",
    "    "
   ]
  },
  {
   "cell_type": "code",
   "execution_count": 43,
   "id": "5ab02b02-1d35-4418-93b4-05c592b0cc89",
   "metadata": {},
   "outputs": [
    {
     "name": "stdout",
     "output_type": "stream",
     "text": [
      "The merged list is:  [11, 22, 33, 44, 55, 66, 77, 88]\n"
     ]
    }
   ],
   "source": [
    "## 23. Merge two lists.\n",
    "\n",
    "list1 = [11,22,33,44]\n",
    "list2 = [55,66,77,88]\n",
    "\n",
    "list3 = list1 + list2\n",
    "print(\"The merged list is: \", list3)"
   ]
  },
  {
   "cell_type": "code",
   "execution_count": 49,
   "id": "81523d32-0963-4eeb-80c4-99dc8b7eb7b6",
   "metadata": {},
   "outputs": [
    {
     "name": "stdout",
     "output_type": "stream",
     "text": [
      "[22, 44, 66, 88]\n"
     ]
    }
   ],
   "source": [
    "## 24. Multiply all elements in a list by 2.\n",
    "\n",
    "list1 = [11,22,33,44]\n",
    "\n",
    "mulitplied_list = list(map(lambda a : a*2, list1))\n",
    "\n",
    "print(mulitplied_list)"
   ]
  },
  {
   "cell_type": "code",
   "execution_count": 51,
   "id": "85c8200d-0980-4004-9dfe-fa4d0cfb4aef",
   "metadata": {},
   "outputs": [
    {
     "name": "stdout",
     "output_type": "stream",
     "text": [
      "[2, 4, 6, 8, 10]\n"
     ]
    }
   ],
   "source": [
    "## 25. Filter out all even numbers from a list.\n",
    "\n",
    "list_rand = [1, 2, 3, 4, 5, 6,7,8,9,10]\n",
    "filtered_list = list(filter(lambda a : a % 2 == 0, list_rand))\n",
    "\n",
    "print(filtered_list)"
   ]
  },
  {
   "cell_type": "code",
   "execution_count": 53,
   "id": "d5694868-130a-410d-81fe-7f894b6ff3b6",
   "metadata": {},
   "outputs": [
    {
     "name": "stdout",
     "output_type": "stream",
     "text": [
      "[1, 2, 3, 4, 5, 6, 7, 8]\n"
     ]
    }
   ],
   "source": [
    "## 26. Convert a list of strings to a list of integers.\n",
    "\n",
    "string_list = ['1', '2', '3', '4', '5', '6', '7', '8']\n",
    "integer_list = list(map(lambda a: int(a), string_list))\n",
    "print(integer_list)"
   ]
  },
  {
   "cell_type": "code",
   "execution_count": 55,
   "id": "26a91376-5a4d-41f7-9b8d-3bcc51b7e632",
   "metadata": {},
   "outputs": [
    {
     "name": "stdout",
     "output_type": "stream",
     "text": [
      "['1', '2', '3', '4', '5', '6', '7', '8']\n"
     ]
    }
   ],
   "source": [
    "## 27. Convert a list of integers to a list of strings.\n",
    "\n",
    "integer_list = [1, 2, 3, 4, 5, 6, 7, 8]\n",
    "string_list = list(map(lambda a: str(a), integer_list))\n",
    "print(string_list)"
   ]
  },
  {
   "cell_type": "code",
   "execution_count": 57,
   "id": "47ccc026-f76b-44da-b824-2c2a29cbd4bb",
   "metadata": {},
   "outputs": [
    {
     "name": "stdout",
     "output_type": "stream",
     "text": [
      "Original List [[1, 2, 3], [4, 5, 6], [7, 8, 9]]\n",
      "Flatten List [1, 2, 3, 4, 5, 6, 7, 8, 9]\n"
     ]
    }
   ],
   "source": [
    "## 28. Flatten a nested list.\n",
    "\n",
    "list_f = [[1,2,3], [4,5,6], [7,8,9]]\n",
    "\n",
    "flatten_list = [i for innerList in list_f for i in innerList]\n",
    "\n",
    "print(\"Original List\", list_f)\n",
    "print(\"Flatten List\", flatten_list)\n"
   ]
  },
  {
   "cell_type": "code",
   "execution_count": 59,
   "id": "a03aeae3-75dc-458b-8065-77b727edebf7",
   "metadata": {},
   "outputs": [
    {
     "name": "stdout",
     "output_type": "stream",
     "text": [
      "[0, 1, 1, 2, 3, 5, 8, 13, 21, 34]\n"
     ]
    }
   ],
   "source": [
    "## 29. Create a list of the first 10 Fibonacci numbers.\n",
    "\n",
    "num = 11\n",
    "list_f = []\n",
    "a = 0\n",
    "b = 1\n",
    "\n",
    "for i in range(1,num):\n",
    "    list_f.append(a)\n",
    "    c = a+b\n",
    "    a = b\n",
    "    b = c\n",
    "print(list_f)\n",
    "    "
   ]
  },
  {
   "cell_type": "code",
   "execution_count": 6,
   "id": "f9edf601-5719-4b27-8e03-073766107a60",
   "metadata": {},
   "outputs": [
    {
     "name": "stdout",
     "output_type": "stream",
     "text": [
      "The list is not sorted\n"
     ]
    }
   ],
   "source": [
    "## 30. Check if a list is sorted.\n",
    "\n",
    "list1 = [3,2,4,6,8,3,6]\n",
    "l2 = list1\n",
    "sorted_l1 = list1.sort()\n",
    "\n",
    "if sorted_l1 == l2:\n",
    "    print(\"Yes the list is sorted\")\n",
    "else:\n",
    "    print(\"The list is not sorted\")"
   ]
  },
  {
   "cell_type": "code",
   "execution_count": 10,
   "id": "6c42a4bb-40eb-45aa-9ecd-1c68e7f043e6",
   "metadata": {},
   "outputs": [
    {
     "name": "stdout",
     "output_type": "stream",
     "text": [
      "[2, 4, 6, 3, 3, 6, 3]\n"
     ]
    }
   ],
   "source": [
    "## 31. Rotate a list to the left by n positions.\n",
    "\n",
    "list1 = [3,2,4,6,8,3,6]\n",
    "rotate = list1[-1]\n",
    "\n",
    "for i in list1:\n",
    "    x = list1.index(i)\n",
    "    list1[x-1] = list1[x]\n",
    "list1[-2] = rotate\n",
    "print(list1)"
   ]
  },
  {
   "cell_type": "code",
   "execution_count": 11,
   "id": "ebf80747-2953-4260-931b-f0c30fd79e6a",
   "metadata": {},
   "outputs": [
    {
     "data": {
      "text/plain": [
       "[7, 1, 5, 2, 3, 6]"
      ]
     },
     "execution_count": 11,
     "metadata": {},
     "output_type": "execute_result"
    }
   ],
   "source": [
    "## 32. Rotate a list to the right by n positions.\n",
    "\n",
    "t= [1,5,2,3,6,7]\n",
    "s1 = t[0:(len(t)-1)]   #slice string index 0 to 2nd last element\n",
    "s1.insert(0,t[-1])     #insert last element to index 0\n",
    "s1                     #Right shifted list"
   ]
  },
  {
   "cell_type": "code",
   "execution_count": 13,
   "id": "156d55ba-2057-4d90-a670-65ecb4c8a5ae",
   "metadata": {},
   "outputs": [
    {
     "name": "stdout",
     "output_type": "stream",
     "text": [
      "[2, 3, 5, 7, 11, 13, 17, 19, 23, 29, 31, 37, 41, 43, 47]\n"
     ]
    }
   ],
   "source": [
    "## 33. Create a list of prime numbers up to 50.\n",
    "\n",
    "l = []\n",
    "for i in range (1, 51):\n",
    "    count = 0\n",
    "    for j in range(2, (i//2 + 1)):\n",
    "        if(i % j == 0):\n",
    "            count = count + 1\n",
    "            break\n",
    "\n",
    "    if (count == 0 and i != 1):\n",
    "        l.append(i)\n",
    "print(l)"
   ]
  },
  {
   "cell_type": "code",
   "execution_count": 20,
   "id": "54784ad1-a287-451a-9f11-5eabf40828d8",
   "metadata": {},
   "outputs": [
    {
     "name": "stdin",
     "output_type": "stream",
     "text": [
      "Enter chunk size 2\n"
     ]
    },
    {
     "name": "stdout",
     "output_type": "stream",
     "text": [
      "[[1, 2], [3, 4], [5, 6], [7, 8], [9, 10]]\n"
     ]
    }
   ],
   "source": [
    "## 34. Split a list into chunks of size n.\n",
    "\n",
    "list_1 = list(range(1,11))\n",
    "c_size = int(input('Enter chunk size'))\n",
    "new_list = []\n",
    "i = 0\n",
    "\n",
    "while i<len(list_1):\n",
    "    new_list.append(list_1[i:c_size+i])\n",
    "    i = i+c_size\n",
    "print(new_list)"
   ]
  },
  {
   "cell_type": "code",
   "execution_count": 21,
   "id": "4b52175a-a571-44dc-aca1-457eff2d600e",
   "metadata": {},
   "outputs": [
    {
     "data": {
      "text/plain": [
       "45"
      ]
     },
     "execution_count": 21,
     "metadata": {},
     "output_type": "execute_result"
    }
   ],
   "source": [
    "## 35. Find the second largest number in a list.\n",
    "\n",
    "l=[1,2,3,4,89,0,9,3,10,45]\n",
    "l.sort()\n",
    "l[-2]"
   ]
  },
  {
   "cell_type": "code",
   "execution_count": 23,
   "id": "2422b09a-39ec-4590-92d4-7b2cda855af5",
   "metadata": {},
   "outputs": [
    {
     "name": "stdout",
     "output_type": "stream",
     "text": [
      "[1, 4, 9, 16, 25, 36, 49, 64, 81, 100]\n"
     ]
    }
   ],
   "source": [
    "## 36. Replace every element in a list with its square.\n",
    "\n",
    "l=list(range(1,11))\n",
    "s=[]\n",
    "for x in l:\n",
    "    s.append(x*x)\n",
    "print(s)"
   ]
  },
  {
   "cell_type": "code",
   "execution_count": 24,
   "id": "416ae112-3843-478e-9dd6-3cbcc96abdfa",
   "metadata": {},
   "outputs": [
    {
     "data": {
      "text/plain": [
       "{1: 0, 2: 1, 3: 2, 4: 3, 5: 4, 6: 5, 7: 6, 8: 7}"
      ]
     },
     "execution_count": 24,
     "metadata": {},
     "output_type": "execute_result"
    }
   ],
   "source": [
    "## 37. Convert a list to a dictionary where list elements become keys and their indices become values.\n",
    "\n",
    "l=list(range(1,9))\n",
    "dict={}\n",
    "for x in l:\n",
    "    dict[x]=l.index(x)\n",
    "dict"
   ]
  },
  {
   "cell_type": "code",
   "execution_count": 26,
   "id": "583987ad-ce61-4b6d-b496-273a1562d2e5",
   "metadata": {},
   "outputs": [
    {
     "name": "stdout",
     "output_type": "stream",
     "text": [
      "Shuffled list: [1, 2, 8, 6, 10, 5, 3, 4, 7, 9]\n"
     ]
    }
   ],
   "source": [
    "## 38. Shuffle the elements of a list randomly.\n",
    "\n",
    "import random\n",
    "\n",
    "list_1 = [1, 2, 3, 4, 5, 6, 7, 8, 9, 10]\n",
    "\n",
    "# Shuffle the list randomly\n",
    "random.shuffle(list_1)\n",
    "\n",
    "print(\"Shuffled list:\", list_1)"
   ]
  },
  {
   "cell_type": "code",
   "execution_count": 27,
   "id": "e29af2c0-d779-4c72-b7af-65d31e6b0e32",
   "metadata": {},
   "outputs": [
    {
     "name": "stdout",
     "output_type": "stream",
     "text": [
      "[1, 2, 6, 24, 120, 720, 5040, 40320, 362880, 3628800]\n"
     ]
    }
   ],
   "source": [
    "## 39. Create a list of the first 10 factorial numbers.\n",
    "\n",
    "l=list(range(1,11))\n",
    "i=1\n",
    "c=1\n",
    "f=[]\n",
    "for x in l:\n",
    "    while(i<=x):\n",
    "        c=c*i\n",
    "        i=i+1\n",
    "    f.append(c)\n",
    "print(f)"
   ]
  },
  {
   "cell_type": "code",
   "execution_count": 28,
   "id": "85a21190-42e3-446b-b93a-20c5aa29b525",
   "metadata": {},
   "outputs": [
    {
     "name": "stdout",
     "output_type": "stream",
     "text": [
      "The two lists have have at least one element in common\n"
     ]
    }
   ],
   "source": [
    "## 40. Check if two lists have at least one element in common.\n",
    "\n",
    "list_1 = ['I', 'am', 'Azad']\n",
    "list_2 = ['I', 'live', 'in', 'Sweden']\n",
    "for i in list_1:\n",
    "    for j in list_2:\n",
    "        if i == j:\n",
    "            break\n",
    "        else: \n",
    "            continue\n",
    "print('The two lists have have at least one element in common')"
   ]
  },
  {
   "cell_type": "code",
   "execution_count": 30,
   "id": "e5e5999f-076c-43ca-a45d-85105352423e",
   "metadata": {},
   "outputs": [
    {
     "name": "stdout",
     "output_type": "stream",
     "text": [
      "[1, 2, 3, 4, 5, 6, 7, 8, 9, 10]\n",
      "[]\n"
     ]
    }
   ],
   "source": [
    "## 41. Remove all elements from a list.\n",
    "\n",
    "l1=list(range(1,11))\n",
    "print(l1)\n",
    "l1.clear()\n",
    "print(l1)"
   ]
  },
  {
   "cell_type": "code",
   "execution_count": 33,
   "id": "b6bfde14-02fb-42c1-a066-be2fd1b4fc80",
   "metadata": {},
   "outputs": [
    {
     "name": "stdout",
     "output_type": "stream",
     "text": [
      "[0, 9, 0, 7, 3]\n"
     ]
    }
   ],
   "source": [
    "## 42. Replace negative numbers in a list with 0.\n",
    "\n",
    "l_1 = [-1, 9, -8, 7, 3]\n",
    "l_2 = []\n",
    "for i in l_1:\n",
    "    if i < 0:\n",
    "        l_2.append(0)\n",
    "    else:\n",
    "        l_2.append(i)\n",
    "        continue\n",
    "print(l_2)"
   ]
  },
  {
   "cell_type": "code",
   "execution_count": 35,
   "id": "30732a8b-0008-4fe2-8431-8859e0a0b507",
   "metadata": {},
   "outputs": [
    {
     "name": "stdin",
     "output_type": "stream",
     "text": [
      " I am Azad\n"
     ]
    },
    {
     "name": "stdout",
     "output_type": "stream",
     "text": [
      "['I', 'am', 'Azad']\n"
     ]
    }
   ],
   "source": [
    "## 43. Convert a string into a list of words.\n",
    "\n",
    "str_1 = input()\n",
    "l_1 = str_1.split()\n",
    "print(l_1)"
   ]
  },
  {
   "cell_type": "code",
   "execution_count": 36,
   "id": "a2e9843d-cde7-4311-a928-72492b83d7e5",
   "metadata": {},
   "outputs": [
    {
     "name": "stdout",
     "output_type": "stream",
     "text": [
      "I am Azad\n"
     ]
    }
   ],
   "source": [
    "## 44. Convert a list of words into a string.\n",
    "\n",
    "l_1 = ['I', 'am', 'Azad']\n",
    "print(' '.join(l_1))"
   ]
  },
  {
   "cell_type": "code",
   "execution_count": 39,
   "id": "98733659-5f4e-4a01-8edc-c53fe07cd9d8",
   "metadata": {},
   "outputs": [
    {
     "name": "stdin",
     "output_type": "stream",
     "text": [
      "Enter the positive integer upto which you want the power of 2 to be listed out:  3\n"
     ]
    },
    {
     "data": {
      "text/plain": [
       "[2, 4, 8]"
      ]
     },
     "execution_count": 39,
     "metadata": {},
     "output_type": "execute_result"
    }
   ],
   "source": [
    "## 45. Create a list of the first n powers of 2.\n",
    "\n",
    "l_1 = []\n",
    "n = int(input('Enter the positive integer upto which you want the power of 2 to be listed out: '))\n",
    "for i in range(1, n+1):\n",
    "    l_1.append(2**i)\n",
    "    \n",
    "l_1"
   ]
  },
  {
   "cell_type": "code",
   "execution_count": 40,
   "id": "b283e78b-5e9f-4735-81ce-757bb6fd4fae",
   "metadata": {},
   "outputs": [
    {
     "name": "stdout",
     "output_type": "stream",
     "text": [
      "Sanjida\n"
     ]
    }
   ],
   "source": [
    "## 46. Find the longest string in a list of strings.\n",
    "\n",
    "l=['Kaiser','Akram','Sanjida','Farzana']\n",
    "long_str = ''\n",
    "for x in l:\n",
    "    if len(x) > len(long_str):\n",
    "        long_str = x\n",
    "print(long_str)\n"
   ]
  },
  {
   "cell_type": "code",
   "execution_count": 43,
   "id": "e9912e97-9914-42de-a951-b16a57627dac",
   "metadata": {},
   "outputs": [
    {
     "name": "stdout",
     "output_type": "stream",
     "text": [
      "Akram\n"
     ]
    }
   ],
   "source": [
    "## 47. Find the shortest string in a list of strings.\n",
    "\n",
    "l=['Kaiser','Akram','Sanjida','Farzana']\n",
    "short_str = l[0]\n",
    "for x in l:\n",
    "    if len(x) < len(short_str):\n",
    "        short_str = x\n",
    "print(short_str)\n"
   ]
  },
  {
   "cell_type": "code",
   "execution_count": 44,
   "id": "a5037c82-e148-4d0f-ab3e-0dfd30f6af5c",
   "metadata": {},
   "outputs": [
    {
     "name": "stdin",
     "output_type": "stream",
     "text": [
      "Enter n 10\n"
     ]
    },
    {
     "name": "stdout",
     "output_type": "stream",
     "text": [
      "[1, 3, 6, 10, 15, 21, 28, 36, 45]\n"
     ]
    }
   ],
   "source": [
    "## 48. Create a list of the first n triangular numbers.\n",
    "\n",
    "n = int(input('Enter n'))\n",
    "l = list(range(1,n))\n",
    "t=[]\n",
    "s=0\n",
    "for x in l:\n",
    "    s=s+x\n",
    "    t.append(s)\n",
    "print(t)"
   ]
  },
  {
   "cell_type": "code",
   "execution_count": 45,
   "id": "e5901aa6-328e-4111-8013-972d5e103538",
   "metadata": {},
   "outputs": [
    {
     "name": "stdout",
     "output_type": "stream",
     "text": [
      "yes\n"
     ]
    }
   ],
   "source": [
    "## 49. Check if a list contains another list as a subsequence.\n",
    "\n",
    "l=[1,2,3,[1,2,3,4]]\n",
    "c=0\n",
    "for x in l:\n",
    "    if type(x) == list:\n",
    "        c=c+1\n",
    "if c>0:\n",
    "    print('yes')\n",
    "else:\n",
    "    print('no')"
   ]
  },
  {
   "cell_type": "code",
   "execution_count": 47,
   "id": "c221b86b-8e60-43d6-93b3-6e626d488c88",
   "metadata": {},
   "outputs": [
    {
     "data": {
      "text/plain": [
       "[1, 2, 3, 6, 3, 6, 7]"
      ]
     },
     "execution_count": 47,
     "metadata": {},
     "output_type": "execute_result"
    }
   ],
   "source": [
    "## 50. Swap two elements in a list by their indices.\n",
    "\n",
    "g=[1,2,3,4,5,6,7]\n",
    "t=g[2]\n",
    "g[3]=g[5]    #swap 4th and 6th element\n",
    "g[4]=t\n",
    "g"
   ]
  },
  {
   "cell_type": "markdown",
   "id": "ca8c48e2-033f-4304-82c2-32374c63c987",
   "metadata": {},
   "source": [
    "## Tuple Based Practice Problem:"
   ]
  },
  {
   "cell_type": "code",
   "execution_count": 53,
   "id": "38bc03ae-461b-4023-bb4b-36584c5ac2cf",
   "metadata": {},
   "outputs": [
    {
     "data": {
      "text/plain": [
       "tuple"
      ]
     },
     "execution_count": 53,
     "metadata": {},
     "output_type": "execute_result"
    }
   ],
   "source": [
    "## 1. Create a tuple with integers from 1 to 5.\n",
    "\n",
    "t=tuple(range(1,8))\n",
    "t\n",
    "type(t)"
   ]
  },
  {
   "cell_type": "code",
   "execution_count": 54,
   "id": "cc6be8c3-f35d-4a37-a437-00b79a890b51",
   "metadata": {},
   "outputs": [
    {
     "data": {
      "text/plain": [
       "3"
      ]
     },
     "execution_count": 54,
     "metadata": {},
     "output_type": "execute_result"
    }
   ],
   "source": [
    "## 2. Access the third element of a tuple.\n",
    "\n",
    "t=tuple(range(1,8))\n",
    "t[2]"
   ]
  },
  {
   "cell_type": "code",
   "execution_count": 55,
   "id": "d245ba4e-e56b-430d-a126-39cc7667bf5a",
   "metadata": {},
   "outputs": [
    {
     "name": "stdout",
     "output_type": "stream",
     "text": [
      "7\n"
     ]
    }
   ],
   "source": [
    "## 3. Find the length of a tuple without using the len() function.\n",
    "\n",
    "t=tuple(range(1,8))\n",
    "c=0\n",
    "for x in t:\n",
    "    c=c+1\n",
    "print(c)"
   ]
  },
  {
   "cell_type": "code",
   "execution_count": 57,
   "id": "386d550a-b0d4-474f-b46b-255bdbe5fee3",
   "metadata": {},
   "outputs": [
    {
     "name": "stdout",
     "output_type": "stream",
     "text": [
      "2\n"
     ]
    }
   ],
   "source": [
    "## 4. Count the occurrences of an element in a tuple.\n",
    "\n",
    "t=(1,2,4,1,0,5,2,9)  #test  tuple\n",
    "n=1                #number to be checked\n",
    "c=0\n",
    "for x in t:\n",
    "    if x==n:\n",
    "        c=c+1\n",
    "print(c)\n",
    "            "
   ]
  },
  {
   "cell_type": "code",
   "execution_count": 61,
   "id": "0d5d72aa-da71-40fa-90bc-b74715c1ba18",
   "metadata": {},
   "outputs": [
    {
     "data": {
      "text/plain": [
       "2"
      ]
     },
     "execution_count": 61,
     "metadata": {},
     "output_type": "execute_result"
    }
   ],
   "source": [
    "## 5. Find the index of the first occurrence of an element in a tuple.\n",
    "\n",
    "t_1 = (3,4,5,'g','g','h','e','h')\n",
    "t_1.count('h')"
   ]
  },
  {
   "cell_type": "code",
   "execution_count": 63,
   "id": "57a2a57c-708a-435c-b789-2d0f789289ef",
   "metadata": {},
   "outputs": [
    {
     "name": "stdout",
     "output_type": "stream",
     "text": [
      "yes\n"
     ]
    }
   ],
   "source": [
    "## 6. Check if an element exists in a tuple.\n",
    "\n",
    "t_list=(4,5,7,1,2,9,3,5,4,5)\n",
    "numb=4                #number to be checked\n",
    "for i in t_list:\n",
    "    if i == numb:\n",
    "        print('yes')\n",
    "        break"
   ]
  },
  {
   "cell_type": "code",
   "execution_count": 66,
   "id": "fdc50db2-0b05-4008-b2ff-b5afbf4ab5e0",
   "metadata": {},
   "outputs": [
    {
     "data": {
      "text/plain": [
       "[4, 5, 7, 1, 3, 5, 4, 5]"
      ]
     },
     "execution_count": 66,
     "metadata": {},
     "output_type": "execute_result"
    }
   ],
   "source": [
    "## 7.Convert a tuple to a list.\n",
    "\n",
    "tp=(4,5,7,1,3,5,4,5)\n",
    "l_1=list(t)\n",
    "l_1"
   ]
  },
  {
   "cell_type": "code",
   "execution_count": 67,
   "id": "7f592187-6d75-4bd9-81c5-6683003f6fbc",
   "metadata": {},
   "outputs": [
    {
     "data": {
      "text/plain": [
       "(1, 2, 9, 3, 5, 4, 5)"
      ]
     },
     "execution_count": 67,
     "metadata": {},
     "output_type": "execute_result"
    }
   ],
   "source": [
    "## 8. Convert a list to a tuple.\n",
    "\n",
    "l_1=[1, 2, 9, 3, 5, 4, 5]\n",
    "tp=tuple(l_1)\n",
    "tp"
   ]
  },
  {
   "cell_type": "code",
   "execution_count": 70,
   "id": "63730fba-bc29-40e4-87f4-2b98d38841d1",
   "metadata": {},
   "outputs": [
    {
     "name": "stdout",
     "output_type": "stream",
     "text": [
      "4\n",
      "5\n",
      "7\n",
      "1\n",
      "2\n",
      "9\n"
     ]
    }
   ],
   "source": [
    "## 9. Unpack the elements of a tuple into variables.\n",
    "\n",
    "tp = (4,5,7,1,2,9)\n",
    "for i in tp:\n",
    "    a = i\n",
    "    print(a)  "
   ]
  },
  {
   "cell_type": "code",
   "execution_count": 71,
   "id": "72750143-1a4a-45fb-9022-f2674662da87",
   "metadata": {},
   "outputs": [
    {
     "data": {
      "text/plain": [
       "(2, 4, 6, 8, 10)"
      ]
     },
     "execution_count": 71,
     "metadata": {},
     "output_type": "execute_result"
    }
   ],
   "source": [
    "## 10. Create a tuple of even numbers from 1 to 10.\n",
    "\n",
    "list_1 = []\n",
    "for i in range(1, 11):\n",
    "    if i%2==0:\n",
    "        list_1.append(i)\n",
    "t_1 = tuple(list_1)\n",
    "t_1"
   ]
  },
  {
   "cell_type": "code",
   "execution_count": 72,
   "id": "f27f3d88-ea41-430f-8972-87fc121c7f94",
   "metadata": {},
   "outputs": [
    {
     "data": {
      "text/plain": [
       "(1, 3, 5, 7, 9)"
      ]
     },
     "execution_count": 72,
     "metadata": {},
     "output_type": "execute_result"
    }
   ],
   "source": [
    "## 11. Create a tuple of odd numbers from 1 to 10.\n",
    "\n",
    "l_1 = []\n",
    "for j in range(1, 11):\n",
    "    if j%2!=0:\n",
    "        l_1.append(j)\n",
    "tp_1 = tuple(l_1)\n",
    "tp_1"
   ]
  },
  {
   "cell_type": "code",
   "execution_count": 73,
   "id": "64d8fdd8-2096-4ebf-91bc-749d37c6de00",
   "metadata": {},
   "outputs": [
    {
     "data": {
      "text/plain": [
       "(1, 2, 3, 4, 5, 6, 7, 8, 9, 11, 12, 13, 14, 15, 16, 17, 18, 19)"
      ]
     },
     "execution_count": 73,
     "metadata": {},
     "output_type": "execute_result"
    }
   ],
   "source": [
    "## 12. Concatenate two tuples.\n",
    "\n",
    "tp=tuple(range(1,10))\n",
    "tp1=tuple(range(11,20))\n",
    "tp+tp1"
   ]
  },
  {
   "cell_type": "code",
   "execution_count": 74,
   "id": "76229d0e-7382-4353-a454-6cf5d0658246",
   "metadata": {},
   "outputs": [
    {
     "data": {
      "text/plain": [
       "(1, 2, 1, 2, 1, 2)"
      ]
     },
     "execution_count": 74,
     "metadata": {},
     "output_type": "execute_result"
    }
   ],
   "source": [
    "## 13. Repeat a tuple three times.\n",
    "\n",
    "tp=tuple(range(1,3))*3\n",
    "tp"
   ]
  },
  {
   "cell_type": "code",
   "execution_count": 75,
   "id": "7a63cc93-0e99-4154-9341-89d64c10ff43",
   "metadata": {},
   "outputs": [
    {
     "name": "stdout",
     "output_type": "stream",
     "text": [
      "empty\n"
     ]
    }
   ],
   "source": [
    "## 14. Check if a tuple is empty.\n",
    "\n",
    "t=()\n",
    "if len(t) == 0:\n",
    "    print('empty')"
   ]
  },
  {
   "cell_type": "code",
   "execution_count": 76,
   "id": "eff60c16-49fc-4411-ad32-37f94db427e3",
   "metadata": {},
   "outputs": [
    {
     "data": {
      "text/plain": [
       "(1, 2, 3, (4, 5, 6))"
      ]
     },
     "execution_count": 76,
     "metadata": {},
     "output_type": "execute_result"
    }
   ],
   "source": [
    "## 15. Create a nested tuple.\n",
    "\n",
    "tp=(1,2,3,(4,5,6))\n",
    "tp"
   ]
  },
  {
   "cell_type": "code",
   "execution_count": 77,
   "id": "c24de5bc-366d-407d-92c8-72c6f9a0cfe9",
   "metadata": {},
   "outputs": [
    {
     "data": {
      "text/plain": [
       "4"
      ]
     },
     "execution_count": 77,
     "metadata": {},
     "output_type": "execute_result"
    }
   ],
   "source": [
    "## 16. Access the first element of a nested tuple.\n",
    "\n",
    "tp = (1, 2, 3, (4, 5, 6))\n",
    "tp[3][0]"
   ]
  },
  {
   "cell_type": "code",
   "execution_count": 78,
   "id": "5c746257-eca9-4212-8de4-cd00c6c8d3f7",
   "metadata": {},
   "outputs": [
    {
     "data": {
      "text/plain": [
       "(1,)"
      ]
     },
     "execution_count": 78,
     "metadata": {},
     "output_type": "execute_result"
    }
   ],
   "source": [
    "## 17. Create a tuple with a single element.\n",
    "\n",
    "tp = 1,\n",
    "tp"
   ]
  },
  {
   "cell_type": "code",
   "execution_count": 80,
   "id": "c9e4e234-fd91-4a4d-9b89-164e0ee669d5",
   "metadata": {},
   "outputs": [
    {
     "name": "stdout",
     "output_type": "stream",
     "text": [
      "tuple1 == tuple2: False\n",
      "tuple1 != tuple2: True\n",
      "tuple1 < tuple2: True\n",
      "tuple1 <= tuple2: True\n",
      "tuple1 > tuple2: False\n",
      "tuple1 >= tuple2: False\n"
     ]
    }
   ],
   "source": [
    "## 18. Compare two tuples.\n",
    "\n",
    "tp1 = (1,2,3,4,5)\n",
    "tp2 = (1,3,4)\n",
    "\n",
    "print(\"tuple1 == tuple2:\", tp1 == tp2)  # Equality check\n",
    "print(\"tuple1 != tuple2:\", tp1 != tp2)  # Inequality check\n",
    "print(\"tuple1 < tuple2:\", tp1 < tp2)    # Less than check\n",
    "print(\"tuple1 <= tuple2:\", tp1 <= tp2)  # Less than or equal to check\n",
    "print(\"tuple1 > tuple2:\", tp1 > tp2)    # Greater than check\n",
    "print(\"tuple1 >= tuple2:\", tp1 >= tp2)  # Greater than or equal to check"
   ]
  },
  {
   "cell_type": "code",
   "execution_count": 83,
   "id": "771672e6-b90e-4055-8bbf-4d15a099ee74",
   "metadata": {},
   "outputs": [
    {
     "ename": "NameError",
     "evalue": "name 'tp' is not defined",
     "output_type": "error",
     "traceback": [
      "\u001b[0;31m---------------------------------------------------------------------------\u001b[0m",
      "\u001b[0;31mNameError\u001b[0m                                 Traceback (most recent call last)",
      "Cell \u001b[0;32mIn[83], line 5\u001b[0m\n\u001b[1;32m      3\u001b[0m tp\u001b[38;5;241m=\u001b[39m\u001b[38;5;28mtuple\u001b[39m(\u001b[38;5;28mrange\u001b[39m(\u001b[38;5;241m1\u001b[39m,\u001b[38;5;241m5\u001b[39m))\n\u001b[1;32m      4\u001b[0m \u001b[38;5;28;01mdel\u001b[39;00m tp\n\u001b[0;32m----> 5\u001b[0m \u001b[43mtp\u001b[49m\n",
      "\u001b[0;31mNameError\u001b[0m: name 'tp' is not defined"
     ]
    }
   ],
   "source": [
    "## 19. Delete a tuple.\n",
    "\n",
    "tp=tuple(range(1,5))\n",
    "del tp\n",
    "tp"
   ]
  },
  {
   "cell_type": "code",
   "execution_count": 85,
   "id": "a10c55b6-f85a-421b-bdd6-a4804ba7d25d",
   "metadata": {},
   "outputs": [
    {
     "data": {
      "text/plain": [
       "(4, ('am', '12', 'hl'))"
      ]
     },
     "execution_count": 85,
     "metadata": {},
     "output_type": "execute_result"
    }
   ],
   "source": [
    "## 20. Slice a tuple.\n",
    "\n",
    "tp = (1,2,3,4,('am', '12', 'hl'))\n",
    "tp[3:5]"
   ]
  },
  {
   "cell_type": "code",
   "execution_count": 86,
   "id": "f4317802-b3b2-4d4c-a537-db07a5ad5fb8",
   "metadata": {},
   "outputs": [
    {
     "data": {
      "text/plain": [
       "20"
      ]
     },
     "execution_count": 86,
     "metadata": {},
     "output_type": "execute_result"
    }
   ],
   "source": [
    "## 21. Find the maximum value in a tuple.\n",
    "\n",
    "tp = (1, 13, 20)\n",
    "max(tp)"
   ]
  },
  {
   "cell_type": "code",
   "execution_count": 87,
   "id": "5b2ca0c9-0716-411e-995a-8221bb9882e8",
   "metadata": {},
   "outputs": [
    {
     "data": {
      "text/plain": [
       "1"
      ]
     },
     "execution_count": 87,
     "metadata": {},
     "output_type": "execute_result"
    }
   ],
   "source": [
    "## 22. Find the minimum value in a tuple.\n",
    "\n",
    "tp = (1, 13, 20)\n",
    "min(tp)"
   ]
  },
  {
   "cell_type": "code",
   "execution_count": 89,
   "id": "a86c8646-eeae-4648-b91b-59de941f0974",
   "metadata": {},
   "outputs": [
    {
     "data": {
      "text/plain": [
       "('H', 'i', 'A', 'z', 'a', 'd')"
      ]
     },
     "execution_count": 89,
     "metadata": {},
     "output_type": "execute_result"
    }
   ],
   "source": [
    "## 23. Convert a string to a tuple of characters.\n",
    "\n",
    "tp='HiAzad'\n",
    "tp1=tuple(tp)\n",
    "tp1"
   ]
  },
  {
   "cell_type": "code",
   "execution_count": 90,
   "id": "63e50fa1-8c67-4dcb-8267-f009816692ed",
   "metadata": {},
   "outputs": [
    {
     "name": "stdout",
     "output_type": "stream",
     "text": [
      "Azad\n"
     ]
    },
    {
     "data": {
      "text/plain": [
       "str"
      ]
     },
     "execution_count": 90,
     "metadata": {},
     "output_type": "execute_result"
    }
   ],
   "source": [
    "## 24. Convert a tuple of characters to a string.\n",
    "\n",
    "tp = ('A','z','a','d')\n",
    "string=''\n",
    "for i in tp:\n",
    "    string = string+i\n",
    "print(string)\n",
    "type(string)"
   ]
  },
  {
   "cell_type": "code",
   "execution_count": 91,
   "id": "62d27c7c-9176-48fd-86a6-86232e81e817",
   "metadata": {},
   "outputs": [
    {
     "data": {
      "text/plain": [
       "(1, 2, 3, 'Azad', [1, 2, 3], {1, 2, 3})"
      ]
     },
     "execution_count": 91,
     "metadata": {},
     "output_type": "execute_result"
    }
   ],
   "source": [
    "## 25. Create a tuple from multiple data types.\n",
    "\n",
    "tp=(1,2,3,'Azad',[1,2,3],{1,2,3,})\n",
    "tp"
   ]
  },
  {
   "cell_type": "code",
   "execution_count": 94,
   "id": "fccd2e18-c165-443c-a5eb-74bab68ca9ec",
   "metadata": {},
   "outputs": [
    {
     "name": "stdout",
     "output_type": "stream",
     "text": [
      "identical\n"
     ]
    }
   ],
   "source": [
    "## 26. Check if two tuples are identical.\n",
    "\n",
    "tp1 = tuple(range(1,11))\n",
    "tp2 = tuple(range(1,11))\n",
    "if tp1 == tp2:\n",
    "    print('identical')\n",
    "else:\n",
    "    print('not identical')"
   ]
  },
  {
   "cell_type": "code",
   "execution_count": 98,
   "id": "84426c1e-1951-459d-bdea-c316824f0b1c",
   "metadata": {},
   "outputs": [
    {
     "data": {
      "text/plain": [
       "(1, 2, 3, 4, 34, 56, 245)"
      ]
     },
     "execution_count": 98,
     "metadata": {},
     "output_type": "execute_result"
    }
   ],
   "source": [
    "## 27. Sort the elements of a tuple.\n",
    "\n",
    "\n",
    "tp=(2,34,1,4,56,3,245)\n",
    "tp=list(tp)\n",
    "tp.sort()\n",
    "tp=tuple(tp)\n",
    "tp"
   ]
  },
  {
   "cell_type": "code",
   "execution_count": 99,
   "id": "679d4f92-758c-4740-93b3-8ad2c0c6e638",
   "metadata": {},
   "outputs": [
    {
     "name": "stdout",
     "output_type": "stream",
     "text": [
      "('1', '2', '3', '4', '5')\n"
     ]
    }
   ],
   "source": [
    "## 28. Convert a tuple of integers to a tuple of strings.\n",
    "\n",
    "tp = (1,2,3,4,5)\n",
    "tp = list(tp)\n",
    "string=[]\n",
    "for i in tp:\n",
    "    i = str(i)\n",
    "    string.append(i)\n",
    "string = tuple(string)\n",
    "print(string)"
   ]
  },
  {
   "cell_type": "code",
   "execution_count": 100,
   "id": "a3898843-1097-45ac-9aba-d2674c440c00",
   "metadata": {},
   "outputs": [
    {
     "name": "stdout",
     "output_type": "stream",
     "text": [
      "(1, 2, 3, 4, 5)\n"
     ]
    }
   ],
   "source": [
    "## 29. Convert a tuple of strings to a tuple of integers.\n",
    "\n",
    "tp=('1','2','3', '4', '5')\n",
    "tp = list(tp)\n",
    "s=[]\n",
    "for i in tp:\n",
    "    i=int(i)\n",
    "    s.append(i)\n",
    "s=tuple(s)\n",
    "print(s)"
   ]
  },
  {
   "cell_type": "code",
   "execution_count": 101,
   "id": "7ed1af53-eacc-4bbb-a9c7-88c46e8709b6",
   "metadata": {},
   "outputs": [
    {
     "data": {
      "text/plain": [
       "(1, 2, 3, 4, 5, 6, 7, 8, 9, 10)"
      ]
     },
     "execution_count": 101,
     "metadata": {},
     "output_type": "execute_result"
    }
   ],
   "source": [
    "## 30. Merge two tuples.\n",
    "\n",
    "tp1=(1,2,3,4,5)\n",
    "tp2=(6,7,8,9,10)\n",
    "s=tp1+tp2\n",
    "s\n"
   ]
  },
  {
   "cell_type": "code",
   "execution_count": 102,
   "id": "c4bd193b-7e9b-47c6-b24d-5a18a1bdac3b",
   "metadata": {},
   "outputs": [
    {
     "data": {
      "text/plain": [
       "[1, 2, 3, 4, 1, 2, 3, 1, 2]"
      ]
     },
     "execution_count": 102,
     "metadata": {},
     "output_type": "execute_result"
    }
   ],
   "source": [
    "## 31. Flatten a nested tuple.\n",
    "\n",
    "from functools import reduce\n",
    "\n",
    "tp_1 = ((1,2,3,4), (1,2,3), (1,), (2,))\n",
    "list(reduce(lambda x, y: x + y, tp_1, ()))"
   ]
  },
  {
   "cell_type": "code",
   "execution_count": 103,
   "id": "da2276c6-3197-49b0-a10a-3679aecfc601",
   "metadata": {},
   "outputs": [
    {
     "name": "stdout",
     "output_type": "stream",
     "text": [
      "Tuple of the first 5 prime numbers: (2, 3, 5, 7, 11)\n"
     ]
    }
   ],
   "source": [
    "## 32. Create a tuple of the first 5 prime numbers.\n",
    "\n",
    "# Function to check if a number is prime\n",
    "def is_prime(num):\n",
    "    if num <= 1:\n",
    "        return False\n",
    "    for i in range(2, int(num ** 0.5) + 1):\n",
    "        if num % i == 0:\n",
    "            return False\n",
    "    return True\n",
    "\n",
    "# Generate the first 5 prime numbers\n",
    "prime_numbers_list = [num for num in range(2, 100) if is_prime(num)][:5]\n",
    "\n",
    "# Convert the list to a tuple\n",
    "prime_numbers_tuple = tuple(prime_numbers_list)\n",
    "\n",
    "# Print the tuple of prime numbers\n",
    "print(\"Tuple of the first 5 prime numbers:\", prime_numbers_tuple)    "
   ]
  },
  {
   "cell_type": "code",
   "execution_count": 105,
   "id": "c0134bdb-14b5-46fa-bb42-985c64c3cb9c",
   "metadata": {},
   "outputs": [
    {
     "name": "stdout",
     "output_type": "stream",
     "text": [
      "yes\n"
     ]
    }
   ],
   "source": [
    "## 33. Check if a tuple is a palindrome.\n",
    "\n",
    "tp=('M','a','l','a','y','a','l','a','m')\n",
    "s=''\n",
    "for i in tp:\n",
    "    s=s+i\n",
    "s=s.upper()\n",
    "if s==s[::-1]:\n",
    "    print('yes')\n",
    "else:\n",
    "    print('no')"
   ]
  },
  {
   "cell_type": "code",
   "execution_count": 106,
   "id": "4bc7a58f-2b3e-46d3-86e6-d41aee9a1dfe",
   "metadata": {},
   "outputs": [
    {
     "name": "stdout",
     "output_type": "stream",
     "text": [
      "(1, 4, 9, 16, 25)\n"
     ]
    }
   ],
   "source": [
    "## 34. Create a tuple of squares of numbers from 1 to 5.\n",
    "\n",
    "tp1=(1,2,3,4,5)\n",
    "tp1= list(tp1)\n",
    "s=[]\n",
    "for i in tp1:\n",
    "    s.append(i*i)\n",
    "s=tuple(s)\n",
    "print(s)\n",
    "    "
   ]
  },
  {
   "cell_type": "code",
   "execution_count": 108,
   "id": "da0ab143-d598-4837-b2ca-f00628d45a7c",
   "metadata": {},
   "outputs": [
    {
     "name": "stdout",
     "output_type": "stream",
     "text": [
      "(1, 5)\n"
     ]
    }
   ],
   "source": [
    "## 35. Filter out all even numbers from a tuple.\n",
    "\n",
    "tp=(1,2,4,5,6)\n",
    "l=list(t)\n",
    "f=[]\n",
    "for i in tp:\n",
    "    if i%2!=0:\n",
    "        f.append(i)\n",
    "f=tuple(f)\n",
    "print(f)"
   ]
  },
  {
   "cell_type": "code",
   "execution_count": 110,
   "id": "dee5d1cd-c368-43e9-b370-f83284baa906",
   "metadata": {},
   "outputs": [
    {
     "name": "stdout",
     "output_type": "stream",
     "text": [
      "(2, 4, 8, 10)\n"
     ]
    }
   ],
   "source": [
    "## 36. Multiply all elements in a tuple by 2.\n",
    "\n",
    "tp=(1,2,4,5)\n",
    "tp=list(tp)\n",
    "m=[]\n",
    "for i in tp:\n",
    "    m.append(i*2)\n",
    "m=tuple(m)\n",
    "print(m)"
   ]
  },
  {
   "cell_type": "code",
   "execution_count": 111,
   "id": "d03f385a-b433-4b00-96ca-7bb518d7cc42",
   "metadata": {},
   "outputs": [
    {
     "name": "stdout",
     "output_type": "stream",
     "text": [
      "Random tuple: (4, 44, 1, 64, 49, 37, 61, 14, 80, 70)\n"
     ]
    }
   ],
   "source": [
    "## 37. Create a tuple of random numbers.\n",
    "\n",
    "import random\n",
    "\n",
    "# Create a tuple of random numbers using a list comprehension\n",
    "random_tuple = tuple(random.randint(1, 100) for i in range(10))  # Generating 10 random numbers between 1 and 100\n",
    "\n",
    "# Print the tuple of random numbers\n",
    "print(\"Random tuple:\", random_tuple)"
   ]
  },
  {
   "cell_type": "code",
   "execution_count": 113,
   "id": "a4278c18-a322-4793-b034-899873e17abc",
   "metadata": {},
   "outputs": [
    {
     "name": "stdout",
     "output_type": "stream",
     "text": [
      "no\n"
     ]
    }
   ],
   "source": [
    "## 38. Check if a tuple is sorted.\n",
    "\n",
    "tp=()\n",
    "tp=(1,2,8,4,5,43,6)\n",
    "m=tuple(sorted(tp))\n",
    "if tp==m:\n",
    "    print('yes')\n",
    "else:\n",
    "    print('no')"
   ]
  },
  {
   "cell_type": "code",
   "execution_count": 116,
   "id": "8d8d2130-4fd2-4f17-8d41-54b545b8ffc9",
   "metadata": {},
   "outputs": [
    {
     "name": "stdout",
     "output_type": "stream",
     "text": [
      "(3, 2, 4, 8, 10, 1)\n"
     ]
    }
   ],
   "source": [
    "## 39. Rotate a tuple to the left by n positions.\n",
    "\n",
    "l1= (1,3,2,4,8,10)\n",
    "l1=list(l1)\n",
    "y=l1[-1]\n",
    "for i in l1:\n",
    "    i = l1.index(i)\n",
    "    l1[i-1]=l1[i]\n",
    "l1[-2] = y\n",
    "l1=tuple(l1)\n",
    "print(l1)"
   ]
  },
  {
   "cell_type": "code",
   "execution_count": 117,
   "id": "417ee6cc-fac9-4cc9-8b31-bb0360d1a8f8",
   "metadata": {},
   "outputs": [
    {
     "name": "stdout",
     "output_type": "stream",
     "text": [
      "[8, 1, 4, 2, 5, 2, 3, 6, 8]\n"
     ]
    }
   ],
   "source": [
    "## 40. Rotate a tuple to the right by n positions.\n",
    "\n",
    "tp= (1,4,2,5,2,3,6,8)\n",
    "tp=list(tp)\n",
    "s=tp[-1]\n",
    "f = tp[0:len(t)-1]\n",
    "f.insert(0,s)\n",
    "print(f)"
   ]
  },
  {
   "cell_type": "code",
   "execution_count": 118,
   "id": "021fe637-ca6e-4402-9514-5f23266bce14",
   "metadata": {},
   "outputs": [
    {
     "name": "stdout",
     "output_type": "stream",
     "text": [
      "(0, 1, 1, 2, 3, 5)\n"
     ]
    }
   ],
   "source": [
    "## 41. Create a tuple of the first 5 Fibonacci numbers.\n",
    "\n",
    "c=1\n",
    "s=0\n",
    "l=[0,1]\n",
    "while c<5:\n",
    "    s=l[c-1]+l[c]\n",
    "    l.append(s)\n",
    "    c=c+1\n",
    "l=tuple(l)\n",
    "print(l)"
   ]
  },
  {
   "cell_type": "code",
   "execution_count": 119,
   "id": "e95d3e55-29d1-48ec-9a73-0407c3a69347",
   "metadata": {},
   "outputs": [
    {
     "name": "stdin",
     "output_type": "stream",
     "text": [
      "Enter a tuple:  1234567890\n"
     ]
    },
    {
     "data": {
      "text/plain": [
       "('1', '2', '3', '4', '5', '6', '7', '8', '9', '0')"
      ]
     },
     "execution_count": 119,
     "metadata": {},
     "output_type": "execute_result"
    }
   ],
   "source": [
    "## 42. Create a tuple from user input.\n",
    "\n",
    "tp = tuple(input('Enter a tuple: '))\n",
    "tp"
   ]
  },
  {
   "cell_type": "code",
   "execution_count": 122,
   "id": "99bf5bb0-d4a7-410a-bdf5-317c40da3bf8",
   "metadata": {},
   "outputs": [
    {
     "name": "stdout",
     "output_type": "stream",
     "text": [
      "(1, 45, 2, 3, 4, 5)\n"
     ]
    }
   ],
   "source": [
    "## 43. Swap two elements in a tuple.\n",
    "\n",
    "tp=(1,3,2,45,4,5)\n",
    "tp=list(tp)\n",
    "temp =tp[1]         #swapping 2nd and 4th element\n",
    "tp[1]=tp[3]\n",
    "tp[3]=temp\n",
    "print(tuple(tp))"
   ]
  },
  {
   "cell_type": "code",
   "execution_count": 123,
   "id": "6199d782-29c2-4b9b-95e4-0004ab408e2f",
   "metadata": {},
   "outputs": [
    {
     "name": "stdout",
     "output_type": "stream",
     "text": [
      "(5, 4, 2, 3, 7, 1)\n"
     ]
    }
   ],
   "source": [
    "## 44. Reverse the elements of a tuple.\n",
    "\n",
    "tp=(1,7,3,2,4,5)\n",
    "tp=tp[::-1]\n",
    "print(tp)"
   ]
  },
  {
   "cell_type": "code",
   "execution_count": 124,
   "id": "403f6602-b26e-404f-b9dd-429ec231a1ef",
   "metadata": {},
   "outputs": [
    {
     "name": "stdin",
     "output_type": "stream",
     "text": [
      "Enter n 6\n"
     ]
    },
    {
     "name": "stdout",
     "output_type": "stream",
     "text": [
      "(1, 2, 4, 8, 16, 32, 64)\n"
     ]
    }
   ],
   "source": [
    "## 45. Create a tuple of the first n powers of 2.\n",
    "\n",
    "n=int(input('Enter n'))\n",
    "i=0\n",
    "l=[]\n",
    "while i<=n:\n",
    "    l.append(2**i)\n",
    "    i=i+1\n",
    "print(tuple(l))"
   ]
  },
  {
   "cell_type": "code",
   "execution_count": 126,
   "id": "9c644b94-e2f5-4877-978a-872833566807",
   "metadata": {},
   "outputs": [
    {
     "name": "stdout",
     "output_type": "stream",
     "text": [
      "Longest string: Bangladesh\n"
     ]
    }
   ],
   "source": [
    "## 46. Find the longest string in a tuple of strings.\n",
    "\n",
    "string_tuple = (\"Sweden\", \"India\", \"Bangladesh\", \"Pakistan\", \"Srilanka\")\n",
    "\n",
    "longest_string = max(string_tuple, key=len)\n",
    "\n",
    "print(\"Longest string:\", longest_string)"
   ]
  },
  {
   "cell_type": "code",
   "execution_count": 127,
   "id": "12ff6990-cc35-438d-8448-c4a3fe190a35",
   "metadata": {},
   "outputs": [
    {
     "name": "stdout",
     "output_type": "stream",
     "text": [
      "Longest string: India\n"
     ]
    }
   ],
   "source": [
    "## 47. Find the shortest string in a tuple of strings.\n",
    "\n",
    "string_tuple = (\"Sweden\", \"India\", \"Bangladesh\", \"Pakistan\", \"Srilanka\")\n",
    "\n",
    "shortest_string = min(string_tuple, key=len)\n",
    "\n",
    "print(\"Longest string:\", shortest_string)"
   ]
  },
  {
   "cell_type": "code",
   "execution_count": 128,
   "id": "8ba385ee-e4ce-4155-87ee-40973a06936f",
   "metadata": {},
   "outputs": [
    {
     "name": "stdin",
     "output_type": "stream",
     "text": [
      "Enter n 5\n"
     ]
    },
    {
     "name": "stdout",
     "output_type": "stream",
     "text": [
      "(1, 3, 6, 10)\n"
     ]
    }
   ],
   "source": [
    "## 48. Create a tuple of the first n triangular numbers.\n",
    "\n",
    "n = int(input('Enter n'))\n",
    "l = list(range(1,n))\n",
    "t=[]\n",
    "s=0\n",
    "for x in l:\n",
    "    s=s+x\n",
    "    t.append(s)\n",
    "print(tuple(t))"
   ]
  },
  {
   "cell_type": "code",
   "execution_count": 129,
   "id": "e781bea8-c75b-460f-a795-b1e0f547bbba",
   "metadata": {},
   "outputs": [
    {
     "name": "stdout",
     "output_type": "stream",
     "text": [
      "yes\n"
     ]
    }
   ],
   "source": [
    "## 49. Check if a tuple contains another tuple as a subsequence.\n",
    "\n",
    "l=(1,2,3,(1,2,3,4))\n",
    "c=0\n",
    "for x in l:\n",
    "    if type(x) == tuple:\n",
    "        c=c+1\n",
    "if c>0:\n",
    "    print('yes')\n",
    "else:\n",
    "    print('no')"
   ]
  },
  {
   "cell_type": "code",
   "execution_count": 130,
   "id": "084a1674-7dbb-4168-81be-88b6fd71f332",
   "metadata": {},
   "outputs": [
    {
     "name": "stdin",
     "output_type": "stream",
     "text": [
      "Enter n 5\n"
     ]
    },
    {
     "name": "stdout",
     "output_type": "stream",
     "text": [
      "[1, 0, 1, 0, 1]\n"
     ]
    }
   ],
   "source": [
    "## 50. Create a tuple of alternating 1s and 0s of length n.\n",
    "\n",
    "n=int(input('Enter n'))\n",
    "t=[]\n",
    "i=0\n",
    "while i<n:\n",
    "    if i%2==0:\n",
    "        t.append(1)\n",
    "    else:\n",
    "        t.append(0)\n",
    "    i=i+1\n",
    "print(t)"
   ]
  },
  {
   "cell_type": "markdown",
   "id": "6c865a93-0d66-4c9e-929d-3842a6882ba8",
   "metadata": {},
   "source": [
    "## Set Based Practice Problem:"
   ]
  },
  {
   "cell_type": "code",
   "execution_count": 1,
   "id": "8f5de462-7443-4ebb-a386-dbd8fe96f228",
   "metadata": {},
   "outputs": [
    {
     "data": {
      "text/plain": [
       "{1, 2, 3, 4, 5}"
      ]
     },
     "execution_count": 1,
     "metadata": {},
     "output_type": "execute_result"
    }
   ],
   "source": [
    "## 1. Create a set with integers from 1 to 5.\n",
    "\n",
    "int_set = {1,2,3,4,5}\n",
    "int_set"
   ]
  },
  {
   "cell_type": "code",
   "execution_count": 6,
   "id": "1ef249f6-b73b-42cb-8c93-3fcc6023d7d1",
   "metadata": {},
   "outputs": [
    {
     "data": {
      "text/plain": [
       "{1, 2, 3, 4, 5, 10, 20}"
      ]
     },
     "execution_count": 6,
     "metadata": {},
     "output_type": "execute_result"
    }
   ],
   "source": [
    "## 2. Add an element to a set.\n",
    "\n",
    "s={1,2,3,4,5,20}\n",
    "g=list(s)\n",
    "g.append(10)    #add element 7\n",
    "g=set(g)\n",
    "g"
   ]
  },
  {
   "cell_type": "code",
   "execution_count": 7,
   "id": "b49a945e-ed32-47ad-a5a7-0decac86da04",
   "metadata": {},
   "outputs": [
    {
     "name": "stdout",
     "output_type": "stream",
     "text": [
      "{1, 2, 3, 4, 10}\n"
     ]
    }
   ],
   "source": [
    "## 3. Remove an element from a set.\n",
    "\n",
    "s={1,2,3,4,5,10}\n",
    "s=list(s)\n",
    "s.remove(5)    \n",
    "print(set(s))"
   ]
  },
  {
   "cell_type": "code",
   "execution_count": 8,
   "id": "06e06eeb-9779-49ae-b7c5-135c5166459e",
   "metadata": {},
   "outputs": [
    {
     "name": "stdout",
     "output_type": "stream",
     "text": [
      "no\n"
     ]
    }
   ],
   "source": [
    "## 4. Check if an element exists in a set.\n",
    "\n",
    "s={2,3,4,1,3}\n",
    "s=list(s)\n",
    "c=0\n",
    "for x in s:\n",
    "    if x==9:    #check if 9 is there\n",
    "        c=c+1\n",
    "if c>0:\n",
    "    print('yes')\n",
    "else:\n",
    "    print('no')"
   ]
  },
  {
   "cell_type": "code",
   "execution_count": 11,
   "id": "2a1da58c-ad65-47bd-adbe-919eded51449",
   "metadata": {},
   "outputs": [
    {
     "name": "stdout",
     "output_type": "stream",
     "text": [
      "10\n"
     ]
    }
   ],
   "source": [
    "## 5. Find the length of a set without using the len() function.\n",
    "\n",
    "test = set(range(10))\n",
    "test = list(test)\n",
    "c=0\n",
    "for i in test:\n",
    "    c=c+1\n",
    "print(c)"
   ]
  },
  {
   "cell_type": "code",
   "execution_count": 12,
   "id": "ed703f48-4b6c-46be-b3a8-ae19c87db6e1",
   "metadata": {},
   "outputs": [
    {
     "data": {
      "text/plain": [
       "set()"
      ]
     },
     "execution_count": 12,
     "metadata": {},
     "output_type": "execute_result"
    }
   ],
   "source": [
    "## 6. Clear all elements from a set.\n",
    "\n",
    "s={1,2,3,4,5}\n",
    "s.clear()\n",
    "s"
   ]
  },
  {
   "cell_type": "code",
   "execution_count": 13,
   "id": "f53383bc-1422-49fc-99e7-3548e70efc92",
   "metadata": {},
   "outputs": [
    {
     "data": {
      "text/plain": [
       "{2, 4, 6, 8, 10}"
      ]
     },
     "execution_count": 13,
     "metadata": {},
     "output_type": "execute_result"
    }
   ],
   "source": [
    "## 7. Create a set of even numbers from 1 to 10.\n",
    "\n",
    "s=set(range(2,11,2))\n",
    "s"
   ]
  },
  {
   "cell_type": "code",
   "execution_count": 14,
   "id": "8969d2f5-5ebc-448f-ab55-c6e726243804",
   "metadata": {},
   "outputs": [
    {
     "data": {
      "text/plain": [
       "{1, 3, 5, 7, 9}"
      ]
     },
     "execution_count": 14,
     "metadata": {},
     "output_type": "execute_result"
    }
   ],
   "source": [
    "## 8. Create a set of odd numbers from 1 to 10.\n",
    "\n",
    "s=set(range(1,11,2))\n",
    "s"
   ]
  },
  {
   "cell_type": "code",
   "execution_count": 15,
   "id": "81b53925-77d3-4078-a911-c2b08485977e",
   "metadata": {},
   "outputs": [
    {
     "data": {
      "text/plain": [
       "{1, 2, 3, 4, 5, 6}"
      ]
     },
     "execution_count": 15,
     "metadata": {},
     "output_type": "execute_result"
    }
   ],
   "source": [
    "## 9. Find the union of two sets.\n",
    "\n",
    "s={1,2,3,4}\n",
    "s1={3,4,5,6}\n",
    "f=s.union(s1)\n",
    "f"
   ]
  },
  {
   "cell_type": "code",
   "execution_count": 16,
   "id": "4bc241bf-5901-49f3-a1ba-6f614e5a8e60",
   "metadata": {},
   "outputs": [
    {
     "data": {
      "text/plain": [
       "{3, 4}"
      ]
     },
     "execution_count": 16,
     "metadata": {},
     "output_type": "execute_result"
    }
   ],
   "source": [
    "## 10. Find the intersection of two sets.\n",
    "\n",
    "s={1,2,3,4}\n",
    "s1={3,4,5,6}\n",
    "f=s.intersection(s1)\n",
    "f"
   ]
  },
  {
   "cell_type": "code",
   "execution_count": 17,
   "id": "2a655a01-62af-4734-b5ee-a32cf46e98d9",
   "metadata": {},
   "outputs": [
    {
     "data": {
      "text/plain": [
       "{1, 2}"
      ]
     },
     "execution_count": 17,
     "metadata": {},
     "output_type": "execute_result"
    }
   ],
   "source": [
    "## 11. Find the difference between two sets.\n",
    "\n",
    "s={1,2,3,4}\n",
    "s1={3,4,5,6}\n",
    "f=s.difference(s1)\n",
    "f"
   ]
  },
  {
   "cell_type": "code",
   "execution_count": 18,
   "id": "bb82a827-9ea9-46af-ac9b-02c9eea3076c",
   "metadata": {},
   "outputs": [
    {
     "name": "stdout",
     "output_type": "stream",
     "text": [
      "True\n"
     ]
    }
   ],
   "source": [
    "## 12. Check if a set is a subset of another set.\n",
    "\n",
    "s={1,2,3,4}\n",
    "s1={3,4}\n",
    "if s1.issubset(s)==True:\n",
    "    print('True')\n",
    "else:\n",
    "    print('False')"
   ]
  },
  {
   "cell_type": "code",
   "execution_count": 19,
   "id": "7d16ca65-fef1-4200-a793-e74391f2288e",
   "metadata": {},
   "outputs": [
    {
     "name": "stdout",
     "output_type": "stream",
     "text": [
      "True\n"
     ]
    }
   ],
   "source": [
    "## 13. Check if a set is a superset of another set.\n",
    "\n",
    "s={1,2,3,4}\n",
    "s1={3,4}\n",
    "if s.issuperset(s1)==True:\n",
    "    print('True')\n",
    "else:\n",
    "    print('False')"
   ]
  },
  {
   "cell_type": "code",
   "execution_count": 20,
   "id": "b33a405c-491f-4ca6-aeb8-e4d4ecd8b924",
   "metadata": {},
   "outputs": [
    {
     "data": {
      "text/plain": [
       "{1, 2}"
      ]
     },
     "execution_count": 20,
     "metadata": {},
     "output_type": "execute_result"
    }
   ],
   "source": [
    "## 14. Create a set from a list.\n",
    "\n",
    "l=[1,2,3,3,4]\n",
    "s=set(l[0:2])\n",
    "s"
   ]
  },
  {
   "cell_type": "code",
   "execution_count": 21,
   "id": "991a7483-4f08-47d8-9cbc-22c520411e64",
   "metadata": {},
   "outputs": [
    {
     "data": {
      "text/plain": [
       "[1, 2, 3, 4, 5]"
      ]
     },
     "execution_count": 21,
     "metadata": {},
     "output_type": "execute_result"
    }
   ],
   "source": [
    "## 15. Convert a set to a list.\n",
    "\n",
    "s={1,2,3,4,5}\n",
    "s=list(s)\n",
    "s"
   ]
  },
  {
   "cell_type": "code",
   "execution_count": 22,
   "id": "846b00b6-9737-40d7-b32c-494f0b98cd9f",
   "metadata": {},
   "outputs": [
    {
     "data": {
      "text/plain": [
       "{1, 2, 3, 5}"
      ]
     },
     "execution_count": 22,
     "metadata": {},
     "output_type": "execute_result"
    }
   ],
   "source": [
    "## 16. Remove a random element from a set.\n",
    "\n",
    "s={1,2,3,4,5}\n",
    "s.remove(4)    #remove element 4\n",
    "s"
   ]
  },
  {
   "cell_type": "code",
   "execution_count": 23,
   "id": "3ce34219-34ab-453d-86f1-a26bd6e763f8",
   "metadata": {},
   "outputs": [
    {
     "data": {
      "text/plain": [
       "1"
      ]
     },
     "execution_count": 23,
     "metadata": {},
     "output_type": "execute_result"
    }
   ],
   "source": [
    "## 17. Pop an element from a set.\n",
    "\n",
    "s={1,2,3,4,5}\n",
    "p=s.pop()            #remove and return arbitrary element\n",
    "p "
   ]
  },
  {
   "cell_type": "code",
   "execution_count": 24,
   "id": "9c175775-1658-4a0e-87a5-77d95806abdd",
   "metadata": {},
   "outputs": [
    {
     "name": "stdout",
     "output_type": "stream",
     "text": [
      "common element\n"
     ]
    }
   ],
   "source": [
    "## 18. Check if two sets have no elements in common.\n",
    "\n",
    "s={1,2,3,4}\n",
    "s1={3,4,5,6}\n",
    "if len(s.intersection(s1)) == 0:\n",
    "    print('no common element')\n",
    "else:\n",
    "    print('common element')"
   ]
  },
  {
   "cell_type": "code",
   "execution_count": 25,
   "id": "1cc1a1c0-181e-4ebf-95a2-9819dfa32799",
   "metadata": {},
   "outputs": [
    {
     "data": {
      "text/plain": [
       "{1, 2, 5, 6}"
      ]
     },
     "execution_count": 25,
     "metadata": {},
     "output_type": "execute_result"
    }
   ],
   "source": [
    "## 19. Find the symmetric difference between two sets.\n",
    "\n",
    "s={1,2,3,4}\n",
    "s1={3,4,5,6}\n",
    "f=s.symmetric_difference(s1)\n",
    "f"
   ]
  },
  {
   "cell_type": "code",
   "execution_count": 26,
   "id": "66e26be3-d928-4763-a402-17dee10b6818",
   "metadata": {},
   "outputs": [
    {
     "name": "stdout",
     "output_type": "stream",
     "text": [
      "{1, 2, 3, 4, 5, 6, 8, 9}\n"
     ]
    }
   ],
   "source": [
    "## 20. Update a set with elements from another set.\n",
    "\n",
    "s={1,2,3,4}\n",
    "s1={8,9,5,6}\n",
    "s1.update(s)\n",
    "print(s1)"
   ]
  },
  {
   "cell_type": "code",
   "execution_count": 27,
   "id": "8004b347-c7dc-4a70-b63e-b0c8e8fe6e5c",
   "metadata": {},
   "outputs": [
    {
     "name": "stdout",
     "output_type": "stream",
     "text": [
      "Set of the first 5 prime numbers: {2, 3, 5, 7, 11}\n"
     ]
    }
   ],
   "source": [
    "## 21. Create a set of the first 5 prime numbers.\n",
    "\n",
    "# Function to check if a number is prime\n",
    "def is_prime(num):\n",
    "    if num <= 1:\n",
    "        return False\n",
    "    for i in range(2, int(num ** 0.5) + 1):\n",
    "        if num % i == 0:\n",
    "            return False\n",
    "    return True\n",
    "\n",
    "# Create an empty set to store the prime numbers\n",
    "prime_set = set()\n",
    "\n",
    "# Initialize the number to start checking for primes\n",
    "num = 2\n",
    "\n",
    "# Loop until we have found the first 5 prime numbers\n",
    "while len(prime_set) < 5:\n",
    "    # Check if the current number is prime using the is_prime function\n",
    "    if is_prime(num):\n",
    "        # If the number is prime, add it to the prime_set\n",
    "        prime_set.add(num)\n",
    "\n",
    "    # Move on to the next number for the next iteration\n",
    "    num += 1\n",
    "\n",
    "# Print the set of prime numbers\n",
    "print(\"Set of the first 5 prime numbers:\", prime_set)"
   ]
  },
  {
   "cell_type": "code",
   "execution_count": 28,
   "id": "dc175d7a-41db-40be-8277-47c51bb4af10",
   "metadata": {},
   "outputs": [
    {
     "name": "stdout",
     "output_type": "stream",
     "text": [
      "yes\n"
     ]
    }
   ],
   "source": [
    "## 22. Check if two sets are identical.\n",
    "\n",
    "s={1,2,3,4}\n",
    "s1={1,2,3,4}\n",
    "if s==s1:\n",
    "    print('yes')\n",
    "else:\n",
    "    print('no')"
   ]
  },
  {
   "cell_type": "code",
   "execution_count": 31,
   "id": "81e2f5af-0de0-4ba2-98cd-edc6134ab0b8",
   "metadata": {},
   "outputs": [
    {
     "name": "stdout",
     "output_type": "stream",
     "text": [
      "frozenset({1, 2, 3, 4, 8})\n"
     ]
    }
   ],
   "source": [
    "## 23. Create a frozen set.\n",
    "\n",
    "s=frozenset([1,2,3,4,8])\n",
    "print(s)"
   ]
  },
  {
   "cell_type": "code",
   "execution_count": 32,
   "id": "42331211-db66-4f5e-9742-947d6f7d3fa5",
   "metadata": {},
   "outputs": [
    {
     "name": "stdout",
     "output_type": "stream",
     "text": [
      "no\n"
     ]
    }
   ],
   "source": [
    "## 24. Check if a set is disjoint with another set.\n",
    "\n",
    "s={1,2,3,4}\n",
    "s1={1,9,5,6}\n",
    "if s.isdisjoint(s1) == True:\n",
    "    print('yes')\n",
    "else:\n",
    "    print('no')"
   ]
  },
  {
   "cell_type": "code",
   "execution_count": 33,
   "id": "63ba3298-a2ec-4d84-9618-bb41addcc1dc",
   "metadata": {},
   "outputs": [
    {
     "name": "stdout",
     "output_type": "stream",
     "text": [
      "{1, 4, 9, 16, 25}\n"
     ]
    }
   ],
   "source": [
    "## 25. Create a set of squares of numbers from 1 to 5.\n",
    "\n",
    "s=list(range(1,6))\n",
    "l=[]\n",
    "for x in s:\n",
    "    l.append(x*x)\n",
    "print(set(l))"
   ]
  },
  {
   "cell_type": "code",
   "execution_count": 34,
   "id": "8eeba5e9-21f7-4aa1-ae1a-f4c8244b0323",
   "metadata": {},
   "outputs": [
    {
     "name": "stdout",
     "output_type": "stream",
     "text": [
      "{2, 4}\n"
     ]
    }
   ],
   "source": [
    "## 26. Filter out all even numbers from a set.\n",
    "\n",
    "\n",
    "s={1,2,3,4}\n",
    "s=list(s)\n",
    "l=[]\n",
    "for x in s:\n",
    "    if x%2==0:\n",
    "        l.append(s.pop(s.index(x)))\n",
    "print(set(l))"
   ]
  },
  {
   "cell_type": "code",
   "execution_count": 35,
   "id": "791155e4-25d5-4c18-b1c5-58002db4289c",
   "metadata": {},
   "outputs": [
    {
     "name": "stdout",
     "output_type": "stream",
     "text": [
      "{8, 2, 4, 6}\n"
     ]
    }
   ],
   "source": [
    "## 27. Multiply all elements in a set by 2.\n",
    "\n",
    "s={1,2,3,4}\n",
    "s=list(s)\n",
    "l=[]\n",
    "for x in s:\n",
    "    l.append(2*x)\n",
    "print(set(l))"
   ]
  },
  {
   "cell_type": "code",
   "execution_count": 36,
   "id": "d4895912-e3cb-4b20-835d-707cf09b19d4",
   "metadata": {},
   "outputs": [
    {
     "name": "stdout",
     "output_type": "stream",
     "text": [
      "Generated set of random numbers: {64, 4, 44, 28, 95}\n"
     ]
    }
   ],
   "source": [
    "## 28. Create a set of random numbers.\n",
    "\n",
    "# Step 1: Import the `random` module to generate random numbers\n",
    "import random\n",
    "\n",
    "# Step 2: Define the number of random numbers you want in the set\n",
    "num_random_numbers = 5\n",
    "\n",
    "# Step 3: Initialize an empty set to store the random numbers\n",
    "random_number_set = set()\n",
    "\n",
    "# Step 4: Use a loop to generate random numbers and add them to the set\n",
    "for _ in range(num_random_numbers):\n",
    "    # Generate a random integer using the `randint` function from the `random` module\n",
    "    random_num = random.randint(1, 100)  # Generate a random number between 1 and 100\n",
    "    # Add the random number to the set\n",
    "    random_number_set.add(random_num)\n",
    "\n",
    "# Step 5: Print the generated set of random numbers\n",
    "print(\"Generated set of random numbers:\", random_number_set)"
   ]
  },
  {
   "cell_type": "code",
   "execution_count": 37,
   "id": "b1a243b3-5294-45b1-a71c-b9c38934c7ce",
   "metadata": {},
   "outputs": [
    {
     "name": "stdout",
     "output_type": "stream",
     "text": [
      "Not empty set\n"
     ]
    }
   ],
   "source": [
    "## 29. Check if a set is empty.\n",
    "\n",
    "s={8,9}\n",
    "if len(s)==0:\n",
    "    print('Empty set')\n",
    "else:\n",
    "    print('Not empty set')"
   ]
  },
  {
   "cell_type": "code",
   "execution_count": 38,
   "id": "f9996db7-29e7-4470-b54f-dfa84b725fce",
   "metadata": {},
   "outputs": [
    {
     "data": {
      "text/plain": [
       "{5, 6, 7, frozenset({1, 2, 3, 4})}"
      ]
     },
     "execution_count": 38,
     "metadata": {},
     "output_type": "execute_result"
    }
   ],
   "source": [
    "## 30. Create a nested set (hint: use frozenset).\n",
    "\n",
    "n=set([frozenset({1,2,3,4}),5,6,7])\n",
    "n"
   ]
  },
  {
   "cell_type": "code",
   "execution_count": 39,
   "id": "b285aa5a-73a5-437b-a130-7c84d44783db",
   "metadata": {},
   "outputs": [
    {
     "data": {
      "text/plain": [
       "{1, 3, 4, 5}"
      ]
     },
     "execution_count": 39,
     "metadata": {},
     "output_type": "execute_result"
    }
   ],
   "source": [
    "## 31. Remove an element from a set using the discard method.\n",
    "\n",
    "s={1,2,3,4,5}\n",
    "s.discard(2)\n",
    "s"
   ]
  },
  {
   "cell_type": "code",
   "execution_count": 41,
   "id": "8558c4b1-6f5b-4b1b-b422-7b538d67dd38",
   "metadata": {},
   "outputs": [
    {
     "name": "stdout",
     "output_type": "stream",
     "text": [
      "not same\n"
     ]
    }
   ],
   "source": [
    "## 32. Compare two sets.\n",
    "\n",
    "s={1,2,3,4}\n",
    "s1={1,2,3,4,7}\n",
    "if s==s1:\n",
    "    print('same')\n",
    "else:\n",
    "    print('not same')"
   ]
  },
  {
   "cell_type": "code",
   "execution_count": 42,
   "id": "1886f038-743d-4e26-acd5-35cd649bd788",
   "metadata": {},
   "outputs": [
    {
     "name": "stdin",
     "output_type": "stream",
     "text": [
      "Enter a string Azad\n"
     ]
    },
    {
     "name": "stdout",
     "output_type": "stream",
     "text": [
      "{'d', 'A', 'a', 'z'}\n"
     ]
    }
   ],
   "source": [
    "## 33. Create a set from a string.\n",
    "\n",
    "s=input('Enter a string')\n",
    "s=set(s)\n",
    "print(s)"
   ]
  },
  {
   "cell_type": "code",
   "execution_count": 43,
   "id": "3fe89f23-530f-4eb2-b3c5-ef79e3123ba9",
   "metadata": {},
   "outputs": [
    {
     "name": "stdout",
     "output_type": "stream",
     "text": [
      "{1, 2, 3, 4}\n"
     ]
    }
   ],
   "source": [
    "## 34. Convert a set of strings to a set of integers.\n",
    "\n",
    "s={'1','2','3','4'}\n",
    "s=list(s)\n",
    "l=[]\n",
    "for x in s:\n",
    "    l.append(int(x))\n",
    "print(set(l))"
   ]
  },
  {
   "cell_type": "code",
   "execution_count": 44,
   "id": "164a6fdf-4fff-40a2-9e18-aed6fd6fad42",
   "metadata": {},
   "outputs": [
    {
     "name": "stdout",
     "output_type": "stream",
     "text": [
      "{'2', '4', '1', '3'}\n"
     ]
    }
   ],
   "source": [
    "## 35. Convert a set of integers to a set of strings.\n",
    "\n",
    "s={1,2,3,4}\n",
    "s=list(s)\n",
    "l=[]\n",
    "for x in s:\n",
    "    l.append(str(x))\n",
    "print(set(l))"
   ]
  },
  {
   "cell_type": "code",
   "execution_count": 45,
   "id": "fdad169d-c321-437b-af89-bd18ae5637ae",
   "metadata": {},
   "outputs": [
    {
     "name": "stdout",
     "output_type": "stream",
     "text": [
      "{1, 2}\n"
     ]
    }
   ],
   "source": [
    "## 36. Create a set from a tuple.\n",
    "\n",
    "t=(1,2,3,4,5)\n",
    "s=set(t[0:2])\n",
    "print(s)"
   ]
  },
  {
   "cell_type": "code",
   "execution_count": 46,
   "id": "a583d2ee-76f3-4af8-bcb6-d8a574169619",
   "metadata": {},
   "outputs": [
    {
     "data": {
      "text/plain": [
       "(1, 2, 3, 4)"
      ]
     },
     "execution_count": 46,
     "metadata": {},
     "output_type": "execute_result"
    }
   ],
   "source": [
    "## 37. Convert a set to a tuple.\n",
    "\n",
    "s={1,2,3,4}\n",
    "t=tuple(s)\n",
    "t"
   ]
  },
  {
   "cell_type": "code",
   "execution_count": 49,
   "id": "527a10d8-d9de-439b-a398-7635cc44056c",
   "metadata": {},
   "outputs": [
    {
     "name": "stdout",
     "output_type": "stream",
     "text": [
      "max is 45\n"
     ]
    }
   ],
   "source": [
    "## 38. Find the maximum value in a set.\n",
    "\n",
    "f={1,10,4,5,6,1,3,45}\n",
    "l=list(f)\n",
    "m=0\n",
    "for x in l:\n",
    "    i=0\n",
    "    while i<len(l):\n",
    "        if x>l[i]:\n",
    "            m=x\n",
    "        i=i+1\n",
    "print('max is',m)"
   ]
  },
  {
   "cell_type": "code",
   "execution_count": 50,
   "id": "70316286-a200-43dc-9962-4110382d7533",
   "metadata": {},
   "outputs": [
    {
     "name": "stdout",
     "output_type": "stream",
     "text": [
      "min is 4\n"
     ]
    }
   ],
   "source": [
    "## 39. Find the minimum value in a set.\n",
    "\n",
    "f={10,2,3,4,2,3}\n",
    "l=list(f)\n",
    "m=0\n",
    "for x in l:\n",
    "    i=0\n",
    "    while i<len(l):\n",
    "        if x<l[i]:\n",
    "            m=x\n",
    "        i=i+1\n",
    "print('min is',m)"
   ]
  },
  {
   "cell_type": "code",
   "execution_count": 51,
   "id": "dd2015e4-8b70-4543-853d-024ffc5bce8a",
   "metadata": {},
   "outputs": [
    {
     "name": "stdin",
     "output_type": "stream",
     "text": [
      "Enter a set 123456\n"
     ]
    },
    {
     "data": {
      "text/plain": [
       "{'1', '2', '3', '4', '5', '6'}"
      ]
     },
     "execution_count": 51,
     "metadata": {},
     "output_type": "execute_result"
    }
   ],
   "source": [
    "## 40. Create a set from user input.\n",
    "\n",
    "user =set(input('Enter a set'))\n",
    "user"
   ]
  },
  {
   "cell_type": "code",
   "execution_count": 52,
   "id": "8dab476f-a6f3-4d91-934e-4761bcd8da06",
   "metadata": {},
   "outputs": [
    {
     "name": "stdout",
     "output_type": "stream",
     "text": [
      "yes\n"
     ]
    }
   ],
   "source": [
    "## 41. Check if the intersection of two sets is empty.\n",
    "\n",
    "s={1,2,3,4}\n",
    "s1={90,9,5,6}\n",
    "t=s.intersection(s1)\n",
    "if len(t) == 0:\n",
    "    print('yes')\n",
    "else:\n",
    "    print('no')"
   ]
  },
  {
   "cell_type": "code",
   "execution_count": 54,
   "id": "71c25430-7b78-4fef-a9c0-6abaf6f08104",
   "metadata": {},
   "outputs": [
    {
     "name": "stdout",
     "output_type": "stream",
     "text": [
      "Set of the first 5 Fibonacci numbers: {0, 1, 2, 3, 5}\n"
     ]
    }
   ],
   "source": [
    "## 42. Create a set of the first 5 Fibonacci numbers.\n",
    "\n",
    "# Create a set to store the first 5 Fibonacci numbers\n",
    "fibonacci_set = set()\n",
    "\n",
    "# Initialize the first two Fibonacci numbers\n",
    "a, b = 0, 1\n",
    "\n",
    "# Loop to generate the first 5 Fibonacci numbers\n",
    "for _ in range(6):\n",
    "    # Add the current Fibonacci number to the set\n",
    "    fibonacci_set.add(a)\n",
    "\n",
    "    # Calculate the next Fibonacci number\n",
    "    a, b = b, a + b\n",
    "\n",
    "# Print the set of Fibonacci numbers\n",
    "print(\"Set of the first 5 Fibonacci numbers:\", fibonacci_set)"
   ]
  },
  {
   "cell_type": "code",
   "execution_count": 55,
   "id": "95578ada-8409-4b5b-a03d-d2c4eb7702fc",
   "metadata": {},
   "outputs": [
    {
     "data": {
      "text/plain": [
       "{1, 2, 3, 4}"
      ]
     },
     "execution_count": 55,
     "metadata": {},
     "output_type": "execute_result"
    }
   ],
   "source": [
    "## 43. Remove duplicates from a list using sets.\n",
    "\n",
    "l=[1,2,3,4,2,2]\n",
    "s=set(l)\n",
    "s"
   ]
  },
  {
   "cell_type": "code",
   "execution_count": 57,
   "id": "984079f9-6bd7-41d3-afdd-ed1a5461f52c",
   "metadata": {},
   "outputs": [
    {
     "name": "stdout",
     "output_type": "stream",
     "text": [
      "Have same elements\n"
     ]
    }
   ],
   "source": [
    "## 44. Check if two sets have the same elements, regardless of their count.\n",
    "\n",
    "s={1,2,3,4}\n",
    "s1={1,2,3,4,5,6}\n",
    "if s.issubset(s1) == True:\n",
    "    print('Have same elements')\n",
    "else:\n",
    "    print('Not same elements')"
   ]
  },
  {
   "cell_type": "code",
   "execution_count": 58,
   "id": "124fa78d-36d2-4fa2-b915-b3d9f49b87d2",
   "metadata": {},
   "outputs": [
    {
     "name": "stdin",
     "output_type": "stream",
     "text": [
      "Enter n 5\n"
     ]
    },
    {
     "name": "stdout",
     "output_type": "stream",
     "text": [
      "{1, 2, 4, 8, 16}\n"
     ]
    }
   ],
   "source": [
    "## 45. Create a set of the first n powers of 2.\n",
    "\n",
    "n=int(input('Enter n'))\n",
    "i=0\n",
    "v=[]\n",
    "while i<n:\n",
    "    v.append(2**i)\n",
    "    i=i+1\n",
    "print(set(v))"
   ]
  },
  {
   "cell_type": "code",
   "execution_count": 59,
   "id": "935f0e22-1243-41a2-b9f3-04c5022e6472",
   "metadata": {},
   "outputs": [
    {
     "data": {
      "text/plain": [
       "{2, 3, 4}"
      ]
     },
     "execution_count": 59,
     "metadata": {},
     "output_type": "execute_result"
    }
   ],
   "source": [
    "## 46. Find the common elements between a set and a list.\n",
    "\n",
    "s={1,2,3,4}\n",
    "l=[2,3,4,5,6]\n",
    "l=set(l)\n",
    "t=s.intersection(l)\n",
    "t"
   ]
  },
  {
   "cell_type": "code",
   "execution_count": 61,
   "id": "5e79576b-d8c0-44a4-ae03-537c7c944ac8",
   "metadata": {},
   "outputs": [
    {
     "name": "stdin",
     "output_type": "stream",
     "text": [
      " 5\n"
     ]
    },
    {
     "data": {
      "text/plain": [
       "{1, 3, 6, 10, 15}"
      ]
     },
     "execution_count": 61,
     "metadata": {},
     "output_type": "execute_result"
    }
   ],
   "source": [
    "## 47. Create a set of the first n triangular numbers.\n",
    "\n",
    "st = set()\n",
    "nth = int(input())\n",
    "k=0\n",
    "for i in range(1,nth+1):\n",
    "    for j in range(0,i+1):\n",
    "        k+=j\n",
    "    st.add(k)\n",
    "    k=0\n",
    "st"
   ]
  },
  {
   "cell_type": "code",
   "execution_count": 62,
   "id": "79e0a47f-ed29-426f-b3c0-fdac98998e40",
   "metadata": {},
   "outputs": [
    {
     "name": "stdout",
     "output_type": "stream",
     "text": [
      "Yes\n"
     ]
    }
   ],
   "source": [
    "## 48. Check if a set contains another set as a subset.\n",
    "\n",
    "s={1,2,3,4,5}   #set\n",
    "t={2,3,4}       #subset\n",
    "if s.issuperset(t) == True:\n",
    "    print('Yes')\n",
    "else:\n",
    "    print('No')"
   ]
  },
  {
   "cell_type": "code",
   "execution_count": 63,
   "id": "ee398fc6-61d8-4720-9d76-af7b3d5afe4a",
   "metadata": {},
   "outputs": [
    {
     "name": "stdin",
     "output_type": "stream",
     "text": [
      "Enter n 5\n"
     ]
    },
    {
     "name": "stdout",
     "output_type": "stream",
     "text": [
      "{0, 1}\n"
     ]
    }
   ],
   "source": [
    "## 49. Create a set of alternating 1s and 0s of length n.\n",
    "\n",
    "user= int(input('Enter n'))\n",
    "i=0\n",
    "f=[]\n",
    "while i<n:\n",
    "    if i%2==0:\n",
    "        f.append(0)\n",
    "    else:\n",
    "        f.append(1)\n",
    "    i=i+1\n",
    "print(set(f))"
   ]
  },
  {
   "cell_type": "code",
   "execution_count": 64,
   "id": "a9ae8b7d-f9b8-419f-8f0d-968f20e687c8",
   "metadata": {},
   "outputs": [
    {
     "name": "stdout",
     "output_type": "stream",
     "text": [
      "{1, 2, 3, 4, 5, 6, 7}\n"
     ]
    }
   ],
   "source": [
    "## 50. Merge multiple sets into one.\n",
    "\n",
    "s={1,2,3,4}\n",
    "s1={3,4,5,6,7}\n",
    "f=s.union(s1)\n",
    "print(f)"
   ]
  },
  {
   "cell_type": "code",
   "execution_count": null,
   "id": "c6d3aa96-2dee-4c21-8627-b524398937ed",
   "metadata": {},
   "outputs": [],
   "source": []
  }
 ],
 "metadata": {
  "kernelspec": {
   "display_name": "Python 3 (ipykernel)",
   "language": "python",
   "name": "python3"
  },
  "language_info": {
   "codemirror_mode": {
    "name": "ipython",
    "version": 3
   },
   "file_extension": ".py",
   "mimetype": "text/x-python",
   "name": "python",
   "nbconvert_exporter": "python",
   "pygments_lexer": "ipython3",
   "version": "3.10.8"
  }
 },
 "nbformat": 4,
 "nbformat_minor": 5
}
