{
 "cells": [
  {
   "cell_type": "markdown",
   "id": "e4288690-e4f2-44e9-bcd6-a380efd48082",
   "metadata": {},
   "source": [
    "## Basic If-Else Statements"
   ]
  },
  {
   "cell_type": "markdown",
   "id": "87988b64-edad-42df-aade-07a80e612e6a",
   "metadata": {},
   "source": [
    "1. Write a Python program to check if a given number is positive or negative."
   ]
  },
  {
   "cell_type": "code",
   "execution_count": 5,
   "id": "135b13cf-0bf4-482c-899a-34a15457117c",
   "metadata": {},
   "outputs": [
    {
     "name": "stdin",
     "output_type": "stream",
     "text": [
      "Enter a number: 2\n"
     ]
    },
    {
     "name": "stdout",
     "output_type": "stream",
     "text": [
      "2 is a positive number\n"
     ]
    }
   ],
   "source": [
    "num = int(input(\"Enter a number:\" )) # takes an input from the user and stores in variable num\n",
    "\n",
    "if num >= 0:          # Comparing the input with the condition\n",
    "    print(f\"{num} is a positive number\")   # Prints the result if condition is met\n",
    "else:\n",
    "    print(f\"{num} is a negative number\")   # Prints the output if condition is not met\n",
    "    "
   ]
  },
  {
   "cell_type": "markdown",
   "id": "80f91750-67a1-4049-bdc1-d41a13277f79",
   "metadata": {},
   "source": [
    "2. Create a program that determines if a person is eligible to vote based on their age."
   ]
  },
  {
   "cell_type": "code",
   "execution_count": 6,
   "id": "99208f0b-3849-4780-a187-768a2e7143ac",
   "metadata": {},
   "outputs": [
    {
     "name": "stdin",
     "output_type": "stream",
     "text": [
      "Enter age 34\n"
     ]
    },
    {
     "name": "stdout",
     "output_type": "stream",
     "text": [
      "The persons age is 34 and he/she is elgible to vote\n"
     ]
    }
   ],
   "source": [
    "age = int(input(\"Enter age\"))   # takes an input from the user and stores in variable age\n",
    "\n",
    "if age >= 18:   # Comparing the input with the given condition\n",
    "    print(f\"The persons age is {age} and he/she is elgible to vote\") # Prints the result if condition is met\n",
    "else:\n",
    "    print(f\"The persons age is {age} and is not elibible to vote\")    # Prints the output if condition is not met"
   ]
  },
  {
   "cell_type": "markdown",
   "id": "db6a58eb-325f-44ba-b5d9-dd92d157de30",
   "metadata": {},
   "source": [
    "3. Develop a program to find the maximum of two numbers using if-else statements."
   ]
  },
  {
   "cell_type": "code",
   "execution_count": 7,
   "id": "cdeca2b3-9e08-4071-acfe-1c7888d7ad72",
   "metadata": {},
   "outputs": [
    {
     "name": "stdin",
     "output_type": "stream",
     "text": [
      "Enter the 1st number:  4\n",
      "Enter the 2nd number:  3\n"
     ]
    },
    {
     "name": "stdout",
     "output_type": "stream",
     "text": [
      "4 is the maximum number\n"
     ]
    }
   ],
   "source": [
    "num1 = int(input(\"Enter the 1st number: \"))  # takes 1st input from the user and stores in variable num1\n",
    "num2 = int(input(\"Enter the 2nd number: \"))  # takes 2nd input from the user and stores in variable num2\n",
    "\n",
    "if num1>num2:   # Comparing the input with the given condition\n",
    "    print(f\"{num1} is the maximum number\")  # Prints the result if condition is met\n",
    "else:\n",
    "    print(f\"{num2} is the maximum number\")  # Prints the result if 1st condition isn't met"
   ]
  },
  {
   "cell_type": "markdown",
   "id": "5fcd8269-83bf-424d-9b75-a48f81e6e2ac",
   "metadata": {},
   "source": [
    "4. Write a Python script to classify a given year as a leap year or not."
   ]
  },
  {
   "cell_type": "code",
   "execution_count": 8,
   "id": "5f4622db-bb6c-4fbc-9416-3032130f8d99",
   "metadata": {},
   "outputs": [
    {
     "name": "stdin",
     "output_type": "stream",
     "text": [
      "Enter a year:  2021\n"
     ]
    },
    {
     "name": "stdout",
     "output_type": "stream",
     "text": [
      "2021 is not a leap year\n"
     ]
    }
   ],
   "source": [
    "year = int(input(\"Enter a year: \"))  # Takes input year from user and stores in variable year\n",
    "\n",
    "\n",
    "if (year % 4 == 0 and year % 100 != 0) or (year % 400 == 0):  # Checks the condition for leap year\n",
    "    print(f\"{year} is a leap year\")\n",
    "else:\n",
    "    print(f\"{year} is not a leap year\")\n"
   ]
  },
  {
   "cell_type": "markdown",
   "id": "78360660-3d21-4a54-936c-015dda96d440",
   "metadata": {},
   "source": [
    "5. Create a program that checks whether a character is a vowel or a consonant."
   ]
  },
  {
   "cell_type": "code",
   "execution_count": 9,
   "id": "466c2432-8cbd-41d7-a1cb-24a43713c1f4",
   "metadata": {},
   "outputs": [
    {
     "name": "stdin",
     "output_type": "stream",
     "text": [
      "Enter a word: a\n"
     ]
    },
    {
     "name": "stdout",
     "output_type": "stream",
     "text": [
      "The word is a vowel\n"
     ]
    }
   ],
   "source": [
    "v = 'aeiouAEIOU'                             # all the possible vowel characters are stored in a variable \n",
    "b = str(input(\"Enter a word:\"))              # takes a single word from user and stores in variable b\n",
    "if len(b) == 1:                              # checks if the length of the character is 1 or not\n",
    "    if b in v:                               # checks if the input is inside the stored data\n",
    "        print(\"The word is a vowel\")         \n",
    "    else:\n",
    "        print(\"The word is a consonant\")\n",
    "else:\n",
    "    print(\"Enter single word please!\")       # gives this output if more than 2 characters are taken from the user"
   ]
  },
  {
   "cell_type": "markdown",
   "id": "b4e06b8c-d707-4f2f-b3b0-db89485ced95",
   "metadata": {},
   "source": [
    "6. Implement a program to determine whether a given number is even or odd."
   ]
  },
  {
   "cell_type": "code",
   "execution_count": 10,
   "id": "6c1b7d30-b24a-4377-84ed-f63a460c7987",
   "metadata": {},
   "outputs": [
    {
     "name": "stdin",
     "output_type": "stream",
     "text": [
      "Enter a number:  12\n"
     ]
    },
    {
     "name": "stdout",
     "output_type": "stream",
     "text": [
      "12 is an even number\n"
     ]
    }
   ],
   "source": [
    "num = int(input(\"Enter a number: \"))         # takes a number from user and stores in variable num\n",
    "\n",
    "if num%2==0:                                 # checks the condition for even/odd number\n",
    "    print(f\"{num} is an even number\")\n",
    "else:\n",
    "    print(f\"{num} is an odd number\")"
   ]
  },
  {
   "cell_type": "markdown",
   "id": "13553477-33d3-42ff-8b5f-b63430724289",
   "metadata": {},
   "source": [
    "7. Write a Python function to calculate the absolute value of a number without using the `abs()` function."
   ]
  },
  {
   "cell_type": "code",
   "execution_count": 11,
   "id": "e64c958c-6bdf-4807-b20c-ffa741aff0d2",
   "metadata": {},
   "outputs": [
    {
     "name": "stdin",
     "output_type": "stream",
     "text": [
      "Enter a number 12\n"
     ]
    },
    {
     "name": "stdout",
     "output_type": "stream",
     "text": [
      "12 is an absolute value\n"
     ]
    }
   ],
   "source": [
    "num = int(input(\"Enter a number\"))           # takes a number from user and stores in variable num\n",
    "\n",
    "if num >=0:                                  # checks the condition\n",
    "    print(f\"{num} is an absolute value\")\n",
    "else:\n",
    "    print(f\"{num} is not an absolute value\")\n",
    "   "
   ]
  },
  {
   "cell_type": "markdown",
   "id": "aae9d54c-0144-4069-8ed9-96e3fb860be2",
   "metadata": {},
   "source": [
    "8. Develop a program that determines the largest of three given numbers using if-else statements. ????????????"
   ]
  },
  {
   "cell_type": "code",
   "execution_count": null,
   "id": "a6f28618-a3f8-433b-b8f6-a06f3849e82b",
   "metadata": {},
   "outputs": [],
   "source": [
    "# Takes 3 inputs from user and stores in below 3 variables\n",
    "a = int(input(\"Enter the 1st number: \"))\n",
    "b = int(input(\"Enter the 2nd number: \"))\n",
    "c = int(input(\"Enter the 3rd number: \"))\n",
    "\n",
    "## Checks the condition among the stored variables\n",
    "if a > b:\n",
    "    if a > c:\n",
    "        print(f\"{a} is the largest number\")\n",
    "    else:\n",
    "        print(f\"{c} is the largest number\")\n",
    "    \n",
    "else:\n",
    "    if b > c:\n",
    "        if b < a:\n",
    "            print(f\"{b} is the largest number\")"
   ]
  },
  {
   "cell_type": "markdown",
   "id": "f2772e38-7978-4044-be2a-08d4270298bc",
   "metadata": {},
   "source": [
    "9. Create a program that checks if a given string is a palindrome."
   ]
  },
  {
   "cell_type": "code",
   "execution_count": 14,
   "id": "967ce50e-7644-4d0e-9370-7f3564ea5f92",
   "metadata": {},
   "outputs": [
    {
     "name": "stdin",
     "output_type": "stream",
     "text": [
      "Enter a word maLayalam\n"
     ]
    },
    {
     "name": "stdout",
     "output_type": "stream",
     "text": [
      "The word is a palindrome\n"
     ]
    }
   ],
   "source": [
    "x = str(input(\"Enter a word\"))  # takes input from user and stores in x variable\n",
    "l_x = x.lower()                 # l_x variable stores the input in lower case if any upper case is given\n",
    "\n",
    "rev_x = l_x[ : : -1]            # reverse character of input is stored in rev_x variable\n",
    "\n",
    "if l_x == rev_x:                # checks if the condition of palindrome is met \n",
    "    print(\"The word is a palindrome\")\n",
    "else:\n",
    "    print(\"The word is not a palindrome\")"
   ]
  },
  {
   "cell_type": "markdown",
   "id": "2ead7a3d-b6d7-46b6-bc06-469c6c96e8c4",
   "metadata": {},
   "source": [
    "10. Write a Python program to calculate the grade based on a student's score."
   ]
  },
  {
   "cell_type": "code",
   "execution_count": 15,
   "id": "eb1ccbff-a7ae-4e15-8823-000551f6e8a3",
   "metadata": {},
   "outputs": [
    {
     "name": "stdin",
     "output_type": "stream",
     "text": [
      "Enter a score:  45\n"
     ]
    },
    {
     "name": "stdout",
     "output_type": "stream",
     "text": [
      "Student got F\n"
     ]
    }
   ],
   "source": [
    "score = int(input(\"Enter a score: \")) # input taken from the user and stored inside the variable score\n",
    "\n",
    "# Checks if the conditions are met and gets executed accordingly \n",
    "if score>100:\n",
    "    print(\"It is not a valid grade\")\n",
    "else:\n",
    "    if 90<=score<=100 :\n",
    "        print(\"Student got A\")\n",
    "    if 80<=score<=89:\n",
    "        print(\"Student got B\")\n",
    "    if 70<=score<=79:\n",
    "        print(\"Student got C\")\n",
    "    if 60<=score<=69:\n",
    "        print(\"Student got D\")\n",
    "    if 50<=score<=59:\n",
    "        print(\"Student got E\")\n",
    "    else:\n",
    "        print(\"Student got F\")"
   ]
  },
  {
   "cell_type": "markdown",
   "id": "bc3432ab-7725-4d46-ae7d-d45db24c7ec2",
   "metadata": {},
   "source": [
    "## Nested If-Else Statement"
   ]
  },
  {
   "cell_type": "markdown",
   "id": "cc861eac-3eda-4a0c-8ac6-9557b0261f22",
   "metadata": {},
   "source": [
    "11. Write a program to find the largest among three numbers using nested if-else statements."
   ]
  },
  {
   "cell_type": "code",
   "execution_count": 16,
   "id": "abb234c4-7535-4f69-a675-56e30696b47e",
   "metadata": {},
   "outputs": [
    {
     "name": "stdin",
     "output_type": "stream",
     "text": [
      "Enter the 1st number:  4\n",
      "Enter the 2nd number:  1\n",
      "Enter the 3rd number:  3\n"
     ]
    },
    {
     "name": "stdout",
     "output_type": "stream",
     "text": [
      "4 is the largest number\n"
     ]
    }
   ],
   "source": [
    "## Taking 3 inputs from user and storing inside 3 variables\n",
    "a = int(input(\"Enter the 1st number: \"))\n",
    "b = int(input(\"Enter the 2nd number: \"))\n",
    "c = int(input(\"Enter the 3rd number: \"))\n",
    "\n",
    "## Checking teh condition based on the requirements and printing the result\n",
    "if a>b:\n",
    "    if a>c:\n",
    "        print(f\"{a} is the largest number\")\n",
    "    else:\n",
    "        print(f\"{c} is the largest number\")\n",
    "elif b>c:\n",
    "    if b>a:\n",
    "        print (f\"{b} is the largest number\")\n",
    "    else:\n",
    "        print(f\"{a} is the largest number\")\n",
    "else:\n",
    "    print(f\"{c} is the largest number\")"
   ]
  },
  {
   "cell_type": "markdown",
   "id": "fef20673-8d8f-445f-886a-bdcb2ec58852",
   "metadata": {},
   "source": [
    "12. Implement a program to determine if a triangle is equilateral, isosceles, or scalene."
   ]
  },
  {
   "cell_type": "code",
   "execution_count": 32,
   "id": "0630218d-b5c8-48f7-85b4-d2fc2805cf94",
   "metadata": {},
   "outputs": [
    {
     "name": "stdin",
     "output_type": "stream",
     "text": [
      "Enter 1st angle:  3\n",
      "Enter 2nd angle:  2\n",
      "Enter 3rd angle:  1\n"
     ]
    },
    {
     "name": "stdout",
     "output_type": "stream",
     "text": [
      "The triangle is a scalene triangle\n"
     ]
    }
   ],
   "source": [
    "## taking 3 triangle inputs from user \n",
    "\n",
    "a = int(input(\"Enter 1st angle: \"))\n",
    "b = int(input(\"Enter 2nd angle: \"))\n",
    "c = int(input(\"Enter 3rd angle: \"))\n",
    "\n",
    "if a == b:\n",
    "    if b == c:\n",
    "        print(\"The triangle is equilateral\")\n",
    "    else:\n",
    "        print(\"The triangle is isosceles triangle\")\n",
    "else:\n",
    "    if b == c:\n",
    "        print(\"The triangle is an isosceles triangle\")\n",
    "    else:\n",
    "        print(\"The triangle is a scalene triangle\")"
   ]
  },
  {
   "cell_type": "markdown",
   "id": "bec325e7-9751-47ce-a6d8-e6979ef1cb32",
   "metadata": {},
   "source": [
    "13. Develop a program that checks if a year is a leap year and also if it is a century year."
   ]
  },
  {
   "cell_type": "code",
   "execution_count": 34,
   "id": "a9b390a8-1532-4431-9bc5-a991780d70cd",
   "metadata": {},
   "outputs": [
    {
     "name": "stdin",
     "output_type": "stream",
     "text": [
      "Enter year:  2000\n"
     ]
    },
    {
     "name": "stdout",
     "output_type": "stream",
     "text": [
      "It is a century year\n",
      "It is also a leap year\n"
     ]
    }
   ],
   "source": [
    "year = int(input(\"Enter year: \"))\n",
    "\n",
    "if year % 100 == 0:\n",
    "    print(\"It is a century year\")\n",
    "    if year % 400 == 0:\n",
    "        print(\"It is also a leap year\")\n",
    "    else:\n",
    "        print(\"It is not a leap year\")\n",
    "        \n",
    "elif year % 4 == 0:\n",
    "    print(\"It is a leap year\")\n",
    "else:\n",
    "    print(\"It is not a leap year and not a century year\")"
   ]
  },
  {
   "cell_type": "markdown",
   "id": "13f6351a-7dfe-4d04-bc0b-b67187fae240",
   "metadata": {},
   "source": [
    "14. Write a Python script to determine if a number is positive, negative, or zero."
   ]
  },
  {
   "cell_type": "code",
   "execution_count": 35,
   "id": "68bf8b6d-900f-4995-ae52-e514022b0a10",
   "metadata": {},
   "outputs": [
    {
     "name": "stdin",
     "output_type": "stream",
     "text": [
      "Enter a number:  -2\n"
     ]
    },
    {
     "name": "stdout",
     "output_type": "stream",
     "text": [
      "The given number is negative\n"
     ]
    }
   ],
   "source": [
    "a = int(input(\"Enter a number: \"))\n",
    "\n",
    "if a >= 0:\n",
    "    if a > 0:\n",
    "        print(\"The given number is positive\")\n",
    "    else:\n",
    "        print(\"The given number is zero\")\n",
    "else:\n",
    "    print(\"The given number is negative\")\n",
    "\n",
    "    "
   ]
  },
  {
   "cell_type": "markdown",
   "id": "017c7d70-e903-46ea-b513-15c5cc3cc4ad",
   "metadata": {},
   "source": [
    "15. Create a program to check if a person is a teenager (between 13 and 19 years old)."
   ]
  },
  {
   "cell_type": "code",
   "execution_count": 39,
   "id": "e439466b-d0c9-4e39-a3f3-5391d61a3eb3",
   "metadata": {},
   "outputs": [
    {
     "name": "stdin",
     "output_type": "stream",
     "text": [
      "Enter age:  15\n"
     ]
    },
    {
     "name": "stdout",
     "output_type": "stream",
     "text": [
      "The person is a teenager\n"
     ]
    }
   ],
   "source": [
    "age = int(input(\"Enter age: \"))\n",
    "\n",
    "if age >=13:\n",
    "    if age <=19:\n",
    "        print(\"The person is a teenager\")\n",
    "    else:\n",
    "        print(\"The person is not a teenager\")\n",
    "else:\n",
    "    print(\"It is a kid\")"
   ]
  },
  {
   "cell_type": "markdown",
   "id": "57e126b7-71a4-4430-ab69-9389be2000d3",
   "metadata": {},
   "source": [
    "16. Develop a program that determines the type of angle based on its measure (acute, obtuse, or right)."
   ]
  },
  {
   "cell_type": "code",
   "execution_count": 44,
   "id": "62c2685d-ec64-42ae-bb0a-9374c7f2510e",
   "metadata": {},
   "outputs": [
    {
     "name": "stdin",
     "output_type": "stream",
     "text": [
      "Enter the 1st angle value:  12\n",
      "Enter the 2nd angle value:  21\n",
      "Enter the 3rd angle value:  43\n"
     ]
    },
    {
     "name": "stdout",
     "output_type": "stream",
     "text": [
      "The triangle is a Acute Triangle.\n"
     ]
    }
   ],
   "source": [
    "angle1 = int(input(\"Enter the 1st angle value: \"))\n",
    "angle2 = int(input(\"Enter the 2nd angle value: \"))\n",
    "angle3 = int(input(\"Enter the 3rd angle value: \"))\n",
    "\n",
    "if angle1 < 90 and angle2 < 90 and angle3 < 90:\n",
    "    triangle_type = \"Acute Triangle\"\n",
    "elif angle1 > 90 or angle2 > 90 or angle3 > 90:\n",
    "    triangle_type = \"Obtuse Triangle\"\n",
    "else:\n",
    "    triangle_type = \"Right Triangle\"\n",
    "    \n",
    "    \n",
    "\n",
    "print(f\"The triangle is a {triangle_type}.\")"
   ]
  },
  {
   "cell_type": "markdown",
   "id": "36c8895a-8136-4da2-8776-37adb82fbf4e",
   "metadata": {},
   "source": [
    "17. Write a Python program to calculate the roots of a quadratic equation."
   ]
  },
  {
   "cell_type": "code",
   "execution_count": 1,
   "id": "bfa8aaad-cb7b-4805-8021-c50df009b14f",
   "metadata": {},
   "outputs": [
    {
     "name": "stdin",
     "output_type": "stream",
     "text": [
      "Enter 1st coeff -1\n",
      "Enter 2nd coeff -6\n",
      "Enter 3rd coeff 5\n"
     ]
    },
    {
     "name": "stdout",
     "output_type": "stream",
     "text": [
      "The solutions are (0.7416573867739413-0j) and (-6.741657386773941-0j)\n"
     ]
    }
   ],
   "source": [
    "# quadratic equation: ax**2 + bx + c = 0\n",
    "# import math module\n",
    "import cmath\n",
    "\n",
    "## input coefficients of standard quadratic\n",
    "a = int(input('Enter 1st coeff'))\n",
    "b = int(input('Enter 2nd coeff'))\n",
    "c = int(input('Enter 3rd coeff'))\n",
    "\n",
    "## calculate the discriminant\n",
    "d = (b**2) - (4*a*c)\n",
    "\n",
    "s1 = (-b-cmath.sqrt(d)) / (2*a)\n",
    "s2 = (-b+cmath.sqrt(d)) / (2*a)\n",
    "\n",
    "print('The solutions are {0} and {1}'.format(s1,s2))"
   ]
  },
  {
   "cell_type": "markdown",
   "id": "cc0a25f9-ddf2-4ec0-9baa-d6e5b26f3d54",
   "metadata": {},
   "source": [
    "18. Implement a program to determine the day of the week based on a user-provided number (1 for Monday, 2 for Tuesday, etc.)."
   ]
  },
  {
   "cell_type": "code",
   "execution_count": 9,
   "id": "d832dead-d8be-4a36-b7a7-aa9f8b9f9105",
   "metadata": {},
   "outputs": [
    {
     "name": "stdin",
     "output_type": "stream",
     "text": [
      "Enter a number:  2\n"
     ]
    },
    {
     "name": "stdout",
     "output_type": "stream",
     "text": [
      "Tuesday\n"
     ]
    }
   ],
   "source": [
    "num = int(input(\"Enter a number: \"))\n",
    "\n",
    "if 1<=num<=7:\n",
    "    if num == 1:\n",
    "        print(\"Monday\")\n",
    "    if num == 2:\n",
    "        print(\"Tuesday\")\n",
    "    if num == 3:\n",
    "        print(\"Wednesday\")\n",
    "    if num == 4:\n",
    "        print(\"Thursday\")\n",
    "    if num == 5:\n",
    "        print(\"Friday\")\n",
    "    if num == 6:\n",
    "        print(\"Saturday\")\n",
    "    if num == 7:\n",
    "        print(\"Sunday\")\n",
    "        \n",
    "else:\n",
    "    print(\"Invalid number\")\n",
    "        "
   ]
  },
  {
   "cell_type": "markdown",
   "id": "62b0a025-89a8-4977-8a4f-14968cf66a42",
   "metadata": {},
   "source": [
    "19. Create a program that determines if a year is a leap year and also if it is evenly divisible by 400."
   ]
  },
  {
   "cell_type": "code",
   "execution_count": 48,
   "id": "0d735179-e9ac-4a45-883e-a86ee371da01",
   "metadata": {},
   "outputs": [
    {
     "name": "stdin",
     "output_type": "stream",
     "text": [
      "Enter the year:  2023\n"
     ]
    },
    {
     "name": "stdout",
     "output_type": "stream",
     "text": [
      "The year is neither a leap year nor evenly divisible by 400\n"
     ]
    }
   ],
   "source": [
    "year = int(input(\"Enter the year: \"))\n",
    "\n",
    "if year % 4 == 0:\n",
    "    if year % 400 == 0:\n",
    "        print(\"The year is a leap year and also it is evenly divisible by 400\")\n",
    "    else:\n",
    "        print(\"The year is a leap year but it is not evenly divisible by 400\")\n",
    "else:\n",
    "    if year % 400 == 0:\n",
    "        print(\"The year is not a leap year but is evenly divisible by 400\")\n",
    "    else:\n",
    "        print(\"The year is neither a leap year nor evenly divisible by 400\")"
   ]
  },
  {
   "cell_type": "markdown",
   "id": "998297d2-7889-4000-aaf9-317a06deeb91",
   "metadata": {},
   "source": [
    "20. Develop a program that checks if a given number is prime or not using nested if-else statements."
   ]
  },
  {
   "cell_type": "code",
   "execution_count": 14,
   "id": "e0a05713-836e-4973-adf6-6d1efb70af40",
   "metadata": {},
   "outputs": [
    {
     "name": "stdin",
     "output_type": "stream",
     "text": [
      "Enter a number 4\n"
     ]
    },
    {
     "name": "stdout",
     "output_type": "stream",
     "text": [
      "The given number is a prime number\n"
     ]
    }
   ],
   "source": [
    "num = int(input(\"Enter a number\"))\n",
    "\n",
    "if num>1:\n",
    "    if num%num==0:\n",
    "        print(\"The given number is a prime number\")\n",
    "    else:\n",
    "        print(\"The given number is not a prime number\")\n",
    "\n",
    "else:\n",
    "    print(\"Invalid number\")\n",
    "    "
   ]
  },
  {
   "cell_type": "markdown",
   "id": "9bda2139-e120-4336-b6ac-872dbb3ebc4f",
   "metadata": {},
   "source": [
    "## Elif Statements"
   ]
  },
  {
   "cell_type": "markdown",
   "id": "270eb679-0de7-4e6c-8bc4-73ccd79d2af6",
   "metadata": {},
   "source": [
    "21. Write a Python program to assign grades based on different ranges of scores using elif statements."
   ]
  },
  {
   "cell_type": "code",
   "execution_count": 3,
   "id": "aec6e982-9d72-41d6-8097-2838cd7bc28a",
   "metadata": {},
   "outputs": [
    {
     "name": "stdin",
     "output_type": "stream",
     "text": [
      "Enter a score:  11\n"
     ]
    },
    {
     "name": "stdout",
     "output_type": "stream",
     "text": [
      "Student got F\n"
     ]
    }
   ],
   "source": [
    "score = int(input(\"Enter a score: \"))\n",
    "\n",
    "if score>100:\n",
    "    print(\"It is not a valid grade\")\n",
    "else:\n",
    "    if 90<=score<=100 :\n",
    "        print(\"Student got A\")\n",
    "    elif 80<=score<=89:\n",
    "        print(\"Student got B\")\n",
    "    elif 70<=score<=79:\n",
    "        print(\"Student got C\")\n",
    "    elif 60<=score<=69:\n",
    "        print(\"Student got D\")\n",
    "    elif 50<=score<=59:\n",
    "        print(\"Student got E\")\n",
    "    else:\n",
    "        print(\"Student got F\")"
   ]
  },
  {
   "cell_type": "markdown",
   "id": "a18dcb06-2658-423d-8f6a-1240965677d6",
   "metadata": {},
   "source": [
    "22. Implement a program to determine the type of a triangle based on its angles."
   ]
  },
  {
   "cell_type": "code",
   "execution_count": 10,
   "id": "19d27505-005a-48f4-97af-45698e0679db",
   "metadata": {},
   "outputs": [
    {
     "name": "stdin",
     "output_type": "stream",
     "text": [
      "Enter the 1st angle value:  111\n",
      "Enter the 2nd angle value:  32\n",
      "Enter the 3rd angle value:  12\n"
     ]
    },
    {
     "name": "stdout",
     "output_type": "stream",
     "text": [
      "The triangle is a Obtuse Triangle.\n"
     ]
    }
   ],
   "source": [
    "angle1 = int(input(\"Enter the 1st angle value: \"))\n",
    "angle2 = int(input(\"Enter the 2nd angle value: \"))\n",
    "angle3 = int(input(\"Enter the 3rd angle value: \"))\n",
    "\n",
    "if angle1 < 90 and angle2 < 90 and angle3 < 90:\n",
    "    triangle_type = \"Acute Triangle\"\n",
    "elif angle1 > 90 or angle2 > 90 or angle3 > 90:\n",
    "    triangle_type = \"Obtuse Triangle\"\n",
    "else:\n",
    "    triangle_type = \"Right Triangle\"\n",
    "    \n",
    "    \n",
    "\n",
    "print(f\"The triangle is a {triangle_type}.\")"
   ]
  },
  {
   "cell_type": "markdown",
   "id": "244e82a2-ca18-4f8e-9000-6536f0ee321d",
   "metadata": {},
   "source": [
    "23. Develop a program to categorize a given person's BMI into underweight, normal, overweight, or obese using elif statements."
   ]
  },
  {
   "cell_type": "code",
   "execution_count": 50,
   "id": "22e6ab11-f9e1-47f9-bacd-79bdc02760c4",
   "metadata": {},
   "outputs": [
    {
     "name": "stdin",
     "output_type": "stream",
     "text": [
      "Enter Height in meter scale:  174\n",
      "Enter Weight in kg scale:  75\n"
     ]
    },
    {
     "name": "stdout",
     "output_type": "stream",
     "text": [
      "The given persons BMI result is underweight.\n"
     ]
    }
   ],
   "source": [
    "import math\n",
    "\n",
    "height = float(input(\"Enter Height in meter scale: \"))\n",
    "weight = float(input(\"Enter Weight in kg scale: \"))\n",
    "\n",
    "BMI = weight/height**2\n",
    "\n",
    "if 0 < BMI < 18.5:\n",
    "    result = \"underweight\"\n",
    "elif 18.5 < BMI <= 24.9:\n",
    "        result = \"normal\"\n",
    "elif 24.9 < BMI <= 29.9:\n",
    "    result = \"overweight\"\n",
    "else:\n",
    "    result = \"obese\"\n",
    "    \n",
    "print(f\"The given persons BMI result is {result}.\")"
   ]
  },
  {
   "cell_type": "markdown",
   "id": "ecece512-3a50-404d-82b9-bfbc0c157130",
   "metadata": {},
   "source": [
    "24. Create a program that determines whether a given number is positive, negative, or zero using elif statements."
   ]
  },
  {
   "cell_type": "code",
   "execution_count": 21,
   "id": "1a67c3e6-760c-4b91-b0c1-9e810675fcb0",
   "metadata": {},
   "outputs": [
    {
     "name": "stdin",
     "output_type": "stream",
     "text": [
      "Enter a number:  -1\n"
     ]
    },
    {
     "name": "stdout",
     "output_type": "stream",
     "text": [
      "The given number is negative.\n"
     ]
    }
   ],
   "source": [
    "num = int(input(\"Enter a number: \"))\n",
    "\n",
    "if num < 0:\n",
    "    result = \"negative\"\n",
    "elif num >0:\n",
    "    result = \"positive\"\n",
    "else:\n",
    "    result = \"zero\"\n",
    "\n",
    "print(f\"The given number is {result}.\")"
   ]
  },
  {
   "cell_type": "markdown",
   "id": "bd67b46a-750d-44bc-a37e-49b2f7c345fb",
   "metadata": {},
   "source": [
    "25. Write a Python script to determine the type of a character (uppercase, lowercase, or special) using elif statements."
   ]
  },
  {
   "cell_type": "code",
   "execution_count": 6,
   "id": "b7bd12d6-d235-4cd7-8c54-27360c93b34d",
   "metadata": {},
   "outputs": [
    {
     "name": "stdin",
     "output_type": "stream",
     "text": [
      "Enter a character:  B\n"
     ]
    },
    {
     "name": "stdout",
     "output_type": "stream",
     "text": [
      "The character is upper case\n"
     ]
    }
   ],
   "source": [
    "s = str(input(\"Enter a character: \"))\n",
    "\n",
    "if len(s) == 1:\n",
    "    if s == s.upper():\n",
    "        print(\"The character is upper case\")\n",
    "    elif s == s.lower():\n",
    "        print(\"The character is lower case\") \n",
    "else:\n",
    "    print(\"Please enter a single character\")\n",
    "    "
   ]
  },
  {
   "cell_type": "markdown",
   "id": "86fb5009-1cc2-4fcd-ad34-53757536ea46",
   "metadata": {},
   "source": [
    "26. Implement a program to calculate the discounted price based on different purchase amounts using elif statements."
   ]
  },
  {
   "cell_type": "code",
   "execution_count": 6,
   "id": "872fc21b-bdb0-439f-b911-73fd43260f89",
   "metadata": {},
   "outputs": [
    {
     "name": "stdin",
     "output_type": "stream",
     "text": [
      "Enter the price:  250\n"
     ]
    },
    {
     "name": "stdout",
     "output_type": "stream",
     "text": [
      "Congratulations! You have recieved a discount! You have to pay only 200.0 in your purchase.\n"
     ]
    }
   ],
   "source": [
    "## No discount for price<=100\n",
    "## 10% discount for price between 101 and 200\n",
    "## 20% discount for price more than 200\n",
    "original_price = int(input(\"Enter the price: \"))\n",
    "\n",
    "if original_price <= 100:\n",
    "    print(f\"Sorry, you don't have discount in your purchase\")\n",
    "elif original_price > 100 and original_price <= 200:\n",
    "    print(f\"Congratulations! You have recieved a discount! You have to pay only {0.90*original_price} in your purchase.\")\n",
    "else:\n",
    "    print(f\"Congratulations! You have recieved a discount! You have to pay only {0.80*original_price} in your purchase.\")"
   ]
  },
  {
   "cell_type": "markdown",
   "id": "2fb7f609-1df4-4ae8-849e-874ac34792be",
   "metadata": {},
   "source": [
    "27. Develop a program to calculate the electricity bill based on different consumption slabs using elif statements."
   ]
  },
  {
   "cell_type": "code",
   "execution_count": 13,
   "id": "dd7efb2f-e2fb-4f09-8e72-2a3693f1b71b",
   "metadata": {},
   "outputs": [
    {
     "name": "stdin",
     "output_type": "stream",
     "text": [
      "Enter the units of electricity consumption by kWh:  301\n"
     ]
    },
    {
     "name": "stdout",
     "output_type": "stream",
     "text": [
      "The electricity bill based on consumption is 1956.5 taka\n"
     ]
    }
   ],
   "source": [
    "e_concumption = float(input(\"Enter the units of electricity consumption by kWh: \"))\n",
    "\n",
    "if 0 < e_concumption <= 100:\n",
    "    print(f\"The electricity bill based on consumption is {e_concumption*5.00} taka\")\n",
    "elif 100 < e_concumption <= 200:\n",
    "    print(f\"The electricity bill based on consumption is {e_concumption*5.50} taka\")\n",
    "elif 200 < e_concumption <= 300:\n",
    "    print(f\"The electricity bill based on consumption is {e_concumption*6.00} taka\")\n",
    "elif 300 < e_concumption <= 400:\n",
    "    print(f\"The electricity bill based on consumption is {e_concumption*6.50} taka\")\n",
    "else:\n",
    "    print(\"Invalid input\")"
   ]
  },
  {
   "cell_type": "markdown",
   "id": "06cef99b-9b22-4f9f-9325-0095add6de24",
   "metadata": {},
   "source": [
    "28. Create a program to determine the type of quadrilateral based on its angles and sides using elif statements."
   ]
  },
  {
   "cell_type": "code",
   "execution_count": 15,
   "id": "60bccd59-3e84-4eae-9c69-14ee2543ebbd",
   "metadata": {},
   "outputs": [
    {
     "name": "stdin",
     "output_type": "stream",
     "text": [
      "Enter the length of side 1:  90\n",
      "Enter the length of side 2:  90\n",
      "Enter the length of side 3:  90\n",
      "Enter the length of side 4:  90\n",
      "Enter the measure of angle 1:  90\n",
      "Enter the measure of angle 2:  0\n",
      "Enter the measure of angle 3:  0\n",
      "Enter the measure of angle 4:  90\n"
     ]
    },
    {
     "name": "stdout",
     "output_type": "stream",
     "text": [
      "It is a Trapezoid\n"
     ]
    }
   ],
   "source": [
    "# Taking input of the sides(s) and angles(a) of the quadrilateral\n",
    "\n",
    "s1 = float(input(\"Enter the length of side 1: \"))\n",
    "s2 = float(input(\"Enter the length of side 2: \"))\n",
    "s3 = float(input(\"Enter the length of side 3: \"))\n",
    "s4 = float(input(\"Enter the length of side 4: \"))\n",
    "a1 = float(input(\"Enter the measure of angle 1: \"))\n",
    "a2 = float(input(\"Enter the measure of angle 2: \"))\n",
    "a3 = float(input(\"Enter the measure of angle 3: \"))\n",
    "a4 = float(input(\"Enter the measure of angle 4: \"))\n",
    "\n",
    "#Checking the quadrilateral condition\n",
    "\n",
    "if s1 + s2 + s3 > s4 and s2 + s3 + s4 > s1 and s3 + s4 + s1 > s2:\n",
    "    # Check for each type of quadrilateral\n",
    "    if s1 == s2 == s3 == s4 and a1 == a2 == a3 == a4 == 90:\n",
    "        print(\"It is a Square\")\n",
    "    elif s1 == s3 and s2 == s4 and a1 == a3 and a2 == a4 == 90:\n",
    "        print(\"It is a Rectangle\")\n",
    "    elif s1 == s2 == s3 == s4 and a1 == a3 and a2 == a4:\n",
    "        print(\"It is a Rhombus\")\n",
    "    elif s1 == s3 and s2 == s4 and a1 == a3 or a2 == a4:\n",
    "        print(\"It is a Parallelogram\")\n",
    "    elif s1 == s3 or s2 == s4:\n",
    "        print(\"It is a Trapezoid\")\n",
    "    elif s1 == s2 and s3 == s4 or s1 == s3 and s2 == s4 or s1 == s4 and s2 == s3:\n",
    "        print(\"It is a Kite\")\n",
    "    else:\n",
    "        print(\"It is Quadrilateral but not a specific type\")\n",
    "else:\n",
    "    print(\"It is not a quadrilateral\")"
   ]
  },
  {
   "cell_type": "markdown",
   "id": "b3e0ece3-38d7-4426-a17c-7dc652a320a3",
   "metadata": {},
   "source": [
    "29. Write a Python script to determine the season based on a user-provided month using elif statements."
   ]
  },
  {
   "cell_type": "code",
   "execution_count": 67,
   "id": "7aa99fc5-9cb3-4f3e-86d0-60b86024bfbc",
   "metadata": {},
   "outputs": [
    {
     "name": "stdin",
     "output_type": "stream",
     "text": [
      "Enter a month January\n"
     ]
    },
    {
     "name": "stdout",
     "output_type": "stream",
     "text": [
      "It is Winter season\n"
     ]
    }
   ],
   "source": [
    "month = str(input(\"Enter a month\").capitalize())\n",
    "\n",
    "if month in ['March', 'April', 'May']:\n",
    "    print(\"It is Spring season\")\n",
    "elif month in ['June', 'July', 'August']:\n",
    "    print(\"It is Summer season\")\n",
    "elif month in ['September', 'October', 'November']:\n",
    "    print(\"It is Autumn season\")\n",
    "elif month in ['December', 'January', 'February']:\n",
    "    print(\"It is Winter season\")\n",
    "else:\n",
    "    print(\"Please write a valid month\")\n",
    "\n",
    "    \n"
   ]
  },
  {
   "cell_type": "markdown",
   "id": "9f6095ab-1025-4562-b2db-89d283f63d09",
   "metadata": {},
   "source": [
    "30. Implement a program to determine the type of a year (leap or common) and month (30 or 31 days) using elif statements."
   ]
  },
  {
   "cell_type": "code",
   "execution_count": 16,
   "id": "585a5b4b-4b2b-4e1c-8ced-a039f3e17ffe",
   "metadata": {},
   "outputs": [
    {
     "name": "stdin",
     "output_type": "stream",
     "text": [
      "Enter the year 2000\n",
      "Enter month number 12\n"
     ]
    },
    {
     "name": "stdout",
     "output_type": "stream",
     "text": [
      "2000 is a leap year\n",
      "Month contains 31 days\n"
     ]
    }
   ],
   "source": [
    "year = int(input('Enter the year'))\n",
    "month = int(input('Enter month number'))\n",
    "\n",
    "if year%100 == 0:\n",
    "    if year%400 == 0:\n",
    "        print(f'{year} is a leap year')\n",
    "    else:\n",
    "        print(f'{year} is not a leap year')\n",
    "else:\n",
    "    if year%4 ==0:\n",
    "        print(f'{year} is a leap year')\n",
    "    else:\n",
    "        print(f'{year} is not a leap year')\n",
    "\n",
    "if month<=7:\n",
    "    if month%2!=0:\n",
    "        print('Month contains 31 days')\n",
    "    else:\n",
    "        print('Month contains 30 days')\n",
    "else:\n",
    "    if month%2==0:\n",
    "        print('Month contains 31 days')\n",
    "    else:\n",
    "        print('Month contains 30 days')\n",
    "    "
   ]
  },
  {
   "cell_type": "markdown",
   "id": "3455b526-bfdf-4964-a8c6-739a446084d1",
   "metadata": {},
   "source": [
    "## Basic Level"
   ]
  },
  {
   "cell_type": "markdown",
   "id": "998e0b2a-ce3c-456f-95ea-b148e42e763c",
   "metadata": {},
   "source": [
    "1. Write a Python program that checks if a given number is positive, negative, or zero."
   ]
  },
  {
   "cell_type": "code",
   "execution_count": 3,
   "id": "4b7da01f-0645-45a5-b805-408abe1729e3",
   "metadata": {},
   "outputs": [
    {
     "name": "stdin",
     "output_type": "stream",
     "text": [
      "Enter a number: -1\n"
     ]
    },
    {
     "name": "stdout",
     "output_type": "stream",
     "text": [
      "The given number is negative\n"
     ]
    }
   ],
   "source": [
    "a = int(input(\"Enter a number:\"))\n",
    "\n",
    "if a<0:\n",
    "    print(\"The given number is negative\")\n",
    "elif a==0:\n",
    "    print(\"The given number is zero\")\n",
    "else:\n",
    "    print(\"The given number is positive\")\n",
    "    "
   ]
  },
  {
   "cell_type": "markdown",
   "id": "0c8a759d-5852-4231-8a7b-7fce8aa4c887",
   "metadata": {},
   "source": [
    "2. Create a program to determine if a person is eligible to vote based on their age."
   ]
  },
  {
   "cell_type": "code",
   "execution_count": 4,
   "id": "9d3f24f1-9edd-4c49-a6b9-057ac9af879c",
   "metadata": {},
   "outputs": [
    {
     "name": "stdin",
     "output_type": "stream",
     "text": [
      "Enter age 43\n"
     ]
    },
    {
     "name": "stdout",
     "output_type": "stream",
     "text": [
      "The persons age is 43 and he/she is elgible to vote\n"
     ]
    }
   ],
   "source": [
    "age = int(input(\"Enter age\"))   # takes an input from the user and stores in variable age\n",
    "\n",
    "if age >= 18:   # Comparing the input with the given condition\n",
    "    print(f\"The persons age is {age} and he/she is elgible to vote\") \n",
    "else:\n",
    "    print(f\"The persons age is {age} and is not elibible to vote\")  "
   ]
  },
  {
   "cell_type": "markdown",
   "id": "64ed8518-bf8c-4e4b-97b0-72f227a195fc",
   "metadata": {},
   "source": [
    "3. Write a program to find the maximum of two given numbers using conditional statements."
   ]
  },
  {
   "cell_type": "code",
   "execution_count": 5,
   "id": "80e0fd16-1ac4-4356-87cd-0d599608c295",
   "metadata": {},
   "outputs": [
    {
     "name": "stdin",
     "output_type": "stream",
     "text": [
      "Enter the 1st number:  43\n",
      "Enter the 2nd number:  23\n"
     ]
    },
    {
     "name": "stdout",
     "output_type": "stream",
     "text": [
      "43 is the maximum number\n"
     ]
    }
   ],
   "source": [
    "num1 = int(input(\"Enter the 1st number: \"))  # takes 1st input from the user and stores in variable num1\n",
    "num2 = int(input(\"Enter the 2nd number: \"))  # takes 2nd input from the user and stores in variable num2\n",
    "\n",
    "if num1>num2:   # Comparing the input with the given condition\n",
    "    print(f\"{num1} is the maximum number\")  # Prints the result if condition is met\n",
    "else:\n",
    "    print(f\"{num2} is the maximum number\")  # Prints the result if 1st condition isn't met"
   ]
  },
  {
   "cell_type": "markdown",
   "id": "57896a26-71cb-4ba5-bff1-4e9ccd718b62",
   "metadata": {},
   "source": [
    "4. Develop a program that calculates the grade of a student based on their exam score."
   ]
  },
  {
   "cell_type": "code",
   "execution_count": 8,
   "id": "89a0e026-5eba-47c0-9714-73ffa1740620",
   "metadata": {},
   "outputs": [
    {
     "name": "stdin",
     "output_type": "stream",
     "text": [
      "Enter a score:  100\n"
     ]
    },
    {
     "name": "stdout",
     "output_type": "stream",
     "text": [
      "Student got A\n"
     ]
    }
   ],
   "source": [
    "score = int(input(\"Enter a score: \")) # input taken from the user and stored inside the variable score\n",
    "\n",
    "# Checks if the conditions are met and gets executed accordingly \n",
    "if score>100:\n",
    "    print(\"It is not a valid grade\")\n",
    "else:\n",
    "    if 90<=score<=100 :\n",
    "        print(\"Student got A\")\n",
    "    elif 80<=score<=89:\n",
    "        print(\"Student got B\")\n",
    "    elif 70<=score<=79:\n",
    "        print(\"Student got C\")\n",
    "    elif 60<=score<=69:\n",
    "        print(\"Student got D\")\n",
    "    elif 50<=score<=59:\n",
    "        print(\"Student got E\")\n",
    "    else:\n",
    "        print(\"Student got F\")"
   ]
  },
  {
   "cell_type": "markdown",
   "id": "66304c1d-702a-4a31-b074-07446f75c19c",
   "metadata": {},
   "source": [
    "5. Create a program that checks if a year is a leap year or not."
   ]
  },
  {
   "cell_type": "code",
   "execution_count": 16,
   "id": "21fb160d-6663-4032-bd23-186a3f650828",
   "metadata": {},
   "outputs": [
    {
     "name": "stdin",
     "output_type": "stream",
     "text": [
      "Enter the year: 2024\n"
     ]
    },
    {
     "name": "stdout",
     "output_type": "stream",
     "text": [
      "2024 is a leap year\n"
     ]
    }
   ],
   "source": [
    "year = int(input(\"Enter the year:\"))\n",
    "\n",
    "if (year%4==0 and year%100!=0) or (year%400==0):\n",
    "    print(f\"{year} is a leap year\")\n",
    "else:\n",
    "    print(f\"{year} is not a leap year\")\n"
   ]
  },
  {
   "cell_type": "markdown",
   "id": "190c25c6-ea33-4b78-b926-cb95c3f50506",
   "metadata": {},
   "source": [
    "6. Write a program to classify a triangle based on its sides' lengths."
   ]
  },
  {
   "cell_type": "code",
   "execution_count": 17,
   "id": "8ebbe7cd-a6f3-491a-8871-93593fd36eac",
   "metadata": {},
   "outputs": [
    {
     "name": "stdin",
     "output_type": "stream",
     "text": [
      "Enter the 1st angle value:  90\n",
      "Enter the 2nd angle value:  78\n",
      "Enter the 3rd angle value:  21\n"
     ]
    },
    {
     "name": "stdout",
     "output_type": "stream",
     "text": [
      "The triangle is a Right Triangle.\n"
     ]
    }
   ],
   "source": [
    "angle1 = int(input(\"Enter the 1st angle value: \"))\n",
    "angle2 = int(input(\"Enter the 2nd angle value: \"))\n",
    "angle3 = int(input(\"Enter the 3rd angle value: \"))\n",
    "\n",
    "if angle1 < 90 and angle2 < 90 and angle3 < 90:\n",
    "    triangle_type = \"Acute Triangle\"\n",
    "elif angle1 > 90 or angle2 > 90 or angle3 > 90:\n",
    "    triangle_type = \"Obtuse Triangle\"\n",
    "else:\n",
    "    triangle_type = \"Right Triangle\"\n",
    "    \n",
    "print(f\"The triangle is a {triangle_type}.\")"
   ]
  },
  {
   "cell_type": "markdown",
   "id": "2927cdeb-2aa1-4fd0-90a6-5094ff2d2bac",
   "metadata": {},
   "source": [
    "7. Build a program that determines the largest of three given numbers."
   ]
  },
  {
   "cell_type": "code",
   "execution_count": 18,
   "id": "fff5b659-e10b-4ead-9fcf-5a4d05b78128",
   "metadata": {},
   "outputs": [
    {
     "name": "stdin",
     "output_type": "stream",
     "text": [
      "Enter the 1st number:  32\n",
      "Enter the 2nd number:  35\n",
      "Enter the 3rd number:  65\n"
     ]
    },
    {
     "name": "stdout",
     "output_type": "stream",
     "text": [
      "65 is the largest number\n"
     ]
    }
   ],
   "source": [
    "## Taking 3 inputs from user and storing inside 3 variables\n",
    "a = int(input(\"Enter the 1st number: \"))\n",
    "b = int(input(\"Enter the 2nd number: \"))\n",
    "c = int(input(\"Enter the 3rd number: \"))\n",
    "\n",
    "## Checking teh condition based on the requirements and printing the result\n",
    "if a>b:\n",
    "    if a>c:\n",
    "        print(f\"{a} is the largest number\")\n",
    "    else:\n",
    "        print(f\"{c} is the largest number\")\n",
    "elif b>c:\n",
    "    if b>a:\n",
    "        print (f\"{b} is the largest number\")\n",
    "    else:\n",
    "        print(f\"{a} is the largest number\")\n",
    "else:\n",
    "    print(f\"{c} is the largest number\")"
   ]
  },
  {
   "cell_type": "markdown",
   "id": "d62b3f41-1161-4ea9-914a-b7761f285996",
   "metadata": {},
   "source": [
    "8. Develop a program that checks whether a character is a vowel or a consonant."
   ]
  },
  {
   "cell_type": "code",
   "execution_count": 19,
   "id": "f496ca00-1c62-43ec-8755-3dd74145fa6d",
   "metadata": {},
   "outputs": [
    {
     "name": "stdin",
     "output_type": "stream",
     "text": [
      "Enter a word: v\n"
     ]
    },
    {
     "name": "stdout",
     "output_type": "stream",
     "text": [
      "The word is a consonant\n"
     ]
    }
   ],
   "source": [
    "v = 'aeiouAEIOU'                             # all the possible vowel characters are stored in a variable \n",
    "b = str(input(\"Enter a word:\"))              # takes a single word from user and stores in variable b\n",
    "if len(b) == 1:                              # checks if the length of the character is 1 or not\n",
    "    if b in v:                               # checks if the input is inside the stored data\n",
    "        print(\"The word is a vowel\")         \n",
    "    else:\n",
    "        print(\"The word is a consonant\")\n",
    "else:\n",
    "    print(\"Enter single word please!\")       # gives this output if more than 2 characters are taken from the user"
   ]
  },
  {
   "cell_type": "markdown",
   "id": "977e26ef-1d9c-476b-8741-43fc234152a6",
   "metadata": {},
   "source": [
    "9. Create a program to calculate the total cost of a shopping cart based on discounts."
   ]
  },
  {
   "cell_type": "code",
   "execution_count": 17,
   "id": "66162244-9974-4231-afa9-dd08c361864b",
   "metadata": {},
   "outputs": [
    {
     "name": "stdin",
     "output_type": "stream",
     "text": [
      "Enter the price:  207\n"
     ]
    },
    {
     "name": "stdout",
     "output_type": "stream",
     "text": [
      "Congratulations! You have recieved a discount! You have to pay only 165.60000000000002 in your purchase.\n"
     ]
    }
   ],
   "source": [
    "## No discount for price<=100\n",
    "## 10% discount for price between 101 and 200\n",
    "## 20% discount for price more than 200\n",
    "original_price = int(input(\"Enter the price: \"))\n",
    "\n",
    "if original_price <= 100:\n",
    "    print(f\"Sorry, you don't have discount in your purchase\")\n",
    "elif original_price > 100 and original_price <= 200:\n",
    "    print(f\"Congratulations! You have recieved a discount! You have to pay only {0.90*original_price} in your purchase.\")\n",
    "else:\n",
    "    print(f\"Congratulations! You have recieved a discount! You have to pay only {0.80*original_price} in your purchase.\")"
   ]
  },
  {
   "cell_type": "markdown",
   "id": "ff803687-9d97-4387-8557-a1e8c05d6996",
   "metadata": {},
   "source": [
    "10. Write a program that checks if a given number is even or odd."
   ]
  },
  {
   "cell_type": "code",
   "execution_count": 20,
   "id": "a4888187-8678-46d5-8589-03cbecd62d9c",
   "metadata": {},
   "outputs": [
    {
     "name": "stdin",
     "output_type": "stream",
     "text": [
      "Enter a number:  32\n"
     ]
    },
    {
     "name": "stdout",
     "output_type": "stream",
     "text": [
      "32 is an even number\n"
     ]
    }
   ],
   "source": [
    "num = int(input(\"Enter a number: \"))         # takes a number from user and stores in variable num\n",
    "\n",
    "if num%2==0:                                 # checks the condition for even/odd number\n",
    "    print(f\"{num} is an even number\")\n",
    "else:\n",
    "    print(f\"{num} is an odd number\")"
   ]
  },
  {
   "cell_type": "markdown",
   "id": "0e92f645-221e-4c0f-9929-27f0094d66d9",
   "metadata": {},
   "source": [
    "## Intermediate Level"
   ]
  },
  {
   "cell_type": "markdown",
   "id": "f413aff4-2cc6-4d9a-ab37-f4ada5457499",
   "metadata": {},
   "source": [
    "11. Write a program that calculates the roots of a quadratic equation."
   ]
  },
  {
   "cell_type": "code",
   "execution_count": 19,
   "id": "e40c36cb-b824-4616-a96a-cfa71a6be4dc",
   "metadata": {},
   "outputs": [
    {
     "name": "stdin",
     "output_type": "stream",
     "text": [
      "Enter 1st coeff 4\n",
      "Enter 2nd coeff 3\n",
      "Enter 3rd coeff -2\n"
     ]
    },
    {
     "name": "stdout",
     "output_type": "stream",
     "text": [
      "The solutions are (-1.175390529679106+0j) and (0.42539052967910607+0j)\n"
     ]
    }
   ],
   "source": [
    "# quadratic equation: ax**2 + bx + c = 0\n",
    "# import math module\n",
    "import cmath\n",
    "\n",
    "## input coefficients of standard quadratic\n",
    "a = int(input('Enter 1st coeff'))\n",
    "b = int(input('Enter 2nd coeff'))\n",
    "c = int(input('Enter 3rd coeff'))\n",
    "\n",
    "## calculate the discriminant\n",
    "d = (b**2) - (4*a*c)\n",
    "\n",
    "s1 = (-b-cmath.sqrt(d)) / (2*a)\n",
    "s2 = (-b+cmath.sqrt(d)) / (2*a)\n",
    "\n",
    "print('The solutions are {0} and {1}'.format(s1,s2))"
   ]
  },
  {
   "cell_type": "markdown",
   "id": "b719dd56-8fb4-4184-ba7a-8f7ae09170f1",
   "metadata": {},
   "source": [
    "12. Create a program that determines the day of the week based on the day number (1-7)."
   ]
  },
  {
   "cell_type": "code",
   "execution_count": 21,
   "id": "c43827c6-3afc-415c-946d-b099b4596dc7",
   "metadata": {},
   "outputs": [
    {
     "name": "stdin",
     "output_type": "stream",
     "text": [
      "Enter a number:  4\n"
     ]
    },
    {
     "name": "stdout",
     "output_type": "stream",
     "text": [
      "Thursday\n"
     ]
    }
   ],
   "source": [
    "num = int(input(\"Enter a number: \"))\n",
    "\n",
    "if 1<=num<=7:\n",
    "    if num == 1:\n",
    "        print(\"Monday\")\n",
    "    if num == 2:\n",
    "        print(\"Tuesday\")\n",
    "    if num == 3:\n",
    "        print(\"Wednesday\")\n",
    "    if num == 4:\n",
    "        print(\"Thursday\")\n",
    "    if num == 5:\n",
    "        print(\"Friday\")\n",
    "    if num == 6:\n",
    "        print(\"Saturday\")\n",
    "    if num == 7:\n",
    "        print(\"Sunday\")\n",
    "        \n",
    "else:\n",
    "    print(\"Invalid number\")"
   ]
  },
  {
   "cell_type": "markdown",
   "id": "175bcb04-e9bd-4382-8fc3-74d77fb74a18",
   "metadata": {},
   "source": [
    "13. Develop a program that calculates the factorial of a given number using recursion."
   ]
  },
  {
   "cell_type": "code",
   "execution_count": 1,
   "id": "6f25d659-4033-41f5-9f5c-90517fe161df",
   "metadata": {},
   "outputs": [],
   "source": [
    "def fact(n):\n",
    "    if n == 0:\n",
    "        return 1\n",
    "    else:\n",
    "        return n*(fact(n-1))"
   ]
  },
  {
   "cell_type": "code",
   "execution_count": 2,
   "id": "e6dff91d-e055-497f-94a8-8aaed46ca944",
   "metadata": {},
   "outputs": [
    {
     "data": {
      "text/plain": [
       "24"
      ]
     },
     "execution_count": 2,
     "metadata": {},
     "output_type": "execute_result"
    }
   ],
   "source": [
    "fact(4)"
   ]
  },
  {
   "cell_type": "markdown",
   "id": "df099865-1cfc-430f-8e2f-70f9d39d517a",
   "metadata": {},
   "source": [
    "14. Write a program to find the largest among three numbers without using the `max()` function. ????????"
   ]
  },
  {
   "cell_type": "code",
   "execution_count": 27,
   "id": "00acef13-80c4-46b5-a472-bc2e094f4829",
   "metadata": {},
   "outputs": [
    {
     "name": "stdin",
     "output_type": "stream",
     "text": [
      "Enter the 1st number:  2\n",
      "Enter the 2nd number:  3\n",
      "Enter the 3rd number:  4\n"
     ]
    },
    {
     "name": "stdout",
     "output_type": "stream",
     "text": [
      "3 is the largest\n"
     ]
    }
   ],
   "source": [
    "num1 = int(input(\"Enter the 1st number: \"))\n",
    "num2 = int(input(\"Enter the 2nd number: \"))\n",
    "num3 = int(input(\"Enter the 3rd number: \"))\n",
    "\n",
    "if num1>num2:\n",
    "    if num1>num3:\n",
    "        print(f\"{num1} is the largest\")\n",
    "    else:\n",
    "        print(f\"{num3} is the largest\")\n",
    "elif num2>num1:\n",
    "    print(f\"{num2} is the largest\")\n",
    "else:\n",
    "    print(f\"{num3} is the largest\")\n",
    "       \n",
    "        "
   ]
  },
  {
   "cell_type": "markdown",
   "id": "8bf19f3e-ae24-43d8-a909-1f880c4b7011",
   "metadata": {},
   "source": [
    "15. Create a program that simulates a basic ATM transaction menu."
   ]
  },
  {
   "cell_type": "code",
   "execution_count": 26,
   "id": "d637c767-8360-4c1d-ac2f-fc25ad3b9cb9",
   "metadata": {},
   "outputs": [
    {
     "name": "stdout",
     "output_type": "stream",
     "text": [
      "***** Welcome to SEB ATM Machine *****\n",
      "\n",
      "<<<<Please choose an option to proceed>>>>\n"
     ]
    },
    {
     "name": "stdin",
     "output_type": "stream",
     "text": [
      "## Enter 1 to Deposit:\n",
      "## Enter 2 to Withdraw\n",
      "## Enter 3 to check balance\n",
      "## Enter 4 to exit 2\n",
      "Enter the amount you want to withdraw 20000\n"
     ]
    },
    {
     "name": "stdout",
     "output_type": "stream",
     "text": [
      "You have withdrawn an amount of 20000.0 taka\n"
     ]
    },
    {
     "name": "stdin",
     "output_type": "stream",
     "text": [
      "Enter 4 to get back to the main menu or other number to exit 4\n",
      "## Enter 1 to Deposit:\n",
      "## Enter 2 to Withdraw\n",
      "## Enter 3 to check balance\n",
      "## Enter 4 to exit 3\n"
     ]
    },
    {
     "name": "stdout",
     "output_type": "stream",
     "text": [
      "Your balance in your account is 30000.0\n"
     ]
    },
    {
     "name": "stdin",
     "output_type": "stream",
     "text": [
      "Enter 4 to get back to the main menu or other number to exit 4\n",
      "## Enter 1 to Deposit:\n",
      "## Enter 2 to Withdraw\n",
      "## Enter 3 to check balance\n",
      "## Enter 4 to exit 2\n",
      "Enter the amount you want to withdraw 7000000\n"
     ]
    },
    {
     "name": "stdout",
     "output_type": "stream",
     "text": [
      "Insufficient balance in the machine\n"
     ]
    },
    {
     "name": "stdin",
     "output_type": "stream",
     "text": [
      "Enter 4 to get back to the main menu or other number to exit 8\n"
     ]
    }
   ],
   "source": [
    "print('***** Welcome to SEB ATM Machine *****\\n\\n<<<<Please choose an option to proceed>>>>')\n",
    "balance = 50000\n",
    "\n",
    "c = True\n",
    "\n",
    "while c == True:\n",
    "    option = int(input(\"## Enter 1 to Deposit:\\n## Enter 2 to Withdraw\\n## Enter 3 to check balance\\n## Enter 4 to exit\"))\n",
    "    \n",
    "    if option == 2:\n",
    "        withdraw = float(input(\"Enter the amount you want to withdraw\"))\n",
    "        if withdraw<=balance:\n",
    "            print(f\"You have withdrawn an amount of {withdraw} taka\")\n",
    "            balance-=withdraw\n",
    "        else:\n",
    "            print(\"Insufficient balance in the machine\")\n",
    "    \n",
    "    elif option == 1:\n",
    "        deposit = float(input(\"Enter the amount you want to deposit\"))\n",
    "        balance+=deposit\n",
    "        print(\"Transaction successfull!\")\n",
    "    \n",
    "    elif option == 3:\n",
    "        print(f\"Your balance in your account is {balance}\")\n",
    "    \n",
    "    elif option == 4:\n",
    "        pass\n",
    "    \n",
    "    back = int(input(\"Enter 4 to get back to the main menu or other number to exit\"))\n",
    "    \n",
    "    if back ==4:\n",
    "        c = True\n",
    "    else:\n",
    "        c = False\n",
    "    \n",
    "        "
   ]
  },
  {
   "cell_type": "markdown",
   "id": "05ef2b7c-934a-416d-a616-ac1f0bc990dd",
   "metadata": {},
   "source": [
    "16. Build a program that checks if a given string is a palindrome or not."
   ]
  },
  {
   "cell_type": "code",
   "execution_count": 29,
   "id": "a6b69c28-26dc-4082-8f12-898dbde683bd",
   "metadata": {},
   "outputs": [
    {
     "name": "stdin",
     "output_type": "stream",
     "text": [
      "Enter a string:  asasw\n"
     ]
    },
    {
     "name": "stdout",
     "output_type": "stream",
     "text": [
      "asasw is not a palindrome\n"
     ]
    }
   ],
   "source": [
    "s = str(input(\"Enter a string: \"))\n",
    "l_s = s.lower()\n",
    "l_s_r = l_s[::-1]\n",
    "\n",
    "if l_s ==l_s_r:\n",
    "    print(f\"{s} is a palindrome\")\n",
    "else:\n",
    "    print(f\"{s} is not a palindrome\")\n",
    "    "
   ]
  },
  {
   "cell_type": "markdown",
   "id": "8da44174-8294-411a-be53-896b86304a9c",
   "metadata": {},
   "source": [
    "17. Write a program that calculates the average of a list of numbers, excluding the smallest and largest values."
   ]
  },
  {
   "cell_type": "code",
   "execution_count": 32,
   "id": "8d0a4eb2-72d9-4eb2-b37e-6e842cb53a1d",
   "metadata": {},
   "outputs": [
    {
     "name": "stdout",
     "output_type": "stream",
     "text": [
      "4.6\n"
     ]
    }
   ],
   "source": [
    "list1=[1,3,4,2,5,9,10]\n",
    "final_list1=0\n",
    "list1.sort()\n",
    "\n",
    "list1 = list1[1:len(list1)-1] ## Excluded the smallest and largest value\n",
    "for i in list1:\n",
    "    final_list1 += i\n",
    "avg = final_list1/len(list1)\n",
    "print(avg)\n"
   ]
  },
  {
   "cell_type": "markdown",
   "id": "12025b6e-67dd-4388-8a30-2609eecde224",
   "metadata": {},
   "source": [
    "18. Develop a program that converts a given temperature from Celsius to Fahrenheit."
   ]
  },
  {
   "cell_type": "code",
   "execution_count": 31,
   "id": "fb9325f7-16b6-487f-bb31-244373e31926",
   "metadata": {},
   "outputs": [
    {
     "name": "stdin",
     "output_type": "stream",
     "text": [
      "Enter the temperature:  32\n"
     ]
    },
    {
     "name": "stdout",
     "output_type": "stream",
     "text": [
      "The given temperature in Fahrenheit is 89.6\n"
     ]
    }
   ],
   "source": [
    "temp_c = int(input(\"Enter the temperature: \"))\n",
    "temp_F = (9/5)*temp_c + 32\n",
    "print(f\"The given temperature in Fahrenheit is {temp_F}\")"
   ]
  },
  {
   "cell_type": "markdown",
   "id": "8c8586b7-f0e9-4520-89d5-d428ed6abb44",
   "metadata": {},
   "source": [
    "19. Create a program that simulates a basic calculator for addition, subtraction, multiplication, and division."
   ]
  },
  {
   "cell_type": "code",
   "execution_count": 34,
   "id": "9d764c7d-a0eb-4970-a19a-01545e8ae30a",
   "metadata": {},
   "outputs": [
    {
     "name": "stdin",
     "output_type": "stream",
     "text": [
      "Input 1st number:  3\n",
      "Input 2nd number:  4\n"
     ]
    },
    {
     "name": "stdout",
     "output_type": "stream",
     "text": [
      "Choose the options:\n",
      " + for addition\n",
      " - for subtraction\n",
      " / for division\n",
      " * for Multiplication\n",
      " e for exit \n"
     ]
    },
    {
     "name": "stdin",
     "output_type": "stream",
     "text": [
      "Please enter an option *\n"
     ]
    },
    {
     "name": "stdout",
     "output_type": "stream",
     "text": [
      "12.0\n"
     ]
    }
   ],
   "source": [
    "a = float(input(\"Input 1st number: \"))\n",
    "b = float(input(\"Input 2nd number: \"))\n",
    "\n",
    "con = True\n",
    "print(\"Choose the options:\\n + for addition\\n - for subtraction\\n / for division\\n * for Multiplication\\n e for exit \")\n",
    "\n",
    "option = input(\"Please enter an option\")\n",
    "\n",
    "while con == True:\n",
    "    if option == '+':\n",
    "        print(a+b)\n",
    "        con = False\n",
    "    elif option == '-':\n",
    "        print(a - b)\n",
    "        con = False\n",
    "    elif option == '/':\n",
    "        print(a/b)\n",
    "        con = False\n",
    "    elif option == '*':\n",
    "        print(a*b)\n",
    "        con = False\n",
    "    elif option == 'x':\n",
    "        print('Thank you')\n",
    "        break\n",
    "    else:\n",
    "        print('Please enter + - / * or x only')\n",
    "        option = input('Please enter the option: ')\n",
    "        con = True\n"
   ]
  },
  {
   "cell_type": "markdown",
   "id": "d099a43f-d9fa-4365-9b75-a6b6384c6159",
   "metadata": {},
   "source": [
    "## Advance Level"
   ]
  },
  {
   "cell_type": "markdown",
   "id": "8ac5ca7f-9e06-4347-a7cb-49e09cf452b5",
   "metadata": {},
   "source": [
    "21. Create a program that calculates the income tax based on the user's income and tax brackets."
   ]
  },
  {
   "cell_type": "code",
   "execution_count": 45,
   "id": "6603fdb2-dd2e-4d1c-bc65-1f7a70f609dd",
   "metadata": {},
   "outputs": [
    {
     "name": "stdin",
     "output_type": "stream",
     "text": [
      "Enter user income in taka:  190000\n"
     ]
    },
    {
     "name": "stdout",
     "output_type": "stream",
     "text": [
      "The Tax is 9500.0 taka\n"
     ]
    }
   ],
   "source": [
    "income = float(input('Enter user income in taka: '))\n",
    "\n",
    "if income <= 150000:\n",
    "    tax = 0\n",
    "    print(f'The tax is {tax} taka')\n",
    "elif income>150000 and income<=350000:\n",
    "    tax=0.05*income\n",
    "    print(f'The Tax is {tax} taka')\n",
    "elif income>350000 and income<=550000:\n",
    "    tax=0.10*income\n",
    "    print(f'The Tax is {tax} taka')\n",
    "elif income>550000 and income<=750000:\n",
    "    tax=0.15*income\n",
    "    print(f'The Tax is {tax} taka')\n",
    "elif income>750000 and inc<=950000:\n",
    "    t=0.20*inc\n",
    "    print(f'The Tax is {tax} taka')\n",
    "elif inc>950000 and inc<=1200000:\n",
    "    t=0.25*inc\n",
    "    print(f'The Tax is {tax} taka')\n",
    "else:\n",
    "    tax=0.30*income\n",
    "    print(f'The Tax is {tax} taka')\n",
    "    "
   ]
  },
  {
   "cell_type": "markdown",
   "id": "87dd19f9-f55a-448e-a7f2-dc473d46339e",
   "metadata": {},
   "source": [
    "27. Develop a program that determines whether a given year is a prime number or not."
   ]
  },
  {
   "cell_type": "code",
   "execution_count": 49,
   "id": "07db497a-de1a-43cf-96b2-b1261955b1de",
   "metadata": {},
   "outputs": [
    {
     "name": "stdin",
     "output_type": "stream",
     "text": [
      "Enter year 2000\n"
     ]
    },
    {
     "name": "stdout",
     "output_type": "stream",
     "text": [
      "2000 is not prime\n"
     ]
    }
   ],
   "source": [
    "year = int(input('Enter year'))\n",
    "count=0\n",
    "\n",
    "for i in range(1,year+1):\n",
    "    if year%i==0:\n",
    "        count+=1\n",
    "if count==2:\n",
    "    print(f'{year} is prime')\n",
    "else:\n",
    "    print(f'{year} is not prime')"
   ]
  },
  {
   "cell_type": "markdown",
   "id": "66eb2190-82e9-451a-826a-1257d6fd1e15",
   "metadata": {},
   "source": [
    "28. Create a program that sorts three numbers in ascending order using conditional statements."
   ]
  },
  {
   "cell_type": "code",
   "execution_count": 50,
   "id": "82ec93e2-7d34-4c6a-9005-611717369461",
   "metadata": {},
   "outputs": [
    {
     "name": "stdin",
     "output_type": "stream",
     "text": [
      "Enter 1st number 34\n",
      "Enter 2nd number 32\n",
      "Enter 3rd number 1\n"
     ]
    },
    {
     "name": "stdout",
     "output_type": "stream",
     "text": [
      "[1, 32, 34]\n"
     ]
    }
   ],
   "source": [
    "\n",
    "num1 = int(input('Enter 1st number'))\n",
    "num2 = int(input('Enter 2nd number'))\n",
    "num3 = int(input('Enter 3rd number'))\n",
    "\n",
    "lowest=num1\n",
    "largest = num2\n",
    "sort_list=[]\n",
    "l=[num1,num2,num3]\n",
    "\n",
    "for i in l:\n",
    "    if i<lowest:\n",
    "        lowest=i\n",
    "sort_list.append(lowest)\n",
    "for i in l:\n",
    "    if i>largest:\n",
    "        largest=i\n",
    "sort_list.append(largest)\n",
    "for i in l:\n",
    "    if i!=lowest and i!=largest:\n",
    "        sort_list.insert(1,i)\n",
    "print(sort_list)"
   ]
  },
  {
   "cell_type": "markdown",
   "id": "0e335f50-39fd-4a11-890b-f161b635e206",
   "metadata": {},
   "source": [
    "30. Write a program that calculates the BMI (Body Mass Index) and provides health recommendations based on the user's input."
   ]
  },
  {
   "cell_type": "code",
   "execution_count": 51,
   "id": "031cc862-1657-408c-a045-43d978520e55",
   "metadata": {},
   "outputs": [
    {
     "name": "stdin",
     "output_type": "stream",
     "text": [
      "Enter your weight in Kgs:  78\n",
      "Enter your height in meters:  173\n"
     ]
    },
    {
     "name": "stdout",
     "output_type": "stream",
     "text": [
      "You are underweight\n"
     ]
    }
   ],
   "source": [
    "weight_630 = float(input('Enter your weight in Kgs: '))\n",
    "height_630 = float(input('Enter your height in meters: '))\n",
    "bmi_630 = weight_630/(height_630**2)\n",
    "if 0 < bmi_630 <= 18.5:\n",
    "    print('You are underweight')\n",
    "elif 18.5 < bmi_630 < 25:\n",
    "    print('You seem to be of normal weight')\n",
    "elif 25 <= bmi_630 < 30:\n",
    "    print('You are Overweight')\n",
    "else: \n",
    "    print('You are Obese')"
   ]
  },
  {
   "cell_type": "markdown",
   "id": "252c717c-2abb-49ee-87c9-60b00c6b1004",
   "metadata": {},
   "source": [
    "## Challenge Level"
   ]
  },
  {
   "cell_type": "markdown",
   "id": "b86173bc-c933-4efc-9002-81996e95ca5b",
   "metadata": {},
   "source": [
    "33. Write a program that calculates the greatest common divisor (GCD) of two numbers using the Euclidean algorithm."
   ]
  },
  {
   "cell_type": "code",
   "execution_count": 53,
   "id": "eff31f1a-de7f-4777-8ee5-2982e8d519be",
   "metadata": {},
   "outputs": [
    {
     "name": "stdin",
     "output_type": "stream",
     "text": [
      "Enter 1st number 23\n",
      "Enter 2nd number 34\n"
     ]
    },
    {
     "name": "stdout",
     "output_type": "stream",
     "text": [
      "1\n"
     ]
    }
   ],
   "source": [
    "#Input two numbers\n",
    "a= int(input('Enter 1st number'))\n",
    "b= int(input('Enter 2nd number'))\n",
    "#Check if any of the number is zero\n",
    "if a==0:\n",
    "    print(f'GCD is {b}')\n",
    "\n",
    "elif a!=0 and b!=0:\n",
    "    large =0\n",
    "    small=0\n",
    "    if a>b:\n",
    "        large=a\n",
    "        small=b\n",
    "    else:\n",
    "        large=b\n",
    "        small=a\n",
    "    while large%small!=0:\n",
    "        rem=large%small\n",
    "        large = small\n",
    "        small = rem\n",
    "    print(small)\n",
    "else:\n",
    "    print(f'GCD is {a}')\n",
    "    "
   ]
  },
  {
   "cell_type": "markdown",
   "id": "3f73b32c-8ff6-46ff-a6aa-5f197aef295f",
   "metadata": {},
   "source": [
    "36. Write a program that generates Fibonacci numbers up to a specified term using iterative methods."
   ]
  },
  {
   "cell_type": "code",
   "execution_count": 52,
   "id": "7152663a-5b8a-4f99-964f-c327a9ceed9d",
   "metadata": {},
   "outputs": [
    {
     "name": "stdout",
     "output_type": "stream",
     "text": [
      "0\n",
      "1\n",
      "1\n",
      "2\n",
      "3\n",
      "5\n",
      "8\n",
      "13\n",
      "21\n",
      "34\n"
     ]
    }
   ],
   "source": [
    "def fib(n):\n",
    "    a,b=0,1\n",
    "    for i in range(n):\n",
    "        yield a\n",
    "        a,b = b, a+b \n",
    "\n",
    "for i in fib(10):\n",
    "    print(i)"
   ]
  },
  {
   "cell_type": "markdown",
   "id": "cf11b5ea-0534-4526-ad72-4aeff4a07107",
   "metadata": {},
   "source": [
    "40. Write a program that generates the prime factors of a given number using trial division."
   ]
  },
  {
   "cell_type": "code",
   "execution_count": 54,
   "id": "14ea7385-0667-4622-b5d2-11020f02797f",
   "metadata": {},
   "outputs": [
    {
     "data": {
      "text/plain": [
       "[2, 2, 5]"
      ]
     },
     "execution_count": 54,
     "metadata": {},
     "output_type": "execute_result"
    }
   ],
   "source": [
    "def trial_division(n):\n",
    "    factors = []\n",
    "    while n % 2 == 0:\n",
    "        factors.append(2)\n",
    "        n //= 2\n",
    "    i = 3\n",
    "    while i <= n**0.5:\n",
    "        if n % i == 0:\n",
    "            factors.append(i)\n",
    "            n //= i\n",
    "        else:\n",
    "            i += 2\n",
    "    if n > 2:\n",
    "        factors.append(n)\n",
    "    return factors\n",
    "\n",
    "trial_division(20)"
   ]
  },
  {
   "cell_type": "code",
   "execution_count": null,
   "id": "892be0e8-be15-4656-9232-f1397540dc5a",
   "metadata": {},
   "outputs": [],
   "source": []
  }
 ],
 "metadata": {
  "kernelspec": {
   "display_name": "Python 3 (ipykernel)",
   "language": "python",
   "name": "python3"
  },
  "language_info": {
   "codemirror_mode": {
    "name": "ipython",
    "version": 3
   },
   "file_extension": ".py",
   "mimetype": "text/x-python",
   "name": "python",
   "nbconvert_exporter": "python",
   "pygments_lexer": "ipython3",
   "version": "3.10.8"
  }
 },
 "nbformat": 4,
 "nbformat_minor": 5
}
